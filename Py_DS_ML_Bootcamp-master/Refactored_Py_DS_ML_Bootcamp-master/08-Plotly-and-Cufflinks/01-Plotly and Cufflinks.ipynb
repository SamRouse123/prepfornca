{
 "cells": [
  {
   "cell_type": "markdown",
   "metadata": {},
   "source": [
    "___\n",
    "\n",
    "<a href='http://www.pieriandata.com'> <img src='../Pierian_Data_Logo.png' /></a>\n",
    "___\n",
    "# Plotly and Cufflinks"
   ]
  },
  {
   "cell_type": "markdown",
   "metadata": {},
   "source": [
    "Plotly is a library that allows you to create interactive plots that you can use in dashboards or websites (you can save them as html files or static images).\n",
    "\n",
    "## Installation\n",
    "\n",
    "In order for this all to work, you'll need to install plotly and cufflinks to call plots directly off of a pandas dataframe. These libraries are not currently available through **conda** but are available through **pip**. Install the libraries at your command line/terminal using:\n",
    "\n",
    "    pip install plotly\n",
    "    pip install cufflinks\n",
    "\n",
    "** NOTE: Make sure you only have one installation of Python on your computer when you do this, otherwise the installation may not work. **\n",
    "\n",
    "## Imports and Set-up"
   ]
  },
  {
   "cell_type": "code",
   "execution_count": 6,
   "metadata": {},
   "outputs": [
    {
     "ename": "SyntaxError",
     "evalue": "invalid syntax (629497118.py, line 1)",
     "output_type": "error",
     "traceback": [
      "\u001b[1;36m  Cell \u001b[1;32mIn[6], line 1\u001b[1;36m\u001b[0m\n\u001b[1;33m    python -m pip install --upgrade pip\u001b[0m\n\u001b[1;37m              ^\u001b[0m\n\u001b[1;31mSyntaxError\u001b[0m\u001b[1;31m:\u001b[0m invalid syntax\n"
     ]
    }
   ],
   "source": []
  },
  {
   "cell_type": "code",
   "execution_count": 5,
   "metadata": {},
   "outputs": [],
   "source": [
    "import pandas as pd\n",
    "import numpy as np\n",
    "%matplotlib inline"
   ]
  },
  {
   "cell_type": "code",
   "execution_count": 2,
   "metadata": {},
   "outputs": [
    {
     "name": "stdout",
     "output_type": "stream",
     "text": [
      "5.9.0\n"
     ]
    }
   ],
   "source": [
    "from plotly import __version__\n",
    "from plotly.offline import download_plotlyjs, init_notebook_mode, plot, iplot\n",
    "\n",
    "print(__version__) # requires version >= 1.9.0"
   ]
  },
  {
   "cell_type": "code",
   "execution_count": 7,
   "metadata": {},
   "outputs": [],
   "source": [
    "import cufflinks as cf"
   ]
  },
  {
   "cell_type": "code",
   "execution_count": 10,
   "metadata": {},
   "outputs": [
    {
     "data": {
      "text/html": [
       "        <script type=\"text/javascript\">\n",
       "        window.PlotlyConfig = {MathJaxConfig: 'local'};\n",
       "        if (window.MathJax && window.MathJax.Hub && window.MathJax.Hub.Config) {window.MathJax.Hub.Config({SVG: {font: \"STIX-Web\"}});}\n",
       "        if (typeof require !== 'undefined') {\n",
       "        require.undef(\"plotly\");\n",
       "        requirejs.config({\n",
       "            paths: {\n",
       "                'plotly': ['https://cdn.plot.ly/plotly-2.12.1.min']\n",
       "            }\n",
       "        });\n",
       "        require(['plotly'], function(Plotly) {\n",
       "            window._Plotly = Plotly;\n",
       "        });\n",
       "        }\n",
       "        </script>\n",
       "        "
      ]
     },
     "metadata": {},
     "output_type": "display_data"
    }
   ],
   "source": [
    "# For Notebooks\n",
    "init_notebook_mode(connected=True)"
   ]
  },
  {
   "cell_type": "code",
   "execution_count": 11,
   "metadata": {},
   "outputs": [
    {
     "data": {
      "text/html": [
       "        <script type=\"text/javascript\">\n",
       "        window.PlotlyConfig = {MathJaxConfig: 'local'};\n",
       "        if (window.MathJax && window.MathJax.Hub && window.MathJax.Hub.Config) {window.MathJax.Hub.Config({SVG: {font: \"STIX-Web\"}});}\n",
       "        if (typeof require !== 'undefined') {\n",
       "        require.undef(\"plotly\");\n",
       "        requirejs.config({\n",
       "            paths: {\n",
       "                'plotly': ['https://cdn.plot.ly/plotly-2.12.1.min']\n",
       "            }\n",
       "        });\n",
       "        require(['plotly'], function(Plotly) {\n",
       "            window._Plotly = Plotly;\n",
       "        });\n",
       "        }\n",
       "        </script>\n",
       "        "
      ]
     },
     "metadata": {},
     "output_type": "display_data"
    }
   ],
   "source": [
    "# For offline use\n",
    "cf.go_offline()"
   ]
  },
  {
   "cell_type": "markdown",
   "metadata": {},
   "source": [
    "### Fake Data"
   ]
  },
  {
   "cell_type": "code",
   "execution_count": 12,
   "metadata": {},
   "outputs": [],
   "source": [
    "df = pd.DataFrame(np.random.randn(100,4),columns='A B C D'.split())"
   ]
  },
  {
   "cell_type": "code",
   "execution_count": 13,
   "metadata": {},
   "outputs": [
    {
     "data": {
      "text/html": [
       "<div>\n",
       "<style scoped>\n",
       "    .dataframe tbody tr th:only-of-type {\n",
       "        vertical-align: middle;\n",
       "    }\n",
       "\n",
       "    .dataframe tbody tr th {\n",
       "        vertical-align: top;\n",
       "    }\n",
       "\n",
       "    .dataframe thead th {\n",
       "        text-align: right;\n",
       "    }\n",
       "</style>\n",
       "<table border=\"1\" class=\"dataframe\">\n",
       "  <thead>\n",
       "    <tr style=\"text-align: right;\">\n",
       "      <th></th>\n",
       "      <th>A</th>\n",
       "      <th>B</th>\n",
       "      <th>C</th>\n",
       "      <th>D</th>\n",
       "    </tr>\n",
       "  </thead>\n",
       "  <tbody>\n",
       "    <tr>\n",
       "      <th>0</th>\n",
       "      <td>-1.801810</td>\n",
       "      <td>0.971723</td>\n",
       "      <td>-0.434944</td>\n",
       "      <td>0.572088</td>\n",
       "    </tr>\n",
       "    <tr>\n",
       "      <th>1</th>\n",
       "      <td>-0.740528</td>\n",
       "      <td>0.991429</td>\n",
       "      <td>1.195696</td>\n",
       "      <td>0.302444</td>\n",
       "    </tr>\n",
       "    <tr>\n",
       "      <th>2</th>\n",
       "      <td>-1.461857</td>\n",
       "      <td>0.641174</td>\n",
       "      <td>0.855466</td>\n",
       "      <td>2.492634</td>\n",
       "    </tr>\n",
       "    <tr>\n",
       "      <th>3</th>\n",
       "      <td>-1.059159</td>\n",
       "      <td>-0.809639</td>\n",
       "      <td>-0.191997</td>\n",
       "      <td>1.051775</td>\n",
       "    </tr>\n",
       "    <tr>\n",
       "      <th>4</th>\n",
       "      <td>-0.264286</td>\n",
       "      <td>-0.378401</td>\n",
       "      <td>0.317677</td>\n",
       "      <td>-0.074741</td>\n",
       "    </tr>\n",
       "  </tbody>\n",
       "</table>\n",
       "</div>"
      ],
      "text/plain": [
       "          A         B         C         D\n",
       "0 -1.801810  0.971723 -0.434944  0.572088\n",
       "1 -0.740528  0.991429  1.195696  0.302444\n",
       "2 -1.461857  0.641174  0.855466  2.492634\n",
       "3 -1.059159 -0.809639 -0.191997  1.051775\n",
       "4 -0.264286 -0.378401  0.317677 -0.074741"
      ]
     },
     "execution_count": 13,
     "metadata": {},
     "output_type": "execute_result"
    }
   ],
   "source": [
    "df.head()"
   ]
  },
  {
   "cell_type": "code",
   "execution_count": 14,
   "metadata": {},
   "outputs": [],
   "source": [
    "df2 = pd.DataFrame({'Category':['A','B','C'],'Values':[32,43,50]})"
   ]
  },
  {
   "cell_type": "code",
   "execution_count": 15,
   "metadata": {},
   "outputs": [
    {
     "data": {
      "text/html": [
       "<div>\n",
       "<style scoped>\n",
       "    .dataframe tbody tr th:only-of-type {\n",
       "        vertical-align: middle;\n",
       "    }\n",
       "\n",
       "    .dataframe tbody tr th {\n",
       "        vertical-align: top;\n",
       "    }\n",
       "\n",
       "    .dataframe thead th {\n",
       "        text-align: right;\n",
       "    }\n",
       "</style>\n",
       "<table border=\"1\" class=\"dataframe\">\n",
       "  <thead>\n",
       "    <tr style=\"text-align: right;\">\n",
       "      <th></th>\n",
       "      <th>Category</th>\n",
       "      <th>Values</th>\n",
       "    </tr>\n",
       "  </thead>\n",
       "  <tbody>\n",
       "    <tr>\n",
       "      <th>0</th>\n",
       "      <td>A</td>\n",
       "      <td>32</td>\n",
       "    </tr>\n",
       "    <tr>\n",
       "      <th>1</th>\n",
       "      <td>B</td>\n",
       "      <td>43</td>\n",
       "    </tr>\n",
       "    <tr>\n",
       "      <th>2</th>\n",
       "      <td>C</td>\n",
       "      <td>50</td>\n",
       "    </tr>\n",
       "  </tbody>\n",
       "</table>\n",
       "</div>"
      ],
      "text/plain": [
       "  Category  Values\n",
       "0        A      32\n",
       "1        B      43\n",
       "2        C      50"
      ]
     },
     "execution_count": 15,
     "metadata": {},
     "output_type": "execute_result"
    }
   ],
   "source": [
    "df2.head()"
   ]
  },
  {
   "cell_type": "markdown",
   "metadata": {},
   "source": [
    "## Using Cufflinks and iplot()\n",
    "\n",
    "* scatter\n",
    "* bar\n",
    "* box\n",
    "* spread\n",
    "* ratio\n",
    "* heatmap\n",
    "* surface\n",
    "* histogram\n",
    "* bubble"
   ]
  },
  {
   "cell_type": "markdown",
   "metadata": {},
   "source": [
    "## Scatter"
   ]
  },
  {
   "cell_type": "code",
   "execution_count": 16,
   "metadata": {},
   "outputs": [
    {
     "data": {
      "application/vnd.plotly.v1+json": {
       "config": {
        "linkText": "Export to plot.ly",
        "plotlyServerURL": "https://plot.ly",
        "showLink": true
       },
       "data": [
        {
         "line": {
          "color": "rgba(255, 153, 51, 1.0)",
          "dash": "solid",
          "shape": "linear",
          "width": 1.3
         },
         "marker": {
          "size": 10,
          "symbol": "circle"
         },
         "mode": "markers",
         "name": "B",
         "text": "",
         "type": "scatter",
         "x": [
          -1.801810462118037,
          -0.7405278999282524,
          -1.461857030304494,
          -1.0591589088198288,
          -0.26428618768178,
          1.948164848630421,
          -0.23589027518673694,
          0.24657238281739297,
          1.658021589581248,
          0.186696452034347,
          0.8825333889982601,
          -0.4773798929601018,
          0.46972651548583444,
          -0.17320093063047146,
          -0.22683508244266204,
          1.2562233016361952,
          1.310914817148744,
          -0.37320437367658954,
          1.926147146248471,
          0.013675304777552416,
          0.007595408552958917,
          0.8221929815368014,
          0.07591846652853262,
          -0.21887489450015163,
          -1.415591119445165,
          0.6011093091930616,
          0.21043611550600955,
          3.551151429719778,
          0.67855980837985,
          0.44441040471099097,
          0.40501800594761467,
          -1.4429420586514943,
          -0.5726089226425692,
          0.42711475011987726,
          -2.4849078390422226,
          -1.550838633703084,
          0.1342471868944414,
          -2.0658158540835156,
          -1.8297783603605737,
          0.34384485642331847,
          0.8911555668974951,
          -0.6680580034989891,
          0.1817138264631769,
          -0.5573719045906718,
          -1.000221211263796,
          2.543907973222884,
          2.820663767772808,
          -1.23451797618291,
          0.42285643724592425,
          -0.2676682957595602,
          0.9239153944241625,
          0.2835359062945152,
          0.5211584364498096,
          1.6481997375179325,
          -0.1340133395115864,
          -1.195946189733816,
          0.43874383472847545,
          -1.053832892116574,
          -0.4696895658433154,
          0.22089459970479716,
          0.31106612098315894,
          1.6325152367399631,
          0.12148171286156609,
          0.7284922533146289,
          1.150935928793852,
          -1.4493052864419957,
          -1.3474885438875936,
          1.4995138007616624,
          -0.8548810056095114,
          -0.2508135705830549,
          1.5859524585585354,
          0.30169570948898355,
          -1.3847584411858844,
          -0.7172952877799311,
          -0.2388523125662473,
          -1.5402688784288574,
          0.6233403248885073,
          0.3994901335348674,
          1.497119149431649,
          -0.7830568325317241,
          -0.9451963490340021,
          0.9306499911855516,
          1.054919906601512,
          -0.06781875041286145,
          1.6372857588173881,
          0.4258715683400193,
          0.5492007699401444,
          -0.44183901504598483,
          0.5081694849786166,
          -0.5873992503246563,
          1.3060687492015108,
          -0.8504842584600737,
          0.11378281383033334,
          -0.39823121338126055,
          0.21212719538403102,
          0.9743250022300478,
          -0.7048213917177746,
          0.5342517217633828,
          0.9232089584369408,
          -0.7542607429128845
         ],
         "y": [
          0.9717226780442976,
          0.9914293898313419,
          0.6411744066920212,
          -0.8096385110292955,
          -0.37840086893901514,
          1.7135984676116396,
          0.7197830448450903,
          -0.8983097692873694,
          -0.7552177183891712,
          -1.2511453031383102,
          1.3754310257599178,
          -0.8327151618667233,
          1.4235435329224304,
          0.01735458798168637,
          -0.010746680281691855,
          -1.1709321539445416,
          -1.0953584726049397,
          -1.5796819503451054,
          -1.4766025965885607,
          0.15821998684411592,
          -0.9524819112066436,
          -2.064130958296167,
          0.36773552266722587,
          0.2236223850089126,
          0.5449434992139803,
          -0.23083647027858636,
          -1.1964010702691652,
          1.1757632204612487,
          -1.434208487462081,
          0.440970032869492,
          1.2109577918782037,
          -1.5497590258661662,
          -0.9684039534666286,
          -1.8404879740939677,
          0.5147152292514234,
          0.6383097873389552,
          0.9773578834631445,
          0.5007529783172427,
          -0.4105139270567889,
          -1.847615053687545,
          -0.18923271793284913,
          -0.7720096015292391,
          0.4112457655385453,
          0.11467863000478293,
          -1.4206663795278238,
          -0.6610498487755905,
          -1.4253370680419448,
          -0.6642528926905991,
          0.14795487617785147,
          0.34363849028037385,
          0.5446940936108576,
          -1.170337828480521,
          -1.4967050826372772,
          -0.16549287272619267,
          -0.7757039233552273,
          -1.175333472793142,
          -0.9860584630593688,
          -0.2567624340922678,
          1.1081096697218578,
          0.4905022873141684,
          -0.10187821076946177,
          -0.25051212310093574,
          0.5496005698339377,
          1.0277801479335387,
          -1.224813022197627,
          -0.7926622390001563,
          1.3389661877832078,
          0.2583337045239479,
          1.4238321392245428,
          -1.2549517693217713,
          0.3924211759792029,
          -0.27980193924565083,
          -1.2494934296841034,
          -0.72321065360444,
          1.7934026957018891,
          -1.6003422408870176,
          -0.5283469480622293,
          1.710195162699524,
          0.3589247962405482,
          0.21770633363742475,
          -0.8589538797338953,
          0.5069020563414884,
          0.4792637241053778,
          -0.5471593239151623,
          -0.7966292908884803,
          -0.0008098478655252655,
          -0.8141368366633747,
          0.07197909212837338,
          0.7121987424077416,
          2.1642106277762276,
          1.6587166196970367,
          -0.3237980146126996,
          0.543683531746815,
          0.8866040206913408,
          0.06662129370902721,
          -0.36245149934859466,
          -1.5428237763966992,
          1.4300394265738816,
          -0.18491118700292594,
          0.06602098661546725
         ]
        }
       ],
       "layout": {
        "legend": {
         "bgcolor": "#F5F6F9",
         "font": {
          "color": "#4D5663"
         }
        },
        "paper_bgcolor": "#F5F6F9",
        "plot_bgcolor": "#F5F6F9",
        "template": {
         "data": {
          "bar": [
           {
            "error_x": {
             "color": "#2a3f5f"
            },
            "error_y": {
             "color": "#2a3f5f"
            },
            "marker": {
             "line": {
              "color": "#E5ECF6",
              "width": 0.5
             },
             "pattern": {
              "fillmode": "overlay",
              "size": 10,
              "solidity": 0.2
             }
            },
            "type": "bar"
           }
          ],
          "barpolar": [
           {
            "marker": {
             "line": {
              "color": "#E5ECF6",
              "width": 0.5
             },
             "pattern": {
              "fillmode": "overlay",
              "size": 10,
              "solidity": 0.2
             }
            },
            "type": "barpolar"
           }
          ],
          "carpet": [
           {
            "aaxis": {
             "endlinecolor": "#2a3f5f",
             "gridcolor": "white",
             "linecolor": "white",
             "minorgridcolor": "white",
             "startlinecolor": "#2a3f5f"
            },
            "baxis": {
             "endlinecolor": "#2a3f5f",
             "gridcolor": "white",
             "linecolor": "white",
             "minorgridcolor": "white",
             "startlinecolor": "#2a3f5f"
            },
            "type": "carpet"
           }
          ],
          "choropleth": [
           {
            "colorbar": {
             "outlinewidth": 0,
             "ticks": ""
            },
            "type": "choropleth"
           }
          ],
          "contour": [
           {
            "colorbar": {
             "outlinewidth": 0,
             "ticks": ""
            },
            "colorscale": [
             [
              0,
              "#0d0887"
             ],
             [
              0.1111111111111111,
              "#46039f"
             ],
             [
              0.2222222222222222,
              "#7201a8"
             ],
             [
              0.3333333333333333,
              "#9c179e"
             ],
             [
              0.4444444444444444,
              "#bd3786"
             ],
             [
              0.5555555555555556,
              "#d8576b"
             ],
             [
              0.6666666666666666,
              "#ed7953"
             ],
             [
              0.7777777777777778,
              "#fb9f3a"
             ],
             [
              0.8888888888888888,
              "#fdca26"
             ],
             [
              1,
              "#f0f921"
             ]
            ],
            "type": "contour"
           }
          ],
          "contourcarpet": [
           {
            "colorbar": {
             "outlinewidth": 0,
             "ticks": ""
            },
            "type": "contourcarpet"
           }
          ],
          "heatmap": [
           {
            "colorbar": {
             "outlinewidth": 0,
             "ticks": ""
            },
            "colorscale": [
             [
              0,
              "#0d0887"
             ],
             [
              0.1111111111111111,
              "#46039f"
             ],
             [
              0.2222222222222222,
              "#7201a8"
             ],
             [
              0.3333333333333333,
              "#9c179e"
             ],
             [
              0.4444444444444444,
              "#bd3786"
             ],
             [
              0.5555555555555556,
              "#d8576b"
             ],
             [
              0.6666666666666666,
              "#ed7953"
             ],
             [
              0.7777777777777778,
              "#fb9f3a"
             ],
             [
              0.8888888888888888,
              "#fdca26"
             ],
             [
              1,
              "#f0f921"
             ]
            ],
            "type": "heatmap"
           }
          ],
          "heatmapgl": [
           {
            "colorbar": {
             "outlinewidth": 0,
             "ticks": ""
            },
            "colorscale": [
             [
              0,
              "#0d0887"
             ],
             [
              0.1111111111111111,
              "#46039f"
             ],
             [
              0.2222222222222222,
              "#7201a8"
             ],
             [
              0.3333333333333333,
              "#9c179e"
             ],
             [
              0.4444444444444444,
              "#bd3786"
             ],
             [
              0.5555555555555556,
              "#d8576b"
             ],
             [
              0.6666666666666666,
              "#ed7953"
             ],
             [
              0.7777777777777778,
              "#fb9f3a"
             ],
             [
              0.8888888888888888,
              "#fdca26"
             ],
             [
              1,
              "#f0f921"
             ]
            ],
            "type": "heatmapgl"
           }
          ],
          "histogram": [
           {
            "marker": {
             "pattern": {
              "fillmode": "overlay",
              "size": 10,
              "solidity": 0.2
             }
            },
            "type": "histogram"
           }
          ],
          "histogram2d": [
           {
            "colorbar": {
             "outlinewidth": 0,
             "ticks": ""
            },
            "colorscale": [
             [
              0,
              "#0d0887"
             ],
             [
              0.1111111111111111,
              "#46039f"
             ],
             [
              0.2222222222222222,
              "#7201a8"
             ],
             [
              0.3333333333333333,
              "#9c179e"
             ],
             [
              0.4444444444444444,
              "#bd3786"
             ],
             [
              0.5555555555555556,
              "#d8576b"
             ],
             [
              0.6666666666666666,
              "#ed7953"
             ],
             [
              0.7777777777777778,
              "#fb9f3a"
             ],
             [
              0.8888888888888888,
              "#fdca26"
             ],
             [
              1,
              "#f0f921"
             ]
            ],
            "type": "histogram2d"
           }
          ],
          "histogram2dcontour": [
           {
            "colorbar": {
             "outlinewidth": 0,
             "ticks": ""
            },
            "colorscale": [
             [
              0,
              "#0d0887"
             ],
             [
              0.1111111111111111,
              "#46039f"
             ],
             [
              0.2222222222222222,
              "#7201a8"
             ],
             [
              0.3333333333333333,
              "#9c179e"
             ],
             [
              0.4444444444444444,
              "#bd3786"
             ],
             [
              0.5555555555555556,
              "#d8576b"
             ],
             [
              0.6666666666666666,
              "#ed7953"
             ],
             [
              0.7777777777777778,
              "#fb9f3a"
             ],
             [
              0.8888888888888888,
              "#fdca26"
             ],
             [
              1,
              "#f0f921"
             ]
            ],
            "type": "histogram2dcontour"
           }
          ],
          "mesh3d": [
           {
            "colorbar": {
             "outlinewidth": 0,
             "ticks": ""
            },
            "type": "mesh3d"
           }
          ],
          "parcoords": [
           {
            "line": {
             "colorbar": {
              "outlinewidth": 0,
              "ticks": ""
             }
            },
            "type": "parcoords"
           }
          ],
          "pie": [
           {
            "automargin": true,
            "type": "pie"
           }
          ],
          "scatter": [
           {
            "fillpattern": {
             "fillmode": "overlay",
             "size": 10,
             "solidity": 0.2
            },
            "type": "scatter"
           }
          ],
          "scatter3d": [
           {
            "line": {
             "colorbar": {
              "outlinewidth": 0,
              "ticks": ""
             }
            },
            "marker": {
             "colorbar": {
              "outlinewidth": 0,
              "ticks": ""
             }
            },
            "type": "scatter3d"
           }
          ],
          "scattercarpet": [
           {
            "marker": {
             "colorbar": {
              "outlinewidth": 0,
              "ticks": ""
             }
            },
            "type": "scattercarpet"
           }
          ],
          "scattergeo": [
           {
            "marker": {
             "colorbar": {
              "outlinewidth": 0,
              "ticks": ""
             }
            },
            "type": "scattergeo"
           }
          ],
          "scattergl": [
           {
            "marker": {
             "colorbar": {
              "outlinewidth": 0,
              "ticks": ""
             }
            },
            "type": "scattergl"
           }
          ],
          "scattermapbox": [
           {
            "marker": {
             "colorbar": {
              "outlinewidth": 0,
              "ticks": ""
             }
            },
            "type": "scattermapbox"
           }
          ],
          "scatterpolar": [
           {
            "marker": {
             "colorbar": {
              "outlinewidth": 0,
              "ticks": ""
             }
            },
            "type": "scatterpolar"
           }
          ],
          "scatterpolargl": [
           {
            "marker": {
             "colorbar": {
              "outlinewidth": 0,
              "ticks": ""
             }
            },
            "type": "scatterpolargl"
           }
          ],
          "scatterternary": [
           {
            "marker": {
             "colorbar": {
              "outlinewidth": 0,
              "ticks": ""
             }
            },
            "type": "scatterternary"
           }
          ],
          "surface": [
           {
            "colorbar": {
             "outlinewidth": 0,
             "ticks": ""
            },
            "colorscale": [
             [
              0,
              "#0d0887"
             ],
             [
              0.1111111111111111,
              "#46039f"
             ],
             [
              0.2222222222222222,
              "#7201a8"
             ],
             [
              0.3333333333333333,
              "#9c179e"
             ],
             [
              0.4444444444444444,
              "#bd3786"
             ],
             [
              0.5555555555555556,
              "#d8576b"
             ],
             [
              0.6666666666666666,
              "#ed7953"
             ],
             [
              0.7777777777777778,
              "#fb9f3a"
             ],
             [
              0.8888888888888888,
              "#fdca26"
             ],
             [
              1,
              "#f0f921"
             ]
            ],
            "type": "surface"
           }
          ],
          "table": [
           {
            "cells": {
             "fill": {
              "color": "#EBF0F8"
             },
             "line": {
              "color": "white"
             }
            },
            "header": {
             "fill": {
              "color": "#C8D4E3"
             },
             "line": {
              "color": "white"
             }
            },
            "type": "table"
           }
          ]
         },
         "layout": {
          "annotationdefaults": {
           "arrowcolor": "#2a3f5f",
           "arrowhead": 0,
           "arrowwidth": 1
          },
          "autotypenumbers": "strict",
          "coloraxis": {
           "colorbar": {
            "outlinewidth": 0,
            "ticks": ""
           }
          },
          "colorscale": {
           "diverging": [
            [
             0,
             "#8e0152"
            ],
            [
             0.1,
             "#c51b7d"
            ],
            [
             0.2,
             "#de77ae"
            ],
            [
             0.3,
             "#f1b6da"
            ],
            [
             0.4,
             "#fde0ef"
            ],
            [
             0.5,
             "#f7f7f7"
            ],
            [
             0.6,
             "#e6f5d0"
            ],
            [
             0.7,
             "#b8e186"
            ],
            [
             0.8,
             "#7fbc41"
            ],
            [
             0.9,
             "#4d9221"
            ],
            [
             1,
             "#276419"
            ]
           ],
           "sequential": [
            [
             0,
             "#0d0887"
            ],
            [
             0.1111111111111111,
             "#46039f"
            ],
            [
             0.2222222222222222,
             "#7201a8"
            ],
            [
             0.3333333333333333,
             "#9c179e"
            ],
            [
             0.4444444444444444,
             "#bd3786"
            ],
            [
             0.5555555555555556,
             "#d8576b"
            ],
            [
             0.6666666666666666,
             "#ed7953"
            ],
            [
             0.7777777777777778,
             "#fb9f3a"
            ],
            [
             0.8888888888888888,
             "#fdca26"
            ],
            [
             1,
             "#f0f921"
            ]
           ],
           "sequentialminus": [
            [
             0,
             "#0d0887"
            ],
            [
             0.1111111111111111,
             "#46039f"
            ],
            [
             0.2222222222222222,
             "#7201a8"
            ],
            [
             0.3333333333333333,
             "#9c179e"
            ],
            [
             0.4444444444444444,
             "#bd3786"
            ],
            [
             0.5555555555555556,
             "#d8576b"
            ],
            [
             0.6666666666666666,
             "#ed7953"
            ],
            [
             0.7777777777777778,
             "#fb9f3a"
            ],
            [
             0.8888888888888888,
             "#fdca26"
            ],
            [
             1,
             "#f0f921"
            ]
           ]
          },
          "colorway": [
           "#636efa",
           "#EF553B",
           "#00cc96",
           "#ab63fa",
           "#FFA15A",
           "#19d3f3",
           "#FF6692",
           "#B6E880",
           "#FF97FF",
           "#FECB52"
          ],
          "font": {
           "color": "#2a3f5f"
          },
          "geo": {
           "bgcolor": "white",
           "lakecolor": "white",
           "landcolor": "#E5ECF6",
           "showlakes": true,
           "showland": true,
           "subunitcolor": "white"
          },
          "hoverlabel": {
           "align": "left"
          },
          "hovermode": "closest",
          "mapbox": {
           "style": "light"
          },
          "paper_bgcolor": "white",
          "plot_bgcolor": "#E5ECF6",
          "polar": {
           "angularaxis": {
            "gridcolor": "white",
            "linecolor": "white",
            "ticks": ""
           },
           "bgcolor": "#E5ECF6",
           "radialaxis": {
            "gridcolor": "white",
            "linecolor": "white",
            "ticks": ""
           }
          },
          "scene": {
           "xaxis": {
            "backgroundcolor": "#E5ECF6",
            "gridcolor": "white",
            "gridwidth": 2,
            "linecolor": "white",
            "showbackground": true,
            "ticks": "",
            "zerolinecolor": "white"
           },
           "yaxis": {
            "backgroundcolor": "#E5ECF6",
            "gridcolor": "white",
            "gridwidth": 2,
            "linecolor": "white",
            "showbackground": true,
            "ticks": "",
            "zerolinecolor": "white"
           },
           "zaxis": {
            "backgroundcolor": "#E5ECF6",
            "gridcolor": "white",
            "gridwidth": 2,
            "linecolor": "white",
            "showbackground": true,
            "ticks": "",
            "zerolinecolor": "white"
           }
          },
          "shapedefaults": {
           "line": {
            "color": "#2a3f5f"
           }
          },
          "ternary": {
           "aaxis": {
            "gridcolor": "white",
            "linecolor": "white",
            "ticks": ""
           },
           "baxis": {
            "gridcolor": "white",
            "linecolor": "white",
            "ticks": ""
           },
           "bgcolor": "#E5ECF6",
           "caxis": {
            "gridcolor": "white",
            "linecolor": "white",
            "ticks": ""
           }
          },
          "title": {
           "x": 0.05
          },
          "xaxis": {
           "automargin": true,
           "gridcolor": "white",
           "linecolor": "white",
           "ticks": "",
           "title": {
            "standoff": 15
           },
           "zerolinecolor": "white",
           "zerolinewidth": 2
          },
          "yaxis": {
           "automargin": true,
           "gridcolor": "white",
           "linecolor": "white",
           "ticks": "",
           "title": {
            "standoff": 15
           },
           "zerolinecolor": "white",
           "zerolinewidth": 2
          }
         }
        },
        "title": {
         "font": {
          "color": "#4D5663"
         }
        },
        "xaxis": {
         "gridcolor": "#E1E5ED",
         "showgrid": true,
         "tickfont": {
          "color": "#4D5663"
         },
         "title": {
          "font": {
           "color": "#4D5663"
          },
          "text": ""
         },
         "zerolinecolor": "#E1E5ED"
        },
        "yaxis": {
         "gridcolor": "#E1E5ED",
         "showgrid": true,
         "tickfont": {
          "color": "#4D5663"
         },
         "title": {
          "font": {
           "color": "#4D5663"
          },
          "text": ""
         },
         "zerolinecolor": "#E1E5ED"
        }
       }
      },
      "text/html": [
       "<div>                            <div id=\"433e9be7-e1dd-4d99-9b8c-d7bad0ee933f\" class=\"plotly-graph-div\" style=\"height:525px; width:100%;\"></div>            <script type=\"text/javascript\">                require([\"plotly\"], function(Plotly) {                    window.PLOTLYENV=window.PLOTLYENV || {};\n",
       "                    window.PLOTLYENV.BASE_URL='https://plot.ly';                                    if (document.getElementById(\"433e9be7-e1dd-4d99-9b8c-d7bad0ee933f\")) {                    Plotly.newPlot(                        \"433e9be7-e1dd-4d99-9b8c-d7bad0ee933f\",                        [{\"line\":{\"color\":\"rgba(255, 153, 51, 1.0)\",\"dash\":\"solid\",\"shape\":\"linear\",\"width\":1.3},\"marker\":{\"size\":10,\"symbol\":\"circle\"},\"mode\":\"markers\",\"name\":\"B\",\"text\":\"\",\"x\":[-1.801810462118037,-0.7405278999282524,-1.461857030304494,-1.0591589088198288,-0.26428618768178,1.948164848630421,-0.23589027518673694,0.24657238281739297,1.658021589581248,0.186696452034347,0.8825333889982601,-0.4773798929601018,0.46972651548583444,-0.17320093063047146,-0.22683508244266204,1.2562233016361952,1.310914817148744,-0.37320437367658954,1.926147146248471,0.013675304777552416,0.007595408552958917,0.8221929815368014,0.07591846652853262,-0.21887489450015163,-1.415591119445165,0.6011093091930616,0.21043611550600955,3.551151429719778,0.67855980837985,0.44441040471099097,0.40501800594761467,-1.4429420586514943,-0.5726089226425692,0.42711475011987726,-2.4849078390422226,-1.550838633703084,0.1342471868944414,-2.0658158540835156,-1.8297783603605737,0.34384485642331847,0.8911555668974951,-0.6680580034989891,0.1817138264631769,-0.5573719045906718,-1.000221211263796,2.543907973222884,2.820663767772808,-1.23451797618291,0.42285643724592425,-0.2676682957595602,0.9239153944241625,0.2835359062945152,0.5211584364498096,1.6481997375179325,-0.1340133395115864,-1.195946189733816,0.43874383472847545,-1.053832892116574,-0.4696895658433154,0.22089459970479716,0.31106612098315894,1.6325152367399631,0.12148171286156609,0.7284922533146289,1.150935928793852,-1.4493052864419957,-1.3474885438875936,1.4995138007616624,-0.8548810056095114,-0.2508135705830549,1.5859524585585354,0.30169570948898355,-1.3847584411858844,-0.7172952877799311,-0.2388523125662473,-1.5402688784288574,0.6233403248885073,0.3994901335348674,1.497119149431649,-0.7830568325317241,-0.9451963490340021,0.9306499911855516,1.054919906601512,-0.06781875041286145,1.6372857588173881,0.4258715683400193,0.5492007699401444,-0.44183901504598483,0.5081694849786166,-0.5873992503246563,1.3060687492015108,-0.8504842584600737,0.11378281383033334,-0.39823121338126055,0.21212719538403102,0.9743250022300478,-0.7048213917177746,0.5342517217633828,0.9232089584369408,-0.7542607429128845],\"y\":[0.9717226780442976,0.9914293898313419,0.6411744066920212,-0.8096385110292955,-0.37840086893901514,1.7135984676116396,0.7197830448450903,-0.8983097692873694,-0.7552177183891712,-1.2511453031383102,1.3754310257599178,-0.8327151618667233,1.4235435329224304,0.01735458798168637,-0.010746680281691855,-1.1709321539445416,-1.0953584726049397,-1.5796819503451054,-1.4766025965885607,0.15821998684411592,-0.9524819112066436,-2.064130958296167,0.36773552266722587,0.2236223850089126,0.5449434992139803,-0.23083647027858636,-1.1964010702691652,1.1757632204612487,-1.434208487462081,0.440970032869492,1.2109577918782037,-1.5497590258661662,-0.9684039534666286,-1.8404879740939677,0.5147152292514234,0.6383097873389552,0.9773578834631445,0.5007529783172427,-0.4105139270567889,-1.847615053687545,-0.18923271793284913,-0.7720096015292391,0.4112457655385453,0.11467863000478293,-1.4206663795278238,-0.6610498487755905,-1.4253370680419448,-0.6642528926905991,0.14795487617785147,0.34363849028037385,0.5446940936108576,-1.170337828480521,-1.4967050826372772,-0.16549287272619267,-0.7757039233552273,-1.175333472793142,-0.9860584630593688,-0.2567624340922678,1.1081096697218578,0.4905022873141684,-0.10187821076946177,-0.25051212310093574,0.5496005698339377,1.0277801479335387,-1.224813022197627,-0.7926622390001563,1.3389661877832078,0.2583337045239479,1.4238321392245428,-1.2549517693217713,0.3924211759792029,-0.27980193924565083,-1.2494934296841034,-0.72321065360444,1.7934026957018891,-1.6003422408870176,-0.5283469480622293,1.710195162699524,0.3589247962405482,0.21770633363742475,-0.8589538797338953,0.5069020563414884,0.4792637241053778,-0.5471593239151623,-0.7966292908884803,-0.0008098478655252655,-0.8141368366633747,0.07197909212837338,0.7121987424077416,2.1642106277762276,1.6587166196970367,-0.3237980146126996,0.543683531746815,0.8866040206913408,0.06662129370902721,-0.36245149934859466,-1.5428237763966992,1.4300394265738816,-0.18491118700292594,0.06602098661546725],\"type\":\"scatter\"}],                        {\"legend\":{\"bgcolor\":\"#F5F6F9\",\"font\":{\"color\":\"#4D5663\"}},\"paper_bgcolor\":\"#F5F6F9\",\"plot_bgcolor\":\"#F5F6F9\",\"template\":{\"data\":{\"barpolar\":[{\"marker\":{\"line\":{\"color\":\"#E5ECF6\",\"width\":0.5},\"pattern\":{\"fillmode\":\"overlay\",\"size\":10,\"solidity\":0.2}},\"type\":\"barpolar\"}],\"bar\":[{\"error_x\":{\"color\":\"#2a3f5f\"},\"error_y\":{\"color\":\"#2a3f5f\"},\"marker\":{\"line\":{\"color\":\"#E5ECF6\",\"width\":0.5},\"pattern\":{\"fillmode\":\"overlay\",\"size\":10,\"solidity\":0.2}},\"type\":\"bar\"}],\"carpet\":[{\"aaxis\":{\"endlinecolor\":\"#2a3f5f\",\"gridcolor\":\"white\",\"linecolor\":\"white\",\"minorgridcolor\":\"white\",\"startlinecolor\":\"#2a3f5f\"},\"baxis\":{\"endlinecolor\":\"#2a3f5f\",\"gridcolor\":\"white\",\"linecolor\":\"white\",\"minorgridcolor\":\"white\",\"startlinecolor\":\"#2a3f5f\"},\"type\":\"carpet\"}],\"choropleth\":[{\"colorbar\":{\"outlinewidth\":0,\"ticks\":\"\"},\"type\":\"choropleth\"}],\"contourcarpet\":[{\"colorbar\":{\"outlinewidth\":0,\"ticks\":\"\"},\"type\":\"contourcarpet\"}],\"contour\":[{\"colorbar\":{\"outlinewidth\":0,\"ticks\":\"\"},\"colorscale\":[[0.0,\"#0d0887\"],[0.1111111111111111,\"#46039f\"],[0.2222222222222222,\"#7201a8\"],[0.3333333333333333,\"#9c179e\"],[0.4444444444444444,\"#bd3786\"],[0.5555555555555556,\"#d8576b\"],[0.6666666666666666,\"#ed7953\"],[0.7777777777777778,\"#fb9f3a\"],[0.8888888888888888,\"#fdca26\"],[1.0,\"#f0f921\"]],\"type\":\"contour\"}],\"heatmapgl\":[{\"colorbar\":{\"outlinewidth\":0,\"ticks\":\"\"},\"colorscale\":[[0.0,\"#0d0887\"],[0.1111111111111111,\"#46039f\"],[0.2222222222222222,\"#7201a8\"],[0.3333333333333333,\"#9c179e\"],[0.4444444444444444,\"#bd3786\"],[0.5555555555555556,\"#d8576b\"],[0.6666666666666666,\"#ed7953\"],[0.7777777777777778,\"#fb9f3a\"],[0.8888888888888888,\"#fdca26\"],[1.0,\"#f0f921\"]],\"type\":\"heatmapgl\"}],\"heatmap\":[{\"colorbar\":{\"outlinewidth\":0,\"ticks\":\"\"},\"colorscale\":[[0.0,\"#0d0887\"],[0.1111111111111111,\"#46039f\"],[0.2222222222222222,\"#7201a8\"],[0.3333333333333333,\"#9c179e\"],[0.4444444444444444,\"#bd3786\"],[0.5555555555555556,\"#d8576b\"],[0.6666666666666666,\"#ed7953\"],[0.7777777777777778,\"#fb9f3a\"],[0.8888888888888888,\"#fdca26\"],[1.0,\"#f0f921\"]],\"type\":\"heatmap\"}],\"histogram2dcontour\":[{\"colorbar\":{\"outlinewidth\":0,\"ticks\":\"\"},\"colorscale\":[[0.0,\"#0d0887\"],[0.1111111111111111,\"#46039f\"],[0.2222222222222222,\"#7201a8\"],[0.3333333333333333,\"#9c179e\"],[0.4444444444444444,\"#bd3786\"],[0.5555555555555556,\"#d8576b\"],[0.6666666666666666,\"#ed7953\"],[0.7777777777777778,\"#fb9f3a\"],[0.8888888888888888,\"#fdca26\"],[1.0,\"#f0f921\"]],\"type\":\"histogram2dcontour\"}],\"histogram2d\":[{\"colorbar\":{\"outlinewidth\":0,\"ticks\":\"\"},\"colorscale\":[[0.0,\"#0d0887\"],[0.1111111111111111,\"#46039f\"],[0.2222222222222222,\"#7201a8\"],[0.3333333333333333,\"#9c179e\"],[0.4444444444444444,\"#bd3786\"],[0.5555555555555556,\"#d8576b\"],[0.6666666666666666,\"#ed7953\"],[0.7777777777777778,\"#fb9f3a\"],[0.8888888888888888,\"#fdca26\"],[1.0,\"#f0f921\"]],\"type\":\"histogram2d\"}],\"histogram\":[{\"marker\":{\"pattern\":{\"fillmode\":\"overlay\",\"size\":10,\"solidity\":0.2}},\"type\":\"histogram\"}],\"mesh3d\":[{\"colorbar\":{\"outlinewidth\":0,\"ticks\":\"\"},\"type\":\"mesh3d\"}],\"parcoords\":[{\"line\":{\"colorbar\":{\"outlinewidth\":0,\"ticks\":\"\"}},\"type\":\"parcoords\"}],\"pie\":[{\"automargin\":true,\"type\":\"pie\"}],\"scatter3d\":[{\"line\":{\"colorbar\":{\"outlinewidth\":0,\"ticks\":\"\"}},\"marker\":{\"colorbar\":{\"outlinewidth\":0,\"ticks\":\"\"}},\"type\":\"scatter3d\"}],\"scattercarpet\":[{\"marker\":{\"colorbar\":{\"outlinewidth\":0,\"ticks\":\"\"}},\"type\":\"scattercarpet\"}],\"scattergeo\":[{\"marker\":{\"colorbar\":{\"outlinewidth\":0,\"ticks\":\"\"}},\"type\":\"scattergeo\"}],\"scattergl\":[{\"marker\":{\"colorbar\":{\"outlinewidth\":0,\"ticks\":\"\"}},\"type\":\"scattergl\"}],\"scattermapbox\":[{\"marker\":{\"colorbar\":{\"outlinewidth\":0,\"ticks\":\"\"}},\"type\":\"scattermapbox\"}],\"scatterpolargl\":[{\"marker\":{\"colorbar\":{\"outlinewidth\":0,\"ticks\":\"\"}},\"type\":\"scatterpolargl\"}],\"scatterpolar\":[{\"marker\":{\"colorbar\":{\"outlinewidth\":0,\"ticks\":\"\"}},\"type\":\"scatterpolar\"}],\"scatter\":[{\"fillpattern\":{\"fillmode\":\"overlay\",\"size\":10,\"solidity\":0.2},\"type\":\"scatter\"}],\"scatterternary\":[{\"marker\":{\"colorbar\":{\"outlinewidth\":0,\"ticks\":\"\"}},\"type\":\"scatterternary\"}],\"surface\":[{\"colorbar\":{\"outlinewidth\":0,\"ticks\":\"\"},\"colorscale\":[[0.0,\"#0d0887\"],[0.1111111111111111,\"#46039f\"],[0.2222222222222222,\"#7201a8\"],[0.3333333333333333,\"#9c179e\"],[0.4444444444444444,\"#bd3786\"],[0.5555555555555556,\"#d8576b\"],[0.6666666666666666,\"#ed7953\"],[0.7777777777777778,\"#fb9f3a\"],[0.8888888888888888,\"#fdca26\"],[1.0,\"#f0f921\"]],\"type\":\"surface\"}],\"table\":[{\"cells\":{\"fill\":{\"color\":\"#EBF0F8\"},\"line\":{\"color\":\"white\"}},\"header\":{\"fill\":{\"color\":\"#C8D4E3\"},\"line\":{\"color\":\"white\"}},\"type\":\"table\"}]},\"layout\":{\"annotationdefaults\":{\"arrowcolor\":\"#2a3f5f\",\"arrowhead\":0,\"arrowwidth\":1},\"autotypenumbers\":\"strict\",\"coloraxis\":{\"colorbar\":{\"outlinewidth\":0,\"ticks\":\"\"}},\"colorscale\":{\"diverging\":[[0,\"#8e0152\"],[0.1,\"#c51b7d\"],[0.2,\"#de77ae\"],[0.3,\"#f1b6da\"],[0.4,\"#fde0ef\"],[0.5,\"#f7f7f7\"],[0.6,\"#e6f5d0\"],[0.7,\"#b8e186\"],[0.8,\"#7fbc41\"],[0.9,\"#4d9221\"],[1,\"#276419\"]],\"sequential\":[[0.0,\"#0d0887\"],[0.1111111111111111,\"#46039f\"],[0.2222222222222222,\"#7201a8\"],[0.3333333333333333,\"#9c179e\"],[0.4444444444444444,\"#bd3786\"],[0.5555555555555556,\"#d8576b\"],[0.6666666666666666,\"#ed7953\"],[0.7777777777777778,\"#fb9f3a\"],[0.8888888888888888,\"#fdca26\"],[1.0,\"#f0f921\"]],\"sequentialminus\":[[0.0,\"#0d0887\"],[0.1111111111111111,\"#46039f\"],[0.2222222222222222,\"#7201a8\"],[0.3333333333333333,\"#9c179e\"],[0.4444444444444444,\"#bd3786\"],[0.5555555555555556,\"#d8576b\"],[0.6666666666666666,\"#ed7953\"],[0.7777777777777778,\"#fb9f3a\"],[0.8888888888888888,\"#fdca26\"],[1.0,\"#f0f921\"]]},\"colorway\":[\"#636efa\",\"#EF553B\",\"#00cc96\",\"#ab63fa\",\"#FFA15A\",\"#19d3f3\",\"#FF6692\",\"#B6E880\",\"#FF97FF\",\"#FECB52\"],\"font\":{\"color\":\"#2a3f5f\"},\"geo\":{\"bgcolor\":\"white\",\"lakecolor\":\"white\",\"landcolor\":\"#E5ECF6\",\"showlakes\":true,\"showland\":true,\"subunitcolor\":\"white\"},\"hoverlabel\":{\"align\":\"left\"},\"hovermode\":\"closest\",\"mapbox\":{\"style\":\"light\"},\"paper_bgcolor\":\"white\",\"plot_bgcolor\":\"#E5ECF6\",\"polar\":{\"angularaxis\":{\"gridcolor\":\"white\",\"linecolor\":\"white\",\"ticks\":\"\"},\"bgcolor\":\"#E5ECF6\",\"radialaxis\":{\"gridcolor\":\"white\",\"linecolor\":\"white\",\"ticks\":\"\"}},\"scene\":{\"xaxis\":{\"backgroundcolor\":\"#E5ECF6\",\"gridcolor\":\"white\",\"gridwidth\":2,\"linecolor\":\"white\",\"showbackground\":true,\"ticks\":\"\",\"zerolinecolor\":\"white\"},\"yaxis\":{\"backgroundcolor\":\"#E5ECF6\",\"gridcolor\":\"white\",\"gridwidth\":2,\"linecolor\":\"white\",\"showbackground\":true,\"ticks\":\"\",\"zerolinecolor\":\"white\"},\"zaxis\":{\"backgroundcolor\":\"#E5ECF6\",\"gridcolor\":\"white\",\"gridwidth\":2,\"linecolor\":\"white\",\"showbackground\":true,\"ticks\":\"\",\"zerolinecolor\":\"white\"}},\"shapedefaults\":{\"line\":{\"color\":\"#2a3f5f\"}},\"ternary\":{\"aaxis\":{\"gridcolor\":\"white\",\"linecolor\":\"white\",\"ticks\":\"\"},\"baxis\":{\"gridcolor\":\"white\",\"linecolor\":\"white\",\"ticks\":\"\"},\"bgcolor\":\"#E5ECF6\",\"caxis\":{\"gridcolor\":\"white\",\"linecolor\":\"white\",\"ticks\":\"\"}},\"title\":{\"x\":0.05},\"xaxis\":{\"automargin\":true,\"gridcolor\":\"white\",\"linecolor\":\"white\",\"ticks\":\"\",\"title\":{\"standoff\":15},\"zerolinecolor\":\"white\",\"zerolinewidth\":2},\"yaxis\":{\"automargin\":true,\"gridcolor\":\"white\",\"linecolor\":\"white\",\"ticks\":\"\",\"title\":{\"standoff\":15},\"zerolinecolor\":\"white\",\"zerolinewidth\":2}}},\"title\":{\"font\":{\"color\":\"#4D5663\"}},\"xaxis\":{\"gridcolor\":\"#E1E5ED\",\"showgrid\":true,\"tickfont\":{\"color\":\"#4D5663\"},\"title\":{\"font\":{\"color\":\"#4D5663\"},\"text\":\"\"},\"zerolinecolor\":\"#E1E5ED\"},\"yaxis\":{\"gridcolor\":\"#E1E5ED\",\"showgrid\":true,\"tickfont\":{\"color\":\"#4D5663\"},\"title\":{\"font\":{\"color\":\"#4D5663\"},\"text\":\"\"},\"zerolinecolor\":\"#E1E5ED\"}},                        {\"showLink\": true, \"linkText\": \"Export to plot.ly\", \"plotlyServerURL\": \"https://plot.ly\", \"responsive\": true}                    ).then(function(){\n",
       "                            \n",
       "var gd = document.getElementById('433e9be7-e1dd-4d99-9b8c-d7bad0ee933f');\n",
       "var x = new MutationObserver(function (mutations, observer) {{\n",
       "        var display = window.getComputedStyle(gd).display;\n",
       "        if (!display || display === 'none') {{\n",
       "            console.log([gd, 'removed!']);\n",
       "            Plotly.purge(gd);\n",
       "            observer.disconnect();\n",
       "        }}\n",
       "}});\n",
       "\n",
       "// Listen for the removal of the full notebook cells\n",
       "var notebookContainer = gd.closest('#notebook-container');\n",
       "if (notebookContainer) {{\n",
       "    x.observe(notebookContainer, {childList: true});\n",
       "}}\n",
       "\n",
       "// Listen for the clearing of the current output cell\n",
       "var outputEl = gd.closest('.output');\n",
       "if (outputEl) {{\n",
       "    x.observe(outputEl, {childList: true});\n",
       "}}\n",
       "\n",
       "                        })                };                });            </script>        </div>"
      ]
     },
     "metadata": {},
     "output_type": "display_data"
    }
   ],
   "source": [
    "df.iplot(kind='scatter',x='A',y='B',mode='markers',size=10)"
   ]
  },
  {
   "cell_type": "markdown",
   "metadata": {},
   "source": [
    "## Bar Plots"
   ]
  },
  {
   "cell_type": "code",
   "execution_count": 17,
   "metadata": {},
   "outputs": [
    {
     "data": {
      "application/vnd.plotly.v1+json": {
       "config": {
        "linkText": "Export to plot.ly",
        "plotlyServerURL": "https://plot.ly",
        "showLink": true
       },
       "data": [
        {
         "marker": {
          "color": "rgba(255, 153, 51, 0.6)",
          "line": {
           "color": "rgba(255, 153, 51, 1.0)",
           "width": 1
          }
         },
         "name": "Values",
         "orientation": "v",
         "text": "",
         "type": "bar",
         "x": [
          "A",
          "B",
          "C"
         ],
         "y": [
          32,
          43,
          50
         ]
        }
       ],
       "layout": {
        "legend": {
         "bgcolor": "#F5F6F9",
         "font": {
          "color": "#4D5663"
         }
        },
        "paper_bgcolor": "#F5F6F9",
        "plot_bgcolor": "#F5F6F9",
        "template": {
         "data": {
          "bar": [
           {
            "error_x": {
             "color": "#2a3f5f"
            },
            "error_y": {
             "color": "#2a3f5f"
            },
            "marker": {
             "line": {
              "color": "#E5ECF6",
              "width": 0.5
             },
             "pattern": {
              "fillmode": "overlay",
              "size": 10,
              "solidity": 0.2
             }
            },
            "type": "bar"
           }
          ],
          "barpolar": [
           {
            "marker": {
             "line": {
              "color": "#E5ECF6",
              "width": 0.5
             },
             "pattern": {
              "fillmode": "overlay",
              "size": 10,
              "solidity": 0.2
             }
            },
            "type": "barpolar"
           }
          ],
          "carpet": [
           {
            "aaxis": {
             "endlinecolor": "#2a3f5f",
             "gridcolor": "white",
             "linecolor": "white",
             "minorgridcolor": "white",
             "startlinecolor": "#2a3f5f"
            },
            "baxis": {
             "endlinecolor": "#2a3f5f",
             "gridcolor": "white",
             "linecolor": "white",
             "minorgridcolor": "white",
             "startlinecolor": "#2a3f5f"
            },
            "type": "carpet"
           }
          ],
          "choropleth": [
           {
            "colorbar": {
             "outlinewidth": 0,
             "ticks": ""
            },
            "type": "choropleth"
           }
          ],
          "contour": [
           {
            "colorbar": {
             "outlinewidth": 0,
             "ticks": ""
            },
            "colorscale": [
             [
              0,
              "#0d0887"
             ],
             [
              0.1111111111111111,
              "#46039f"
             ],
             [
              0.2222222222222222,
              "#7201a8"
             ],
             [
              0.3333333333333333,
              "#9c179e"
             ],
             [
              0.4444444444444444,
              "#bd3786"
             ],
             [
              0.5555555555555556,
              "#d8576b"
             ],
             [
              0.6666666666666666,
              "#ed7953"
             ],
             [
              0.7777777777777778,
              "#fb9f3a"
             ],
             [
              0.8888888888888888,
              "#fdca26"
             ],
             [
              1,
              "#f0f921"
             ]
            ],
            "type": "contour"
           }
          ],
          "contourcarpet": [
           {
            "colorbar": {
             "outlinewidth": 0,
             "ticks": ""
            },
            "type": "contourcarpet"
           }
          ],
          "heatmap": [
           {
            "colorbar": {
             "outlinewidth": 0,
             "ticks": ""
            },
            "colorscale": [
             [
              0,
              "#0d0887"
             ],
             [
              0.1111111111111111,
              "#46039f"
             ],
             [
              0.2222222222222222,
              "#7201a8"
             ],
             [
              0.3333333333333333,
              "#9c179e"
             ],
             [
              0.4444444444444444,
              "#bd3786"
             ],
             [
              0.5555555555555556,
              "#d8576b"
             ],
             [
              0.6666666666666666,
              "#ed7953"
             ],
             [
              0.7777777777777778,
              "#fb9f3a"
             ],
             [
              0.8888888888888888,
              "#fdca26"
             ],
             [
              1,
              "#f0f921"
             ]
            ],
            "type": "heatmap"
           }
          ],
          "heatmapgl": [
           {
            "colorbar": {
             "outlinewidth": 0,
             "ticks": ""
            },
            "colorscale": [
             [
              0,
              "#0d0887"
             ],
             [
              0.1111111111111111,
              "#46039f"
             ],
             [
              0.2222222222222222,
              "#7201a8"
             ],
             [
              0.3333333333333333,
              "#9c179e"
             ],
             [
              0.4444444444444444,
              "#bd3786"
             ],
             [
              0.5555555555555556,
              "#d8576b"
             ],
             [
              0.6666666666666666,
              "#ed7953"
             ],
             [
              0.7777777777777778,
              "#fb9f3a"
             ],
             [
              0.8888888888888888,
              "#fdca26"
             ],
             [
              1,
              "#f0f921"
             ]
            ],
            "type": "heatmapgl"
           }
          ],
          "histogram": [
           {
            "marker": {
             "pattern": {
              "fillmode": "overlay",
              "size": 10,
              "solidity": 0.2
             }
            },
            "type": "histogram"
           }
          ],
          "histogram2d": [
           {
            "colorbar": {
             "outlinewidth": 0,
             "ticks": ""
            },
            "colorscale": [
             [
              0,
              "#0d0887"
             ],
             [
              0.1111111111111111,
              "#46039f"
             ],
             [
              0.2222222222222222,
              "#7201a8"
             ],
             [
              0.3333333333333333,
              "#9c179e"
             ],
             [
              0.4444444444444444,
              "#bd3786"
             ],
             [
              0.5555555555555556,
              "#d8576b"
             ],
             [
              0.6666666666666666,
              "#ed7953"
             ],
             [
              0.7777777777777778,
              "#fb9f3a"
             ],
             [
              0.8888888888888888,
              "#fdca26"
             ],
             [
              1,
              "#f0f921"
             ]
            ],
            "type": "histogram2d"
           }
          ],
          "histogram2dcontour": [
           {
            "colorbar": {
             "outlinewidth": 0,
             "ticks": ""
            },
            "colorscale": [
             [
              0,
              "#0d0887"
             ],
             [
              0.1111111111111111,
              "#46039f"
             ],
             [
              0.2222222222222222,
              "#7201a8"
             ],
             [
              0.3333333333333333,
              "#9c179e"
             ],
             [
              0.4444444444444444,
              "#bd3786"
             ],
             [
              0.5555555555555556,
              "#d8576b"
             ],
             [
              0.6666666666666666,
              "#ed7953"
             ],
             [
              0.7777777777777778,
              "#fb9f3a"
             ],
             [
              0.8888888888888888,
              "#fdca26"
             ],
             [
              1,
              "#f0f921"
             ]
            ],
            "type": "histogram2dcontour"
           }
          ],
          "mesh3d": [
           {
            "colorbar": {
             "outlinewidth": 0,
             "ticks": ""
            },
            "type": "mesh3d"
           }
          ],
          "parcoords": [
           {
            "line": {
             "colorbar": {
              "outlinewidth": 0,
              "ticks": ""
             }
            },
            "type": "parcoords"
           }
          ],
          "pie": [
           {
            "automargin": true,
            "type": "pie"
           }
          ],
          "scatter": [
           {
            "fillpattern": {
             "fillmode": "overlay",
             "size": 10,
             "solidity": 0.2
            },
            "type": "scatter"
           }
          ],
          "scatter3d": [
           {
            "line": {
             "colorbar": {
              "outlinewidth": 0,
              "ticks": ""
             }
            },
            "marker": {
             "colorbar": {
              "outlinewidth": 0,
              "ticks": ""
             }
            },
            "type": "scatter3d"
           }
          ],
          "scattercarpet": [
           {
            "marker": {
             "colorbar": {
              "outlinewidth": 0,
              "ticks": ""
             }
            },
            "type": "scattercarpet"
           }
          ],
          "scattergeo": [
           {
            "marker": {
             "colorbar": {
              "outlinewidth": 0,
              "ticks": ""
             }
            },
            "type": "scattergeo"
           }
          ],
          "scattergl": [
           {
            "marker": {
             "colorbar": {
              "outlinewidth": 0,
              "ticks": ""
             }
            },
            "type": "scattergl"
           }
          ],
          "scattermapbox": [
           {
            "marker": {
             "colorbar": {
              "outlinewidth": 0,
              "ticks": ""
             }
            },
            "type": "scattermapbox"
           }
          ],
          "scatterpolar": [
           {
            "marker": {
             "colorbar": {
              "outlinewidth": 0,
              "ticks": ""
             }
            },
            "type": "scatterpolar"
           }
          ],
          "scatterpolargl": [
           {
            "marker": {
             "colorbar": {
              "outlinewidth": 0,
              "ticks": ""
             }
            },
            "type": "scatterpolargl"
           }
          ],
          "scatterternary": [
           {
            "marker": {
             "colorbar": {
              "outlinewidth": 0,
              "ticks": ""
             }
            },
            "type": "scatterternary"
           }
          ],
          "surface": [
           {
            "colorbar": {
             "outlinewidth": 0,
             "ticks": ""
            },
            "colorscale": [
             [
              0,
              "#0d0887"
             ],
             [
              0.1111111111111111,
              "#46039f"
             ],
             [
              0.2222222222222222,
              "#7201a8"
             ],
             [
              0.3333333333333333,
              "#9c179e"
             ],
             [
              0.4444444444444444,
              "#bd3786"
             ],
             [
              0.5555555555555556,
              "#d8576b"
             ],
             [
              0.6666666666666666,
              "#ed7953"
             ],
             [
              0.7777777777777778,
              "#fb9f3a"
             ],
             [
              0.8888888888888888,
              "#fdca26"
             ],
             [
              1,
              "#f0f921"
             ]
            ],
            "type": "surface"
           }
          ],
          "table": [
           {
            "cells": {
             "fill": {
              "color": "#EBF0F8"
             },
             "line": {
              "color": "white"
             }
            },
            "header": {
             "fill": {
              "color": "#C8D4E3"
             },
             "line": {
              "color": "white"
             }
            },
            "type": "table"
           }
          ]
         },
         "layout": {
          "annotationdefaults": {
           "arrowcolor": "#2a3f5f",
           "arrowhead": 0,
           "arrowwidth": 1
          },
          "autotypenumbers": "strict",
          "coloraxis": {
           "colorbar": {
            "outlinewidth": 0,
            "ticks": ""
           }
          },
          "colorscale": {
           "diverging": [
            [
             0,
             "#8e0152"
            ],
            [
             0.1,
             "#c51b7d"
            ],
            [
             0.2,
             "#de77ae"
            ],
            [
             0.3,
             "#f1b6da"
            ],
            [
             0.4,
             "#fde0ef"
            ],
            [
             0.5,
             "#f7f7f7"
            ],
            [
             0.6,
             "#e6f5d0"
            ],
            [
             0.7,
             "#b8e186"
            ],
            [
             0.8,
             "#7fbc41"
            ],
            [
             0.9,
             "#4d9221"
            ],
            [
             1,
             "#276419"
            ]
           ],
           "sequential": [
            [
             0,
             "#0d0887"
            ],
            [
             0.1111111111111111,
             "#46039f"
            ],
            [
             0.2222222222222222,
             "#7201a8"
            ],
            [
             0.3333333333333333,
             "#9c179e"
            ],
            [
             0.4444444444444444,
             "#bd3786"
            ],
            [
             0.5555555555555556,
             "#d8576b"
            ],
            [
             0.6666666666666666,
             "#ed7953"
            ],
            [
             0.7777777777777778,
             "#fb9f3a"
            ],
            [
             0.8888888888888888,
             "#fdca26"
            ],
            [
             1,
             "#f0f921"
            ]
           ],
           "sequentialminus": [
            [
             0,
             "#0d0887"
            ],
            [
             0.1111111111111111,
             "#46039f"
            ],
            [
             0.2222222222222222,
             "#7201a8"
            ],
            [
             0.3333333333333333,
             "#9c179e"
            ],
            [
             0.4444444444444444,
             "#bd3786"
            ],
            [
             0.5555555555555556,
             "#d8576b"
            ],
            [
             0.6666666666666666,
             "#ed7953"
            ],
            [
             0.7777777777777778,
             "#fb9f3a"
            ],
            [
             0.8888888888888888,
             "#fdca26"
            ],
            [
             1,
             "#f0f921"
            ]
           ]
          },
          "colorway": [
           "#636efa",
           "#EF553B",
           "#00cc96",
           "#ab63fa",
           "#FFA15A",
           "#19d3f3",
           "#FF6692",
           "#B6E880",
           "#FF97FF",
           "#FECB52"
          ],
          "font": {
           "color": "#2a3f5f"
          },
          "geo": {
           "bgcolor": "white",
           "lakecolor": "white",
           "landcolor": "#E5ECF6",
           "showlakes": true,
           "showland": true,
           "subunitcolor": "white"
          },
          "hoverlabel": {
           "align": "left"
          },
          "hovermode": "closest",
          "mapbox": {
           "style": "light"
          },
          "paper_bgcolor": "white",
          "plot_bgcolor": "#E5ECF6",
          "polar": {
           "angularaxis": {
            "gridcolor": "white",
            "linecolor": "white",
            "ticks": ""
           },
           "bgcolor": "#E5ECF6",
           "radialaxis": {
            "gridcolor": "white",
            "linecolor": "white",
            "ticks": ""
           }
          },
          "scene": {
           "xaxis": {
            "backgroundcolor": "#E5ECF6",
            "gridcolor": "white",
            "gridwidth": 2,
            "linecolor": "white",
            "showbackground": true,
            "ticks": "",
            "zerolinecolor": "white"
           },
           "yaxis": {
            "backgroundcolor": "#E5ECF6",
            "gridcolor": "white",
            "gridwidth": 2,
            "linecolor": "white",
            "showbackground": true,
            "ticks": "",
            "zerolinecolor": "white"
           },
           "zaxis": {
            "backgroundcolor": "#E5ECF6",
            "gridcolor": "white",
            "gridwidth": 2,
            "linecolor": "white",
            "showbackground": true,
            "ticks": "",
            "zerolinecolor": "white"
           }
          },
          "shapedefaults": {
           "line": {
            "color": "#2a3f5f"
           }
          },
          "ternary": {
           "aaxis": {
            "gridcolor": "white",
            "linecolor": "white",
            "ticks": ""
           },
           "baxis": {
            "gridcolor": "white",
            "linecolor": "white",
            "ticks": ""
           },
           "bgcolor": "#E5ECF6",
           "caxis": {
            "gridcolor": "white",
            "linecolor": "white",
            "ticks": ""
           }
          },
          "title": {
           "x": 0.05
          },
          "xaxis": {
           "automargin": true,
           "gridcolor": "white",
           "linecolor": "white",
           "ticks": "",
           "title": {
            "standoff": 15
           },
           "zerolinecolor": "white",
           "zerolinewidth": 2
          },
          "yaxis": {
           "automargin": true,
           "gridcolor": "white",
           "linecolor": "white",
           "ticks": "",
           "title": {
            "standoff": 15
           },
           "zerolinecolor": "white",
           "zerolinewidth": 2
          }
         }
        },
        "title": {
         "font": {
          "color": "#4D5663"
         }
        },
        "xaxis": {
         "gridcolor": "#E1E5ED",
         "showgrid": true,
         "tickfont": {
          "color": "#4D5663"
         },
         "title": {
          "font": {
           "color": "#4D5663"
          },
          "text": ""
         },
         "zerolinecolor": "#E1E5ED"
        },
        "yaxis": {
         "gridcolor": "#E1E5ED",
         "showgrid": true,
         "tickfont": {
          "color": "#4D5663"
         },
         "title": {
          "font": {
           "color": "#4D5663"
          },
          "text": ""
         },
         "zerolinecolor": "#E1E5ED"
        }
       }
      },
      "text/html": [
       "<div>                            <div id=\"6df63e3a-d1ce-4b93-a7ed-91caa15ca5fc\" class=\"plotly-graph-div\" style=\"height:525px; width:100%;\"></div>            <script type=\"text/javascript\">                require([\"plotly\"], function(Plotly) {                    window.PLOTLYENV=window.PLOTLYENV || {};\n",
       "                    window.PLOTLYENV.BASE_URL='https://plot.ly';                                    if (document.getElementById(\"6df63e3a-d1ce-4b93-a7ed-91caa15ca5fc\")) {                    Plotly.newPlot(                        \"6df63e3a-d1ce-4b93-a7ed-91caa15ca5fc\",                        [{\"marker\":{\"color\":\"rgba(255, 153, 51, 0.6)\",\"line\":{\"color\":\"rgba(255, 153, 51, 1.0)\",\"width\":1}},\"name\":\"Values\",\"orientation\":\"v\",\"text\":\"\",\"x\":[\"A\",\"B\",\"C\"],\"y\":[32,43,50],\"type\":\"bar\"}],                        {\"legend\":{\"bgcolor\":\"#F5F6F9\",\"font\":{\"color\":\"#4D5663\"}},\"paper_bgcolor\":\"#F5F6F9\",\"plot_bgcolor\":\"#F5F6F9\",\"template\":{\"data\":{\"barpolar\":[{\"marker\":{\"line\":{\"color\":\"#E5ECF6\",\"width\":0.5},\"pattern\":{\"fillmode\":\"overlay\",\"size\":10,\"solidity\":0.2}},\"type\":\"barpolar\"}],\"bar\":[{\"error_x\":{\"color\":\"#2a3f5f\"},\"error_y\":{\"color\":\"#2a3f5f\"},\"marker\":{\"line\":{\"color\":\"#E5ECF6\",\"width\":0.5},\"pattern\":{\"fillmode\":\"overlay\",\"size\":10,\"solidity\":0.2}},\"type\":\"bar\"}],\"carpet\":[{\"aaxis\":{\"endlinecolor\":\"#2a3f5f\",\"gridcolor\":\"white\",\"linecolor\":\"white\",\"minorgridcolor\":\"white\",\"startlinecolor\":\"#2a3f5f\"},\"baxis\":{\"endlinecolor\":\"#2a3f5f\",\"gridcolor\":\"white\",\"linecolor\":\"white\",\"minorgridcolor\":\"white\",\"startlinecolor\":\"#2a3f5f\"},\"type\":\"carpet\"}],\"choropleth\":[{\"colorbar\":{\"outlinewidth\":0,\"ticks\":\"\"},\"type\":\"choropleth\"}],\"contourcarpet\":[{\"colorbar\":{\"outlinewidth\":0,\"ticks\":\"\"},\"type\":\"contourcarpet\"}],\"contour\":[{\"colorbar\":{\"outlinewidth\":0,\"ticks\":\"\"},\"colorscale\":[[0.0,\"#0d0887\"],[0.1111111111111111,\"#46039f\"],[0.2222222222222222,\"#7201a8\"],[0.3333333333333333,\"#9c179e\"],[0.4444444444444444,\"#bd3786\"],[0.5555555555555556,\"#d8576b\"],[0.6666666666666666,\"#ed7953\"],[0.7777777777777778,\"#fb9f3a\"],[0.8888888888888888,\"#fdca26\"],[1.0,\"#f0f921\"]],\"type\":\"contour\"}],\"heatmapgl\":[{\"colorbar\":{\"outlinewidth\":0,\"ticks\":\"\"},\"colorscale\":[[0.0,\"#0d0887\"],[0.1111111111111111,\"#46039f\"],[0.2222222222222222,\"#7201a8\"],[0.3333333333333333,\"#9c179e\"],[0.4444444444444444,\"#bd3786\"],[0.5555555555555556,\"#d8576b\"],[0.6666666666666666,\"#ed7953\"],[0.7777777777777778,\"#fb9f3a\"],[0.8888888888888888,\"#fdca26\"],[1.0,\"#f0f921\"]],\"type\":\"heatmapgl\"}],\"heatmap\":[{\"colorbar\":{\"outlinewidth\":0,\"ticks\":\"\"},\"colorscale\":[[0.0,\"#0d0887\"],[0.1111111111111111,\"#46039f\"],[0.2222222222222222,\"#7201a8\"],[0.3333333333333333,\"#9c179e\"],[0.4444444444444444,\"#bd3786\"],[0.5555555555555556,\"#d8576b\"],[0.6666666666666666,\"#ed7953\"],[0.7777777777777778,\"#fb9f3a\"],[0.8888888888888888,\"#fdca26\"],[1.0,\"#f0f921\"]],\"type\":\"heatmap\"}],\"histogram2dcontour\":[{\"colorbar\":{\"outlinewidth\":0,\"ticks\":\"\"},\"colorscale\":[[0.0,\"#0d0887\"],[0.1111111111111111,\"#46039f\"],[0.2222222222222222,\"#7201a8\"],[0.3333333333333333,\"#9c179e\"],[0.4444444444444444,\"#bd3786\"],[0.5555555555555556,\"#d8576b\"],[0.6666666666666666,\"#ed7953\"],[0.7777777777777778,\"#fb9f3a\"],[0.8888888888888888,\"#fdca26\"],[1.0,\"#f0f921\"]],\"type\":\"histogram2dcontour\"}],\"histogram2d\":[{\"colorbar\":{\"outlinewidth\":0,\"ticks\":\"\"},\"colorscale\":[[0.0,\"#0d0887\"],[0.1111111111111111,\"#46039f\"],[0.2222222222222222,\"#7201a8\"],[0.3333333333333333,\"#9c179e\"],[0.4444444444444444,\"#bd3786\"],[0.5555555555555556,\"#d8576b\"],[0.6666666666666666,\"#ed7953\"],[0.7777777777777778,\"#fb9f3a\"],[0.8888888888888888,\"#fdca26\"],[1.0,\"#f0f921\"]],\"type\":\"histogram2d\"}],\"histogram\":[{\"marker\":{\"pattern\":{\"fillmode\":\"overlay\",\"size\":10,\"solidity\":0.2}},\"type\":\"histogram\"}],\"mesh3d\":[{\"colorbar\":{\"outlinewidth\":0,\"ticks\":\"\"},\"type\":\"mesh3d\"}],\"parcoords\":[{\"line\":{\"colorbar\":{\"outlinewidth\":0,\"ticks\":\"\"}},\"type\":\"parcoords\"}],\"pie\":[{\"automargin\":true,\"type\":\"pie\"}],\"scatter3d\":[{\"line\":{\"colorbar\":{\"outlinewidth\":0,\"ticks\":\"\"}},\"marker\":{\"colorbar\":{\"outlinewidth\":0,\"ticks\":\"\"}},\"type\":\"scatter3d\"}],\"scattercarpet\":[{\"marker\":{\"colorbar\":{\"outlinewidth\":0,\"ticks\":\"\"}},\"type\":\"scattercarpet\"}],\"scattergeo\":[{\"marker\":{\"colorbar\":{\"outlinewidth\":0,\"ticks\":\"\"}},\"type\":\"scattergeo\"}],\"scattergl\":[{\"marker\":{\"colorbar\":{\"outlinewidth\":0,\"ticks\":\"\"}},\"type\":\"scattergl\"}],\"scattermapbox\":[{\"marker\":{\"colorbar\":{\"outlinewidth\":0,\"ticks\":\"\"}},\"type\":\"scattermapbox\"}],\"scatterpolargl\":[{\"marker\":{\"colorbar\":{\"outlinewidth\":0,\"ticks\":\"\"}},\"type\":\"scatterpolargl\"}],\"scatterpolar\":[{\"marker\":{\"colorbar\":{\"outlinewidth\":0,\"ticks\":\"\"}},\"type\":\"scatterpolar\"}],\"scatter\":[{\"fillpattern\":{\"fillmode\":\"overlay\",\"size\":10,\"solidity\":0.2},\"type\":\"scatter\"}],\"scatterternary\":[{\"marker\":{\"colorbar\":{\"outlinewidth\":0,\"ticks\":\"\"}},\"type\":\"scatterternary\"}],\"surface\":[{\"colorbar\":{\"outlinewidth\":0,\"ticks\":\"\"},\"colorscale\":[[0.0,\"#0d0887\"],[0.1111111111111111,\"#46039f\"],[0.2222222222222222,\"#7201a8\"],[0.3333333333333333,\"#9c179e\"],[0.4444444444444444,\"#bd3786\"],[0.5555555555555556,\"#d8576b\"],[0.6666666666666666,\"#ed7953\"],[0.7777777777777778,\"#fb9f3a\"],[0.8888888888888888,\"#fdca26\"],[1.0,\"#f0f921\"]],\"type\":\"surface\"}],\"table\":[{\"cells\":{\"fill\":{\"color\":\"#EBF0F8\"},\"line\":{\"color\":\"white\"}},\"header\":{\"fill\":{\"color\":\"#C8D4E3\"},\"line\":{\"color\":\"white\"}},\"type\":\"table\"}]},\"layout\":{\"annotationdefaults\":{\"arrowcolor\":\"#2a3f5f\",\"arrowhead\":0,\"arrowwidth\":1},\"autotypenumbers\":\"strict\",\"coloraxis\":{\"colorbar\":{\"outlinewidth\":0,\"ticks\":\"\"}},\"colorscale\":{\"diverging\":[[0,\"#8e0152\"],[0.1,\"#c51b7d\"],[0.2,\"#de77ae\"],[0.3,\"#f1b6da\"],[0.4,\"#fde0ef\"],[0.5,\"#f7f7f7\"],[0.6,\"#e6f5d0\"],[0.7,\"#b8e186\"],[0.8,\"#7fbc41\"],[0.9,\"#4d9221\"],[1,\"#276419\"]],\"sequential\":[[0.0,\"#0d0887\"],[0.1111111111111111,\"#46039f\"],[0.2222222222222222,\"#7201a8\"],[0.3333333333333333,\"#9c179e\"],[0.4444444444444444,\"#bd3786\"],[0.5555555555555556,\"#d8576b\"],[0.6666666666666666,\"#ed7953\"],[0.7777777777777778,\"#fb9f3a\"],[0.8888888888888888,\"#fdca26\"],[1.0,\"#f0f921\"]],\"sequentialminus\":[[0.0,\"#0d0887\"],[0.1111111111111111,\"#46039f\"],[0.2222222222222222,\"#7201a8\"],[0.3333333333333333,\"#9c179e\"],[0.4444444444444444,\"#bd3786\"],[0.5555555555555556,\"#d8576b\"],[0.6666666666666666,\"#ed7953\"],[0.7777777777777778,\"#fb9f3a\"],[0.8888888888888888,\"#fdca26\"],[1.0,\"#f0f921\"]]},\"colorway\":[\"#636efa\",\"#EF553B\",\"#00cc96\",\"#ab63fa\",\"#FFA15A\",\"#19d3f3\",\"#FF6692\",\"#B6E880\",\"#FF97FF\",\"#FECB52\"],\"font\":{\"color\":\"#2a3f5f\"},\"geo\":{\"bgcolor\":\"white\",\"lakecolor\":\"white\",\"landcolor\":\"#E5ECF6\",\"showlakes\":true,\"showland\":true,\"subunitcolor\":\"white\"},\"hoverlabel\":{\"align\":\"left\"},\"hovermode\":\"closest\",\"mapbox\":{\"style\":\"light\"},\"paper_bgcolor\":\"white\",\"plot_bgcolor\":\"#E5ECF6\",\"polar\":{\"angularaxis\":{\"gridcolor\":\"white\",\"linecolor\":\"white\",\"ticks\":\"\"},\"bgcolor\":\"#E5ECF6\",\"radialaxis\":{\"gridcolor\":\"white\",\"linecolor\":\"white\",\"ticks\":\"\"}},\"scene\":{\"xaxis\":{\"backgroundcolor\":\"#E5ECF6\",\"gridcolor\":\"white\",\"gridwidth\":2,\"linecolor\":\"white\",\"showbackground\":true,\"ticks\":\"\",\"zerolinecolor\":\"white\"},\"yaxis\":{\"backgroundcolor\":\"#E5ECF6\",\"gridcolor\":\"white\",\"gridwidth\":2,\"linecolor\":\"white\",\"showbackground\":true,\"ticks\":\"\",\"zerolinecolor\":\"white\"},\"zaxis\":{\"backgroundcolor\":\"#E5ECF6\",\"gridcolor\":\"white\",\"gridwidth\":2,\"linecolor\":\"white\",\"showbackground\":true,\"ticks\":\"\",\"zerolinecolor\":\"white\"}},\"shapedefaults\":{\"line\":{\"color\":\"#2a3f5f\"}},\"ternary\":{\"aaxis\":{\"gridcolor\":\"white\",\"linecolor\":\"white\",\"ticks\":\"\"},\"baxis\":{\"gridcolor\":\"white\",\"linecolor\":\"white\",\"ticks\":\"\"},\"bgcolor\":\"#E5ECF6\",\"caxis\":{\"gridcolor\":\"white\",\"linecolor\":\"white\",\"ticks\":\"\"}},\"title\":{\"x\":0.05},\"xaxis\":{\"automargin\":true,\"gridcolor\":\"white\",\"linecolor\":\"white\",\"ticks\":\"\",\"title\":{\"standoff\":15},\"zerolinecolor\":\"white\",\"zerolinewidth\":2},\"yaxis\":{\"automargin\":true,\"gridcolor\":\"white\",\"linecolor\":\"white\",\"ticks\":\"\",\"title\":{\"standoff\":15},\"zerolinecolor\":\"white\",\"zerolinewidth\":2}}},\"title\":{\"font\":{\"color\":\"#4D5663\"}},\"xaxis\":{\"gridcolor\":\"#E1E5ED\",\"showgrid\":true,\"tickfont\":{\"color\":\"#4D5663\"},\"title\":{\"font\":{\"color\":\"#4D5663\"},\"text\":\"\"},\"zerolinecolor\":\"#E1E5ED\"},\"yaxis\":{\"gridcolor\":\"#E1E5ED\",\"showgrid\":true,\"tickfont\":{\"color\":\"#4D5663\"},\"title\":{\"font\":{\"color\":\"#4D5663\"},\"text\":\"\"},\"zerolinecolor\":\"#E1E5ED\"}},                        {\"showLink\": true, \"linkText\": \"Export to plot.ly\", \"plotlyServerURL\": \"https://plot.ly\", \"responsive\": true}                    ).then(function(){\n",
       "                            \n",
       "var gd = document.getElementById('6df63e3a-d1ce-4b93-a7ed-91caa15ca5fc');\n",
       "var x = new MutationObserver(function (mutations, observer) {{\n",
       "        var display = window.getComputedStyle(gd).display;\n",
       "        if (!display || display === 'none') {{\n",
       "            console.log([gd, 'removed!']);\n",
       "            Plotly.purge(gd);\n",
       "            observer.disconnect();\n",
       "        }}\n",
       "}});\n",
       "\n",
       "// Listen for the removal of the full notebook cells\n",
       "var notebookContainer = gd.closest('#notebook-container');\n",
       "if (notebookContainer) {{\n",
       "    x.observe(notebookContainer, {childList: true});\n",
       "}}\n",
       "\n",
       "// Listen for the clearing of the current output cell\n",
       "var outputEl = gd.closest('.output');\n",
       "if (outputEl) {{\n",
       "    x.observe(outputEl, {childList: true});\n",
       "}}\n",
       "\n",
       "                        })                };                });            </script>        </div>"
      ]
     },
     "metadata": {},
     "output_type": "display_data"
    }
   ],
   "source": [
    "df2.iplot(kind='bar',x='Category',y='Values')"
   ]
  },
  {
   "cell_type": "code",
   "execution_count": 18,
   "metadata": {},
   "outputs": [
    {
     "data": {
      "application/vnd.plotly.v1+json": {
       "config": {
        "linkText": "Export to plot.ly",
        "plotlyServerURL": "https://plot.ly",
        "showLink": true
       },
       "data": [
        {
         "marker": {
          "color": "rgba(255, 153, 51, 0.6)",
          "line": {
           "color": "rgba(255, 153, 51, 1.0)",
           "width": 1
          }
         },
         "name": "None",
         "orientation": "v",
         "text": "",
         "type": "bar",
         "x": [
          "A",
          "B",
          "C",
          "D"
         ],
         "y": [
          100,
          100,
          100,
          100
         ]
        }
       ],
       "layout": {
        "legend": {
         "bgcolor": "#F5F6F9",
         "font": {
          "color": "#4D5663"
         }
        },
        "paper_bgcolor": "#F5F6F9",
        "plot_bgcolor": "#F5F6F9",
        "template": {
         "data": {
          "bar": [
           {
            "error_x": {
             "color": "#2a3f5f"
            },
            "error_y": {
             "color": "#2a3f5f"
            },
            "marker": {
             "line": {
              "color": "#E5ECF6",
              "width": 0.5
             },
             "pattern": {
              "fillmode": "overlay",
              "size": 10,
              "solidity": 0.2
             }
            },
            "type": "bar"
           }
          ],
          "barpolar": [
           {
            "marker": {
             "line": {
              "color": "#E5ECF6",
              "width": 0.5
             },
             "pattern": {
              "fillmode": "overlay",
              "size": 10,
              "solidity": 0.2
             }
            },
            "type": "barpolar"
           }
          ],
          "carpet": [
           {
            "aaxis": {
             "endlinecolor": "#2a3f5f",
             "gridcolor": "white",
             "linecolor": "white",
             "minorgridcolor": "white",
             "startlinecolor": "#2a3f5f"
            },
            "baxis": {
             "endlinecolor": "#2a3f5f",
             "gridcolor": "white",
             "linecolor": "white",
             "minorgridcolor": "white",
             "startlinecolor": "#2a3f5f"
            },
            "type": "carpet"
           }
          ],
          "choropleth": [
           {
            "colorbar": {
             "outlinewidth": 0,
             "ticks": ""
            },
            "type": "choropleth"
           }
          ],
          "contour": [
           {
            "colorbar": {
             "outlinewidth": 0,
             "ticks": ""
            },
            "colorscale": [
             [
              0,
              "#0d0887"
             ],
             [
              0.1111111111111111,
              "#46039f"
             ],
             [
              0.2222222222222222,
              "#7201a8"
             ],
             [
              0.3333333333333333,
              "#9c179e"
             ],
             [
              0.4444444444444444,
              "#bd3786"
             ],
             [
              0.5555555555555556,
              "#d8576b"
             ],
             [
              0.6666666666666666,
              "#ed7953"
             ],
             [
              0.7777777777777778,
              "#fb9f3a"
             ],
             [
              0.8888888888888888,
              "#fdca26"
             ],
             [
              1,
              "#f0f921"
             ]
            ],
            "type": "contour"
           }
          ],
          "contourcarpet": [
           {
            "colorbar": {
             "outlinewidth": 0,
             "ticks": ""
            },
            "type": "contourcarpet"
           }
          ],
          "heatmap": [
           {
            "colorbar": {
             "outlinewidth": 0,
             "ticks": ""
            },
            "colorscale": [
             [
              0,
              "#0d0887"
             ],
             [
              0.1111111111111111,
              "#46039f"
             ],
             [
              0.2222222222222222,
              "#7201a8"
             ],
             [
              0.3333333333333333,
              "#9c179e"
             ],
             [
              0.4444444444444444,
              "#bd3786"
             ],
             [
              0.5555555555555556,
              "#d8576b"
             ],
             [
              0.6666666666666666,
              "#ed7953"
             ],
             [
              0.7777777777777778,
              "#fb9f3a"
             ],
             [
              0.8888888888888888,
              "#fdca26"
             ],
             [
              1,
              "#f0f921"
             ]
            ],
            "type": "heatmap"
           }
          ],
          "heatmapgl": [
           {
            "colorbar": {
             "outlinewidth": 0,
             "ticks": ""
            },
            "colorscale": [
             [
              0,
              "#0d0887"
             ],
             [
              0.1111111111111111,
              "#46039f"
             ],
             [
              0.2222222222222222,
              "#7201a8"
             ],
             [
              0.3333333333333333,
              "#9c179e"
             ],
             [
              0.4444444444444444,
              "#bd3786"
             ],
             [
              0.5555555555555556,
              "#d8576b"
             ],
             [
              0.6666666666666666,
              "#ed7953"
             ],
             [
              0.7777777777777778,
              "#fb9f3a"
             ],
             [
              0.8888888888888888,
              "#fdca26"
             ],
             [
              1,
              "#f0f921"
             ]
            ],
            "type": "heatmapgl"
           }
          ],
          "histogram": [
           {
            "marker": {
             "pattern": {
              "fillmode": "overlay",
              "size": 10,
              "solidity": 0.2
             }
            },
            "type": "histogram"
           }
          ],
          "histogram2d": [
           {
            "colorbar": {
             "outlinewidth": 0,
             "ticks": ""
            },
            "colorscale": [
             [
              0,
              "#0d0887"
             ],
             [
              0.1111111111111111,
              "#46039f"
             ],
             [
              0.2222222222222222,
              "#7201a8"
             ],
             [
              0.3333333333333333,
              "#9c179e"
             ],
             [
              0.4444444444444444,
              "#bd3786"
             ],
             [
              0.5555555555555556,
              "#d8576b"
             ],
             [
              0.6666666666666666,
              "#ed7953"
             ],
             [
              0.7777777777777778,
              "#fb9f3a"
             ],
             [
              0.8888888888888888,
              "#fdca26"
             ],
             [
              1,
              "#f0f921"
             ]
            ],
            "type": "histogram2d"
           }
          ],
          "histogram2dcontour": [
           {
            "colorbar": {
             "outlinewidth": 0,
             "ticks": ""
            },
            "colorscale": [
             [
              0,
              "#0d0887"
             ],
             [
              0.1111111111111111,
              "#46039f"
             ],
             [
              0.2222222222222222,
              "#7201a8"
             ],
             [
              0.3333333333333333,
              "#9c179e"
             ],
             [
              0.4444444444444444,
              "#bd3786"
             ],
             [
              0.5555555555555556,
              "#d8576b"
             ],
             [
              0.6666666666666666,
              "#ed7953"
             ],
             [
              0.7777777777777778,
              "#fb9f3a"
             ],
             [
              0.8888888888888888,
              "#fdca26"
             ],
             [
              1,
              "#f0f921"
             ]
            ],
            "type": "histogram2dcontour"
           }
          ],
          "mesh3d": [
           {
            "colorbar": {
             "outlinewidth": 0,
             "ticks": ""
            },
            "type": "mesh3d"
           }
          ],
          "parcoords": [
           {
            "line": {
             "colorbar": {
              "outlinewidth": 0,
              "ticks": ""
             }
            },
            "type": "parcoords"
           }
          ],
          "pie": [
           {
            "automargin": true,
            "type": "pie"
           }
          ],
          "scatter": [
           {
            "fillpattern": {
             "fillmode": "overlay",
             "size": 10,
             "solidity": 0.2
            },
            "type": "scatter"
           }
          ],
          "scatter3d": [
           {
            "line": {
             "colorbar": {
              "outlinewidth": 0,
              "ticks": ""
             }
            },
            "marker": {
             "colorbar": {
              "outlinewidth": 0,
              "ticks": ""
             }
            },
            "type": "scatter3d"
           }
          ],
          "scattercarpet": [
           {
            "marker": {
             "colorbar": {
              "outlinewidth": 0,
              "ticks": ""
             }
            },
            "type": "scattercarpet"
           }
          ],
          "scattergeo": [
           {
            "marker": {
             "colorbar": {
              "outlinewidth": 0,
              "ticks": ""
             }
            },
            "type": "scattergeo"
           }
          ],
          "scattergl": [
           {
            "marker": {
             "colorbar": {
              "outlinewidth": 0,
              "ticks": ""
             }
            },
            "type": "scattergl"
           }
          ],
          "scattermapbox": [
           {
            "marker": {
             "colorbar": {
              "outlinewidth": 0,
              "ticks": ""
             }
            },
            "type": "scattermapbox"
           }
          ],
          "scatterpolar": [
           {
            "marker": {
             "colorbar": {
              "outlinewidth": 0,
              "ticks": ""
             }
            },
            "type": "scatterpolar"
           }
          ],
          "scatterpolargl": [
           {
            "marker": {
             "colorbar": {
              "outlinewidth": 0,
              "ticks": ""
             }
            },
            "type": "scatterpolargl"
           }
          ],
          "scatterternary": [
           {
            "marker": {
             "colorbar": {
              "outlinewidth": 0,
              "ticks": ""
             }
            },
            "type": "scatterternary"
           }
          ],
          "surface": [
           {
            "colorbar": {
             "outlinewidth": 0,
             "ticks": ""
            },
            "colorscale": [
             [
              0,
              "#0d0887"
             ],
             [
              0.1111111111111111,
              "#46039f"
             ],
             [
              0.2222222222222222,
              "#7201a8"
             ],
             [
              0.3333333333333333,
              "#9c179e"
             ],
             [
              0.4444444444444444,
              "#bd3786"
             ],
             [
              0.5555555555555556,
              "#d8576b"
             ],
             [
              0.6666666666666666,
              "#ed7953"
             ],
             [
              0.7777777777777778,
              "#fb9f3a"
             ],
             [
              0.8888888888888888,
              "#fdca26"
             ],
             [
              1,
              "#f0f921"
             ]
            ],
            "type": "surface"
           }
          ],
          "table": [
           {
            "cells": {
             "fill": {
              "color": "#EBF0F8"
             },
             "line": {
              "color": "white"
             }
            },
            "header": {
             "fill": {
              "color": "#C8D4E3"
             },
             "line": {
              "color": "white"
             }
            },
            "type": "table"
           }
          ]
         },
         "layout": {
          "annotationdefaults": {
           "arrowcolor": "#2a3f5f",
           "arrowhead": 0,
           "arrowwidth": 1
          },
          "autotypenumbers": "strict",
          "coloraxis": {
           "colorbar": {
            "outlinewidth": 0,
            "ticks": ""
           }
          },
          "colorscale": {
           "diverging": [
            [
             0,
             "#8e0152"
            ],
            [
             0.1,
             "#c51b7d"
            ],
            [
             0.2,
             "#de77ae"
            ],
            [
             0.3,
             "#f1b6da"
            ],
            [
             0.4,
             "#fde0ef"
            ],
            [
             0.5,
             "#f7f7f7"
            ],
            [
             0.6,
             "#e6f5d0"
            ],
            [
             0.7,
             "#b8e186"
            ],
            [
             0.8,
             "#7fbc41"
            ],
            [
             0.9,
             "#4d9221"
            ],
            [
             1,
             "#276419"
            ]
           ],
           "sequential": [
            [
             0,
             "#0d0887"
            ],
            [
             0.1111111111111111,
             "#46039f"
            ],
            [
             0.2222222222222222,
             "#7201a8"
            ],
            [
             0.3333333333333333,
             "#9c179e"
            ],
            [
             0.4444444444444444,
             "#bd3786"
            ],
            [
             0.5555555555555556,
             "#d8576b"
            ],
            [
             0.6666666666666666,
             "#ed7953"
            ],
            [
             0.7777777777777778,
             "#fb9f3a"
            ],
            [
             0.8888888888888888,
             "#fdca26"
            ],
            [
             1,
             "#f0f921"
            ]
           ],
           "sequentialminus": [
            [
             0,
             "#0d0887"
            ],
            [
             0.1111111111111111,
             "#46039f"
            ],
            [
             0.2222222222222222,
             "#7201a8"
            ],
            [
             0.3333333333333333,
             "#9c179e"
            ],
            [
             0.4444444444444444,
             "#bd3786"
            ],
            [
             0.5555555555555556,
             "#d8576b"
            ],
            [
             0.6666666666666666,
             "#ed7953"
            ],
            [
             0.7777777777777778,
             "#fb9f3a"
            ],
            [
             0.8888888888888888,
             "#fdca26"
            ],
            [
             1,
             "#f0f921"
            ]
           ]
          },
          "colorway": [
           "#636efa",
           "#EF553B",
           "#00cc96",
           "#ab63fa",
           "#FFA15A",
           "#19d3f3",
           "#FF6692",
           "#B6E880",
           "#FF97FF",
           "#FECB52"
          ],
          "font": {
           "color": "#2a3f5f"
          },
          "geo": {
           "bgcolor": "white",
           "lakecolor": "white",
           "landcolor": "#E5ECF6",
           "showlakes": true,
           "showland": true,
           "subunitcolor": "white"
          },
          "hoverlabel": {
           "align": "left"
          },
          "hovermode": "closest",
          "mapbox": {
           "style": "light"
          },
          "paper_bgcolor": "white",
          "plot_bgcolor": "#E5ECF6",
          "polar": {
           "angularaxis": {
            "gridcolor": "white",
            "linecolor": "white",
            "ticks": ""
           },
           "bgcolor": "#E5ECF6",
           "radialaxis": {
            "gridcolor": "white",
            "linecolor": "white",
            "ticks": ""
           }
          },
          "scene": {
           "xaxis": {
            "backgroundcolor": "#E5ECF6",
            "gridcolor": "white",
            "gridwidth": 2,
            "linecolor": "white",
            "showbackground": true,
            "ticks": "",
            "zerolinecolor": "white"
           },
           "yaxis": {
            "backgroundcolor": "#E5ECF6",
            "gridcolor": "white",
            "gridwidth": 2,
            "linecolor": "white",
            "showbackground": true,
            "ticks": "",
            "zerolinecolor": "white"
           },
           "zaxis": {
            "backgroundcolor": "#E5ECF6",
            "gridcolor": "white",
            "gridwidth": 2,
            "linecolor": "white",
            "showbackground": true,
            "ticks": "",
            "zerolinecolor": "white"
           }
          },
          "shapedefaults": {
           "line": {
            "color": "#2a3f5f"
           }
          },
          "ternary": {
           "aaxis": {
            "gridcolor": "white",
            "linecolor": "white",
            "ticks": ""
           },
           "baxis": {
            "gridcolor": "white",
            "linecolor": "white",
            "ticks": ""
           },
           "bgcolor": "#E5ECF6",
           "caxis": {
            "gridcolor": "white",
            "linecolor": "white",
            "ticks": ""
           }
          },
          "title": {
           "x": 0.05
          },
          "xaxis": {
           "automargin": true,
           "gridcolor": "white",
           "linecolor": "white",
           "ticks": "",
           "title": {
            "standoff": 15
           },
           "zerolinecolor": "white",
           "zerolinewidth": 2
          },
          "yaxis": {
           "automargin": true,
           "gridcolor": "white",
           "linecolor": "white",
           "ticks": "",
           "title": {
            "standoff": 15
           },
           "zerolinecolor": "white",
           "zerolinewidth": 2
          }
         }
        },
        "title": {
         "font": {
          "color": "#4D5663"
         }
        },
        "xaxis": {
         "gridcolor": "#E1E5ED",
         "showgrid": true,
         "tickfont": {
          "color": "#4D5663"
         },
         "title": {
          "font": {
           "color": "#4D5663"
          },
          "text": ""
         },
         "zerolinecolor": "#E1E5ED"
        },
        "yaxis": {
         "gridcolor": "#E1E5ED",
         "showgrid": true,
         "tickfont": {
          "color": "#4D5663"
         },
         "title": {
          "font": {
           "color": "#4D5663"
          },
          "text": ""
         },
         "zerolinecolor": "#E1E5ED"
        }
       }
      },
      "text/html": [
       "<div>                            <div id=\"fd6ce4f3-4c87-403e-99ac-877cf45a6324\" class=\"plotly-graph-div\" style=\"height:525px; width:100%;\"></div>            <script type=\"text/javascript\">                require([\"plotly\"], function(Plotly) {                    window.PLOTLYENV=window.PLOTLYENV || {};\n",
       "                    window.PLOTLYENV.BASE_URL='https://plot.ly';                                    if (document.getElementById(\"fd6ce4f3-4c87-403e-99ac-877cf45a6324\")) {                    Plotly.newPlot(                        \"fd6ce4f3-4c87-403e-99ac-877cf45a6324\",                        [{\"marker\":{\"color\":\"rgba(255, 153, 51, 0.6)\",\"line\":{\"color\":\"rgba(255, 153, 51, 1.0)\",\"width\":1}},\"name\":\"None\",\"orientation\":\"v\",\"text\":\"\",\"x\":[\"A\",\"B\",\"C\",\"D\"],\"y\":[100,100,100,100],\"type\":\"bar\"}],                        {\"legend\":{\"bgcolor\":\"#F5F6F9\",\"font\":{\"color\":\"#4D5663\"}},\"paper_bgcolor\":\"#F5F6F9\",\"plot_bgcolor\":\"#F5F6F9\",\"template\":{\"data\":{\"barpolar\":[{\"marker\":{\"line\":{\"color\":\"#E5ECF6\",\"width\":0.5},\"pattern\":{\"fillmode\":\"overlay\",\"size\":10,\"solidity\":0.2}},\"type\":\"barpolar\"}],\"bar\":[{\"error_x\":{\"color\":\"#2a3f5f\"},\"error_y\":{\"color\":\"#2a3f5f\"},\"marker\":{\"line\":{\"color\":\"#E5ECF6\",\"width\":0.5},\"pattern\":{\"fillmode\":\"overlay\",\"size\":10,\"solidity\":0.2}},\"type\":\"bar\"}],\"carpet\":[{\"aaxis\":{\"endlinecolor\":\"#2a3f5f\",\"gridcolor\":\"white\",\"linecolor\":\"white\",\"minorgridcolor\":\"white\",\"startlinecolor\":\"#2a3f5f\"},\"baxis\":{\"endlinecolor\":\"#2a3f5f\",\"gridcolor\":\"white\",\"linecolor\":\"white\",\"minorgridcolor\":\"white\",\"startlinecolor\":\"#2a3f5f\"},\"type\":\"carpet\"}],\"choropleth\":[{\"colorbar\":{\"outlinewidth\":0,\"ticks\":\"\"},\"type\":\"choropleth\"}],\"contourcarpet\":[{\"colorbar\":{\"outlinewidth\":0,\"ticks\":\"\"},\"type\":\"contourcarpet\"}],\"contour\":[{\"colorbar\":{\"outlinewidth\":0,\"ticks\":\"\"},\"colorscale\":[[0.0,\"#0d0887\"],[0.1111111111111111,\"#46039f\"],[0.2222222222222222,\"#7201a8\"],[0.3333333333333333,\"#9c179e\"],[0.4444444444444444,\"#bd3786\"],[0.5555555555555556,\"#d8576b\"],[0.6666666666666666,\"#ed7953\"],[0.7777777777777778,\"#fb9f3a\"],[0.8888888888888888,\"#fdca26\"],[1.0,\"#f0f921\"]],\"type\":\"contour\"}],\"heatmapgl\":[{\"colorbar\":{\"outlinewidth\":0,\"ticks\":\"\"},\"colorscale\":[[0.0,\"#0d0887\"],[0.1111111111111111,\"#46039f\"],[0.2222222222222222,\"#7201a8\"],[0.3333333333333333,\"#9c179e\"],[0.4444444444444444,\"#bd3786\"],[0.5555555555555556,\"#d8576b\"],[0.6666666666666666,\"#ed7953\"],[0.7777777777777778,\"#fb9f3a\"],[0.8888888888888888,\"#fdca26\"],[1.0,\"#f0f921\"]],\"type\":\"heatmapgl\"}],\"heatmap\":[{\"colorbar\":{\"outlinewidth\":0,\"ticks\":\"\"},\"colorscale\":[[0.0,\"#0d0887\"],[0.1111111111111111,\"#46039f\"],[0.2222222222222222,\"#7201a8\"],[0.3333333333333333,\"#9c179e\"],[0.4444444444444444,\"#bd3786\"],[0.5555555555555556,\"#d8576b\"],[0.6666666666666666,\"#ed7953\"],[0.7777777777777778,\"#fb9f3a\"],[0.8888888888888888,\"#fdca26\"],[1.0,\"#f0f921\"]],\"type\":\"heatmap\"}],\"histogram2dcontour\":[{\"colorbar\":{\"outlinewidth\":0,\"ticks\":\"\"},\"colorscale\":[[0.0,\"#0d0887\"],[0.1111111111111111,\"#46039f\"],[0.2222222222222222,\"#7201a8\"],[0.3333333333333333,\"#9c179e\"],[0.4444444444444444,\"#bd3786\"],[0.5555555555555556,\"#d8576b\"],[0.6666666666666666,\"#ed7953\"],[0.7777777777777778,\"#fb9f3a\"],[0.8888888888888888,\"#fdca26\"],[1.0,\"#f0f921\"]],\"type\":\"histogram2dcontour\"}],\"histogram2d\":[{\"colorbar\":{\"outlinewidth\":0,\"ticks\":\"\"},\"colorscale\":[[0.0,\"#0d0887\"],[0.1111111111111111,\"#46039f\"],[0.2222222222222222,\"#7201a8\"],[0.3333333333333333,\"#9c179e\"],[0.4444444444444444,\"#bd3786\"],[0.5555555555555556,\"#d8576b\"],[0.6666666666666666,\"#ed7953\"],[0.7777777777777778,\"#fb9f3a\"],[0.8888888888888888,\"#fdca26\"],[1.0,\"#f0f921\"]],\"type\":\"histogram2d\"}],\"histogram\":[{\"marker\":{\"pattern\":{\"fillmode\":\"overlay\",\"size\":10,\"solidity\":0.2}},\"type\":\"histogram\"}],\"mesh3d\":[{\"colorbar\":{\"outlinewidth\":0,\"ticks\":\"\"},\"type\":\"mesh3d\"}],\"parcoords\":[{\"line\":{\"colorbar\":{\"outlinewidth\":0,\"ticks\":\"\"}},\"type\":\"parcoords\"}],\"pie\":[{\"automargin\":true,\"type\":\"pie\"}],\"scatter3d\":[{\"line\":{\"colorbar\":{\"outlinewidth\":0,\"ticks\":\"\"}},\"marker\":{\"colorbar\":{\"outlinewidth\":0,\"ticks\":\"\"}},\"type\":\"scatter3d\"}],\"scattercarpet\":[{\"marker\":{\"colorbar\":{\"outlinewidth\":0,\"ticks\":\"\"}},\"type\":\"scattercarpet\"}],\"scattergeo\":[{\"marker\":{\"colorbar\":{\"outlinewidth\":0,\"ticks\":\"\"}},\"type\":\"scattergeo\"}],\"scattergl\":[{\"marker\":{\"colorbar\":{\"outlinewidth\":0,\"ticks\":\"\"}},\"type\":\"scattergl\"}],\"scattermapbox\":[{\"marker\":{\"colorbar\":{\"outlinewidth\":0,\"ticks\":\"\"}},\"type\":\"scattermapbox\"}],\"scatterpolargl\":[{\"marker\":{\"colorbar\":{\"outlinewidth\":0,\"ticks\":\"\"}},\"type\":\"scatterpolargl\"}],\"scatterpolar\":[{\"marker\":{\"colorbar\":{\"outlinewidth\":0,\"ticks\":\"\"}},\"type\":\"scatterpolar\"}],\"scatter\":[{\"fillpattern\":{\"fillmode\":\"overlay\",\"size\":10,\"solidity\":0.2},\"type\":\"scatter\"}],\"scatterternary\":[{\"marker\":{\"colorbar\":{\"outlinewidth\":0,\"ticks\":\"\"}},\"type\":\"scatterternary\"}],\"surface\":[{\"colorbar\":{\"outlinewidth\":0,\"ticks\":\"\"},\"colorscale\":[[0.0,\"#0d0887\"],[0.1111111111111111,\"#46039f\"],[0.2222222222222222,\"#7201a8\"],[0.3333333333333333,\"#9c179e\"],[0.4444444444444444,\"#bd3786\"],[0.5555555555555556,\"#d8576b\"],[0.6666666666666666,\"#ed7953\"],[0.7777777777777778,\"#fb9f3a\"],[0.8888888888888888,\"#fdca26\"],[1.0,\"#f0f921\"]],\"type\":\"surface\"}],\"table\":[{\"cells\":{\"fill\":{\"color\":\"#EBF0F8\"},\"line\":{\"color\":\"white\"}},\"header\":{\"fill\":{\"color\":\"#C8D4E3\"},\"line\":{\"color\":\"white\"}},\"type\":\"table\"}]},\"layout\":{\"annotationdefaults\":{\"arrowcolor\":\"#2a3f5f\",\"arrowhead\":0,\"arrowwidth\":1},\"autotypenumbers\":\"strict\",\"coloraxis\":{\"colorbar\":{\"outlinewidth\":0,\"ticks\":\"\"}},\"colorscale\":{\"diverging\":[[0,\"#8e0152\"],[0.1,\"#c51b7d\"],[0.2,\"#de77ae\"],[0.3,\"#f1b6da\"],[0.4,\"#fde0ef\"],[0.5,\"#f7f7f7\"],[0.6,\"#e6f5d0\"],[0.7,\"#b8e186\"],[0.8,\"#7fbc41\"],[0.9,\"#4d9221\"],[1,\"#276419\"]],\"sequential\":[[0.0,\"#0d0887\"],[0.1111111111111111,\"#46039f\"],[0.2222222222222222,\"#7201a8\"],[0.3333333333333333,\"#9c179e\"],[0.4444444444444444,\"#bd3786\"],[0.5555555555555556,\"#d8576b\"],[0.6666666666666666,\"#ed7953\"],[0.7777777777777778,\"#fb9f3a\"],[0.8888888888888888,\"#fdca26\"],[1.0,\"#f0f921\"]],\"sequentialminus\":[[0.0,\"#0d0887\"],[0.1111111111111111,\"#46039f\"],[0.2222222222222222,\"#7201a8\"],[0.3333333333333333,\"#9c179e\"],[0.4444444444444444,\"#bd3786\"],[0.5555555555555556,\"#d8576b\"],[0.6666666666666666,\"#ed7953\"],[0.7777777777777778,\"#fb9f3a\"],[0.8888888888888888,\"#fdca26\"],[1.0,\"#f0f921\"]]},\"colorway\":[\"#636efa\",\"#EF553B\",\"#00cc96\",\"#ab63fa\",\"#FFA15A\",\"#19d3f3\",\"#FF6692\",\"#B6E880\",\"#FF97FF\",\"#FECB52\"],\"font\":{\"color\":\"#2a3f5f\"},\"geo\":{\"bgcolor\":\"white\",\"lakecolor\":\"white\",\"landcolor\":\"#E5ECF6\",\"showlakes\":true,\"showland\":true,\"subunitcolor\":\"white\"},\"hoverlabel\":{\"align\":\"left\"},\"hovermode\":\"closest\",\"mapbox\":{\"style\":\"light\"},\"paper_bgcolor\":\"white\",\"plot_bgcolor\":\"#E5ECF6\",\"polar\":{\"angularaxis\":{\"gridcolor\":\"white\",\"linecolor\":\"white\",\"ticks\":\"\"},\"bgcolor\":\"#E5ECF6\",\"radialaxis\":{\"gridcolor\":\"white\",\"linecolor\":\"white\",\"ticks\":\"\"}},\"scene\":{\"xaxis\":{\"backgroundcolor\":\"#E5ECF6\",\"gridcolor\":\"white\",\"gridwidth\":2,\"linecolor\":\"white\",\"showbackground\":true,\"ticks\":\"\",\"zerolinecolor\":\"white\"},\"yaxis\":{\"backgroundcolor\":\"#E5ECF6\",\"gridcolor\":\"white\",\"gridwidth\":2,\"linecolor\":\"white\",\"showbackground\":true,\"ticks\":\"\",\"zerolinecolor\":\"white\"},\"zaxis\":{\"backgroundcolor\":\"#E5ECF6\",\"gridcolor\":\"white\",\"gridwidth\":2,\"linecolor\":\"white\",\"showbackground\":true,\"ticks\":\"\",\"zerolinecolor\":\"white\"}},\"shapedefaults\":{\"line\":{\"color\":\"#2a3f5f\"}},\"ternary\":{\"aaxis\":{\"gridcolor\":\"white\",\"linecolor\":\"white\",\"ticks\":\"\"},\"baxis\":{\"gridcolor\":\"white\",\"linecolor\":\"white\",\"ticks\":\"\"},\"bgcolor\":\"#E5ECF6\",\"caxis\":{\"gridcolor\":\"white\",\"linecolor\":\"white\",\"ticks\":\"\"}},\"title\":{\"x\":0.05},\"xaxis\":{\"automargin\":true,\"gridcolor\":\"white\",\"linecolor\":\"white\",\"ticks\":\"\",\"title\":{\"standoff\":15},\"zerolinecolor\":\"white\",\"zerolinewidth\":2},\"yaxis\":{\"automargin\":true,\"gridcolor\":\"white\",\"linecolor\":\"white\",\"ticks\":\"\",\"title\":{\"standoff\":15},\"zerolinecolor\":\"white\",\"zerolinewidth\":2}}},\"title\":{\"font\":{\"color\":\"#4D5663\"}},\"xaxis\":{\"gridcolor\":\"#E1E5ED\",\"showgrid\":true,\"tickfont\":{\"color\":\"#4D5663\"},\"title\":{\"font\":{\"color\":\"#4D5663\"},\"text\":\"\"},\"zerolinecolor\":\"#E1E5ED\"},\"yaxis\":{\"gridcolor\":\"#E1E5ED\",\"showgrid\":true,\"tickfont\":{\"color\":\"#4D5663\"},\"title\":{\"font\":{\"color\":\"#4D5663\"},\"text\":\"\"},\"zerolinecolor\":\"#E1E5ED\"}},                        {\"showLink\": true, \"linkText\": \"Export to plot.ly\", \"plotlyServerURL\": \"https://plot.ly\", \"responsive\": true}                    ).then(function(){\n",
       "                            \n",
       "var gd = document.getElementById('fd6ce4f3-4c87-403e-99ac-877cf45a6324');\n",
       "var x = new MutationObserver(function (mutations, observer) {{\n",
       "        var display = window.getComputedStyle(gd).display;\n",
       "        if (!display || display === 'none') {{\n",
       "            console.log([gd, 'removed!']);\n",
       "            Plotly.purge(gd);\n",
       "            observer.disconnect();\n",
       "        }}\n",
       "}});\n",
       "\n",
       "// Listen for the removal of the full notebook cells\n",
       "var notebookContainer = gd.closest('#notebook-container');\n",
       "if (notebookContainer) {{\n",
       "    x.observe(notebookContainer, {childList: true});\n",
       "}}\n",
       "\n",
       "// Listen for the clearing of the current output cell\n",
       "var outputEl = gd.closest('.output');\n",
       "if (outputEl) {{\n",
       "    x.observe(outputEl, {childList: true});\n",
       "}}\n",
       "\n",
       "                        })                };                });            </script>        </div>"
      ]
     },
     "metadata": {},
     "output_type": "display_data"
    }
   ],
   "source": [
    "df.count().iplot(kind='bar')"
   ]
  },
  {
   "cell_type": "markdown",
   "metadata": {},
   "source": [
    "## Boxplots"
   ]
  },
  {
   "cell_type": "code",
   "execution_count": 19,
   "metadata": {},
   "outputs": [
    {
     "data": {
      "application/vnd.plotly.v1+json": {
       "config": {
        "linkText": "Export to plot.ly",
        "plotlyServerURL": "https://plot.ly",
        "showLink": true
       },
       "data": [
        {
         "boxpoints": false,
         "line": {
          "width": 1.3
         },
         "marker": {
          "color": "rgba(255, 153, 51, 1.0)"
         },
         "name": "A",
         "orientation": "v",
         "type": "box",
         "y": [
          -1.801810462118037,
          -0.7405278999282524,
          -1.461857030304494,
          -1.0591589088198288,
          -0.26428618768178,
          1.948164848630421,
          -0.23589027518673694,
          0.24657238281739297,
          1.658021589581248,
          0.186696452034347,
          0.8825333889982601,
          -0.4773798929601018,
          0.46972651548583444,
          -0.17320093063047146,
          -0.22683508244266204,
          1.2562233016361952,
          1.310914817148744,
          -0.37320437367658954,
          1.926147146248471,
          0.013675304777552416,
          0.007595408552958917,
          0.8221929815368014,
          0.07591846652853262,
          -0.21887489450015163,
          -1.415591119445165,
          0.6011093091930616,
          0.21043611550600955,
          3.551151429719778,
          0.67855980837985,
          0.44441040471099097,
          0.40501800594761467,
          -1.4429420586514943,
          -0.5726089226425692,
          0.42711475011987726,
          -2.4849078390422226,
          -1.550838633703084,
          0.1342471868944414,
          -2.0658158540835156,
          -1.8297783603605737,
          0.34384485642331847,
          0.8911555668974951,
          -0.6680580034989891,
          0.1817138264631769,
          -0.5573719045906718,
          -1.000221211263796,
          2.543907973222884,
          2.820663767772808,
          -1.23451797618291,
          0.42285643724592425,
          -0.2676682957595602,
          0.9239153944241625,
          0.2835359062945152,
          0.5211584364498096,
          1.6481997375179325,
          -0.1340133395115864,
          -1.195946189733816,
          0.43874383472847545,
          -1.053832892116574,
          -0.4696895658433154,
          0.22089459970479716,
          0.31106612098315894,
          1.6325152367399631,
          0.12148171286156609,
          0.7284922533146289,
          1.150935928793852,
          -1.4493052864419957,
          -1.3474885438875936,
          1.4995138007616624,
          -0.8548810056095114,
          -0.2508135705830549,
          1.5859524585585354,
          0.30169570948898355,
          -1.3847584411858844,
          -0.7172952877799311,
          -0.2388523125662473,
          -1.5402688784288574,
          0.6233403248885073,
          0.3994901335348674,
          1.497119149431649,
          -0.7830568325317241,
          -0.9451963490340021,
          0.9306499911855516,
          1.054919906601512,
          -0.06781875041286145,
          1.6372857588173881,
          0.4258715683400193,
          0.5492007699401444,
          -0.44183901504598483,
          0.5081694849786166,
          -0.5873992503246563,
          1.3060687492015108,
          -0.8504842584600737,
          0.11378281383033334,
          -0.39823121338126055,
          0.21212719538403102,
          0.9743250022300478,
          -0.7048213917177746,
          0.5342517217633828,
          0.9232089584369408,
          -0.7542607429128845
         ]
        },
        {
         "boxpoints": false,
         "line": {
          "width": 1.3
         },
         "marker": {
          "color": "rgba(55, 128, 191, 1.0)"
         },
         "name": "B",
         "orientation": "v",
         "type": "box",
         "y": [
          0.9717226780442976,
          0.9914293898313419,
          0.6411744066920212,
          -0.8096385110292955,
          -0.37840086893901514,
          1.7135984676116396,
          0.7197830448450903,
          -0.8983097692873694,
          -0.7552177183891712,
          -1.2511453031383102,
          1.3754310257599178,
          -0.8327151618667233,
          1.4235435329224304,
          0.01735458798168637,
          -0.010746680281691855,
          -1.1709321539445416,
          -1.0953584726049397,
          -1.5796819503451054,
          -1.4766025965885607,
          0.15821998684411592,
          -0.9524819112066436,
          -2.064130958296167,
          0.36773552266722587,
          0.2236223850089126,
          0.5449434992139803,
          -0.23083647027858636,
          -1.1964010702691652,
          1.1757632204612487,
          -1.434208487462081,
          0.440970032869492,
          1.2109577918782037,
          -1.5497590258661662,
          -0.9684039534666286,
          -1.8404879740939677,
          0.5147152292514234,
          0.6383097873389552,
          0.9773578834631445,
          0.5007529783172427,
          -0.4105139270567889,
          -1.847615053687545,
          -0.18923271793284913,
          -0.7720096015292391,
          0.4112457655385453,
          0.11467863000478293,
          -1.4206663795278238,
          -0.6610498487755905,
          -1.4253370680419448,
          -0.6642528926905991,
          0.14795487617785147,
          0.34363849028037385,
          0.5446940936108576,
          -1.170337828480521,
          -1.4967050826372772,
          -0.16549287272619267,
          -0.7757039233552273,
          -1.175333472793142,
          -0.9860584630593688,
          -0.2567624340922678,
          1.1081096697218578,
          0.4905022873141684,
          -0.10187821076946177,
          -0.25051212310093574,
          0.5496005698339377,
          1.0277801479335387,
          -1.224813022197627,
          -0.7926622390001563,
          1.3389661877832078,
          0.2583337045239479,
          1.4238321392245428,
          -1.2549517693217713,
          0.3924211759792029,
          -0.27980193924565083,
          -1.2494934296841034,
          -0.72321065360444,
          1.7934026957018891,
          -1.6003422408870176,
          -0.5283469480622293,
          1.710195162699524,
          0.3589247962405482,
          0.21770633363742475,
          -0.8589538797338953,
          0.5069020563414884,
          0.4792637241053778,
          -0.5471593239151623,
          -0.7966292908884803,
          -0.0008098478655252655,
          -0.8141368366633747,
          0.07197909212837338,
          0.7121987424077416,
          2.1642106277762276,
          1.6587166196970367,
          -0.3237980146126996,
          0.543683531746815,
          0.8866040206913408,
          0.06662129370902721,
          -0.36245149934859466,
          -1.5428237763966992,
          1.4300394265738816,
          -0.18491118700292594,
          0.06602098661546725
         ]
        },
        {
         "boxpoints": false,
         "line": {
          "width": 1.3
         },
         "marker": {
          "color": "rgba(50, 171, 96, 1.0)"
         },
         "name": "C",
         "orientation": "v",
         "type": "box",
         "y": [
          -0.43494351378418167,
          1.1956964184782335,
          0.8554662953767199,
          -0.1919969093895718,
          0.3176774870385354,
          1.460572734227075,
          0.5392242309973705,
          0.8905438135855877,
          -1.612987388666539,
          -0.8105085641576423,
          -0.40669516293897184,
          -0.08648226326249135,
          -0.8428827291133176,
          1.4923512672575086,
          0.9830876077723242,
          0.6124036584128042,
          0.600525649554785,
          -0.05305640240053271,
          1.0080612375569293,
          0.06495517214140592,
          -0.2935394846647749,
          -1.44286880519074,
          0.2085614824243877,
          -0.030397123910282268,
          -0.014822643568981279,
          -0.47379186482624336,
          0.7973858067382725,
          -0.4275448799750782,
          1.9046066294757316,
          0.786301854806995,
          -0.46966878052507444,
          -0.6681614726182001,
          0.4272532372534058,
          1.448462537359182,
          -0.4042385192504221,
          1.5096881465551375,
          -0.18605765410019773,
          -1.3754194067429266,
          0.21219894854924493,
          -0.1261178980949456,
          -0.8833007824237488,
          1.2720459104133115,
          -0.5599150847068526,
          -0.31959093070168915,
          1.6146009419160205,
          0.5275912106732872,
          -0.10479675136895887,
          1.2144149647197442,
          -0.8794936265648686,
          0.7023393840528825,
          -0.6204263160050626,
          0.3428956667482456,
          0.4138766598147137,
          0.08865386927879694,
          -1.9208091952736812,
          -1.0307893066854885,
          1.2908187061811358,
          -0.7508900639513508,
          -0.5382583624539559,
          0.5175108926945428,
          -1.7923699674073574,
          1.0608147649083057,
          0.5781987770929097,
          0.0737705781755186,
          -0.8886967452168886,
          -0.0804543657324432,
          0.3827429389626566,
          -1.1175433000490536,
          0.2847322281678397,
          0.297425848037425,
          -0.4092761309565618,
          -0.0928394932257205,
          0.5157870537652739,
          -1.0655801148740676,
          0.0655141277658387,
          1.9587562707747206,
          1.2974372241654957,
          -0.09933557730908811,
          -1.7811599132792695,
          -0.4110349725463234,
          -0.3682563544839573,
          -0.8122218805904927,
          -1.140175228010079,
          -0.952322345925846,
          -0.18149221456362502,
          0.8253127582076232,
          0.8802122707682375,
          -1.1192905615980897,
          0.0980122930341513,
          0.3532195257472032,
          0.9919090858345788,
          1.6951555726272987,
          0.7911671717175314,
          -1.2533656988994484,
          0.2942035891988454,
          0.2552392285941162,
          -0.2723293364061732,
          -0.40482784706908637,
          -0.9322666994799528,
          -0.5350612175898041
         ]
        },
        {
         "boxpoints": false,
         "line": {
          "width": 1.3
         },
         "marker": {
          "color": "rgba(128, 0, 128, 1.0)"
         },
         "name": "D",
         "orientation": "v",
         "type": "box",
         "y": [
          0.5720880157971676,
          0.3024437290791586,
          2.4926337831467174,
          1.0517747349871922,
          -0.07474136843978726,
          -1.1715429723528712,
          0.9517618478851047,
          1.5279135502295635,
          -0.3082971814586023,
          0.09887209101782131,
          1.2219573602464575,
          -0.013741870252920545,
          -0.2141239479935332,
          1.2021817665040428,
          -0.4418379268008085,
          -1.053950278007446,
          0.48499862984218123,
          -1.1155389975496115,
          0.1308543727143404,
          0.929490183836466,
          -0.48324839277428744,
          -1.1829065972482657,
          0.7498368763060137,
          -0.8861058866071584,
          0.4771380290637309,
          -0.4390886442937461,
          1.2306608987142067,
          1.9878059856867818,
          0.15230461037864515,
          1.6620554499341955,
          1.6384041120327586,
          0.3044849790985675,
          -0.6927769693908511,
          -1.3167580837701536,
          -0.78287296571961,
          -0.024974958657900472,
          -0.039841405515385606,
          -0.05000476951849737,
          -0.48945795363207106,
          0.48904841308460867,
          0.6360868866482585,
          0.32000669236085194,
          0.9875177422449749,
          -0.5059927078731065,
          1.7752811827454997,
          1.3668481773897443,
          0.7184125424407601,
          -1.2687944297695042,
          1.137530004513501,
          0.6903058211295873,
          0.9975118860165221,
          -0.9581035891567805,
          0.6921348889719081,
          -0.1415497410709437,
          -0.1692372595819837,
          -1.4768953292698426,
          -0.8416411068387677,
          2.118665783790678,
          1.039799853019657,
          -0.8581640808582295,
          0.4286012652328465,
          0.6703908225507994,
          1.1799680526781622,
          0.9285733497799281,
          -1.5927548882055302,
          -0.19358256515013755,
          0.8250248773783592,
          0.40848470111794216,
          0.5249809483943964,
          -0.5847748299128196,
          1.5376802385593196,
          -1.0825106854614004,
          -1.3499986616086925,
          -2.006560617276983,
          -0.7172014574461055,
          1.5689533342516848,
          1.8396707852402074,
          -0.7076333961882232,
          -0.4465530640565996,
          -1.2939783103858922,
          0.5273817781102613,
          -0.4475078294726565,
          -0.9269647689351543,
          -0.6125245963618412,
          1.165910567454771,
          3.304174007465817,
          0.8312405486623478,
          1.4574607095978371,
          1.05814101462983,
          -2.478506548223967,
          -0.8839376542505711,
          1.263508197927824,
          -0.20620704196656747,
          1.244872603243073,
          1.154030135724552,
          2.9748525669328907,
          0.946205989028131,
          -1.3502188548374479,
          -0.2516426903414452,
          -0.7515697498030125
         ]
        }
       ],
       "layout": {
        "legend": {
         "bgcolor": "#F5F6F9",
         "font": {
          "color": "#4D5663"
         }
        },
        "paper_bgcolor": "#F5F6F9",
        "plot_bgcolor": "#F5F6F9",
        "template": {
         "data": {
          "bar": [
           {
            "error_x": {
             "color": "#2a3f5f"
            },
            "error_y": {
             "color": "#2a3f5f"
            },
            "marker": {
             "line": {
              "color": "#E5ECF6",
              "width": 0.5
             },
             "pattern": {
              "fillmode": "overlay",
              "size": 10,
              "solidity": 0.2
             }
            },
            "type": "bar"
           }
          ],
          "barpolar": [
           {
            "marker": {
             "line": {
              "color": "#E5ECF6",
              "width": 0.5
             },
             "pattern": {
              "fillmode": "overlay",
              "size": 10,
              "solidity": 0.2
             }
            },
            "type": "barpolar"
           }
          ],
          "carpet": [
           {
            "aaxis": {
             "endlinecolor": "#2a3f5f",
             "gridcolor": "white",
             "linecolor": "white",
             "minorgridcolor": "white",
             "startlinecolor": "#2a3f5f"
            },
            "baxis": {
             "endlinecolor": "#2a3f5f",
             "gridcolor": "white",
             "linecolor": "white",
             "minorgridcolor": "white",
             "startlinecolor": "#2a3f5f"
            },
            "type": "carpet"
           }
          ],
          "choropleth": [
           {
            "colorbar": {
             "outlinewidth": 0,
             "ticks": ""
            },
            "type": "choropleth"
           }
          ],
          "contour": [
           {
            "colorbar": {
             "outlinewidth": 0,
             "ticks": ""
            },
            "colorscale": [
             [
              0,
              "#0d0887"
             ],
             [
              0.1111111111111111,
              "#46039f"
             ],
             [
              0.2222222222222222,
              "#7201a8"
             ],
             [
              0.3333333333333333,
              "#9c179e"
             ],
             [
              0.4444444444444444,
              "#bd3786"
             ],
             [
              0.5555555555555556,
              "#d8576b"
             ],
             [
              0.6666666666666666,
              "#ed7953"
             ],
             [
              0.7777777777777778,
              "#fb9f3a"
             ],
             [
              0.8888888888888888,
              "#fdca26"
             ],
             [
              1,
              "#f0f921"
             ]
            ],
            "type": "contour"
           }
          ],
          "contourcarpet": [
           {
            "colorbar": {
             "outlinewidth": 0,
             "ticks": ""
            },
            "type": "contourcarpet"
           }
          ],
          "heatmap": [
           {
            "colorbar": {
             "outlinewidth": 0,
             "ticks": ""
            },
            "colorscale": [
             [
              0,
              "#0d0887"
             ],
             [
              0.1111111111111111,
              "#46039f"
             ],
             [
              0.2222222222222222,
              "#7201a8"
             ],
             [
              0.3333333333333333,
              "#9c179e"
             ],
             [
              0.4444444444444444,
              "#bd3786"
             ],
             [
              0.5555555555555556,
              "#d8576b"
             ],
             [
              0.6666666666666666,
              "#ed7953"
             ],
             [
              0.7777777777777778,
              "#fb9f3a"
             ],
             [
              0.8888888888888888,
              "#fdca26"
             ],
             [
              1,
              "#f0f921"
             ]
            ],
            "type": "heatmap"
           }
          ],
          "heatmapgl": [
           {
            "colorbar": {
             "outlinewidth": 0,
             "ticks": ""
            },
            "colorscale": [
             [
              0,
              "#0d0887"
             ],
             [
              0.1111111111111111,
              "#46039f"
             ],
             [
              0.2222222222222222,
              "#7201a8"
             ],
             [
              0.3333333333333333,
              "#9c179e"
             ],
             [
              0.4444444444444444,
              "#bd3786"
             ],
             [
              0.5555555555555556,
              "#d8576b"
             ],
             [
              0.6666666666666666,
              "#ed7953"
             ],
             [
              0.7777777777777778,
              "#fb9f3a"
             ],
             [
              0.8888888888888888,
              "#fdca26"
             ],
             [
              1,
              "#f0f921"
             ]
            ],
            "type": "heatmapgl"
           }
          ],
          "histogram": [
           {
            "marker": {
             "pattern": {
              "fillmode": "overlay",
              "size": 10,
              "solidity": 0.2
             }
            },
            "type": "histogram"
           }
          ],
          "histogram2d": [
           {
            "colorbar": {
             "outlinewidth": 0,
             "ticks": ""
            },
            "colorscale": [
             [
              0,
              "#0d0887"
             ],
             [
              0.1111111111111111,
              "#46039f"
             ],
             [
              0.2222222222222222,
              "#7201a8"
             ],
             [
              0.3333333333333333,
              "#9c179e"
             ],
             [
              0.4444444444444444,
              "#bd3786"
             ],
             [
              0.5555555555555556,
              "#d8576b"
             ],
             [
              0.6666666666666666,
              "#ed7953"
             ],
             [
              0.7777777777777778,
              "#fb9f3a"
             ],
             [
              0.8888888888888888,
              "#fdca26"
             ],
             [
              1,
              "#f0f921"
             ]
            ],
            "type": "histogram2d"
           }
          ],
          "histogram2dcontour": [
           {
            "colorbar": {
             "outlinewidth": 0,
             "ticks": ""
            },
            "colorscale": [
             [
              0,
              "#0d0887"
             ],
             [
              0.1111111111111111,
              "#46039f"
             ],
             [
              0.2222222222222222,
              "#7201a8"
             ],
             [
              0.3333333333333333,
              "#9c179e"
             ],
             [
              0.4444444444444444,
              "#bd3786"
             ],
             [
              0.5555555555555556,
              "#d8576b"
             ],
             [
              0.6666666666666666,
              "#ed7953"
             ],
             [
              0.7777777777777778,
              "#fb9f3a"
             ],
             [
              0.8888888888888888,
              "#fdca26"
             ],
             [
              1,
              "#f0f921"
             ]
            ],
            "type": "histogram2dcontour"
           }
          ],
          "mesh3d": [
           {
            "colorbar": {
             "outlinewidth": 0,
             "ticks": ""
            },
            "type": "mesh3d"
           }
          ],
          "parcoords": [
           {
            "line": {
             "colorbar": {
              "outlinewidth": 0,
              "ticks": ""
             }
            },
            "type": "parcoords"
           }
          ],
          "pie": [
           {
            "automargin": true,
            "type": "pie"
           }
          ],
          "scatter": [
           {
            "fillpattern": {
             "fillmode": "overlay",
             "size": 10,
             "solidity": 0.2
            },
            "type": "scatter"
           }
          ],
          "scatter3d": [
           {
            "line": {
             "colorbar": {
              "outlinewidth": 0,
              "ticks": ""
             }
            },
            "marker": {
             "colorbar": {
              "outlinewidth": 0,
              "ticks": ""
             }
            },
            "type": "scatter3d"
           }
          ],
          "scattercarpet": [
           {
            "marker": {
             "colorbar": {
              "outlinewidth": 0,
              "ticks": ""
             }
            },
            "type": "scattercarpet"
           }
          ],
          "scattergeo": [
           {
            "marker": {
             "colorbar": {
              "outlinewidth": 0,
              "ticks": ""
             }
            },
            "type": "scattergeo"
           }
          ],
          "scattergl": [
           {
            "marker": {
             "colorbar": {
              "outlinewidth": 0,
              "ticks": ""
             }
            },
            "type": "scattergl"
           }
          ],
          "scattermapbox": [
           {
            "marker": {
             "colorbar": {
              "outlinewidth": 0,
              "ticks": ""
             }
            },
            "type": "scattermapbox"
           }
          ],
          "scatterpolar": [
           {
            "marker": {
             "colorbar": {
              "outlinewidth": 0,
              "ticks": ""
             }
            },
            "type": "scatterpolar"
           }
          ],
          "scatterpolargl": [
           {
            "marker": {
             "colorbar": {
              "outlinewidth": 0,
              "ticks": ""
             }
            },
            "type": "scatterpolargl"
           }
          ],
          "scatterternary": [
           {
            "marker": {
             "colorbar": {
              "outlinewidth": 0,
              "ticks": ""
             }
            },
            "type": "scatterternary"
           }
          ],
          "surface": [
           {
            "colorbar": {
             "outlinewidth": 0,
             "ticks": ""
            },
            "colorscale": [
             [
              0,
              "#0d0887"
             ],
             [
              0.1111111111111111,
              "#46039f"
             ],
             [
              0.2222222222222222,
              "#7201a8"
             ],
             [
              0.3333333333333333,
              "#9c179e"
             ],
             [
              0.4444444444444444,
              "#bd3786"
             ],
             [
              0.5555555555555556,
              "#d8576b"
             ],
             [
              0.6666666666666666,
              "#ed7953"
             ],
             [
              0.7777777777777778,
              "#fb9f3a"
             ],
             [
              0.8888888888888888,
              "#fdca26"
             ],
             [
              1,
              "#f0f921"
             ]
            ],
            "type": "surface"
           }
          ],
          "table": [
           {
            "cells": {
             "fill": {
              "color": "#EBF0F8"
             },
             "line": {
              "color": "white"
             }
            },
            "header": {
             "fill": {
              "color": "#C8D4E3"
             },
             "line": {
              "color": "white"
             }
            },
            "type": "table"
           }
          ]
         },
         "layout": {
          "annotationdefaults": {
           "arrowcolor": "#2a3f5f",
           "arrowhead": 0,
           "arrowwidth": 1
          },
          "autotypenumbers": "strict",
          "coloraxis": {
           "colorbar": {
            "outlinewidth": 0,
            "ticks": ""
           }
          },
          "colorscale": {
           "diverging": [
            [
             0,
             "#8e0152"
            ],
            [
             0.1,
             "#c51b7d"
            ],
            [
             0.2,
             "#de77ae"
            ],
            [
             0.3,
             "#f1b6da"
            ],
            [
             0.4,
             "#fde0ef"
            ],
            [
             0.5,
             "#f7f7f7"
            ],
            [
             0.6,
             "#e6f5d0"
            ],
            [
             0.7,
             "#b8e186"
            ],
            [
             0.8,
             "#7fbc41"
            ],
            [
             0.9,
             "#4d9221"
            ],
            [
             1,
             "#276419"
            ]
           ],
           "sequential": [
            [
             0,
             "#0d0887"
            ],
            [
             0.1111111111111111,
             "#46039f"
            ],
            [
             0.2222222222222222,
             "#7201a8"
            ],
            [
             0.3333333333333333,
             "#9c179e"
            ],
            [
             0.4444444444444444,
             "#bd3786"
            ],
            [
             0.5555555555555556,
             "#d8576b"
            ],
            [
             0.6666666666666666,
             "#ed7953"
            ],
            [
             0.7777777777777778,
             "#fb9f3a"
            ],
            [
             0.8888888888888888,
             "#fdca26"
            ],
            [
             1,
             "#f0f921"
            ]
           ],
           "sequentialminus": [
            [
             0,
             "#0d0887"
            ],
            [
             0.1111111111111111,
             "#46039f"
            ],
            [
             0.2222222222222222,
             "#7201a8"
            ],
            [
             0.3333333333333333,
             "#9c179e"
            ],
            [
             0.4444444444444444,
             "#bd3786"
            ],
            [
             0.5555555555555556,
             "#d8576b"
            ],
            [
             0.6666666666666666,
             "#ed7953"
            ],
            [
             0.7777777777777778,
             "#fb9f3a"
            ],
            [
             0.8888888888888888,
             "#fdca26"
            ],
            [
             1,
             "#f0f921"
            ]
           ]
          },
          "colorway": [
           "#636efa",
           "#EF553B",
           "#00cc96",
           "#ab63fa",
           "#FFA15A",
           "#19d3f3",
           "#FF6692",
           "#B6E880",
           "#FF97FF",
           "#FECB52"
          ],
          "font": {
           "color": "#2a3f5f"
          },
          "geo": {
           "bgcolor": "white",
           "lakecolor": "white",
           "landcolor": "#E5ECF6",
           "showlakes": true,
           "showland": true,
           "subunitcolor": "white"
          },
          "hoverlabel": {
           "align": "left"
          },
          "hovermode": "closest",
          "mapbox": {
           "style": "light"
          },
          "paper_bgcolor": "white",
          "plot_bgcolor": "#E5ECF6",
          "polar": {
           "angularaxis": {
            "gridcolor": "white",
            "linecolor": "white",
            "ticks": ""
           },
           "bgcolor": "#E5ECF6",
           "radialaxis": {
            "gridcolor": "white",
            "linecolor": "white",
            "ticks": ""
           }
          },
          "scene": {
           "xaxis": {
            "backgroundcolor": "#E5ECF6",
            "gridcolor": "white",
            "gridwidth": 2,
            "linecolor": "white",
            "showbackground": true,
            "ticks": "",
            "zerolinecolor": "white"
           },
           "yaxis": {
            "backgroundcolor": "#E5ECF6",
            "gridcolor": "white",
            "gridwidth": 2,
            "linecolor": "white",
            "showbackground": true,
            "ticks": "",
            "zerolinecolor": "white"
           },
           "zaxis": {
            "backgroundcolor": "#E5ECF6",
            "gridcolor": "white",
            "gridwidth": 2,
            "linecolor": "white",
            "showbackground": true,
            "ticks": "",
            "zerolinecolor": "white"
           }
          },
          "shapedefaults": {
           "line": {
            "color": "#2a3f5f"
           }
          },
          "ternary": {
           "aaxis": {
            "gridcolor": "white",
            "linecolor": "white",
            "ticks": ""
           },
           "baxis": {
            "gridcolor": "white",
            "linecolor": "white",
            "ticks": ""
           },
           "bgcolor": "#E5ECF6",
           "caxis": {
            "gridcolor": "white",
            "linecolor": "white",
            "ticks": ""
           }
          },
          "title": {
           "x": 0.05
          },
          "xaxis": {
           "automargin": true,
           "gridcolor": "white",
           "linecolor": "white",
           "ticks": "",
           "title": {
            "standoff": 15
           },
           "zerolinecolor": "white",
           "zerolinewidth": 2
          },
          "yaxis": {
           "automargin": true,
           "gridcolor": "white",
           "linecolor": "white",
           "ticks": "",
           "title": {
            "standoff": 15
           },
           "zerolinecolor": "white",
           "zerolinewidth": 2
          }
         }
        },
        "title": {
         "font": {
          "color": "#4D5663"
         }
        },
        "xaxis": {
         "gridcolor": "#E1E5ED",
         "showgrid": true,
         "tickfont": {
          "color": "#4D5663"
         },
         "title": {
          "font": {
           "color": "#4D5663"
          },
          "text": ""
         },
         "zerolinecolor": "#E1E5ED"
        },
        "yaxis": {
         "gridcolor": "#E1E5ED",
         "showgrid": true,
         "tickfont": {
          "color": "#4D5663"
         },
         "title": {
          "font": {
           "color": "#4D5663"
          },
          "text": ""
         },
         "zerolinecolor": "#E1E5ED"
        }
       }
      },
      "text/html": [
       "<div>                            <div id=\"bd8c29d1-cd7c-4ccb-8c18-0d8c19b7cf91\" class=\"plotly-graph-div\" style=\"height:525px; width:100%;\"></div>            <script type=\"text/javascript\">                require([\"plotly\"], function(Plotly) {                    window.PLOTLYENV=window.PLOTLYENV || {};\n",
       "                    window.PLOTLYENV.BASE_URL='https://plot.ly';                                    if (document.getElementById(\"bd8c29d1-cd7c-4ccb-8c18-0d8c19b7cf91\")) {                    Plotly.newPlot(                        \"bd8c29d1-cd7c-4ccb-8c18-0d8c19b7cf91\",                        [{\"boxpoints\":false,\"line\":{\"width\":1.3},\"marker\":{\"color\":\"rgba(255, 153, 51, 1.0)\"},\"name\":\"A\",\"orientation\":\"v\",\"y\":[-1.801810462118037,-0.7405278999282524,-1.461857030304494,-1.0591589088198288,-0.26428618768178,1.948164848630421,-0.23589027518673694,0.24657238281739297,1.658021589581248,0.186696452034347,0.8825333889982601,-0.4773798929601018,0.46972651548583444,-0.17320093063047146,-0.22683508244266204,1.2562233016361952,1.310914817148744,-0.37320437367658954,1.926147146248471,0.013675304777552416,0.007595408552958917,0.8221929815368014,0.07591846652853262,-0.21887489450015163,-1.415591119445165,0.6011093091930616,0.21043611550600955,3.551151429719778,0.67855980837985,0.44441040471099097,0.40501800594761467,-1.4429420586514943,-0.5726089226425692,0.42711475011987726,-2.4849078390422226,-1.550838633703084,0.1342471868944414,-2.0658158540835156,-1.8297783603605737,0.34384485642331847,0.8911555668974951,-0.6680580034989891,0.1817138264631769,-0.5573719045906718,-1.000221211263796,2.543907973222884,2.820663767772808,-1.23451797618291,0.42285643724592425,-0.2676682957595602,0.9239153944241625,0.2835359062945152,0.5211584364498096,1.6481997375179325,-0.1340133395115864,-1.195946189733816,0.43874383472847545,-1.053832892116574,-0.4696895658433154,0.22089459970479716,0.31106612098315894,1.6325152367399631,0.12148171286156609,0.7284922533146289,1.150935928793852,-1.4493052864419957,-1.3474885438875936,1.4995138007616624,-0.8548810056095114,-0.2508135705830549,1.5859524585585354,0.30169570948898355,-1.3847584411858844,-0.7172952877799311,-0.2388523125662473,-1.5402688784288574,0.6233403248885073,0.3994901335348674,1.497119149431649,-0.7830568325317241,-0.9451963490340021,0.9306499911855516,1.054919906601512,-0.06781875041286145,1.6372857588173881,0.4258715683400193,0.5492007699401444,-0.44183901504598483,0.5081694849786166,-0.5873992503246563,1.3060687492015108,-0.8504842584600737,0.11378281383033334,-0.39823121338126055,0.21212719538403102,0.9743250022300478,-0.7048213917177746,0.5342517217633828,0.9232089584369408,-0.7542607429128845],\"type\":\"box\"},{\"boxpoints\":false,\"line\":{\"width\":1.3},\"marker\":{\"color\":\"rgba(55, 128, 191, 1.0)\"},\"name\":\"B\",\"orientation\":\"v\",\"y\":[0.9717226780442976,0.9914293898313419,0.6411744066920212,-0.8096385110292955,-0.37840086893901514,1.7135984676116396,0.7197830448450903,-0.8983097692873694,-0.7552177183891712,-1.2511453031383102,1.3754310257599178,-0.8327151618667233,1.4235435329224304,0.01735458798168637,-0.010746680281691855,-1.1709321539445416,-1.0953584726049397,-1.5796819503451054,-1.4766025965885607,0.15821998684411592,-0.9524819112066436,-2.064130958296167,0.36773552266722587,0.2236223850089126,0.5449434992139803,-0.23083647027858636,-1.1964010702691652,1.1757632204612487,-1.434208487462081,0.440970032869492,1.2109577918782037,-1.5497590258661662,-0.9684039534666286,-1.8404879740939677,0.5147152292514234,0.6383097873389552,0.9773578834631445,0.5007529783172427,-0.4105139270567889,-1.847615053687545,-0.18923271793284913,-0.7720096015292391,0.4112457655385453,0.11467863000478293,-1.4206663795278238,-0.6610498487755905,-1.4253370680419448,-0.6642528926905991,0.14795487617785147,0.34363849028037385,0.5446940936108576,-1.170337828480521,-1.4967050826372772,-0.16549287272619267,-0.7757039233552273,-1.175333472793142,-0.9860584630593688,-0.2567624340922678,1.1081096697218578,0.4905022873141684,-0.10187821076946177,-0.25051212310093574,0.5496005698339377,1.0277801479335387,-1.224813022197627,-0.7926622390001563,1.3389661877832078,0.2583337045239479,1.4238321392245428,-1.2549517693217713,0.3924211759792029,-0.27980193924565083,-1.2494934296841034,-0.72321065360444,1.7934026957018891,-1.6003422408870176,-0.5283469480622293,1.710195162699524,0.3589247962405482,0.21770633363742475,-0.8589538797338953,0.5069020563414884,0.4792637241053778,-0.5471593239151623,-0.7966292908884803,-0.0008098478655252655,-0.8141368366633747,0.07197909212837338,0.7121987424077416,2.1642106277762276,1.6587166196970367,-0.3237980146126996,0.543683531746815,0.8866040206913408,0.06662129370902721,-0.36245149934859466,-1.5428237763966992,1.4300394265738816,-0.18491118700292594,0.06602098661546725],\"type\":\"box\"},{\"boxpoints\":false,\"line\":{\"width\":1.3},\"marker\":{\"color\":\"rgba(50, 171, 96, 1.0)\"},\"name\":\"C\",\"orientation\":\"v\",\"y\":[-0.43494351378418167,1.1956964184782335,0.8554662953767199,-0.1919969093895718,0.3176774870385354,1.460572734227075,0.5392242309973705,0.8905438135855877,-1.612987388666539,-0.8105085641576423,-0.40669516293897184,-0.08648226326249135,-0.8428827291133176,1.4923512672575086,0.9830876077723242,0.6124036584128042,0.600525649554785,-0.05305640240053271,1.0080612375569293,0.06495517214140592,-0.2935394846647749,-1.44286880519074,0.2085614824243877,-0.030397123910282268,-0.014822643568981279,-0.47379186482624336,0.7973858067382725,-0.4275448799750782,1.9046066294757316,0.786301854806995,-0.46966878052507444,-0.6681614726182001,0.4272532372534058,1.448462537359182,-0.4042385192504221,1.5096881465551375,-0.18605765410019773,-1.3754194067429266,0.21219894854924493,-0.1261178980949456,-0.8833007824237488,1.2720459104133115,-0.5599150847068526,-0.31959093070168915,1.6146009419160205,0.5275912106732872,-0.10479675136895887,1.2144149647197442,-0.8794936265648686,0.7023393840528825,-0.6204263160050626,0.3428956667482456,0.4138766598147137,0.08865386927879694,-1.9208091952736812,-1.0307893066854885,1.2908187061811358,-0.7508900639513508,-0.5382583624539559,0.5175108926945428,-1.7923699674073574,1.0608147649083057,0.5781987770929097,0.0737705781755186,-0.8886967452168886,-0.0804543657324432,0.3827429389626566,-1.1175433000490536,0.2847322281678397,0.297425848037425,-0.4092761309565618,-0.0928394932257205,0.5157870537652739,-1.0655801148740676,0.0655141277658387,1.9587562707747206,1.2974372241654957,-0.09933557730908811,-1.7811599132792695,-0.4110349725463234,-0.3682563544839573,-0.8122218805904927,-1.140175228010079,-0.952322345925846,-0.18149221456362502,0.8253127582076232,0.8802122707682375,-1.1192905615980897,0.0980122930341513,0.3532195257472032,0.9919090858345788,1.6951555726272987,0.7911671717175314,-1.2533656988994484,0.2942035891988454,0.2552392285941162,-0.2723293364061732,-0.40482784706908637,-0.9322666994799528,-0.5350612175898041],\"type\":\"box\"},{\"boxpoints\":false,\"line\":{\"width\":1.3},\"marker\":{\"color\":\"rgba(128, 0, 128, 1.0)\"},\"name\":\"D\",\"orientation\":\"v\",\"y\":[0.5720880157971676,0.3024437290791586,2.4926337831467174,1.0517747349871922,-0.07474136843978726,-1.1715429723528712,0.9517618478851047,1.5279135502295635,-0.3082971814586023,0.09887209101782131,1.2219573602464575,-0.013741870252920545,-0.2141239479935332,1.2021817665040428,-0.4418379268008085,-1.053950278007446,0.48499862984218123,-1.1155389975496115,0.1308543727143404,0.929490183836466,-0.48324839277428744,-1.1829065972482657,0.7498368763060137,-0.8861058866071584,0.4771380290637309,-0.4390886442937461,1.2306608987142067,1.9878059856867818,0.15230461037864515,1.6620554499341955,1.6384041120327586,0.3044849790985675,-0.6927769693908511,-1.3167580837701536,-0.78287296571961,-0.024974958657900472,-0.039841405515385606,-0.05000476951849737,-0.48945795363207106,0.48904841308460867,0.6360868866482585,0.32000669236085194,0.9875177422449749,-0.5059927078731065,1.7752811827454997,1.3668481773897443,0.7184125424407601,-1.2687944297695042,1.137530004513501,0.6903058211295873,0.9975118860165221,-0.9581035891567805,0.6921348889719081,-0.1415497410709437,-0.1692372595819837,-1.4768953292698426,-0.8416411068387677,2.118665783790678,1.039799853019657,-0.8581640808582295,0.4286012652328465,0.6703908225507994,1.1799680526781622,0.9285733497799281,-1.5927548882055302,-0.19358256515013755,0.8250248773783592,0.40848470111794216,0.5249809483943964,-0.5847748299128196,1.5376802385593196,-1.0825106854614004,-1.3499986616086925,-2.006560617276983,-0.7172014574461055,1.5689533342516848,1.8396707852402074,-0.7076333961882232,-0.4465530640565996,-1.2939783103858922,0.5273817781102613,-0.4475078294726565,-0.9269647689351543,-0.6125245963618412,1.165910567454771,3.304174007465817,0.8312405486623478,1.4574607095978371,1.05814101462983,-2.478506548223967,-0.8839376542505711,1.263508197927824,-0.20620704196656747,1.244872603243073,1.154030135724552,2.9748525669328907,0.946205989028131,-1.3502188548374479,-0.2516426903414452,-0.7515697498030125],\"type\":\"box\"}],                        {\"legend\":{\"bgcolor\":\"#F5F6F9\",\"font\":{\"color\":\"#4D5663\"}},\"paper_bgcolor\":\"#F5F6F9\",\"plot_bgcolor\":\"#F5F6F9\",\"template\":{\"data\":{\"barpolar\":[{\"marker\":{\"line\":{\"color\":\"#E5ECF6\",\"width\":0.5},\"pattern\":{\"fillmode\":\"overlay\",\"size\":10,\"solidity\":0.2}},\"type\":\"barpolar\"}],\"bar\":[{\"error_x\":{\"color\":\"#2a3f5f\"},\"error_y\":{\"color\":\"#2a3f5f\"},\"marker\":{\"line\":{\"color\":\"#E5ECF6\",\"width\":0.5},\"pattern\":{\"fillmode\":\"overlay\",\"size\":10,\"solidity\":0.2}},\"type\":\"bar\"}],\"carpet\":[{\"aaxis\":{\"endlinecolor\":\"#2a3f5f\",\"gridcolor\":\"white\",\"linecolor\":\"white\",\"minorgridcolor\":\"white\",\"startlinecolor\":\"#2a3f5f\"},\"baxis\":{\"endlinecolor\":\"#2a3f5f\",\"gridcolor\":\"white\",\"linecolor\":\"white\",\"minorgridcolor\":\"white\",\"startlinecolor\":\"#2a3f5f\"},\"type\":\"carpet\"}],\"choropleth\":[{\"colorbar\":{\"outlinewidth\":0,\"ticks\":\"\"},\"type\":\"choropleth\"}],\"contourcarpet\":[{\"colorbar\":{\"outlinewidth\":0,\"ticks\":\"\"},\"type\":\"contourcarpet\"}],\"contour\":[{\"colorbar\":{\"outlinewidth\":0,\"ticks\":\"\"},\"colorscale\":[[0.0,\"#0d0887\"],[0.1111111111111111,\"#46039f\"],[0.2222222222222222,\"#7201a8\"],[0.3333333333333333,\"#9c179e\"],[0.4444444444444444,\"#bd3786\"],[0.5555555555555556,\"#d8576b\"],[0.6666666666666666,\"#ed7953\"],[0.7777777777777778,\"#fb9f3a\"],[0.8888888888888888,\"#fdca26\"],[1.0,\"#f0f921\"]],\"type\":\"contour\"}],\"heatmapgl\":[{\"colorbar\":{\"outlinewidth\":0,\"ticks\":\"\"},\"colorscale\":[[0.0,\"#0d0887\"],[0.1111111111111111,\"#46039f\"],[0.2222222222222222,\"#7201a8\"],[0.3333333333333333,\"#9c179e\"],[0.4444444444444444,\"#bd3786\"],[0.5555555555555556,\"#d8576b\"],[0.6666666666666666,\"#ed7953\"],[0.7777777777777778,\"#fb9f3a\"],[0.8888888888888888,\"#fdca26\"],[1.0,\"#f0f921\"]],\"type\":\"heatmapgl\"}],\"heatmap\":[{\"colorbar\":{\"outlinewidth\":0,\"ticks\":\"\"},\"colorscale\":[[0.0,\"#0d0887\"],[0.1111111111111111,\"#46039f\"],[0.2222222222222222,\"#7201a8\"],[0.3333333333333333,\"#9c179e\"],[0.4444444444444444,\"#bd3786\"],[0.5555555555555556,\"#d8576b\"],[0.6666666666666666,\"#ed7953\"],[0.7777777777777778,\"#fb9f3a\"],[0.8888888888888888,\"#fdca26\"],[1.0,\"#f0f921\"]],\"type\":\"heatmap\"}],\"histogram2dcontour\":[{\"colorbar\":{\"outlinewidth\":0,\"ticks\":\"\"},\"colorscale\":[[0.0,\"#0d0887\"],[0.1111111111111111,\"#46039f\"],[0.2222222222222222,\"#7201a8\"],[0.3333333333333333,\"#9c179e\"],[0.4444444444444444,\"#bd3786\"],[0.5555555555555556,\"#d8576b\"],[0.6666666666666666,\"#ed7953\"],[0.7777777777777778,\"#fb9f3a\"],[0.8888888888888888,\"#fdca26\"],[1.0,\"#f0f921\"]],\"type\":\"histogram2dcontour\"}],\"histogram2d\":[{\"colorbar\":{\"outlinewidth\":0,\"ticks\":\"\"},\"colorscale\":[[0.0,\"#0d0887\"],[0.1111111111111111,\"#46039f\"],[0.2222222222222222,\"#7201a8\"],[0.3333333333333333,\"#9c179e\"],[0.4444444444444444,\"#bd3786\"],[0.5555555555555556,\"#d8576b\"],[0.6666666666666666,\"#ed7953\"],[0.7777777777777778,\"#fb9f3a\"],[0.8888888888888888,\"#fdca26\"],[1.0,\"#f0f921\"]],\"type\":\"histogram2d\"}],\"histogram\":[{\"marker\":{\"pattern\":{\"fillmode\":\"overlay\",\"size\":10,\"solidity\":0.2}},\"type\":\"histogram\"}],\"mesh3d\":[{\"colorbar\":{\"outlinewidth\":0,\"ticks\":\"\"},\"type\":\"mesh3d\"}],\"parcoords\":[{\"line\":{\"colorbar\":{\"outlinewidth\":0,\"ticks\":\"\"}},\"type\":\"parcoords\"}],\"pie\":[{\"automargin\":true,\"type\":\"pie\"}],\"scatter3d\":[{\"line\":{\"colorbar\":{\"outlinewidth\":0,\"ticks\":\"\"}},\"marker\":{\"colorbar\":{\"outlinewidth\":0,\"ticks\":\"\"}},\"type\":\"scatter3d\"}],\"scattercarpet\":[{\"marker\":{\"colorbar\":{\"outlinewidth\":0,\"ticks\":\"\"}},\"type\":\"scattercarpet\"}],\"scattergeo\":[{\"marker\":{\"colorbar\":{\"outlinewidth\":0,\"ticks\":\"\"}},\"type\":\"scattergeo\"}],\"scattergl\":[{\"marker\":{\"colorbar\":{\"outlinewidth\":0,\"ticks\":\"\"}},\"type\":\"scattergl\"}],\"scattermapbox\":[{\"marker\":{\"colorbar\":{\"outlinewidth\":0,\"ticks\":\"\"}},\"type\":\"scattermapbox\"}],\"scatterpolargl\":[{\"marker\":{\"colorbar\":{\"outlinewidth\":0,\"ticks\":\"\"}},\"type\":\"scatterpolargl\"}],\"scatterpolar\":[{\"marker\":{\"colorbar\":{\"outlinewidth\":0,\"ticks\":\"\"}},\"type\":\"scatterpolar\"}],\"scatter\":[{\"fillpattern\":{\"fillmode\":\"overlay\",\"size\":10,\"solidity\":0.2},\"type\":\"scatter\"}],\"scatterternary\":[{\"marker\":{\"colorbar\":{\"outlinewidth\":0,\"ticks\":\"\"}},\"type\":\"scatterternary\"}],\"surface\":[{\"colorbar\":{\"outlinewidth\":0,\"ticks\":\"\"},\"colorscale\":[[0.0,\"#0d0887\"],[0.1111111111111111,\"#46039f\"],[0.2222222222222222,\"#7201a8\"],[0.3333333333333333,\"#9c179e\"],[0.4444444444444444,\"#bd3786\"],[0.5555555555555556,\"#d8576b\"],[0.6666666666666666,\"#ed7953\"],[0.7777777777777778,\"#fb9f3a\"],[0.8888888888888888,\"#fdca26\"],[1.0,\"#f0f921\"]],\"type\":\"surface\"}],\"table\":[{\"cells\":{\"fill\":{\"color\":\"#EBF0F8\"},\"line\":{\"color\":\"white\"}},\"header\":{\"fill\":{\"color\":\"#C8D4E3\"},\"line\":{\"color\":\"white\"}},\"type\":\"table\"}]},\"layout\":{\"annotationdefaults\":{\"arrowcolor\":\"#2a3f5f\",\"arrowhead\":0,\"arrowwidth\":1},\"autotypenumbers\":\"strict\",\"coloraxis\":{\"colorbar\":{\"outlinewidth\":0,\"ticks\":\"\"}},\"colorscale\":{\"diverging\":[[0,\"#8e0152\"],[0.1,\"#c51b7d\"],[0.2,\"#de77ae\"],[0.3,\"#f1b6da\"],[0.4,\"#fde0ef\"],[0.5,\"#f7f7f7\"],[0.6,\"#e6f5d0\"],[0.7,\"#b8e186\"],[0.8,\"#7fbc41\"],[0.9,\"#4d9221\"],[1,\"#276419\"]],\"sequential\":[[0.0,\"#0d0887\"],[0.1111111111111111,\"#46039f\"],[0.2222222222222222,\"#7201a8\"],[0.3333333333333333,\"#9c179e\"],[0.4444444444444444,\"#bd3786\"],[0.5555555555555556,\"#d8576b\"],[0.6666666666666666,\"#ed7953\"],[0.7777777777777778,\"#fb9f3a\"],[0.8888888888888888,\"#fdca26\"],[1.0,\"#f0f921\"]],\"sequentialminus\":[[0.0,\"#0d0887\"],[0.1111111111111111,\"#46039f\"],[0.2222222222222222,\"#7201a8\"],[0.3333333333333333,\"#9c179e\"],[0.4444444444444444,\"#bd3786\"],[0.5555555555555556,\"#d8576b\"],[0.6666666666666666,\"#ed7953\"],[0.7777777777777778,\"#fb9f3a\"],[0.8888888888888888,\"#fdca26\"],[1.0,\"#f0f921\"]]},\"colorway\":[\"#636efa\",\"#EF553B\",\"#00cc96\",\"#ab63fa\",\"#FFA15A\",\"#19d3f3\",\"#FF6692\",\"#B6E880\",\"#FF97FF\",\"#FECB52\"],\"font\":{\"color\":\"#2a3f5f\"},\"geo\":{\"bgcolor\":\"white\",\"lakecolor\":\"white\",\"landcolor\":\"#E5ECF6\",\"showlakes\":true,\"showland\":true,\"subunitcolor\":\"white\"},\"hoverlabel\":{\"align\":\"left\"},\"hovermode\":\"closest\",\"mapbox\":{\"style\":\"light\"},\"paper_bgcolor\":\"white\",\"plot_bgcolor\":\"#E5ECF6\",\"polar\":{\"angularaxis\":{\"gridcolor\":\"white\",\"linecolor\":\"white\",\"ticks\":\"\"},\"bgcolor\":\"#E5ECF6\",\"radialaxis\":{\"gridcolor\":\"white\",\"linecolor\":\"white\",\"ticks\":\"\"}},\"scene\":{\"xaxis\":{\"backgroundcolor\":\"#E5ECF6\",\"gridcolor\":\"white\",\"gridwidth\":2,\"linecolor\":\"white\",\"showbackground\":true,\"ticks\":\"\",\"zerolinecolor\":\"white\"},\"yaxis\":{\"backgroundcolor\":\"#E5ECF6\",\"gridcolor\":\"white\",\"gridwidth\":2,\"linecolor\":\"white\",\"showbackground\":true,\"ticks\":\"\",\"zerolinecolor\":\"white\"},\"zaxis\":{\"backgroundcolor\":\"#E5ECF6\",\"gridcolor\":\"white\",\"gridwidth\":2,\"linecolor\":\"white\",\"showbackground\":true,\"ticks\":\"\",\"zerolinecolor\":\"white\"}},\"shapedefaults\":{\"line\":{\"color\":\"#2a3f5f\"}},\"ternary\":{\"aaxis\":{\"gridcolor\":\"white\",\"linecolor\":\"white\",\"ticks\":\"\"},\"baxis\":{\"gridcolor\":\"white\",\"linecolor\":\"white\",\"ticks\":\"\"},\"bgcolor\":\"#E5ECF6\",\"caxis\":{\"gridcolor\":\"white\",\"linecolor\":\"white\",\"ticks\":\"\"}},\"title\":{\"x\":0.05},\"xaxis\":{\"automargin\":true,\"gridcolor\":\"white\",\"linecolor\":\"white\",\"ticks\":\"\",\"title\":{\"standoff\":15},\"zerolinecolor\":\"white\",\"zerolinewidth\":2},\"yaxis\":{\"automargin\":true,\"gridcolor\":\"white\",\"linecolor\":\"white\",\"ticks\":\"\",\"title\":{\"standoff\":15},\"zerolinecolor\":\"white\",\"zerolinewidth\":2}}},\"title\":{\"font\":{\"color\":\"#4D5663\"}},\"xaxis\":{\"gridcolor\":\"#E1E5ED\",\"showgrid\":true,\"tickfont\":{\"color\":\"#4D5663\"},\"title\":{\"font\":{\"color\":\"#4D5663\"},\"text\":\"\"},\"zerolinecolor\":\"#E1E5ED\"},\"yaxis\":{\"gridcolor\":\"#E1E5ED\",\"showgrid\":true,\"tickfont\":{\"color\":\"#4D5663\"},\"title\":{\"font\":{\"color\":\"#4D5663\"},\"text\":\"\"},\"zerolinecolor\":\"#E1E5ED\"}},                        {\"showLink\": true, \"linkText\": \"Export to plot.ly\", \"plotlyServerURL\": \"https://plot.ly\", \"responsive\": true}                    ).then(function(){\n",
       "                            \n",
       "var gd = document.getElementById('bd8c29d1-cd7c-4ccb-8c18-0d8c19b7cf91');\n",
       "var x = new MutationObserver(function (mutations, observer) {{\n",
       "        var display = window.getComputedStyle(gd).display;\n",
       "        if (!display || display === 'none') {{\n",
       "            console.log([gd, 'removed!']);\n",
       "            Plotly.purge(gd);\n",
       "            observer.disconnect();\n",
       "        }}\n",
       "}});\n",
       "\n",
       "// Listen for the removal of the full notebook cells\n",
       "var notebookContainer = gd.closest('#notebook-container');\n",
       "if (notebookContainer) {{\n",
       "    x.observe(notebookContainer, {childList: true});\n",
       "}}\n",
       "\n",
       "// Listen for the clearing of the current output cell\n",
       "var outputEl = gd.closest('.output');\n",
       "if (outputEl) {{\n",
       "    x.observe(outputEl, {childList: true});\n",
       "}}\n",
       "\n",
       "                        })                };                });            </script>        </div>"
      ]
     },
     "metadata": {},
     "output_type": "display_data"
    }
   ],
   "source": [
    "df.iplot(kind='box')"
   ]
  },
  {
   "cell_type": "markdown",
   "metadata": {},
   "source": [
    "## 3d Surface"
   ]
  },
  {
   "cell_type": "code",
   "execution_count": 20,
   "metadata": {},
   "outputs": [
    {
     "data": {
      "application/vnd.plotly.v1+json": {
       "config": {
        "linkText": "Export to plot.ly",
        "plotlyServerURL": "https://plot.ly",
        "showLink": true
       },
       "data": [
        {
         "colorscale": [
          [
           0,
           "rgb(165,0,38)"
          ],
          [
           0.1,
           "rgb(215,48,39)"
          ],
          [
           0.2,
           "rgb(244,109,67)"
          ],
          [
           0.3,
           "rgb(253,174,97)"
          ],
          [
           0.4,
           "rgb(254,224,144)"
          ],
          [
           0.5,
           "rgb(255,255,191)"
          ],
          [
           0.6,
           "rgb(224,243,248)"
          ],
          [
           0.7,
           "rgb(171,217,233)"
          ],
          [
           0.8,
           "rgb(116,173,209)"
          ],
          [
           0.9,
           "rgb(69,117,180)"
          ],
          [
           1,
           "rgb(49,54,149)"
          ]
         ],
         "type": "surface",
         "x": [
          0,
          1,
          2,
          3,
          4
         ],
         "y": [
          "x",
          "y",
          "z"
         ],
         "z": [
          [
           1,
           2,
           3,
           4,
           5
          ],
          [
           10,
           20,
           30,
           20,
           10
          ],
          [
           5,
           4,
           3,
           2,
           1
          ]
         ]
        }
       ],
       "layout": {
        "legend": {
         "bgcolor": "#F5F6F9",
         "font": {
          "color": "#4D5663"
         }
        },
        "paper_bgcolor": "#F5F6F9",
        "plot_bgcolor": "#F5F6F9",
        "template": {
         "data": {
          "bar": [
           {
            "error_x": {
             "color": "#2a3f5f"
            },
            "error_y": {
             "color": "#2a3f5f"
            },
            "marker": {
             "line": {
              "color": "#E5ECF6",
              "width": 0.5
             },
             "pattern": {
              "fillmode": "overlay",
              "size": 10,
              "solidity": 0.2
             }
            },
            "type": "bar"
           }
          ],
          "barpolar": [
           {
            "marker": {
             "line": {
              "color": "#E5ECF6",
              "width": 0.5
             },
             "pattern": {
              "fillmode": "overlay",
              "size": 10,
              "solidity": 0.2
             }
            },
            "type": "barpolar"
           }
          ],
          "carpet": [
           {
            "aaxis": {
             "endlinecolor": "#2a3f5f",
             "gridcolor": "white",
             "linecolor": "white",
             "minorgridcolor": "white",
             "startlinecolor": "#2a3f5f"
            },
            "baxis": {
             "endlinecolor": "#2a3f5f",
             "gridcolor": "white",
             "linecolor": "white",
             "minorgridcolor": "white",
             "startlinecolor": "#2a3f5f"
            },
            "type": "carpet"
           }
          ],
          "choropleth": [
           {
            "colorbar": {
             "outlinewidth": 0,
             "ticks": ""
            },
            "type": "choropleth"
           }
          ],
          "contour": [
           {
            "colorbar": {
             "outlinewidth": 0,
             "ticks": ""
            },
            "colorscale": [
             [
              0,
              "#0d0887"
             ],
             [
              0.1111111111111111,
              "#46039f"
             ],
             [
              0.2222222222222222,
              "#7201a8"
             ],
             [
              0.3333333333333333,
              "#9c179e"
             ],
             [
              0.4444444444444444,
              "#bd3786"
             ],
             [
              0.5555555555555556,
              "#d8576b"
             ],
             [
              0.6666666666666666,
              "#ed7953"
             ],
             [
              0.7777777777777778,
              "#fb9f3a"
             ],
             [
              0.8888888888888888,
              "#fdca26"
             ],
             [
              1,
              "#f0f921"
             ]
            ],
            "type": "contour"
           }
          ],
          "contourcarpet": [
           {
            "colorbar": {
             "outlinewidth": 0,
             "ticks": ""
            },
            "type": "contourcarpet"
           }
          ],
          "heatmap": [
           {
            "colorbar": {
             "outlinewidth": 0,
             "ticks": ""
            },
            "colorscale": [
             [
              0,
              "#0d0887"
             ],
             [
              0.1111111111111111,
              "#46039f"
             ],
             [
              0.2222222222222222,
              "#7201a8"
             ],
             [
              0.3333333333333333,
              "#9c179e"
             ],
             [
              0.4444444444444444,
              "#bd3786"
             ],
             [
              0.5555555555555556,
              "#d8576b"
             ],
             [
              0.6666666666666666,
              "#ed7953"
             ],
             [
              0.7777777777777778,
              "#fb9f3a"
             ],
             [
              0.8888888888888888,
              "#fdca26"
             ],
             [
              1,
              "#f0f921"
             ]
            ],
            "type": "heatmap"
           }
          ],
          "heatmapgl": [
           {
            "colorbar": {
             "outlinewidth": 0,
             "ticks": ""
            },
            "colorscale": [
             [
              0,
              "#0d0887"
             ],
             [
              0.1111111111111111,
              "#46039f"
             ],
             [
              0.2222222222222222,
              "#7201a8"
             ],
             [
              0.3333333333333333,
              "#9c179e"
             ],
             [
              0.4444444444444444,
              "#bd3786"
             ],
             [
              0.5555555555555556,
              "#d8576b"
             ],
             [
              0.6666666666666666,
              "#ed7953"
             ],
             [
              0.7777777777777778,
              "#fb9f3a"
             ],
             [
              0.8888888888888888,
              "#fdca26"
             ],
             [
              1,
              "#f0f921"
             ]
            ],
            "type": "heatmapgl"
           }
          ],
          "histogram": [
           {
            "marker": {
             "pattern": {
              "fillmode": "overlay",
              "size": 10,
              "solidity": 0.2
             }
            },
            "type": "histogram"
           }
          ],
          "histogram2d": [
           {
            "colorbar": {
             "outlinewidth": 0,
             "ticks": ""
            },
            "colorscale": [
             [
              0,
              "#0d0887"
             ],
             [
              0.1111111111111111,
              "#46039f"
             ],
             [
              0.2222222222222222,
              "#7201a8"
             ],
             [
              0.3333333333333333,
              "#9c179e"
             ],
             [
              0.4444444444444444,
              "#bd3786"
             ],
             [
              0.5555555555555556,
              "#d8576b"
             ],
             [
              0.6666666666666666,
              "#ed7953"
             ],
             [
              0.7777777777777778,
              "#fb9f3a"
             ],
             [
              0.8888888888888888,
              "#fdca26"
             ],
             [
              1,
              "#f0f921"
             ]
            ],
            "type": "histogram2d"
           }
          ],
          "histogram2dcontour": [
           {
            "colorbar": {
             "outlinewidth": 0,
             "ticks": ""
            },
            "colorscale": [
             [
              0,
              "#0d0887"
             ],
             [
              0.1111111111111111,
              "#46039f"
             ],
             [
              0.2222222222222222,
              "#7201a8"
             ],
             [
              0.3333333333333333,
              "#9c179e"
             ],
             [
              0.4444444444444444,
              "#bd3786"
             ],
             [
              0.5555555555555556,
              "#d8576b"
             ],
             [
              0.6666666666666666,
              "#ed7953"
             ],
             [
              0.7777777777777778,
              "#fb9f3a"
             ],
             [
              0.8888888888888888,
              "#fdca26"
             ],
             [
              1,
              "#f0f921"
             ]
            ],
            "type": "histogram2dcontour"
           }
          ],
          "mesh3d": [
           {
            "colorbar": {
             "outlinewidth": 0,
             "ticks": ""
            },
            "type": "mesh3d"
           }
          ],
          "parcoords": [
           {
            "line": {
             "colorbar": {
              "outlinewidth": 0,
              "ticks": ""
             }
            },
            "type": "parcoords"
           }
          ],
          "pie": [
           {
            "automargin": true,
            "type": "pie"
           }
          ],
          "scatter": [
           {
            "fillpattern": {
             "fillmode": "overlay",
             "size": 10,
             "solidity": 0.2
            },
            "type": "scatter"
           }
          ],
          "scatter3d": [
           {
            "line": {
             "colorbar": {
              "outlinewidth": 0,
              "ticks": ""
             }
            },
            "marker": {
             "colorbar": {
              "outlinewidth": 0,
              "ticks": ""
             }
            },
            "type": "scatter3d"
           }
          ],
          "scattercarpet": [
           {
            "marker": {
             "colorbar": {
              "outlinewidth": 0,
              "ticks": ""
             }
            },
            "type": "scattercarpet"
           }
          ],
          "scattergeo": [
           {
            "marker": {
             "colorbar": {
              "outlinewidth": 0,
              "ticks": ""
             }
            },
            "type": "scattergeo"
           }
          ],
          "scattergl": [
           {
            "marker": {
             "colorbar": {
              "outlinewidth": 0,
              "ticks": ""
             }
            },
            "type": "scattergl"
           }
          ],
          "scattermapbox": [
           {
            "marker": {
             "colorbar": {
              "outlinewidth": 0,
              "ticks": ""
             }
            },
            "type": "scattermapbox"
           }
          ],
          "scatterpolar": [
           {
            "marker": {
             "colorbar": {
              "outlinewidth": 0,
              "ticks": ""
             }
            },
            "type": "scatterpolar"
           }
          ],
          "scatterpolargl": [
           {
            "marker": {
             "colorbar": {
              "outlinewidth": 0,
              "ticks": ""
             }
            },
            "type": "scatterpolargl"
           }
          ],
          "scatterternary": [
           {
            "marker": {
             "colorbar": {
              "outlinewidth": 0,
              "ticks": ""
             }
            },
            "type": "scatterternary"
           }
          ],
          "surface": [
           {
            "colorbar": {
             "outlinewidth": 0,
             "ticks": ""
            },
            "colorscale": [
             [
              0,
              "#0d0887"
             ],
             [
              0.1111111111111111,
              "#46039f"
             ],
             [
              0.2222222222222222,
              "#7201a8"
             ],
             [
              0.3333333333333333,
              "#9c179e"
             ],
             [
              0.4444444444444444,
              "#bd3786"
             ],
             [
              0.5555555555555556,
              "#d8576b"
             ],
             [
              0.6666666666666666,
              "#ed7953"
             ],
             [
              0.7777777777777778,
              "#fb9f3a"
             ],
             [
              0.8888888888888888,
              "#fdca26"
             ],
             [
              1,
              "#f0f921"
             ]
            ],
            "type": "surface"
           }
          ],
          "table": [
           {
            "cells": {
             "fill": {
              "color": "#EBF0F8"
             },
             "line": {
              "color": "white"
             }
            },
            "header": {
             "fill": {
              "color": "#C8D4E3"
             },
             "line": {
              "color": "white"
             }
            },
            "type": "table"
           }
          ]
         },
         "layout": {
          "annotationdefaults": {
           "arrowcolor": "#2a3f5f",
           "arrowhead": 0,
           "arrowwidth": 1
          },
          "autotypenumbers": "strict",
          "coloraxis": {
           "colorbar": {
            "outlinewidth": 0,
            "ticks": ""
           }
          },
          "colorscale": {
           "diverging": [
            [
             0,
             "#8e0152"
            ],
            [
             0.1,
             "#c51b7d"
            ],
            [
             0.2,
             "#de77ae"
            ],
            [
             0.3,
             "#f1b6da"
            ],
            [
             0.4,
             "#fde0ef"
            ],
            [
             0.5,
             "#f7f7f7"
            ],
            [
             0.6,
             "#e6f5d0"
            ],
            [
             0.7,
             "#b8e186"
            ],
            [
             0.8,
             "#7fbc41"
            ],
            [
             0.9,
             "#4d9221"
            ],
            [
             1,
             "#276419"
            ]
           ],
           "sequential": [
            [
             0,
             "#0d0887"
            ],
            [
             0.1111111111111111,
             "#46039f"
            ],
            [
             0.2222222222222222,
             "#7201a8"
            ],
            [
             0.3333333333333333,
             "#9c179e"
            ],
            [
             0.4444444444444444,
             "#bd3786"
            ],
            [
             0.5555555555555556,
             "#d8576b"
            ],
            [
             0.6666666666666666,
             "#ed7953"
            ],
            [
             0.7777777777777778,
             "#fb9f3a"
            ],
            [
             0.8888888888888888,
             "#fdca26"
            ],
            [
             1,
             "#f0f921"
            ]
           ],
           "sequentialminus": [
            [
             0,
             "#0d0887"
            ],
            [
             0.1111111111111111,
             "#46039f"
            ],
            [
             0.2222222222222222,
             "#7201a8"
            ],
            [
             0.3333333333333333,
             "#9c179e"
            ],
            [
             0.4444444444444444,
             "#bd3786"
            ],
            [
             0.5555555555555556,
             "#d8576b"
            ],
            [
             0.6666666666666666,
             "#ed7953"
            ],
            [
             0.7777777777777778,
             "#fb9f3a"
            ],
            [
             0.8888888888888888,
             "#fdca26"
            ],
            [
             1,
             "#f0f921"
            ]
           ]
          },
          "colorway": [
           "#636efa",
           "#EF553B",
           "#00cc96",
           "#ab63fa",
           "#FFA15A",
           "#19d3f3",
           "#FF6692",
           "#B6E880",
           "#FF97FF",
           "#FECB52"
          ],
          "font": {
           "color": "#2a3f5f"
          },
          "geo": {
           "bgcolor": "white",
           "lakecolor": "white",
           "landcolor": "#E5ECF6",
           "showlakes": true,
           "showland": true,
           "subunitcolor": "white"
          },
          "hoverlabel": {
           "align": "left"
          },
          "hovermode": "closest",
          "mapbox": {
           "style": "light"
          },
          "paper_bgcolor": "white",
          "plot_bgcolor": "#E5ECF6",
          "polar": {
           "angularaxis": {
            "gridcolor": "white",
            "linecolor": "white",
            "ticks": ""
           },
           "bgcolor": "#E5ECF6",
           "radialaxis": {
            "gridcolor": "white",
            "linecolor": "white",
            "ticks": ""
           }
          },
          "scene": {
           "xaxis": {
            "backgroundcolor": "#E5ECF6",
            "gridcolor": "white",
            "gridwidth": 2,
            "linecolor": "white",
            "showbackground": true,
            "ticks": "",
            "zerolinecolor": "white"
           },
           "yaxis": {
            "backgroundcolor": "#E5ECF6",
            "gridcolor": "white",
            "gridwidth": 2,
            "linecolor": "white",
            "showbackground": true,
            "ticks": "",
            "zerolinecolor": "white"
           },
           "zaxis": {
            "backgroundcolor": "#E5ECF6",
            "gridcolor": "white",
            "gridwidth": 2,
            "linecolor": "white",
            "showbackground": true,
            "ticks": "",
            "zerolinecolor": "white"
           }
          },
          "shapedefaults": {
           "line": {
            "color": "#2a3f5f"
           }
          },
          "ternary": {
           "aaxis": {
            "gridcolor": "white",
            "linecolor": "white",
            "ticks": ""
           },
           "baxis": {
            "gridcolor": "white",
            "linecolor": "white",
            "ticks": ""
           },
           "bgcolor": "#E5ECF6",
           "caxis": {
            "gridcolor": "white",
            "linecolor": "white",
            "ticks": ""
           }
          },
          "title": {
           "x": 0.05
          },
          "xaxis": {
           "automargin": true,
           "gridcolor": "white",
           "linecolor": "white",
           "ticks": "",
           "title": {
            "standoff": 15
           },
           "zerolinecolor": "white",
           "zerolinewidth": 2
          },
          "yaxis": {
           "automargin": true,
           "gridcolor": "white",
           "linecolor": "white",
           "ticks": "",
           "title": {
            "standoff": 15
           },
           "zerolinecolor": "white",
           "zerolinewidth": 2
          }
         }
        },
        "title": {
         "font": {
          "color": "#4D5663"
         }
        },
        "xaxis": {
         "gridcolor": "#E1E5ED",
         "showgrid": true,
         "tickfont": {
          "color": "#4D5663"
         },
         "title": {
          "font": {
           "color": "#4D5663"
          },
          "text": ""
         },
         "zerolinecolor": "#E1E5ED"
        },
        "yaxis": {
         "gridcolor": "#E1E5ED",
         "showgrid": true,
         "tickfont": {
          "color": "#4D5663"
         },
         "title": {
          "font": {
           "color": "#4D5663"
          },
          "text": ""
         },
         "zerolinecolor": "#E1E5ED"
        }
       }
      },
      "text/html": [
       "<div>                            <div id=\"507bf933-e47d-4f26-8959-a1e979584321\" class=\"plotly-graph-div\" style=\"height:525px; width:100%;\"></div>            <script type=\"text/javascript\">                require([\"plotly\"], function(Plotly) {                    window.PLOTLYENV=window.PLOTLYENV || {};\n",
       "                    window.PLOTLYENV.BASE_URL='https://plot.ly';                                    if (document.getElementById(\"507bf933-e47d-4f26-8959-a1e979584321\")) {                    Plotly.newPlot(                        \"507bf933-e47d-4f26-8959-a1e979584321\",                        [{\"colorscale\":[[0.0,\"rgb(165,0,38)\"],[0.1,\"rgb(215,48,39)\"],[0.2,\"rgb(244,109,67)\"],[0.3,\"rgb(253,174,97)\"],[0.4,\"rgb(254,224,144)\"],[0.5,\"rgb(255,255,191)\"],[0.6,\"rgb(224,243,248)\"],[0.7,\"rgb(171,217,233)\"],[0.8,\"rgb(116,173,209)\"],[0.9,\"rgb(69,117,180)\"],[1.0,\"rgb(49,54,149)\"]],\"x\":[0,1,2,3,4],\"y\":[\"x\",\"y\",\"z\"],\"z\":[[1,2,3,4,5],[10,20,30,20,10],[5,4,3,2,1]],\"type\":\"surface\"}],                        {\"legend\":{\"bgcolor\":\"#F5F6F9\",\"font\":{\"color\":\"#4D5663\"}},\"paper_bgcolor\":\"#F5F6F9\",\"plot_bgcolor\":\"#F5F6F9\",\"template\":{\"data\":{\"barpolar\":[{\"marker\":{\"line\":{\"color\":\"#E5ECF6\",\"width\":0.5},\"pattern\":{\"fillmode\":\"overlay\",\"size\":10,\"solidity\":0.2}},\"type\":\"barpolar\"}],\"bar\":[{\"error_x\":{\"color\":\"#2a3f5f\"},\"error_y\":{\"color\":\"#2a3f5f\"},\"marker\":{\"line\":{\"color\":\"#E5ECF6\",\"width\":0.5},\"pattern\":{\"fillmode\":\"overlay\",\"size\":10,\"solidity\":0.2}},\"type\":\"bar\"}],\"carpet\":[{\"aaxis\":{\"endlinecolor\":\"#2a3f5f\",\"gridcolor\":\"white\",\"linecolor\":\"white\",\"minorgridcolor\":\"white\",\"startlinecolor\":\"#2a3f5f\"},\"baxis\":{\"endlinecolor\":\"#2a3f5f\",\"gridcolor\":\"white\",\"linecolor\":\"white\",\"minorgridcolor\":\"white\",\"startlinecolor\":\"#2a3f5f\"},\"type\":\"carpet\"}],\"choropleth\":[{\"colorbar\":{\"outlinewidth\":0,\"ticks\":\"\"},\"type\":\"choropleth\"}],\"contourcarpet\":[{\"colorbar\":{\"outlinewidth\":0,\"ticks\":\"\"},\"type\":\"contourcarpet\"}],\"contour\":[{\"colorbar\":{\"outlinewidth\":0,\"ticks\":\"\"},\"colorscale\":[[0.0,\"#0d0887\"],[0.1111111111111111,\"#46039f\"],[0.2222222222222222,\"#7201a8\"],[0.3333333333333333,\"#9c179e\"],[0.4444444444444444,\"#bd3786\"],[0.5555555555555556,\"#d8576b\"],[0.6666666666666666,\"#ed7953\"],[0.7777777777777778,\"#fb9f3a\"],[0.8888888888888888,\"#fdca26\"],[1.0,\"#f0f921\"]],\"type\":\"contour\"}],\"heatmapgl\":[{\"colorbar\":{\"outlinewidth\":0,\"ticks\":\"\"},\"colorscale\":[[0.0,\"#0d0887\"],[0.1111111111111111,\"#46039f\"],[0.2222222222222222,\"#7201a8\"],[0.3333333333333333,\"#9c179e\"],[0.4444444444444444,\"#bd3786\"],[0.5555555555555556,\"#d8576b\"],[0.6666666666666666,\"#ed7953\"],[0.7777777777777778,\"#fb9f3a\"],[0.8888888888888888,\"#fdca26\"],[1.0,\"#f0f921\"]],\"type\":\"heatmapgl\"}],\"heatmap\":[{\"colorbar\":{\"outlinewidth\":0,\"ticks\":\"\"},\"colorscale\":[[0.0,\"#0d0887\"],[0.1111111111111111,\"#46039f\"],[0.2222222222222222,\"#7201a8\"],[0.3333333333333333,\"#9c179e\"],[0.4444444444444444,\"#bd3786\"],[0.5555555555555556,\"#d8576b\"],[0.6666666666666666,\"#ed7953\"],[0.7777777777777778,\"#fb9f3a\"],[0.8888888888888888,\"#fdca26\"],[1.0,\"#f0f921\"]],\"type\":\"heatmap\"}],\"histogram2dcontour\":[{\"colorbar\":{\"outlinewidth\":0,\"ticks\":\"\"},\"colorscale\":[[0.0,\"#0d0887\"],[0.1111111111111111,\"#46039f\"],[0.2222222222222222,\"#7201a8\"],[0.3333333333333333,\"#9c179e\"],[0.4444444444444444,\"#bd3786\"],[0.5555555555555556,\"#d8576b\"],[0.6666666666666666,\"#ed7953\"],[0.7777777777777778,\"#fb9f3a\"],[0.8888888888888888,\"#fdca26\"],[1.0,\"#f0f921\"]],\"type\":\"histogram2dcontour\"}],\"histogram2d\":[{\"colorbar\":{\"outlinewidth\":0,\"ticks\":\"\"},\"colorscale\":[[0.0,\"#0d0887\"],[0.1111111111111111,\"#46039f\"],[0.2222222222222222,\"#7201a8\"],[0.3333333333333333,\"#9c179e\"],[0.4444444444444444,\"#bd3786\"],[0.5555555555555556,\"#d8576b\"],[0.6666666666666666,\"#ed7953\"],[0.7777777777777778,\"#fb9f3a\"],[0.8888888888888888,\"#fdca26\"],[1.0,\"#f0f921\"]],\"type\":\"histogram2d\"}],\"histogram\":[{\"marker\":{\"pattern\":{\"fillmode\":\"overlay\",\"size\":10,\"solidity\":0.2}},\"type\":\"histogram\"}],\"mesh3d\":[{\"colorbar\":{\"outlinewidth\":0,\"ticks\":\"\"},\"type\":\"mesh3d\"}],\"parcoords\":[{\"line\":{\"colorbar\":{\"outlinewidth\":0,\"ticks\":\"\"}},\"type\":\"parcoords\"}],\"pie\":[{\"automargin\":true,\"type\":\"pie\"}],\"scatter3d\":[{\"line\":{\"colorbar\":{\"outlinewidth\":0,\"ticks\":\"\"}},\"marker\":{\"colorbar\":{\"outlinewidth\":0,\"ticks\":\"\"}},\"type\":\"scatter3d\"}],\"scattercarpet\":[{\"marker\":{\"colorbar\":{\"outlinewidth\":0,\"ticks\":\"\"}},\"type\":\"scattercarpet\"}],\"scattergeo\":[{\"marker\":{\"colorbar\":{\"outlinewidth\":0,\"ticks\":\"\"}},\"type\":\"scattergeo\"}],\"scattergl\":[{\"marker\":{\"colorbar\":{\"outlinewidth\":0,\"ticks\":\"\"}},\"type\":\"scattergl\"}],\"scattermapbox\":[{\"marker\":{\"colorbar\":{\"outlinewidth\":0,\"ticks\":\"\"}},\"type\":\"scattermapbox\"}],\"scatterpolargl\":[{\"marker\":{\"colorbar\":{\"outlinewidth\":0,\"ticks\":\"\"}},\"type\":\"scatterpolargl\"}],\"scatterpolar\":[{\"marker\":{\"colorbar\":{\"outlinewidth\":0,\"ticks\":\"\"}},\"type\":\"scatterpolar\"}],\"scatter\":[{\"fillpattern\":{\"fillmode\":\"overlay\",\"size\":10,\"solidity\":0.2},\"type\":\"scatter\"}],\"scatterternary\":[{\"marker\":{\"colorbar\":{\"outlinewidth\":0,\"ticks\":\"\"}},\"type\":\"scatterternary\"}],\"surface\":[{\"colorbar\":{\"outlinewidth\":0,\"ticks\":\"\"},\"colorscale\":[[0.0,\"#0d0887\"],[0.1111111111111111,\"#46039f\"],[0.2222222222222222,\"#7201a8\"],[0.3333333333333333,\"#9c179e\"],[0.4444444444444444,\"#bd3786\"],[0.5555555555555556,\"#d8576b\"],[0.6666666666666666,\"#ed7953\"],[0.7777777777777778,\"#fb9f3a\"],[0.8888888888888888,\"#fdca26\"],[1.0,\"#f0f921\"]],\"type\":\"surface\"}],\"table\":[{\"cells\":{\"fill\":{\"color\":\"#EBF0F8\"},\"line\":{\"color\":\"white\"}},\"header\":{\"fill\":{\"color\":\"#C8D4E3\"},\"line\":{\"color\":\"white\"}},\"type\":\"table\"}]},\"layout\":{\"annotationdefaults\":{\"arrowcolor\":\"#2a3f5f\",\"arrowhead\":0,\"arrowwidth\":1},\"autotypenumbers\":\"strict\",\"coloraxis\":{\"colorbar\":{\"outlinewidth\":0,\"ticks\":\"\"}},\"colorscale\":{\"diverging\":[[0,\"#8e0152\"],[0.1,\"#c51b7d\"],[0.2,\"#de77ae\"],[0.3,\"#f1b6da\"],[0.4,\"#fde0ef\"],[0.5,\"#f7f7f7\"],[0.6,\"#e6f5d0\"],[0.7,\"#b8e186\"],[0.8,\"#7fbc41\"],[0.9,\"#4d9221\"],[1,\"#276419\"]],\"sequential\":[[0.0,\"#0d0887\"],[0.1111111111111111,\"#46039f\"],[0.2222222222222222,\"#7201a8\"],[0.3333333333333333,\"#9c179e\"],[0.4444444444444444,\"#bd3786\"],[0.5555555555555556,\"#d8576b\"],[0.6666666666666666,\"#ed7953\"],[0.7777777777777778,\"#fb9f3a\"],[0.8888888888888888,\"#fdca26\"],[1.0,\"#f0f921\"]],\"sequentialminus\":[[0.0,\"#0d0887\"],[0.1111111111111111,\"#46039f\"],[0.2222222222222222,\"#7201a8\"],[0.3333333333333333,\"#9c179e\"],[0.4444444444444444,\"#bd3786\"],[0.5555555555555556,\"#d8576b\"],[0.6666666666666666,\"#ed7953\"],[0.7777777777777778,\"#fb9f3a\"],[0.8888888888888888,\"#fdca26\"],[1.0,\"#f0f921\"]]},\"colorway\":[\"#636efa\",\"#EF553B\",\"#00cc96\",\"#ab63fa\",\"#FFA15A\",\"#19d3f3\",\"#FF6692\",\"#B6E880\",\"#FF97FF\",\"#FECB52\"],\"font\":{\"color\":\"#2a3f5f\"},\"geo\":{\"bgcolor\":\"white\",\"lakecolor\":\"white\",\"landcolor\":\"#E5ECF6\",\"showlakes\":true,\"showland\":true,\"subunitcolor\":\"white\"},\"hoverlabel\":{\"align\":\"left\"},\"hovermode\":\"closest\",\"mapbox\":{\"style\":\"light\"},\"paper_bgcolor\":\"white\",\"plot_bgcolor\":\"#E5ECF6\",\"polar\":{\"angularaxis\":{\"gridcolor\":\"white\",\"linecolor\":\"white\",\"ticks\":\"\"},\"bgcolor\":\"#E5ECF6\",\"radialaxis\":{\"gridcolor\":\"white\",\"linecolor\":\"white\",\"ticks\":\"\"}},\"scene\":{\"xaxis\":{\"backgroundcolor\":\"#E5ECF6\",\"gridcolor\":\"white\",\"gridwidth\":2,\"linecolor\":\"white\",\"showbackground\":true,\"ticks\":\"\",\"zerolinecolor\":\"white\"},\"yaxis\":{\"backgroundcolor\":\"#E5ECF6\",\"gridcolor\":\"white\",\"gridwidth\":2,\"linecolor\":\"white\",\"showbackground\":true,\"ticks\":\"\",\"zerolinecolor\":\"white\"},\"zaxis\":{\"backgroundcolor\":\"#E5ECF6\",\"gridcolor\":\"white\",\"gridwidth\":2,\"linecolor\":\"white\",\"showbackground\":true,\"ticks\":\"\",\"zerolinecolor\":\"white\"}},\"shapedefaults\":{\"line\":{\"color\":\"#2a3f5f\"}},\"ternary\":{\"aaxis\":{\"gridcolor\":\"white\",\"linecolor\":\"white\",\"ticks\":\"\"},\"baxis\":{\"gridcolor\":\"white\",\"linecolor\":\"white\",\"ticks\":\"\"},\"bgcolor\":\"#E5ECF6\",\"caxis\":{\"gridcolor\":\"white\",\"linecolor\":\"white\",\"ticks\":\"\"}},\"title\":{\"x\":0.05},\"xaxis\":{\"automargin\":true,\"gridcolor\":\"white\",\"linecolor\":\"white\",\"ticks\":\"\",\"title\":{\"standoff\":15},\"zerolinecolor\":\"white\",\"zerolinewidth\":2},\"yaxis\":{\"automargin\":true,\"gridcolor\":\"white\",\"linecolor\":\"white\",\"ticks\":\"\",\"title\":{\"standoff\":15},\"zerolinecolor\":\"white\",\"zerolinewidth\":2}}},\"title\":{\"font\":{\"color\":\"#4D5663\"}},\"xaxis\":{\"gridcolor\":\"#E1E5ED\",\"showgrid\":true,\"tickfont\":{\"color\":\"#4D5663\"},\"title\":{\"font\":{\"color\":\"#4D5663\"},\"text\":\"\"},\"zerolinecolor\":\"#E1E5ED\"},\"yaxis\":{\"gridcolor\":\"#E1E5ED\",\"showgrid\":true,\"tickfont\":{\"color\":\"#4D5663\"},\"title\":{\"font\":{\"color\":\"#4D5663\"},\"text\":\"\"},\"zerolinecolor\":\"#E1E5ED\"}},                        {\"showLink\": true, \"linkText\": \"Export to plot.ly\", \"plotlyServerURL\": \"https://plot.ly\", \"responsive\": true}                    ).then(function(){\n",
       "                            \n",
       "var gd = document.getElementById('507bf933-e47d-4f26-8959-a1e979584321');\n",
       "var x = new MutationObserver(function (mutations, observer) {{\n",
       "        var display = window.getComputedStyle(gd).display;\n",
       "        if (!display || display === 'none') {{\n",
       "            console.log([gd, 'removed!']);\n",
       "            Plotly.purge(gd);\n",
       "            observer.disconnect();\n",
       "        }}\n",
       "}});\n",
       "\n",
       "// Listen for the removal of the full notebook cells\n",
       "var notebookContainer = gd.closest('#notebook-container');\n",
       "if (notebookContainer) {{\n",
       "    x.observe(notebookContainer, {childList: true});\n",
       "}}\n",
       "\n",
       "// Listen for the clearing of the current output cell\n",
       "var outputEl = gd.closest('.output');\n",
       "if (outputEl) {{\n",
       "    x.observe(outputEl, {childList: true});\n",
       "}}\n",
       "\n",
       "                        })                };                });            </script>        </div>"
      ]
     },
     "metadata": {},
     "output_type": "display_data"
    }
   ],
   "source": [
    "df3 = pd.DataFrame({'x':[1,2,3,4,5],'y':[10,20,30,20,10],'z':[5,4,3,2,1]})\n",
    "df3.iplot(kind='surface',colorscale='rdylbu')"
   ]
  },
  {
   "cell_type": "markdown",
   "metadata": {},
   "source": [
    "## Spread"
   ]
  },
  {
   "cell_type": "code",
   "execution_count": 21,
   "metadata": {},
   "outputs": [
    {
     "name": "stderr",
     "output_type": "stream",
     "text": [
      "C:\\Users\\Samuel.Rouse\\AppData\\Local\\anaconda3\\lib\\site-packages\\cufflinks\\plotlytools.py:849: FutureWarning:\n",
      "\n",
      "The pandas.np module is deprecated and will be removed from pandas in a future version. Import numpy directly instead.\n",
      "\n",
      "C:\\Users\\Samuel.Rouse\\AppData\\Local\\anaconda3\\lib\\site-packages\\cufflinks\\plotlytools.py:850: FutureWarning:\n",
      "\n",
      "The pandas.np module is deprecated and will be removed from pandas in a future version. Import numpy directly instead.\n",
      "\n"
     ]
    },
    {
     "data": {
      "application/vnd.plotly.v1+json": {
       "config": {
        "linkText": "Export to plot.ly",
        "plotlyServerURL": "https://plot.ly",
        "showLink": true
       },
       "data": [
        {
         "line": {
          "color": "rgba(255, 153, 51, 1.0)",
          "dash": "solid",
          "shape": "linear",
          "width": 1.3
         },
         "mode": "lines",
         "name": "A",
         "text": "",
         "type": "scatter",
         "x": [
          0,
          1,
          2,
          3,
          4,
          5,
          6,
          7,
          8,
          9,
          10,
          11,
          12,
          13,
          14,
          15,
          16,
          17,
          18,
          19,
          20,
          21,
          22,
          23,
          24,
          25,
          26,
          27,
          28,
          29,
          30,
          31,
          32,
          33,
          34,
          35,
          36,
          37,
          38,
          39,
          40,
          41,
          42,
          43,
          44,
          45,
          46,
          47,
          48,
          49,
          50,
          51,
          52,
          53,
          54,
          55,
          56,
          57,
          58,
          59,
          60,
          61,
          62,
          63,
          64,
          65,
          66,
          67,
          68,
          69,
          70,
          71,
          72,
          73,
          74,
          75,
          76,
          77,
          78,
          79,
          80,
          81,
          82,
          83,
          84,
          85,
          86,
          87,
          88,
          89,
          90,
          91,
          92,
          93,
          94,
          95,
          96,
          97,
          98,
          99
         ],
         "y": [
          -1.801810462118037,
          -0.7405278999282524,
          -1.461857030304494,
          -1.0591589088198288,
          -0.26428618768178,
          1.948164848630421,
          -0.23589027518673694,
          0.24657238281739297,
          1.658021589581248,
          0.186696452034347,
          0.8825333889982601,
          -0.4773798929601018,
          0.46972651548583444,
          -0.17320093063047146,
          -0.22683508244266204,
          1.2562233016361952,
          1.310914817148744,
          -0.37320437367658954,
          1.926147146248471,
          0.013675304777552416,
          0.007595408552958917,
          0.8221929815368014,
          0.07591846652853262,
          -0.21887489450015163,
          -1.415591119445165,
          0.6011093091930616,
          0.21043611550600955,
          3.551151429719778,
          0.67855980837985,
          0.44441040471099097,
          0.40501800594761467,
          -1.4429420586514943,
          -0.5726089226425692,
          0.42711475011987726,
          -2.4849078390422226,
          -1.550838633703084,
          0.1342471868944414,
          -2.0658158540835156,
          -1.8297783603605737,
          0.34384485642331847,
          0.8911555668974951,
          -0.6680580034989891,
          0.1817138264631769,
          -0.5573719045906718,
          -1.000221211263796,
          2.543907973222884,
          2.820663767772808,
          -1.23451797618291,
          0.42285643724592425,
          -0.2676682957595602,
          0.9239153944241625,
          0.2835359062945152,
          0.5211584364498096,
          1.6481997375179325,
          -0.1340133395115864,
          -1.195946189733816,
          0.43874383472847545,
          -1.053832892116574,
          -0.4696895658433154,
          0.22089459970479716,
          0.31106612098315894,
          1.6325152367399631,
          0.12148171286156609,
          0.7284922533146289,
          1.150935928793852,
          -1.4493052864419957,
          -1.3474885438875936,
          1.4995138007616624,
          -0.8548810056095114,
          -0.2508135705830549,
          1.5859524585585354,
          0.30169570948898355,
          -1.3847584411858844,
          -0.7172952877799311,
          -0.2388523125662473,
          -1.5402688784288574,
          0.6233403248885073,
          0.3994901335348674,
          1.497119149431649,
          -0.7830568325317241,
          -0.9451963490340021,
          0.9306499911855516,
          1.054919906601512,
          -0.06781875041286145,
          1.6372857588173881,
          0.4258715683400193,
          0.5492007699401444,
          -0.44183901504598483,
          0.5081694849786166,
          -0.5873992503246563,
          1.3060687492015108,
          -0.8504842584600737,
          0.11378281383033334,
          -0.39823121338126055,
          0.21212719538403102,
          0.9743250022300478,
          -0.7048213917177746,
          0.5342517217633828,
          0.9232089584369408,
          -0.7542607429128845
         ]
        },
        {
         "line": {
          "color": "rgba(55, 128, 191, 1.0)",
          "dash": "solid",
          "shape": "linear",
          "width": 1.3
         },
         "mode": "lines",
         "name": "B",
         "text": "",
         "type": "scatter",
         "x": [
          0,
          1,
          2,
          3,
          4,
          5,
          6,
          7,
          8,
          9,
          10,
          11,
          12,
          13,
          14,
          15,
          16,
          17,
          18,
          19,
          20,
          21,
          22,
          23,
          24,
          25,
          26,
          27,
          28,
          29,
          30,
          31,
          32,
          33,
          34,
          35,
          36,
          37,
          38,
          39,
          40,
          41,
          42,
          43,
          44,
          45,
          46,
          47,
          48,
          49,
          50,
          51,
          52,
          53,
          54,
          55,
          56,
          57,
          58,
          59,
          60,
          61,
          62,
          63,
          64,
          65,
          66,
          67,
          68,
          69,
          70,
          71,
          72,
          73,
          74,
          75,
          76,
          77,
          78,
          79,
          80,
          81,
          82,
          83,
          84,
          85,
          86,
          87,
          88,
          89,
          90,
          91,
          92,
          93,
          94,
          95,
          96,
          97,
          98,
          99
         ],
         "y": [
          0.9717226780442976,
          0.9914293898313419,
          0.6411744066920212,
          -0.8096385110292955,
          -0.37840086893901514,
          1.7135984676116396,
          0.7197830448450903,
          -0.8983097692873694,
          -0.7552177183891712,
          -1.2511453031383102,
          1.3754310257599178,
          -0.8327151618667233,
          1.4235435329224304,
          0.01735458798168637,
          -0.010746680281691855,
          -1.1709321539445416,
          -1.0953584726049397,
          -1.5796819503451054,
          -1.4766025965885607,
          0.15821998684411592,
          -0.9524819112066436,
          -2.064130958296167,
          0.36773552266722587,
          0.2236223850089126,
          0.5449434992139803,
          -0.23083647027858636,
          -1.1964010702691652,
          1.1757632204612487,
          -1.434208487462081,
          0.440970032869492,
          1.2109577918782037,
          -1.5497590258661662,
          -0.9684039534666286,
          -1.8404879740939677,
          0.5147152292514234,
          0.6383097873389552,
          0.9773578834631445,
          0.5007529783172427,
          -0.4105139270567889,
          -1.847615053687545,
          -0.18923271793284913,
          -0.7720096015292391,
          0.4112457655385453,
          0.11467863000478293,
          -1.4206663795278238,
          -0.6610498487755905,
          -1.4253370680419448,
          -0.6642528926905991,
          0.14795487617785147,
          0.34363849028037385,
          0.5446940936108576,
          -1.170337828480521,
          -1.4967050826372772,
          -0.16549287272619267,
          -0.7757039233552273,
          -1.175333472793142,
          -0.9860584630593688,
          -0.2567624340922678,
          1.1081096697218578,
          0.4905022873141684,
          -0.10187821076946177,
          -0.25051212310093574,
          0.5496005698339377,
          1.0277801479335387,
          -1.224813022197627,
          -0.7926622390001563,
          1.3389661877832078,
          0.2583337045239479,
          1.4238321392245428,
          -1.2549517693217713,
          0.3924211759792029,
          -0.27980193924565083,
          -1.2494934296841034,
          -0.72321065360444,
          1.7934026957018891,
          -1.6003422408870176,
          -0.5283469480622293,
          1.710195162699524,
          0.3589247962405482,
          0.21770633363742475,
          -0.8589538797338953,
          0.5069020563414884,
          0.4792637241053778,
          -0.5471593239151623,
          -0.7966292908884803,
          -0.0008098478655252655,
          -0.8141368366633747,
          0.07197909212837338,
          0.7121987424077416,
          2.1642106277762276,
          1.6587166196970367,
          -0.3237980146126996,
          0.543683531746815,
          0.8866040206913408,
          0.06662129370902721,
          -0.36245149934859466,
          -1.5428237763966992,
          1.4300394265738816,
          -0.18491118700292594,
          0.06602098661546725
         ]
        },
        {
         "connectgaps": false,
         "fill": "tozeroy",
         "line": {
          "color": "green",
          "dash": "solid",
          "shape": "linear",
          "width": 0.5
         },
         "mode": "lines",
         "name": "Spread",
         "showlegend": false,
         "type": "scatter",
         "x": [
          0,
          1,
          2,
          3,
          4,
          5,
          6,
          7,
          8,
          9,
          10,
          11,
          12,
          13,
          14,
          15,
          16,
          17,
          18,
          19,
          20,
          21,
          22,
          23,
          24,
          25,
          26,
          27,
          28,
          29,
          30,
          31,
          32,
          33,
          34,
          35,
          36,
          37,
          38,
          39,
          40,
          41,
          42,
          43,
          44,
          45,
          46,
          47,
          48,
          49,
          50,
          51,
          52,
          53,
          54,
          55,
          56,
          57,
          58,
          59,
          60,
          61,
          62,
          63,
          64,
          65,
          66,
          67,
          68,
          69,
          70,
          71,
          72,
          73,
          74,
          75,
          76,
          77,
          78,
          79,
          80,
          81,
          82,
          83,
          84,
          85,
          86,
          87,
          88,
          89,
          90,
          91,
          92,
          93,
          94,
          95,
          96,
          97,
          98,
          99
         ],
         "xaxis": "x2",
         "y": [
          "",
          "",
          "",
          "",
          0.11411468125723512,
          0.23456638101878147,
          "",
          1.1448821521047623,
          2.4132393079704193,
          1.4378417551726572,
          "",
          0.35533526890662154,
          "",
          "",
          "",
          2.4271554555807366,
          2.406273289753684,
          1.2064775766685158,
          3.402749742837032,
          "",
          0.9600773197596025,
          2.8863239398329683,
          "",
          "",
          "",
          0.8319457794716479,
          1.4068371857751747,
          2.3753882092585292,
          2.112768295841931,
          0.0034403718414989792,
          "",
          0.10681696721467193,
          0.3957950308240593,
          2.267602724213845,
          "",
          "",
          "",
          "",
          "",
          2.1914599101108636,
          1.0803882848303443,
          0.10395159803025,
          "",
          "",
          0.4204451682640278,
          3.2049578219984745,
          4.246000835814753,
          "",
          0.2749015610680728,
          "",
          0.37922130081330485,
          1.4538737347750361,
          2.017863519087087,
          1.813692610244125,
          0.6416905838436409,
          "",
          1.4248022977878443,
          "",
          "",
          "",
          0.4129443317526207,
          1.8830273598408989,
          "",
          "",
          2.375748950991479,
          "",
          "",
          1.2411800962377146,
          "",
          1.0041381987387163,
          1.1935312825793325,
          0.5814976487346344,
          "",
          0.005915365824508911,
          "",
          0.060073362458160195,
          1.1516872729507366,
          "",
          1.1381943531911007,
          "",
          "",
          0.42374793484406315,
          0.5756561824961342,
          0.47934057350230086,
          2.4339150497058686,
          0.4266814162055446,
          1.363337606603519,
          "",
          "",
          "",
          "",
          "",
          "",
          "",
          0.14550590167500382,
          1.3367765015786426,
          0.8380023846789246,
          "",
          1.1081201454398668,
          ""
         ],
         "yaxis": "y2"
        },
        {
         "connectgaps": false,
         "fill": "tozeroy",
         "line": {
          "color": "red",
          "dash": "solid",
          "shape": "linear",
          "width": 0.5
         },
         "mode": "lines",
         "name": "Spread",
         "showlegend": false,
         "type": "scatter",
         "x": [
          0,
          1,
          2,
          3,
          4,
          5,
          6,
          7,
          8,
          9,
          10,
          11,
          12,
          13,
          14,
          15,
          16,
          17,
          18,
          19,
          20,
          21,
          22,
          23,
          24,
          25,
          26,
          27,
          28,
          29,
          30,
          31,
          32,
          33,
          34,
          35,
          36,
          37,
          38,
          39,
          40,
          41,
          42,
          43,
          44,
          45,
          46,
          47,
          48,
          49,
          50,
          51,
          52,
          53,
          54,
          55,
          56,
          57,
          58,
          59,
          60,
          61,
          62,
          63,
          64,
          65,
          66,
          67,
          68,
          69,
          70,
          71,
          72,
          73,
          74,
          75,
          76,
          77,
          78,
          79,
          80,
          81,
          82,
          83,
          84,
          85,
          86,
          87,
          88,
          89,
          90,
          91,
          92,
          93,
          94,
          95,
          96,
          97,
          98,
          99
         ],
         "xaxis": "x2",
         "y": [
          -2.7735331401623347,
          -1.7319572897595943,
          -2.103031436996515,
          -0.24952039779053325,
          "",
          "",
          -0.9556733200318273,
          "",
          "",
          "",
          -0.49289763676165776,
          "",
          -0.953817017436596,
          -0.19055551861215783,
          -0.2160884021609702,
          "",
          "",
          "",
          "",
          -0.1445446820665635,
          "",
          "",
          -0.29181705613869324,
          -0.44249727950906426,
          -1.9605346186591452,
          "",
          "",
          "",
          "",
          "",
          -0.805939785930589,
          "",
          "",
          "",
          -2.999623068293646,
          -2.189148421042039,
          -0.8431106965687031,
          -2.5665688324007583,
          -1.419264433303785,
          "",
          "",
          "",
          -0.2295319390753684,
          -0.6720505345954547,
          "",
          "",
          "",
          -0.5702650834923109,
          "",
          -0.611306786039934,
          "",
          "",
          "",
          "",
          "",
          -0.020612716940674014,
          "",
          -0.7970704580243062,
          -1.577799235565173,
          -0.26960768760937126,
          "",
          "",
          -0.4281188569723716,
          -0.2992878946189098,
          "",
          -0.6566430474418394,
          -2.6864547316708016,
          "",
          -2.2787131448340543,
          "",
          "",
          "",
          -0.13526501150178105,
          "",
          -2.0322550082681365,
          "",
          "",
          -1.3107050291646565,
          "",
          -1.0007631661691487,
          -0.08624246930010682,
          "",
          "",
          "",
          "",
          "",
          "",
          -0.5138181071743582,
          -0.20402925742912503,
          -2.7516098781008838,
          -0.3526478704955258,
          -0.5266862438473741,
          -0.4299007179164817,
          -1.2848352340726015,
          "",
          "",
          "",
          -0.8957877048104989,
          "",
          -0.8202817295283518
         ],
         "yaxis": "y2"
        }
       ],
       "layout": {
        "hovermode": "x",
        "legend": {
         "bgcolor": "#F5F6F9",
         "font": {
          "color": "#4D5663"
         }
        },
        "paper_bgcolor": "#F5F6F9",
        "plot_bgcolor": "#F5F6F9",
        "template": {
         "data": {
          "bar": [
           {
            "error_x": {
             "color": "#2a3f5f"
            },
            "error_y": {
             "color": "#2a3f5f"
            },
            "marker": {
             "line": {
              "color": "#E5ECF6",
              "width": 0.5
             },
             "pattern": {
              "fillmode": "overlay",
              "size": 10,
              "solidity": 0.2
             }
            },
            "type": "bar"
           }
          ],
          "barpolar": [
           {
            "marker": {
             "line": {
              "color": "#E5ECF6",
              "width": 0.5
             },
             "pattern": {
              "fillmode": "overlay",
              "size": 10,
              "solidity": 0.2
             }
            },
            "type": "barpolar"
           }
          ],
          "carpet": [
           {
            "aaxis": {
             "endlinecolor": "#2a3f5f",
             "gridcolor": "white",
             "linecolor": "white",
             "minorgridcolor": "white",
             "startlinecolor": "#2a3f5f"
            },
            "baxis": {
             "endlinecolor": "#2a3f5f",
             "gridcolor": "white",
             "linecolor": "white",
             "minorgridcolor": "white",
             "startlinecolor": "#2a3f5f"
            },
            "type": "carpet"
           }
          ],
          "choropleth": [
           {
            "colorbar": {
             "outlinewidth": 0,
             "ticks": ""
            },
            "type": "choropleth"
           }
          ],
          "contour": [
           {
            "colorbar": {
             "outlinewidth": 0,
             "ticks": ""
            },
            "colorscale": [
             [
              0,
              "#0d0887"
             ],
             [
              0.1111111111111111,
              "#46039f"
             ],
             [
              0.2222222222222222,
              "#7201a8"
             ],
             [
              0.3333333333333333,
              "#9c179e"
             ],
             [
              0.4444444444444444,
              "#bd3786"
             ],
             [
              0.5555555555555556,
              "#d8576b"
             ],
             [
              0.6666666666666666,
              "#ed7953"
             ],
             [
              0.7777777777777778,
              "#fb9f3a"
             ],
             [
              0.8888888888888888,
              "#fdca26"
             ],
             [
              1,
              "#f0f921"
             ]
            ],
            "type": "contour"
           }
          ],
          "contourcarpet": [
           {
            "colorbar": {
             "outlinewidth": 0,
             "ticks": ""
            },
            "type": "contourcarpet"
           }
          ],
          "heatmap": [
           {
            "colorbar": {
             "outlinewidth": 0,
             "ticks": ""
            },
            "colorscale": [
             [
              0,
              "#0d0887"
             ],
             [
              0.1111111111111111,
              "#46039f"
             ],
             [
              0.2222222222222222,
              "#7201a8"
             ],
             [
              0.3333333333333333,
              "#9c179e"
             ],
             [
              0.4444444444444444,
              "#bd3786"
             ],
             [
              0.5555555555555556,
              "#d8576b"
             ],
             [
              0.6666666666666666,
              "#ed7953"
             ],
             [
              0.7777777777777778,
              "#fb9f3a"
             ],
             [
              0.8888888888888888,
              "#fdca26"
             ],
             [
              1,
              "#f0f921"
             ]
            ],
            "type": "heatmap"
           }
          ],
          "heatmapgl": [
           {
            "colorbar": {
             "outlinewidth": 0,
             "ticks": ""
            },
            "colorscale": [
             [
              0,
              "#0d0887"
             ],
             [
              0.1111111111111111,
              "#46039f"
             ],
             [
              0.2222222222222222,
              "#7201a8"
             ],
             [
              0.3333333333333333,
              "#9c179e"
             ],
             [
              0.4444444444444444,
              "#bd3786"
             ],
             [
              0.5555555555555556,
              "#d8576b"
             ],
             [
              0.6666666666666666,
              "#ed7953"
             ],
             [
              0.7777777777777778,
              "#fb9f3a"
             ],
             [
              0.8888888888888888,
              "#fdca26"
             ],
             [
              1,
              "#f0f921"
             ]
            ],
            "type": "heatmapgl"
           }
          ],
          "histogram": [
           {
            "marker": {
             "pattern": {
              "fillmode": "overlay",
              "size": 10,
              "solidity": 0.2
             }
            },
            "type": "histogram"
           }
          ],
          "histogram2d": [
           {
            "colorbar": {
             "outlinewidth": 0,
             "ticks": ""
            },
            "colorscale": [
             [
              0,
              "#0d0887"
             ],
             [
              0.1111111111111111,
              "#46039f"
             ],
             [
              0.2222222222222222,
              "#7201a8"
             ],
             [
              0.3333333333333333,
              "#9c179e"
             ],
             [
              0.4444444444444444,
              "#bd3786"
             ],
             [
              0.5555555555555556,
              "#d8576b"
             ],
             [
              0.6666666666666666,
              "#ed7953"
             ],
             [
              0.7777777777777778,
              "#fb9f3a"
             ],
             [
              0.8888888888888888,
              "#fdca26"
             ],
             [
              1,
              "#f0f921"
             ]
            ],
            "type": "histogram2d"
           }
          ],
          "histogram2dcontour": [
           {
            "colorbar": {
             "outlinewidth": 0,
             "ticks": ""
            },
            "colorscale": [
             [
              0,
              "#0d0887"
             ],
             [
              0.1111111111111111,
              "#46039f"
             ],
             [
              0.2222222222222222,
              "#7201a8"
             ],
             [
              0.3333333333333333,
              "#9c179e"
             ],
             [
              0.4444444444444444,
              "#bd3786"
             ],
             [
              0.5555555555555556,
              "#d8576b"
             ],
             [
              0.6666666666666666,
              "#ed7953"
             ],
             [
              0.7777777777777778,
              "#fb9f3a"
             ],
             [
              0.8888888888888888,
              "#fdca26"
             ],
             [
              1,
              "#f0f921"
             ]
            ],
            "type": "histogram2dcontour"
           }
          ],
          "mesh3d": [
           {
            "colorbar": {
             "outlinewidth": 0,
             "ticks": ""
            },
            "type": "mesh3d"
           }
          ],
          "parcoords": [
           {
            "line": {
             "colorbar": {
              "outlinewidth": 0,
              "ticks": ""
             }
            },
            "type": "parcoords"
           }
          ],
          "pie": [
           {
            "automargin": true,
            "type": "pie"
           }
          ],
          "scatter": [
           {
            "fillpattern": {
             "fillmode": "overlay",
             "size": 10,
             "solidity": 0.2
            },
            "type": "scatter"
           }
          ],
          "scatter3d": [
           {
            "line": {
             "colorbar": {
              "outlinewidth": 0,
              "ticks": ""
             }
            },
            "marker": {
             "colorbar": {
              "outlinewidth": 0,
              "ticks": ""
             }
            },
            "type": "scatter3d"
           }
          ],
          "scattercarpet": [
           {
            "marker": {
             "colorbar": {
              "outlinewidth": 0,
              "ticks": ""
             }
            },
            "type": "scattercarpet"
           }
          ],
          "scattergeo": [
           {
            "marker": {
             "colorbar": {
              "outlinewidth": 0,
              "ticks": ""
             }
            },
            "type": "scattergeo"
           }
          ],
          "scattergl": [
           {
            "marker": {
             "colorbar": {
              "outlinewidth": 0,
              "ticks": ""
             }
            },
            "type": "scattergl"
           }
          ],
          "scattermapbox": [
           {
            "marker": {
             "colorbar": {
              "outlinewidth": 0,
              "ticks": ""
             }
            },
            "type": "scattermapbox"
           }
          ],
          "scatterpolar": [
           {
            "marker": {
             "colorbar": {
              "outlinewidth": 0,
              "ticks": ""
             }
            },
            "type": "scatterpolar"
           }
          ],
          "scatterpolargl": [
           {
            "marker": {
             "colorbar": {
              "outlinewidth": 0,
              "ticks": ""
             }
            },
            "type": "scatterpolargl"
           }
          ],
          "scatterternary": [
           {
            "marker": {
             "colorbar": {
              "outlinewidth": 0,
              "ticks": ""
             }
            },
            "type": "scatterternary"
           }
          ],
          "surface": [
           {
            "colorbar": {
             "outlinewidth": 0,
             "ticks": ""
            },
            "colorscale": [
             [
              0,
              "#0d0887"
             ],
             [
              0.1111111111111111,
              "#46039f"
             ],
             [
              0.2222222222222222,
              "#7201a8"
             ],
             [
              0.3333333333333333,
              "#9c179e"
             ],
             [
              0.4444444444444444,
              "#bd3786"
             ],
             [
              0.5555555555555556,
              "#d8576b"
             ],
             [
              0.6666666666666666,
              "#ed7953"
             ],
             [
              0.7777777777777778,
              "#fb9f3a"
             ],
             [
              0.8888888888888888,
              "#fdca26"
             ],
             [
              1,
              "#f0f921"
             ]
            ],
            "type": "surface"
           }
          ],
          "table": [
           {
            "cells": {
             "fill": {
              "color": "#EBF0F8"
             },
             "line": {
              "color": "white"
             }
            },
            "header": {
             "fill": {
              "color": "#C8D4E3"
             },
             "line": {
              "color": "white"
             }
            },
            "type": "table"
           }
          ]
         },
         "layout": {
          "annotationdefaults": {
           "arrowcolor": "#2a3f5f",
           "arrowhead": 0,
           "arrowwidth": 1
          },
          "autotypenumbers": "strict",
          "coloraxis": {
           "colorbar": {
            "outlinewidth": 0,
            "ticks": ""
           }
          },
          "colorscale": {
           "diverging": [
            [
             0,
             "#8e0152"
            ],
            [
             0.1,
             "#c51b7d"
            ],
            [
             0.2,
             "#de77ae"
            ],
            [
             0.3,
             "#f1b6da"
            ],
            [
             0.4,
             "#fde0ef"
            ],
            [
             0.5,
             "#f7f7f7"
            ],
            [
             0.6,
             "#e6f5d0"
            ],
            [
             0.7,
             "#b8e186"
            ],
            [
             0.8,
             "#7fbc41"
            ],
            [
             0.9,
             "#4d9221"
            ],
            [
             1,
             "#276419"
            ]
           ],
           "sequential": [
            [
             0,
             "#0d0887"
            ],
            [
             0.1111111111111111,
             "#46039f"
            ],
            [
             0.2222222222222222,
             "#7201a8"
            ],
            [
             0.3333333333333333,
             "#9c179e"
            ],
            [
             0.4444444444444444,
             "#bd3786"
            ],
            [
             0.5555555555555556,
             "#d8576b"
            ],
            [
             0.6666666666666666,
             "#ed7953"
            ],
            [
             0.7777777777777778,
             "#fb9f3a"
            ],
            [
             0.8888888888888888,
             "#fdca26"
            ],
            [
             1,
             "#f0f921"
            ]
           ],
           "sequentialminus": [
            [
             0,
             "#0d0887"
            ],
            [
             0.1111111111111111,
             "#46039f"
            ],
            [
             0.2222222222222222,
             "#7201a8"
            ],
            [
             0.3333333333333333,
             "#9c179e"
            ],
            [
             0.4444444444444444,
             "#bd3786"
            ],
            [
             0.5555555555555556,
             "#d8576b"
            ],
            [
             0.6666666666666666,
             "#ed7953"
            ],
            [
             0.7777777777777778,
             "#fb9f3a"
            ],
            [
             0.8888888888888888,
             "#fdca26"
            ],
            [
             1,
             "#f0f921"
            ]
           ]
          },
          "colorway": [
           "#636efa",
           "#EF553B",
           "#00cc96",
           "#ab63fa",
           "#FFA15A",
           "#19d3f3",
           "#FF6692",
           "#B6E880",
           "#FF97FF",
           "#FECB52"
          ],
          "font": {
           "color": "#2a3f5f"
          },
          "geo": {
           "bgcolor": "white",
           "lakecolor": "white",
           "landcolor": "#E5ECF6",
           "showlakes": true,
           "showland": true,
           "subunitcolor": "white"
          },
          "hoverlabel": {
           "align": "left"
          },
          "hovermode": "closest",
          "mapbox": {
           "style": "light"
          },
          "paper_bgcolor": "white",
          "plot_bgcolor": "#E5ECF6",
          "polar": {
           "angularaxis": {
            "gridcolor": "white",
            "linecolor": "white",
            "ticks": ""
           },
           "bgcolor": "#E5ECF6",
           "radialaxis": {
            "gridcolor": "white",
            "linecolor": "white",
            "ticks": ""
           }
          },
          "scene": {
           "xaxis": {
            "backgroundcolor": "#E5ECF6",
            "gridcolor": "white",
            "gridwidth": 2,
            "linecolor": "white",
            "showbackground": true,
            "ticks": "",
            "zerolinecolor": "white"
           },
           "yaxis": {
            "backgroundcolor": "#E5ECF6",
            "gridcolor": "white",
            "gridwidth": 2,
            "linecolor": "white",
            "showbackground": true,
            "ticks": "",
            "zerolinecolor": "white"
           },
           "zaxis": {
            "backgroundcolor": "#E5ECF6",
            "gridcolor": "white",
            "gridwidth": 2,
            "linecolor": "white",
            "showbackground": true,
            "ticks": "",
            "zerolinecolor": "white"
           }
          },
          "shapedefaults": {
           "line": {
            "color": "#2a3f5f"
           }
          },
          "ternary": {
           "aaxis": {
            "gridcolor": "white",
            "linecolor": "white",
            "ticks": ""
           },
           "baxis": {
            "gridcolor": "white",
            "linecolor": "white",
            "ticks": ""
           },
           "bgcolor": "#E5ECF6",
           "caxis": {
            "gridcolor": "white",
            "linecolor": "white",
            "ticks": ""
           }
          },
          "title": {
           "x": 0.05
          },
          "xaxis": {
           "automargin": true,
           "gridcolor": "white",
           "linecolor": "white",
           "ticks": "",
           "title": {
            "standoff": 15
           },
           "zerolinecolor": "white",
           "zerolinewidth": 2
          },
          "yaxis": {
           "automargin": true,
           "gridcolor": "white",
           "linecolor": "white",
           "ticks": "",
           "title": {
            "standoff": 15
           },
           "zerolinecolor": "white",
           "zerolinewidth": 2
          }
         }
        },
        "title": {
         "font": {
          "color": "#4D5663"
         }
        },
        "xaxis": {
         "gridcolor": "#E1E5ED",
         "showgrid": true,
         "tickfont": {
          "color": "#4D5663"
         },
         "title": {
          "font": {
           "color": "#4D5663"
          },
          "text": ""
         },
         "zerolinecolor": "#E1E5ED"
        },
        "xaxis2": {
         "anchor": "y2",
         "gridcolor": "#E1E5ED",
         "showgrid": true,
         "showticklabels": false,
         "tickfont": {
          "color": "#4D5663"
         },
         "title": {
          "font": {
           "color": "#4D5663"
          },
          "text": ""
         },
         "zerolinecolor": "#E1E5ED"
        },
        "yaxis": {
         "domain": [
          0.3,
          1
         ],
         "gridcolor": "#E1E5ED",
         "showgrid": true,
         "tickfont": {
          "color": "#4D5663"
         },
         "title": {
          "font": {
           "color": "#4D5663"
          },
          "text": ""
         },
         "zerolinecolor": "#E1E5ED"
        },
        "yaxis2": {
         "domain": [
          0,
          0.25
         ],
         "gridcolor": "#E1E5ED",
         "showgrid": true,
         "tickfont": {
          "color": "#4D5663"
         },
         "title": {
          "font": {
           "color": "#4D5663"
          },
          "text": "Spread"
         },
         "zerolinecolor": "#E1E5ED"
        }
       }
      },
      "text/html": [
       "<div>                            <div id=\"84f83c84-35ff-4a5b-afb5-77f4a6f831f9\" class=\"plotly-graph-div\" style=\"height:525px; width:100%;\"></div>            <script type=\"text/javascript\">                require([\"plotly\"], function(Plotly) {                    window.PLOTLYENV=window.PLOTLYENV || {};\n",
       "                    window.PLOTLYENV.BASE_URL='https://plot.ly';                                    if (document.getElementById(\"84f83c84-35ff-4a5b-afb5-77f4a6f831f9\")) {                    Plotly.newPlot(                        \"84f83c84-35ff-4a5b-afb5-77f4a6f831f9\",                        [{\"line\":{\"color\":\"rgba(255, 153, 51, 1.0)\",\"dash\":\"solid\",\"shape\":\"linear\",\"width\":1.3},\"mode\":\"lines\",\"name\":\"A\",\"text\":\"\",\"x\":[0,1,2,3,4,5,6,7,8,9,10,11,12,13,14,15,16,17,18,19,20,21,22,23,24,25,26,27,28,29,30,31,32,33,34,35,36,37,38,39,40,41,42,43,44,45,46,47,48,49,50,51,52,53,54,55,56,57,58,59,60,61,62,63,64,65,66,67,68,69,70,71,72,73,74,75,76,77,78,79,80,81,82,83,84,85,86,87,88,89,90,91,92,93,94,95,96,97,98,99],\"y\":[-1.801810462118037,-0.7405278999282524,-1.461857030304494,-1.0591589088198288,-0.26428618768178,1.948164848630421,-0.23589027518673694,0.24657238281739297,1.658021589581248,0.186696452034347,0.8825333889982601,-0.4773798929601018,0.46972651548583444,-0.17320093063047146,-0.22683508244266204,1.2562233016361952,1.310914817148744,-0.37320437367658954,1.926147146248471,0.013675304777552416,0.007595408552958917,0.8221929815368014,0.07591846652853262,-0.21887489450015163,-1.415591119445165,0.6011093091930616,0.21043611550600955,3.551151429719778,0.67855980837985,0.44441040471099097,0.40501800594761467,-1.4429420586514943,-0.5726089226425692,0.42711475011987726,-2.4849078390422226,-1.550838633703084,0.1342471868944414,-2.0658158540835156,-1.8297783603605737,0.34384485642331847,0.8911555668974951,-0.6680580034989891,0.1817138264631769,-0.5573719045906718,-1.000221211263796,2.543907973222884,2.820663767772808,-1.23451797618291,0.42285643724592425,-0.2676682957595602,0.9239153944241625,0.2835359062945152,0.5211584364498096,1.6481997375179325,-0.1340133395115864,-1.195946189733816,0.43874383472847545,-1.053832892116574,-0.4696895658433154,0.22089459970479716,0.31106612098315894,1.6325152367399631,0.12148171286156609,0.7284922533146289,1.150935928793852,-1.4493052864419957,-1.3474885438875936,1.4995138007616624,-0.8548810056095114,-0.2508135705830549,1.5859524585585354,0.30169570948898355,-1.3847584411858844,-0.7172952877799311,-0.2388523125662473,-1.5402688784288574,0.6233403248885073,0.3994901335348674,1.497119149431649,-0.7830568325317241,-0.9451963490340021,0.9306499911855516,1.054919906601512,-0.06781875041286145,1.6372857588173881,0.4258715683400193,0.5492007699401444,-0.44183901504598483,0.5081694849786166,-0.5873992503246563,1.3060687492015108,-0.8504842584600737,0.11378281383033334,-0.39823121338126055,0.21212719538403102,0.9743250022300478,-0.7048213917177746,0.5342517217633828,0.9232089584369408,-0.7542607429128845],\"type\":\"scatter\"},{\"line\":{\"color\":\"rgba(55, 128, 191, 1.0)\",\"dash\":\"solid\",\"shape\":\"linear\",\"width\":1.3},\"mode\":\"lines\",\"name\":\"B\",\"text\":\"\",\"x\":[0,1,2,3,4,5,6,7,8,9,10,11,12,13,14,15,16,17,18,19,20,21,22,23,24,25,26,27,28,29,30,31,32,33,34,35,36,37,38,39,40,41,42,43,44,45,46,47,48,49,50,51,52,53,54,55,56,57,58,59,60,61,62,63,64,65,66,67,68,69,70,71,72,73,74,75,76,77,78,79,80,81,82,83,84,85,86,87,88,89,90,91,92,93,94,95,96,97,98,99],\"y\":[0.9717226780442976,0.9914293898313419,0.6411744066920212,-0.8096385110292955,-0.37840086893901514,1.7135984676116396,0.7197830448450903,-0.8983097692873694,-0.7552177183891712,-1.2511453031383102,1.3754310257599178,-0.8327151618667233,1.4235435329224304,0.01735458798168637,-0.010746680281691855,-1.1709321539445416,-1.0953584726049397,-1.5796819503451054,-1.4766025965885607,0.15821998684411592,-0.9524819112066436,-2.064130958296167,0.36773552266722587,0.2236223850089126,0.5449434992139803,-0.23083647027858636,-1.1964010702691652,1.1757632204612487,-1.434208487462081,0.440970032869492,1.2109577918782037,-1.5497590258661662,-0.9684039534666286,-1.8404879740939677,0.5147152292514234,0.6383097873389552,0.9773578834631445,0.5007529783172427,-0.4105139270567889,-1.847615053687545,-0.18923271793284913,-0.7720096015292391,0.4112457655385453,0.11467863000478293,-1.4206663795278238,-0.6610498487755905,-1.4253370680419448,-0.6642528926905991,0.14795487617785147,0.34363849028037385,0.5446940936108576,-1.170337828480521,-1.4967050826372772,-0.16549287272619267,-0.7757039233552273,-1.175333472793142,-0.9860584630593688,-0.2567624340922678,1.1081096697218578,0.4905022873141684,-0.10187821076946177,-0.25051212310093574,0.5496005698339377,1.0277801479335387,-1.224813022197627,-0.7926622390001563,1.3389661877832078,0.2583337045239479,1.4238321392245428,-1.2549517693217713,0.3924211759792029,-0.27980193924565083,-1.2494934296841034,-0.72321065360444,1.7934026957018891,-1.6003422408870176,-0.5283469480622293,1.710195162699524,0.3589247962405482,0.21770633363742475,-0.8589538797338953,0.5069020563414884,0.4792637241053778,-0.5471593239151623,-0.7966292908884803,-0.0008098478655252655,-0.8141368366633747,0.07197909212837338,0.7121987424077416,2.1642106277762276,1.6587166196970367,-0.3237980146126996,0.543683531746815,0.8866040206913408,0.06662129370902721,-0.36245149934859466,-1.5428237763966992,1.4300394265738816,-0.18491118700292594,0.06602098661546725],\"type\":\"scatter\"},{\"connectgaps\":false,\"fill\":\"tozeroy\",\"line\":{\"color\":\"green\",\"dash\":\"solid\",\"shape\":\"linear\",\"width\":0.5},\"mode\":\"lines\",\"name\":\"Spread\",\"showlegend\":false,\"x\":[0,1,2,3,4,5,6,7,8,9,10,11,12,13,14,15,16,17,18,19,20,21,22,23,24,25,26,27,28,29,30,31,32,33,34,35,36,37,38,39,40,41,42,43,44,45,46,47,48,49,50,51,52,53,54,55,56,57,58,59,60,61,62,63,64,65,66,67,68,69,70,71,72,73,74,75,76,77,78,79,80,81,82,83,84,85,86,87,88,89,90,91,92,93,94,95,96,97,98,99],\"xaxis\":\"x2\",\"y\":[\"\",\"\",\"\",\"\",0.11411468125723512,0.23456638101878147,\"\",1.1448821521047623,2.4132393079704193,1.4378417551726572,\"\",0.35533526890662154,\"\",\"\",\"\",2.4271554555807366,2.406273289753684,1.2064775766685158,3.402749742837032,\"\",0.9600773197596025,2.8863239398329683,\"\",\"\",\"\",0.8319457794716479,1.4068371857751747,2.3753882092585292,2.112768295841931,0.0034403718414989792,\"\",0.10681696721467193,0.3957950308240593,2.267602724213845,\"\",\"\",\"\",\"\",\"\",2.1914599101108636,1.0803882848303443,0.10395159803025,\"\",\"\",0.4204451682640278,3.2049578219984745,4.246000835814753,\"\",0.2749015610680728,\"\",0.37922130081330485,1.4538737347750361,2.017863519087087,1.813692610244125,0.6416905838436409,\"\",1.4248022977878443,\"\",\"\",\"\",0.4129443317526207,1.8830273598408989,\"\",\"\",2.375748950991479,\"\",\"\",1.2411800962377146,\"\",1.0041381987387163,1.1935312825793325,0.5814976487346344,\"\",0.005915365824508911,\"\",0.060073362458160195,1.1516872729507366,\"\",1.1381943531911007,\"\",\"\",0.42374793484406315,0.5756561824961342,0.47934057350230086,2.4339150497058686,0.4266814162055446,1.363337606603519,\"\",\"\",\"\",\"\",\"\",\"\",\"\",0.14550590167500382,1.3367765015786426,0.8380023846789246,\"\",1.1081201454398668,\"\"],\"yaxis\":\"y2\",\"type\":\"scatter\"},{\"connectgaps\":false,\"fill\":\"tozeroy\",\"line\":{\"color\":\"red\",\"dash\":\"solid\",\"shape\":\"linear\",\"width\":0.5},\"mode\":\"lines\",\"name\":\"Spread\",\"showlegend\":false,\"x\":[0,1,2,3,4,5,6,7,8,9,10,11,12,13,14,15,16,17,18,19,20,21,22,23,24,25,26,27,28,29,30,31,32,33,34,35,36,37,38,39,40,41,42,43,44,45,46,47,48,49,50,51,52,53,54,55,56,57,58,59,60,61,62,63,64,65,66,67,68,69,70,71,72,73,74,75,76,77,78,79,80,81,82,83,84,85,86,87,88,89,90,91,92,93,94,95,96,97,98,99],\"xaxis\":\"x2\",\"y\":[-2.7735331401623347,-1.7319572897595943,-2.103031436996515,-0.24952039779053325,\"\",\"\",-0.9556733200318273,\"\",\"\",\"\",-0.49289763676165776,\"\",-0.953817017436596,-0.19055551861215783,-0.2160884021609702,\"\",\"\",\"\",\"\",-0.1445446820665635,\"\",\"\",-0.29181705613869324,-0.44249727950906426,-1.9605346186591452,\"\",\"\",\"\",\"\",\"\",-0.805939785930589,\"\",\"\",\"\",-2.999623068293646,-2.189148421042039,-0.8431106965687031,-2.5665688324007583,-1.419264433303785,\"\",\"\",\"\",-0.2295319390753684,-0.6720505345954547,\"\",\"\",\"\",-0.5702650834923109,\"\",-0.611306786039934,\"\",\"\",\"\",\"\",\"\",-0.020612716940674014,\"\",-0.7970704580243062,-1.577799235565173,-0.26960768760937126,\"\",\"\",-0.4281188569723716,-0.2992878946189098,\"\",-0.6566430474418394,-2.6864547316708016,\"\",-2.2787131448340543,\"\",\"\",\"\",-0.13526501150178105,\"\",-2.0322550082681365,\"\",\"\",-1.3107050291646565,\"\",-1.0007631661691487,-0.08624246930010682,\"\",\"\",\"\",\"\",\"\",\"\",-0.5138181071743582,-0.20402925742912503,-2.7516098781008838,-0.3526478704955258,-0.5266862438473741,-0.4299007179164817,-1.2848352340726015,\"\",\"\",\"\",-0.8957877048104989,\"\",-0.8202817295283518],\"yaxis\":\"y2\",\"type\":\"scatter\"}],                        {\"hovermode\":\"x\",\"legend\":{\"bgcolor\":\"#F5F6F9\",\"font\":{\"color\":\"#4D5663\"}},\"paper_bgcolor\":\"#F5F6F9\",\"plot_bgcolor\":\"#F5F6F9\",\"template\":{\"data\":{\"barpolar\":[{\"marker\":{\"line\":{\"color\":\"#E5ECF6\",\"width\":0.5},\"pattern\":{\"fillmode\":\"overlay\",\"size\":10,\"solidity\":0.2}},\"type\":\"barpolar\"}],\"bar\":[{\"error_x\":{\"color\":\"#2a3f5f\"},\"error_y\":{\"color\":\"#2a3f5f\"},\"marker\":{\"line\":{\"color\":\"#E5ECF6\",\"width\":0.5},\"pattern\":{\"fillmode\":\"overlay\",\"size\":10,\"solidity\":0.2}},\"type\":\"bar\"}],\"carpet\":[{\"aaxis\":{\"endlinecolor\":\"#2a3f5f\",\"gridcolor\":\"white\",\"linecolor\":\"white\",\"minorgridcolor\":\"white\",\"startlinecolor\":\"#2a3f5f\"},\"baxis\":{\"endlinecolor\":\"#2a3f5f\",\"gridcolor\":\"white\",\"linecolor\":\"white\",\"minorgridcolor\":\"white\",\"startlinecolor\":\"#2a3f5f\"},\"type\":\"carpet\"}],\"choropleth\":[{\"colorbar\":{\"outlinewidth\":0,\"ticks\":\"\"},\"type\":\"choropleth\"}],\"contourcarpet\":[{\"colorbar\":{\"outlinewidth\":0,\"ticks\":\"\"},\"type\":\"contourcarpet\"}],\"contour\":[{\"colorbar\":{\"outlinewidth\":0,\"ticks\":\"\"},\"colorscale\":[[0.0,\"#0d0887\"],[0.1111111111111111,\"#46039f\"],[0.2222222222222222,\"#7201a8\"],[0.3333333333333333,\"#9c179e\"],[0.4444444444444444,\"#bd3786\"],[0.5555555555555556,\"#d8576b\"],[0.6666666666666666,\"#ed7953\"],[0.7777777777777778,\"#fb9f3a\"],[0.8888888888888888,\"#fdca26\"],[1.0,\"#f0f921\"]],\"type\":\"contour\"}],\"heatmapgl\":[{\"colorbar\":{\"outlinewidth\":0,\"ticks\":\"\"},\"colorscale\":[[0.0,\"#0d0887\"],[0.1111111111111111,\"#46039f\"],[0.2222222222222222,\"#7201a8\"],[0.3333333333333333,\"#9c179e\"],[0.4444444444444444,\"#bd3786\"],[0.5555555555555556,\"#d8576b\"],[0.6666666666666666,\"#ed7953\"],[0.7777777777777778,\"#fb9f3a\"],[0.8888888888888888,\"#fdca26\"],[1.0,\"#f0f921\"]],\"type\":\"heatmapgl\"}],\"heatmap\":[{\"colorbar\":{\"outlinewidth\":0,\"ticks\":\"\"},\"colorscale\":[[0.0,\"#0d0887\"],[0.1111111111111111,\"#46039f\"],[0.2222222222222222,\"#7201a8\"],[0.3333333333333333,\"#9c179e\"],[0.4444444444444444,\"#bd3786\"],[0.5555555555555556,\"#d8576b\"],[0.6666666666666666,\"#ed7953\"],[0.7777777777777778,\"#fb9f3a\"],[0.8888888888888888,\"#fdca26\"],[1.0,\"#f0f921\"]],\"type\":\"heatmap\"}],\"histogram2dcontour\":[{\"colorbar\":{\"outlinewidth\":0,\"ticks\":\"\"},\"colorscale\":[[0.0,\"#0d0887\"],[0.1111111111111111,\"#46039f\"],[0.2222222222222222,\"#7201a8\"],[0.3333333333333333,\"#9c179e\"],[0.4444444444444444,\"#bd3786\"],[0.5555555555555556,\"#d8576b\"],[0.6666666666666666,\"#ed7953\"],[0.7777777777777778,\"#fb9f3a\"],[0.8888888888888888,\"#fdca26\"],[1.0,\"#f0f921\"]],\"type\":\"histogram2dcontour\"}],\"histogram2d\":[{\"colorbar\":{\"outlinewidth\":0,\"ticks\":\"\"},\"colorscale\":[[0.0,\"#0d0887\"],[0.1111111111111111,\"#46039f\"],[0.2222222222222222,\"#7201a8\"],[0.3333333333333333,\"#9c179e\"],[0.4444444444444444,\"#bd3786\"],[0.5555555555555556,\"#d8576b\"],[0.6666666666666666,\"#ed7953\"],[0.7777777777777778,\"#fb9f3a\"],[0.8888888888888888,\"#fdca26\"],[1.0,\"#f0f921\"]],\"type\":\"histogram2d\"}],\"histogram\":[{\"marker\":{\"pattern\":{\"fillmode\":\"overlay\",\"size\":10,\"solidity\":0.2}},\"type\":\"histogram\"}],\"mesh3d\":[{\"colorbar\":{\"outlinewidth\":0,\"ticks\":\"\"},\"type\":\"mesh3d\"}],\"parcoords\":[{\"line\":{\"colorbar\":{\"outlinewidth\":0,\"ticks\":\"\"}},\"type\":\"parcoords\"}],\"pie\":[{\"automargin\":true,\"type\":\"pie\"}],\"scatter3d\":[{\"line\":{\"colorbar\":{\"outlinewidth\":0,\"ticks\":\"\"}},\"marker\":{\"colorbar\":{\"outlinewidth\":0,\"ticks\":\"\"}},\"type\":\"scatter3d\"}],\"scattercarpet\":[{\"marker\":{\"colorbar\":{\"outlinewidth\":0,\"ticks\":\"\"}},\"type\":\"scattercarpet\"}],\"scattergeo\":[{\"marker\":{\"colorbar\":{\"outlinewidth\":0,\"ticks\":\"\"}},\"type\":\"scattergeo\"}],\"scattergl\":[{\"marker\":{\"colorbar\":{\"outlinewidth\":0,\"ticks\":\"\"}},\"type\":\"scattergl\"}],\"scattermapbox\":[{\"marker\":{\"colorbar\":{\"outlinewidth\":0,\"ticks\":\"\"}},\"type\":\"scattermapbox\"}],\"scatterpolargl\":[{\"marker\":{\"colorbar\":{\"outlinewidth\":0,\"ticks\":\"\"}},\"type\":\"scatterpolargl\"}],\"scatterpolar\":[{\"marker\":{\"colorbar\":{\"outlinewidth\":0,\"ticks\":\"\"}},\"type\":\"scatterpolar\"}],\"scatter\":[{\"fillpattern\":{\"fillmode\":\"overlay\",\"size\":10,\"solidity\":0.2},\"type\":\"scatter\"}],\"scatterternary\":[{\"marker\":{\"colorbar\":{\"outlinewidth\":0,\"ticks\":\"\"}},\"type\":\"scatterternary\"}],\"surface\":[{\"colorbar\":{\"outlinewidth\":0,\"ticks\":\"\"},\"colorscale\":[[0.0,\"#0d0887\"],[0.1111111111111111,\"#46039f\"],[0.2222222222222222,\"#7201a8\"],[0.3333333333333333,\"#9c179e\"],[0.4444444444444444,\"#bd3786\"],[0.5555555555555556,\"#d8576b\"],[0.6666666666666666,\"#ed7953\"],[0.7777777777777778,\"#fb9f3a\"],[0.8888888888888888,\"#fdca26\"],[1.0,\"#f0f921\"]],\"type\":\"surface\"}],\"table\":[{\"cells\":{\"fill\":{\"color\":\"#EBF0F8\"},\"line\":{\"color\":\"white\"}},\"header\":{\"fill\":{\"color\":\"#C8D4E3\"},\"line\":{\"color\":\"white\"}},\"type\":\"table\"}]},\"layout\":{\"annotationdefaults\":{\"arrowcolor\":\"#2a3f5f\",\"arrowhead\":0,\"arrowwidth\":1},\"autotypenumbers\":\"strict\",\"coloraxis\":{\"colorbar\":{\"outlinewidth\":0,\"ticks\":\"\"}},\"colorscale\":{\"diverging\":[[0,\"#8e0152\"],[0.1,\"#c51b7d\"],[0.2,\"#de77ae\"],[0.3,\"#f1b6da\"],[0.4,\"#fde0ef\"],[0.5,\"#f7f7f7\"],[0.6,\"#e6f5d0\"],[0.7,\"#b8e186\"],[0.8,\"#7fbc41\"],[0.9,\"#4d9221\"],[1,\"#276419\"]],\"sequential\":[[0.0,\"#0d0887\"],[0.1111111111111111,\"#46039f\"],[0.2222222222222222,\"#7201a8\"],[0.3333333333333333,\"#9c179e\"],[0.4444444444444444,\"#bd3786\"],[0.5555555555555556,\"#d8576b\"],[0.6666666666666666,\"#ed7953\"],[0.7777777777777778,\"#fb9f3a\"],[0.8888888888888888,\"#fdca26\"],[1.0,\"#f0f921\"]],\"sequentialminus\":[[0.0,\"#0d0887\"],[0.1111111111111111,\"#46039f\"],[0.2222222222222222,\"#7201a8\"],[0.3333333333333333,\"#9c179e\"],[0.4444444444444444,\"#bd3786\"],[0.5555555555555556,\"#d8576b\"],[0.6666666666666666,\"#ed7953\"],[0.7777777777777778,\"#fb9f3a\"],[0.8888888888888888,\"#fdca26\"],[1.0,\"#f0f921\"]]},\"colorway\":[\"#636efa\",\"#EF553B\",\"#00cc96\",\"#ab63fa\",\"#FFA15A\",\"#19d3f3\",\"#FF6692\",\"#B6E880\",\"#FF97FF\",\"#FECB52\"],\"font\":{\"color\":\"#2a3f5f\"},\"geo\":{\"bgcolor\":\"white\",\"lakecolor\":\"white\",\"landcolor\":\"#E5ECF6\",\"showlakes\":true,\"showland\":true,\"subunitcolor\":\"white\"},\"hoverlabel\":{\"align\":\"left\"},\"hovermode\":\"closest\",\"mapbox\":{\"style\":\"light\"},\"paper_bgcolor\":\"white\",\"plot_bgcolor\":\"#E5ECF6\",\"polar\":{\"angularaxis\":{\"gridcolor\":\"white\",\"linecolor\":\"white\",\"ticks\":\"\"},\"bgcolor\":\"#E5ECF6\",\"radialaxis\":{\"gridcolor\":\"white\",\"linecolor\":\"white\",\"ticks\":\"\"}},\"scene\":{\"xaxis\":{\"backgroundcolor\":\"#E5ECF6\",\"gridcolor\":\"white\",\"gridwidth\":2,\"linecolor\":\"white\",\"showbackground\":true,\"ticks\":\"\",\"zerolinecolor\":\"white\"},\"yaxis\":{\"backgroundcolor\":\"#E5ECF6\",\"gridcolor\":\"white\",\"gridwidth\":2,\"linecolor\":\"white\",\"showbackground\":true,\"ticks\":\"\",\"zerolinecolor\":\"white\"},\"zaxis\":{\"backgroundcolor\":\"#E5ECF6\",\"gridcolor\":\"white\",\"gridwidth\":2,\"linecolor\":\"white\",\"showbackground\":true,\"ticks\":\"\",\"zerolinecolor\":\"white\"}},\"shapedefaults\":{\"line\":{\"color\":\"#2a3f5f\"}},\"ternary\":{\"aaxis\":{\"gridcolor\":\"white\",\"linecolor\":\"white\",\"ticks\":\"\"},\"baxis\":{\"gridcolor\":\"white\",\"linecolor\":\"white\",\"ticks\":\"\"},\"bgcolor\":\"#E5ECF6\",\"caxis\":{\"gridcolor\":\"white\",\"linecolor\":\"white\",\"ticks\":\"\"}},\"title\":{\"x\":0.05},\"xaxis\":{\"automargin\":true,\"gridcolor\":\"white\",\"linecolor\":\"white\",\"ticks\":\"\",\"title\":{\"standoff\":15},\"zerolinecolor\":\"white\",\"zerolinewidth\":2},\"yaxis\":{\"automargin\":true,\"gridcolor\":\"white\",\"linecolor\":\"white\",\"ticks\":\"\",\"title\":{\"standoff\":15},\"zerolinecolor\":\"white\",\"zerolinewidth\":2}}},\"title\":{\"font\":{\"color\":\"#4D5663\"}},\"xaxis\":{\"gridcolor\":\"#E1E5ED\",\"showgrid\":true,\"tickfont\":{\"color\":\"#4D5663\"},\"title\":{\"font\":{\"color\":\"#4D5663\"},\"text\":\"\"},\"zerolinecolor\":\"#E1E5ED\"},\"yaxis\":{\"domain\":[0.3,1],\"gridcolor\":\"#E1E5ED\",\"showgrid\":true,\"tickfont\":{\"color\":\"#4D5663\"},\"title\":{\"font\":{\"color\":\"#4D5663\"},\"text\":\"\"},\"zerolinecolor\":\"#E1E5ED\"},\"yaxis2\":{\"domain\":[0,0.25],\"gridcolor\":\"#E1E5ED\",\"showgrid\":true,\"tickfont\":{\"color\":\"#4D5663\"},\"title\":{\"font\":{\"color\":\"#4D5663\"},\"text\":\"Spread\"},\"zerolinecolor\":\"#E1E5ED\"},\"xaxis2\":{\"anchor\":\"y2\",\"gridcolor\":\"#E1E5ED\",\"showgrid\":true,\"showticklabels\":false,\"tickfont\":{\"color\":\"#4D5663\"},\"title\":{\"font\":{\"color\":\"#4D5663\"},\"text\":\"\"},\"zerolinecolor\":\"#E1E5ED\"}},                        {\"showLink\": true, \"linkText\": \"Export to plot.ly\", \"plotlyServerURL\": \"https://plot.ly\", \"responsive\": true}                    ).then(function(){\n",
       "                            \n",
       "var gd = document.getElementById('84f83c84-35ff-4a5b-afb5-77f4a6f831f9');\n",
       "var x = new MutationObserver(function (mutations, observer) {{\n",
       "        var display = window.getComputedStyle(gd).display;\n",
       "        if (!display || display === 'none') {{\n",
       "            console.log([gd, 'removed!']);\n",
       "            Plotly.purge(gd);\n",
       "            observer.disconnect();\n",
       "        }}\n",
       "}});\n",
       "\n",
       "// Listen for the removal of the full notebook cells\n",
       "var notebookContainer = gd.closest('#notebook-container');\n",
       "if (notebookContainer) {{\n",
       "    x.observe(notebookContainer, {childList: true});\n",
       "}}\n",
       "\n",
       "// Listen for the clearing of the current output cell\n",
       "var outputEl = gd.closest('.output');\n",
       "if (outputEl) {{\n",
       "    x.observe(outputEl, {childList: true});\n",
       "}}\n",
       "\n",
       "                        })                };                });            </script>        </div>"
      ]
     },
     "metadata": {},
     "output_type": "display_data"
    }
   ],
   "source": [
    "df[['A','B']].iplot(kind='spread')"
   ]
  },
  {
   "cell_type": "markdown",
   "metadata": {},
   "source": [
    "## histogram"
   ]
  },
  {
   "cell_type": "code",
   "execution_count": 22,
   "metadata": {},
   "outputs": [
    {
     "data": {
      "application/vnd.plotly.v1+json": {
       "config": {
        "linkText": "Export to plot.ly",
        "plotlyServerURL": "https://plot.ly",
        "showLink": true
       },
       "data": [
        {
         "histfunc": "count",
         "histnorm": "",
         "marker": {
          "color": "rgba(255, 153, 51, 1.0)",
          "line": {
           "color": "#4D5663",
           "width": 1.3
          }
         },
         "name": "A",
         "nbinsx": 25,
         "opacity": 0.8,
         "orientation": "v",
         "type": "histogram",
         "x": [
          -1.801810462118037,
          -0.7405278999282524,
          -1.461857030304494,
          -1.0591589088198288,
          -0.26428618768178,
          1.948164848630421,
          -0.23589027518673694,
          0.24657238281739297,
          1.658021589581248,
          0.186696452034347,
          0.8825333889982601,
          -0.4773798929601018,
          0.46972651548583444,
          -0.17320093063047146,
          -0.22683508244266204,
          1.2562233016361952,
          1.310914817148744,
          -0.37320437367658954,
          1.926147146248471,
          0.013675304777552416,
          0.007595408552958917,
          0.8221929815368014,
          0.07591846652853262,
          -0.21887489450015163,
          -1.415591119445165,
          0.6011093091930616,
          0.21043611550600955,
          3.551151429719778,
          0.67855980837985,
          0.44441040471099097,
          0.40501800594761467,
          -1.4429420586514943,
          -0.5726089226425692,
          0.42711475011987726,
          -2.4849078390422226,
          -1.550838633703084,
          0.1342471868944414,
          -2.0658158540835156,
          -1.8297783603605737,
          0.34384485642331847,
          0.8911555668974951,
          -0.6680580034989891,
          0.1817138264631769,
          -0.5573719045906718,
          -1.000221211263796,
          2.543907973222884,
          2.820663767772808,
          -1.23451797618291,
          0.42285643724592425,
          -0.2676682957595602,
          0.9239153944241625,
          0.2835359062945152,
          0.5211584364498096,
          1.6481997375179325,
          -0.1340133395115864,
          -1.195946189733816,
          0.43874383472847545,
          -1.053832892116574,
          -0.4696895658433154,
          0.22089459970479716,
          0.31106612098315894,
          1.6325152367399631,
          0.12148171286156609,
          0.7284922533146289,
          1.150935928793852,
          -1.4493052864419957,
          -1.3474885438875936,
          1.4995138007616624,
          -0.8548810056095114,
          -0.2508135705830549,
          1.5859524585585354,
          0.30169570948898355,
          -1.3847584411858844,
          -0.7172952877799311,
          -0.2388523125662473,
          -1.5402688784288574,
          0.6233403248885073,
          0.3994901335348674,
          1.497119149431649,
          -0.7830568325317241,
          -0.9451963490340021,
          0.9306499911855516,
          1.054919906601512,
          -0.06781875041286145,
          1.6372857588173881,
          0.4258715683400193,
          0.5492007699401444,
          -0.44183901504598483,
          0.5081694849786166,
          -0.5873992503246563,
          1.3060687492015108,
          -0.8504842584600737,
          0.11378281383033334,
          -0.39823121338126055,
          0.21212719538403102,
          0.9743250022300478,
          -0.7048213917177746,
          0.5342517217633828,
          0.9232089584369408,
          -0.7542607429128845
         ]
        }
       ],
       "layout": {
        "barmode": "overlay",
        "legend": {
         "bgcolor": "#F5F6F9",
         "font": {
          "color": "#4D5663"
         }
        },
        "paper_bgcolor": "#F5F6F9",
        "plot_bgcolor": "#F5F6F9",
        "template": {
         "data": {
          "bar": [
           {
            "error_x": {
             "color": "#2a3f5f"
            },
            "error_y": {
             "color": "#2a3f5f"
            },
            "marker": {
             "line": {
              "color": "#E5ECF6",
              "width": 0.5
             },
             "pattern": {
              "fillmode": "overlay",
              "size": 10,
              "solidity": 0.2
             }
            },
            "type": "bar"
           }
          ],
          "barpolar": [
           {
            "marker": {
             "line": {
              "color": "#E5ECF6",
              "width": 0.5
             },
             "pattern": {
              "fillmode": "overlay",
              "size": 10,
              "solidity": 0.2
             }
            },
            "type": "barpolar"
           }
          ],
          "carpet": [
           {
            "aaxis": {
             "endlinecolor": "#2a3f5f",
             "gridcolor": "white",
             "linecolor": "white",
             "minorgridcolor": "white",
             "startlinecolor": "#2a3f5f"
            },
            "baxis": {
             "endlinecolor": "#2a3f5f",
             "gridcolor": "white",
             "linecolor": "white",
             "minorgridcolor": "white",
             "startlinecolor": "#2a3f5f"
            },
            "type": "carpet"
           }
          ],
          "choropleth": [
           {
            "colorbar": {
             "outlinewidth": 0,
             "ticks": ""
            },
            "type": "choropleth"
           }
          ],
          "contour": [
           {
            "colorbar": {
             "outlinewidth": 0,
             "ticks": ""
            },
            "colorscale": [
             [
              0,
              "#0d0887"
             ],
             [
              0.1111111111111111,
              "#46039f"
             ],
             [
              0.2222222222222222,
              "#7201a8"
             ],
             [
              0.3333333333333333,
              "#9c179e"
             ],
             [
              0.4444444444444444,
              "#bd3786"
             ],
             [
              0.5555555555555556,
              "#d8576b"
             ],
             [
              0.6666666666666666,
              "#ed7953"
             ],
             [
              0.7777777777777778,
              "#fb9f3a"
             ],
             [
              0.8888888888888888,
              "#fdca26"
             ],
             [
              1,
              "#f0f921"
             ]
            ],
            "type": "contour"
           }
          ],
          "contourcarpet": [
           {
            "colorbar": {
             "outlinewidth": 0,
             "ticks": ""
            },
            "type": "contourcarpet"
           }
          ],
          "heatmap": [
           {
            "colorbar": {
             "outlinewidth": 0,
             "ticks": ""
            },
            "colorscale": [
             [
              0,
              "#0d0887"
             ],
             [
              0.1111111111111111,
              "#46039f"
             ],
             [
              0.2222222222222222,
              "#7201a8"
             ],
             [
              0.3333333333333333,
              "#9c179e"
             ],
             [
              0.4444444444444444,
              "#bd3786"
             ],
             [
              0.5555555555555556,
              "#d8576b"
             ],
             [
              0.6666666666666666,
              "#ed7953"
             ],
             [
              0.7777777777777778,
              "#fb9f3a"
             ],
             [
              0.8888888888888888,
              "#fdca26"
             ],
             [
              1,
              "#f0f921"
             ]
            ],
            "type": "heatmap"
           }
          ],
          "heatmapgl": [
           {
            "colorbar": {
             "outlinewidth": 0,
             "ticks": ""
            },
            "colorscale": [
             [
              0,
              "#0d0887"
             ],
             [
              0.1111111111111111,
              "#46039f"
             ],
             [
              0.2222222222222222,
              "#7201a8"
             ],
             [
              0.3333333333333333,
              "#9c179e"
             ],
             [
              0.4444444444444444,
              "#bd3786"
             ],
             [
              0.5555555555555556,
              "#d8576b"
             ],
             [
              0.6666666666666666,
              "#ed7953"
             ],
             [
              0.7777777777777778,
              "#fb9f3a"
             ],
             [
              0.8888888888888888,
              "#fdca26"
             ],
             [
              1,
              "#f0f921"
             ]
            ],
            "type": "heatmapgl"
           }
          ],
          "histogram": [
           {
            "marker": {
             "pattern": {
              "fillmode": "overlay",
              "size": 10,
              "solidity": 0.2
             }
            },
            "type": "histogram"
           }
          ],
          "histogram2d": [
           {
            "colorbar": {
             "outlinewidth": 0,
             "ticks": ""
            },
            "colorscale": [
             [
              0,
              "#0d0887"
             ],
             [
              0.1111111111111111,
              "#46039f"
             ],
             [
              0.2222222222222222,
              "#7201a8"
             ],
             [
              0.3333333333333333,
              "#9c179e"
             ],
             [
              0.4444444444444444,
              "#bd3786"
             ],
             [
              0.5555555555555556,
              "#d8576b"
             ],
             [
              0.6666666666666666,
              "#ed7953"
             ],
             [
              0.7777777777777778,
              "#fb9f3a"
             ],
             [
              0.8888888888888888,
              "#fdca26"
             ],
             [
              1,
              "#f0f921"
             ]
            ],
            "type": "histogram2d"
           }
          ],
          "histogram2dcontour": [
           {
            "colorbar": {
             "outlinewidth": 0,
             "ticks": ""
            },
            "colorscale": [
             [
              0,
              "#0d0887"
             ],
             [
              0.1111111111111111,
              "#46039f"
             ],
             [
              0.2222222222222222,
              "#7201a8"
             ],
             [
              0.3333333333333333,
              "#9c179e"
             ],
             [
              0.4444444444444444,
              "#bd3786"
             ],
             [
              0.5555555555555556,
              "#d8576b"
             ],
             [
              0.6666666666666666,
              "#ed7953"
             ],
             [
              0.7777777777777778,
              "#fb9f3a"
             ],
             [
              0.8888888888888888,
              "#fdca26"
             ],
             [
              1,
              "#f0f921"
             ]
            ],
            "type": "histogram2dcontour"
           }
          ],
          "mesh3d": [
           {
            "colorbar": {
             "outlinewidth": 0,
             "ticks": ""
            },
            "type": "mesh3d"
           }
          ],
          "parcoords": [
           {
            "line": {
             "colorbar": {
              "outlinewidth": 0,
              "ticks": ""
             }
            },
            "type": "parcoords"
           }
          ],
          "pie": [
           {
            "automargin": true,
            "type": "pie"
           }
          ],
          "scatter": [
           {
            "fillpattern": {
             "fillmode": "overlay",
             "size": 10,
             "solidity": 0.2
            },
            "type": "scatter"
           }
          ],
          "scatter3d": [
           {
            "line": {
             "colorbar": {
              "outlinewidth": 0,
              "ticks": ""
             }
            },
            "marker": {
             "colorbar": {
              "outlinewidth": 0,
              "ticks": ""
             }
            },
            "type": "scatter3d"
           }
          ],
          "scattercarpet": [
           {
            "marker": {
             "colorbar": {
              "outlinewidth": 0,
              "ticks": ""
             }
            },
            "type": "scattercarpet"
           }
          ],
          "scattergeo": [
           {
            "marker": {
             "colorbar": {
              "outlinewidth": 0,
              "ticks": ""
             }
            },
            "type": "scattergeo"
           }
          ],
          "scattergl": [
           {
            "marker": {
             "colorbar": {
              "outlinewidth": 0,
              "ticks": ""
             }
            },
            "type": "scattergl"
           }
          ],
          "scattermapbox": [
           {
            "marker": {
             "colorbar": {
              "outlinewidth": 0,
              "ticks": ""
             }
            },
            "type": "scattermapbox"
           }
          ],
          "scatterpolar": [
           {
            "marker": {
             "colorbar": {
              "outlinewidth": 0,
              "ticks": ""
             }
            },
            "type": "scatterpolar"
           }
          ],
          "scatterpolargl": [
           {
            "marker": {
             "colorbar": {
              "outlinewidth": 0,
              "ticks": ""
             }
            },
            "type": "scatterpolargl"
           }
          ],
          "scatterternary": [
           {
            "marker": {
             "colorbar": {
              "outlinewidth": 0,
              "ticks": ""
             }
            },
            "type": "scatterternary"
           }
          ],
          "surface": [
           {
            "colorbar": {
             "outlinewidth": 0,
             "ticks": ""
            },
            "colorscale": [
             [
              0,
              "#0d0887"
             ],
             [
              0.1111111111111111,
              "#46039f"
             ],
             [
              0.2222222222222222,
              "#7201a8"
             ],
             [
              0.3333333333333333,
              "#9c179e"
             ],
             [
              0.4444444444444444,
              "#bd3786"
             ],
             [
              0.5555555555555556,
              "#d8576b"
             ],
             [
              0.6666666666666666,
              "#ed7953"
             ],
             [
              0.7777777777777778,
              "#fb9f3a"
             ],
             [
              0.8888888888888888,
              "#fdca26"
             ],
             [
              1,
              "#f0f921"
             ]
            ],
            "type": "surface"
           }
          ],
          "table": [
           {
            "cells": {
             "fill": {
              "color": "#EBF0F8"
             },
             "line": {
              "color": "white"
             }
            },
            "header": {
             "fill": {
              "color": "#C8D4E3"
             },
             "line": {
              "color": "white"
             }
            },
            "type": "table"
           }
          ]
         },
         "layout": {
          "annotationdefaults": {
           "arrowcolor": "#2a3f5f",
           "arrowhead": 0,
           "arrowwidth": 1
          },
          "autotypenumbers": "strict",
          "coloraxis": {
           "colorbar": {
            "outlinewidth": 0,
            "ticks": ""
           }
          },
          "colorscale": {
           "diverging": [
            [
             0,
             "#8e0152"
            ],
            [
             0.1,
             "#c51b7d"
            ],
            [
             0.2,
             "#de77ae"
            ],
            [
             0.3,
             "#f1b6da"
            ],
            [
             0.4,
             "#fde0ef"
            ],
            [
             0.5,
             "#f7f7f7"
            ],
            [
             0.6,
             "#e6f5d0"
            ],
            [
             0.7,
             "#b8e186"
            ],
            [
             0.8,
             "#7fbc41"
            ],
            [
             0.9,
             "#4d9221"
            ],
            [
             1,
             "#276419"
            ]
           ],
           "sequential": [
            [
             0,
             "#0d0887"
            ],
            [
             0.1111111111111111,
             "#46039f"
            ],
            [
             0.2222222222222222,
             "#7201a8"
            ],
            [
             0.3333333333333333,
             "#9c179e"
            ],
            [
             0.4444444444444444,
             "#bd3786"
            ],
            [
             0.5555555555555556,
             "#d8576b"
            ],
            [
             0.6666666666666666,
             "#ed7953"
            ],
            [
             0.7777777777777778,
             "#fb9f3a"
            ],
            [
             0.8888888888888888,
             "#fdca26"
            ],
            [
             1,
             "#f0f921"
            ]
           ],
           "sequentialminus": [
            [
             0,
             "#0d0887"
            ],
            [
             0.1111111111111111,
             "#46039f"
            ],
            [
             0.2222222222222222,
             "#7201a8"
            ],
            [
             0.3333333333333333,
             "#9c179e"
            ],
            [
             0.4444444444444444,
             "#bd3786"
            ],
            [
             0.5555555555555556,
             "#d8576b"
            ],
            [
             0.6666666666666666,
             "#ed7953"
            ],
            [
             0.7777777777777778,
             "#fb9f3a"
            ],
            [
             0.8888888888888888,
             "#fdca26"
            ],
            [
             1,
             "#f0f921"
            ]
           ]
          },
          "colorway": [
           "#636efa",
           "#EF553B",
           "#00cc96",
           "#ab63fa",
           "#FFA15A",
           "#19d3f3",
           "#FF6692",
           "#B6E880",
           "#FF97FF",
           "#FECB52"
          ],
          "font": {
           "color": "#2a3f5f"
          },
          "geo": {
           "bgcolor": "white",
           "lakecolor": "white",
           "landcolor": "#E5ECF6",
           "showlakes": true,
           "showland": true,
           "subunitcolor": "white"
          },
          "hoverlabel": {
           "align": "left"
          },
          "hovermode": "closest",
          "mapbox": {
           "style": "light"
          },
          "paper_bgcolor": "white",
          "plot_bgcolor": "#E5ECF6",
          "polar": {
           "angularaxis": {
            "gridcolor": "white",
            "linecolor": "white",
            "ticks": ""
           },
           "bgcolor": "#E5ECF6",
           "radialaxis": {
            "gridcolor": "white",
            "linecolor": "white",
            "ticks": ""
           }
          },
          "scene": {
           "xaxis": {
            "backgroundcolor": "#E5ECF6",
            "gridcolor": "white",
            "gridwidth": 2,
            "linecolor": "white",
            "showbackground": true,
            "ticks": "",
            "zerolinecolor": "white"
           },
           "yaxis": {
            "backgroundcolor": "#E5ECF6",
            "gridcolor": "white",
            "gridwidth": 2,
            "linecolor": "white",
            "showbackground": true,
            "ticks": "",
            "zerolinecolor": "white"
           },
           "zaxis": {
            "backgroundcolor": "#E5ECF6",
            "gridcolor": "white",
            "gridwidth": 2,
            "linecolor": "white",
            "showbackground": true,
            "ticks": "",
            "zerolinecolor": "white"
           }
          },
          "shapedefaults": {
           "line": {
            "color": "#2a3f5f"
           }
          },
          "ternary": {
           "aaxis": {
            "gridcolor": "white",
            "linecolor": "white",
            "ticks": ""
           },
           "baxis": {
            "gridcolor": "white",
            "linecolor": "white",
            "ticks": ""
           },
           "bgcolor": "#E5ECF6",
           "caxis": {
            "gridcolor": "white",
            "linecolor": "white",
            "ticks": ""
           }
          },
          "title": {
           "x": 0.05
          },
          "xaxis": {
           "automargin": true,
           "gridcolor": "white",
           "linecolor": "white",
           "ticks": "",
           "title": {
            "standoff": 15
           },
           "zerolinecolor": "white",
           "zerolinewidth": 2
          },
          "yaxis": {
           "automargin": true,
           "gridcolor": "white",
           "linecolor": "white",
           "ticks": "",
           "title": {
            "standoff": 15
           },
           "zerolinecolor": "white",
           "zerolinewidth": 2
          }
         }
        },
        "title": {
         "font": {
          "color": "#4D5663"
         }
        },
        "xaxis": {
         "gridcolor": "#E1E5ED",
         "showgrid": true,
         "tickfont": {
          "color": "#4D5663"
         },
         "title": {
          "font": {
           "color": "#4D5663"
          },
          "text": ""
         },
         "zerolinecolor": "#E1E5ED"
        },
        "yaxis": {
         "gridcolor": "#E1E5ED",
         "showgrid": true,
         "tickfont": {
          "color": "#4D5663"
         },
         "title": {
          "font": {
           "color": "#4D5663"
          },
          "text": ""
         },
         "zerolinecolor": "#E1E5ED"
        }
       }
      },
      "text/html": [
       "<div>                            <div id=\"d4727bef-79a1-472a-9f70-57212114c4fc\" class=\"plotly-graph-div\" style=\"height:525px; width:100%;\"></div>            <script type=\"text/javascript\">                require([\"plotly\"], function(Plotly) {                    window.PLOTLYENV=window.PLOTLYENV || {};\n",
       "                    window.PLOTLYENV.BASE_URL='https://plot.ly';                                    if (document.getElementById(\"d4727bef-79a1-472a-9f70-57212114c4fc\")) {                    Plotly.newPlot(                        \"d4727bef-79a1-472a-9f70-57212114c4fc\",                        [{\"histfunc\":\"count\",\"histnorm\":\"\",\"marker\":{\"color\":\"rgba(255, 153, 51, 1.0)\",\"line\":{\"color\":\"#4D5663\",\"width\":1.3}},\"name\":\"A\",\"nbinsx\":25,\"opacity\":0.8,\"orientation\":\"v\",\"x\":[-1.801810462118037,-0.7405278999282524,-1.461857030304494,-1.0591589088198288,-0.26428618768178,1.948164848630421,-0.23589027518673694,0.24657238281739297,1.658021589581248,0.186696452034347,0.8825333889982601,-0.4773798929601018,0.46972651548583444,-0.17320093063047146,-0.22683508244266204,1.2562233016361952,1.310914817148744,-0.37320437367658954,1.926147146248471,0.013675304777552416,0.007595408552958917,0.8221929815368014,0.07591846652853262,-0.21887489450015163,-1.415591119445165,0.6011093091930616,0.21043611550600955,3.551151429719778,0.67855980837985,0.44441040471099097,0.40501800594761467,-1.4429420586514943,-0.5726089226425692,0.42711475011987726,-2.4849078390422226,-1.550838633703084,0.1342471868944414,-2.0658158540835156,-1.8297783603605737,0.34384485642331847,0.8911555668974951,-0.6680580034989891,0.1817138264631769,-0.5573719045906718,-1.000221211263796,2.543907973222884,2.820663767772808,-1.23451797618291,0.42285643724592425,-0.2676682957595602,0.9239153944241625,0.2835359062945152,0.5211584364498096,1.6481997375179325,-0.1340133395115864,-1.195946189733816,0.43874383472847545,-1.053832892116574,-0.4696895658433154,0.22089459970479716,0.31106612098315894,1.6325152367399631,0.12148171286156609,0.7284922533146289,1.150935928793852,-1.4493052864419957,-1.3474885438875936,1.4995138007616624,-0.8548810056095114,-0.2508135705830549,1.5859524585585354,0.30169570948898355,-1.3847584411858844,-0.7172952877799311,-0.2388523125662473,-1.5402688784288574,0.6233403248885073,0.3994901335348674,1.497119149431649,-0.7830568325317241,-0.9451963490340021,0.9306499911855516,1.054919906601512,-0.06781875041286145,1.6372857588173881,0.4258715683400193,0.5492007699401444,-0.44183901504598483,0.5081694849786166,-0.5873992503246563,1.3060687492015108,-0.8504842584600737,0.11378281383033334,-0.39823121338126055,0.21212719538403102,0.9743250022300478,-0.7048213917177746,0.5342517217633828,0.9232089584369408,-0.7542607429128845],\"type\":\"histogram\"}],                        {\"barmode\":\"overlay\",\"legend\":{\"bgcolor\":\"#F5F6F9\",\"font\":{\"color\":\"#4D5663\"}},\"paper_bgcolor\":\"#F5F6F9\",\"plot_bgcolor\":\"#F5F6F9\",\"template\":{\"data\":{\"barpolar\":[{\"marker\":{\"line\":{\"color\":\"#E5ECF6\",\"width\":0.5},\"pattern\":{\"fillmode\":\"overlay\",\"size\":10,\"solidity\":0.2}},\"type\":\"barpolar\"}],\"bar\":[{\"error_x\":{\"color\":\"#2a3f5f\"},\"error_y\":{\"color\":\"#2a3f5f\"},\"marker\":{\"line\":{\"color\":\"#E5ECF6\",\"width\":0.5},\"pattern\":{\"fillmode\":\"overlay\",\"size\":10,\"solidity\":0.2}},\"type\":\"bar\"}],\"carpet\":[{\"aaxis\":{\"endlinecolor\":\"#2a3f5f\",\"gridcolor\":\"white\",\"linecolor\":\"white\",\"minorgridcolor\":\"white\",\"startlinecolor\":\"#2a3f5f\"},\"baxis\":{\"endlinecolor\":\"#2a3f5f\",\"gridcolor\":\"white\",\"linecolor\":\"white\",\"minorgridcolor\":\"white\",\"startlinecolor\":\"#2a3f5f\"},\"type\":\"carpet\"}],\"choropleth\":[{\"colorbar\":{\"outlinewidth\":0,\"ticks\":\"\"},\"type\":\"choropleth\"}],\"contourcarpet\":[{\"colorbar\":{\"outlinewidth\":0,\"ticks\":\"\"},\"type\":\"contourcarpet\"}],\"contour\":[{\"colorbar\":{\"outlinewidth\":0,\"ticks\":\"\"},\"colorscale\":[[0.0,\"#0d0887\"],[0.1111111111111111,\"#46039f\"],[0.2222222222222222,\"#7201a8\"],[0.3333333333333333,\"#9c179e\"],[0.4444444444444444,\"#bd3786\"],[0.5555555555555556,\"#d8576b\"],[0.6666666666666666,\"#ed7953\"],[0.7777777777777778,\"#fb9f3a\"],[0.8888888888888888,\"#fdca26\"],[1.0,\"#f0f921\"]],\"type\":\"contour\"}],\"heatmapgl\":[{\"colorbar\":{\"outlinewidth\":0,\"ticks\":\"\"},\"colorscale\":[[0.0,\"#0d0887\"],[0.1111111111111111,\"#46039f\"],[0.2222222222222222,\"#7201a8\"],[0.3333333333333333,\"#9c179e\"],[0.4444444444444444,\"#bd3786\"],[0.5555555555555556,\"#d8576b\"],[0.6666666666666666,\"#ed7953\"],[0.7777777777777778,\"#fb9f3a\"],[0.8888888888888888,\"#fdca26\"],[1.0,\"#f0f921\"]],\"type\":\"heatmapgl\"}],\"heatmap\":[{\"colorbar\":{\"outlinewidth\":0,\"ticks\":\"\"},\"colorscale\":[[0.0,\"#0d0887\"],[0.1111111111111111,\"#46039f\"],[0.2222222222222222,\"#7201a8\"],[0.3333333333333333,\"#9c179e\"],[0.4444444444444444,\"#bd3786\"],[0.5555555555555556,\"#d8576b\"],[0.6666666666666666,\"#ed7953\"],[0.7777777777777778,\"#fb9f3a\"],[0.8888888888888888,\"#fdca26\"],[1.0,\"#f0f921\"]],\"type\":\"heatmap\"}],\"histogram2dcontour\":[{\"colorbar\":{\"outlinewidth\":0,\"ticks\":\"\"},\"colorscale\":[[0.0,\"#0d0887\"],[0.1111111111111111,\"#46039f\"],[0.2222222222222222,\"#7201a8\"],[0.3333333333333333,\"#9c179e\"],[0.4444444444444444,\"#bd3786\"],[0.5555555555555556,\"#d8576b\"],[0.6666666666666666,\"#ed7953\"],[0.7777777777777778,\"#fb9f3a\"],[0.8888888888888888,\"#fdca26\"],[1.0,\"#f0f921\"]],\"type\":\"histogram2dcontour\"}],\"histogram2d\":[{\"colorbar\":{\"outlinewidth\":0,\"ticks\":\"\"},\"colorscale\":[[0.0,\"#0d0887\"],[0.1111111111111111,\"#46039f\"],[0.2222222222222222,\"#7201a8\"],[0.3333333333333333,\"#9c179e\"],[0.4444444444444444,\"#bd3786\"],[0.5555555555555556,\"#d8576b\"],[0.6666666666666666,\"#ed7953\"],[0.7777777777777778,\"#fb9f3a\"],[0.8888888888888888,\"#fdca26\"],[1.0,\"#f0f921\"]],\"type\":\"histogram2d\"}],\"histogram\":[{\"marker\":{\"pattern\":{\"fillmode\":\"overlay\",\"size\":10,\"solidity\":0.2}},\"type\":\"histogram\"}],\"mesh3d\":[{\"colorbar\":{\"outlinewidth\":0,\"ticks\":\"\"},\"type\":\"mesh3d\"}],\"parcoords\":[{\"line\":{\"colorbar\":{\"outlinewidth\":0,\"ticks\":\"\"}},\"type\":\"parcoords\"}],\"pie\":[{\"automargin\":true,\"type\":\"pie\"}],\"scatter3d\":[{\"line\":{\"colorbar\":{\"outlinewidth\":0,\"ticks\":\"\"}},\"marker\":{\"colorbar\":{\"outlinewidth\":0,\"ticks\":\"\"}},\"type\":\"scatter3d\"}],\"scattercarpet\":[{\"marker\":{\"colorbar\":{\"outlinewidth\":0,\"ticks\":\"\"}},\"type\":\"scattercarpet\"}],\"scattergeo\":[{\"marker\":{\"colorbar\":{\"outlinewidth\":0,\"ticks\":\"\"}},\"type\":\"scattergeo\"}],\"scattergl\":[{\"marker\":{\"colorbar\":{\"outlinewidth\":0,\"ticks\":\"\"}},\"type\":\"scattergl\"}],\"scattermapbox\":[{\"marker\":{\"colorbar\":{\"outlinewidth\":0,\"ticks\":\"\"}},\"type\":\"scattermapbox\"}],\"scatterpolargl\":[{\"marker\":{\"colorbar\":{\"outlinewidth\":0,\"ticks\":\"\"}},\"type\":\"scatterpolargl\"}],\"scatterpolar\":[{\"marker\":{\"colorbar\":{\"outlinewidth\":0,\"ticks\":\"\"}},\"type\":\"scatterpolar\"}],\"scatter\":[{\"fillpattern\":{\"fillmode\":\"overlay\",\"size\":10,\"solidity\":0.2},\"type\":\"scatter\"}],\"scatterternary\":[{\"marker\":{\"colorbar\":{\"outlinewidth\":0,\"ticks\":\"\"}},\"type\":\"scatterternary\"}],\"surface\":[{\"colorbar\":{\"outlinewidth\":0,\"ticks\":\"\"},\"colorscale\":[[0.0,\"#0d0887\"],[0.1111111111111111,\"#46039f\"],[0.2222222222222222,\"#7201a8\"],[0.3333333333333333,\"#9c179e\"],[0.4444444444444444,\"#bd3786\"],[0.5555555555555556,\"#d8576b\"],[0.6666666666666666,\"#ed7953\"],[0.7777777777777778,\"#fb9f3a\"],[0.8888888888888888,\"#fdca26\"],[1.0,\"#f0f921\"]],\"type\":\"surface\"}],\"table\":[{\"cells\":{\"fill\":{\"color\":\"#EBF0F8\"},\"line\":{\"color\":\"white\"}},\"header\":{\"fill\":{\"color\":\"#C8D4E3\"},\"line\":{\"color\":\"white\"}},\"type\":\"table\"}]},\"layout\":{\"annotationdefaults\":{\"arrowcolor\":\"#2a3f5f\",\"arrowhead\":0,\"arrowwidth\":1},\"autotypenumbers\":\"strict\",\"coloraxis\":{\"colorbar\":{\"outlinewidth\":0,\"ticks\":\"\"}},\"colorscale\":{\"diverging\":[[0,\"#8e0152\"],[0.1,\"#c51b7d\"],[0.2,\"#de77ae\"],[0.3,\"#f1b6da\"],[0.4,\"#fde0ef\"],[0.5,\"#f7f7f7\"],[0.6,\"#e6f5d0\"],[0.7,\"#b8e186\"],[0.8,\"#7fbc41\"],[0.9,\"#4d9221\"],[1,\"#276419\"]],\"sequential\":[[0.0,\"#0d0887\"],[0.1111111111111111,\"#46039f\"],[0.2222222222222222,\"#7201a8\"],[0.3333333333333333,\"#9c179e\"],[0.4444444444444444,\"#bd3786\"],[0.5555555555555556,\"#d8576b\"],[0.6666666666666666,\"#ed7953\"],[0.7777777777777778,\"#fb9f3a\"],[0.8888888888888888,\"#fdca26\"],[1.0,\"#f0f921\"]],\"sequentialminus\":[[0.0,\"#0d0887\"],[0.1111111111111111,\"#46039f\"],[0.2222222222222222,\"#7201a8\"],[0.3333333333333333,\"#9c179e\"],[0.4444444444444444,\"#bd3786\"],[0.5555555555555556,\"#d8576b\"],[0.6666666666666666,\"#ed7953\"],[0.7777777777777778,\"#fb9f3a\"],[0.8888888888888888,\"#fdca26\"],[1.0,\"#f0f921\"]]},\"colorway\":[\"#636efa\",\"#EF553B\",\"#00cc96\",\"#ab63fa\",\"#FFA15A\",\"#19d3f3\",\"#FF6692\",\"#B6E880\",\"#FF97FF\",\"#FECB52\"],\"font\":{\"color\":\"#2a3f5f\"},\"geo\":{\"bgcolor\":\"white\",\"lakecolor\":\"white\",\"landcolor\":\"#E5ECF6\",\"showlakes\":true,\"showland\":true,\"subunitcolor\":\"white\"},\"hoverlabel\":{\"align\":\"left\"},\"hovermode\":\"closest\",\"mapbox\":{\"style\":\"light\"},\"paper_bgcolor\":\"white\",\"plot_bgcolor\":\"#E5ECF6\",\"polar\":{\"angularaxis\":{\"gridcolor\":\"white\",\"linecolor\":\"white\",\"ticks\":\"\"},\"bgcolor\":\"#E5ECF6\",\"radialaxis\":{\"gridcolor\":\"white\",\"linecolor\":\"white\",\"ticks\":\"\"}},\"scene\":{\"xaxis\":{\"backgroundcolor\":\"#E5ECF6\",\"gridcolor\":\"white\",\"gridwidth\":2,\"linecolor\":\"white\",\"showbackground\":true,\"ticks\":\"\",\"zerolinecolor\":\"white\"},\"yaxis\":{\"backgroundcolor\":\"#E5ECF6\",\"gridcolor\":\"white\",\"gridwidth\":2,\"linecolor\":\"white\",\"showbackground\":true,\"ticks\":\"\",\"zerolinecolor\":\"white\"},\"zaxis\":{\"backgroundcolor\":\"#E5ECF6\",\"gridcolor\":\"white\",\"gridwidth\":2,\"linecolor\":\"white\",\"showbackground\":true,\"ticks\":\"\",\"zerolinecolor\":\"white\"}},\"shapedefaults\":{\"line\":{\"color\":\"#2a3f5f\"}},\"ternary\":{\"aaxis\":{\"gridcolor\":\"white\",\"linecolor\":\"white\",\"ticks\":\"\"},\"baxis\":{\"gridcolor\":\"white\",\"linecolor\":\"white\",\"ticks\":\"\"},\"bgcolor\":\"#E5ECF6\",\"caxis\":{\"gridcolor\":\"white\",\"linecolor\":\"white\",\"ticks\":\"\"}},\"title\":{\"x\":0.05},\"xaxis\":{\"automargin\":true,\"gridcolor\":\"white\",\"linecolor\":\"white\",\"ticks\":\"\",\"title\":{\"standoff\":15},\"zerolinecolor\":\"white\",\"zerolinewidth\":2},\"yaxis\":{\"automargin\":true,\"gridcolor\":\"white\",\"linecolor\":\"white\",\"ticks\":\"\",\"title\":{\"standoff\":15},\"zerolinecolor\":\"white\",\"zerolinewidth\":2}}},\"title\":{\"font\":{\"color\":\"#4D5663\"}},\"xaxis\":{\"gridcolor\":\"#E1E5ED\",\"showgrid\":true,\"tickfont\":{\"color\":\"#4D5663\"},\"title\":{\"font\":{\"color\":\"#4D5663\"},\"text\":\"\"},\"zerolinecolor\":\"#E1E5ED\"},\"yaxis\":{\"gridcolor\":\"#E1E5ED\",\"showgrid\":true,\"tickfont\":{\"color\":\"#4D5663\"},\"title\":{\"font\":{\"color\":\"#4D5663\"},\"text\":\"\"},\"zerolinecolor\":\"#E1E5ED\"}},                        {\"showLink\": true, \"linkText\": \"Export to plot.ly\", \"plotlyServerURL\": \"https://plot.ly\", \"responsive\": true}                    ).then(function(){\n",
       "                            \n",
       "var gd = document.getElementById('d4727bef-79a1-472a-9f70-57212114c4fc');\n",
       "var x = new MutationObserver(function (mutations, observer) {{\n",
       "        var display = window.getComputedStyle(gd).display;\n",
       "        if (!display || display === 'none') {{\n",
       "            console.log([gd, 'removed!']);\n",
       "            Plotly.purge(gd);\n",
       "            observer.disconnect();\n",
       "        }}\n",
       "}});\n",
       "\n",
       "// Listen for the removal of the full notebook cells\n",
       "var notebookContainer = gd.closest('#notebook-container');\n",
       "if (notebookContainer) {{\n",
       "    x.observe(notebookContainer, {childList: true});\n",
       "}}\n",
       "\n",
       "// Listen for the clearing of the current output cell\n",
       "var outputEl = gd.closest('.output');\n",
       "if (outputEl) {{\n",
       "    x.observe(outputEl, {childList: true});\n",
       "}}\n",
       "\n",
       "                        })                };                });            </script>        </div>"
      ]
     },
     "metadata": {},
     "output_type": "display_data"
    }
   ],
   "source": [
    "df['A'].iplot(kind='hist',bins=25)"
   ]
  },
  {
   "cell_type": "code",
   "execution_count": 23,
   "metadata": {},
   "outputs": [
    {
     "data": {
      "application/vnd.plotly.v1+json": {
       "config": {
        "linkText": "Export to plot.ly",
        "plotlyServerURL": "https://plot.ly",
        "showLink": true
       },
       "data": [
        {
         "marker": {
          "color": [
           "rgb(255, 153, 51)",
           "rgb(55, 128, 191)",
           "rgb(50, 171, 96)",
           "rgb(128, 0, 128)",
           "rgb(219, 64, 82)",
           "rgb(0, 128, 128)",
           "rgb(255, 255, 51)",
           "rgb(128, 128, 0)",
           "rgb(251, 128, 114)",
           "rgb(128, 177, 211)"
          ],
          "line": {
           "width": 1.3
          },
          "size": [
           50,
           92,
           83,
           56,
           69,
           99,
           75,
           84,
           19,
           40,
           51,
           59,
           39,
           99,
           86,
           77,
           76,
           60,
           87,
           63,
           53,
           24,
           66,
           60,
           61,
           49,
           82,
           50,
           110,
           81,
           49,
           44,
           72,
           98,
           51,
           100,
           56,
           26,
           66,
           58,
           38,
           94,
           47,
           53,
           103,
           75,
           58,
           92,
           38,
           79,
           45,
           70,
           72,
           63,
           12,
           34,
           94,
           42,
           47,
           74,
           15,
           88,
           76,
           63,
           38,
           59,
           71,
           32,
           68,
           69,
           50,
           59,
           74,
           34,
           63,
           112,
           94,
           58,
           15,
           50,
           52,
           40,
           32,
           36,
           56,
           82,
           84,
           32,
           64,
           70,
           87,
           105,
           81,
           29,
           69,
           68,
           54,
           51,
           37,
           47
          ],
          "symbol": "circle"
         },
         "mode": "markers",
         "text": "",
         "type": "scatter",
         "x": [
          -1.801810462118037,
          -0.7405278999282524,
          -1.461857030304494,
          -1.0591589088198288,
          -0.26428618768178,
          1.948164848630421,
          -0.23589027518673694,
          0.24657238281739297,
          1.658021589581248,
          0.186696452034347,
          0.8825333889982601,
          -0.4773798929601018,
          0.46972651548583444,
          -0.17320093063047146,
          -0.22683508244266204,
          1.2562233016361952,
          1.310914817148744,
          -0.37320437367658954,
          1.926147146248471,
          0.013675304777552416,
          0.007595408552958917,
          0.8221929815368014,
          0.07591846652853262,
          -0.21887489450015163,
          -1.415591119445165,
          0.6011093091930616,
          0.21043611550600955,
          3.551151429719778,
          0.67855980837985,
          0.44441040471099097,
          0.40501800594761467,
          -1.4429420586514943,
          -0.5726089226425692,
          0.42711475011987726,
          -2.4849078390422226,
          -1.550838633703084,
          0.1342471868944414,
          -2.0658158540835156,
          -1.8297783603605737,
          0.34384485642331847,
          0.8911555668974951,
          -0.6680580034989891,
          0.1817138264631769,
          -0.5573719045906718,
          -1.000221211263796,
          2.543907973222884,
          2.820663767772808,
          -1.23451797618291,
          0.42285643724592425,
          -0.2676682957595602,
          0.9239153944241625,
          0.2835359062945152,
          0.5211584364498096,
          1.6481997375179325,
          -0.1340133395115864,
          -1.195946189733816,
          0.43874383472847545,
          -1.053832892116574,
          -0.4696895658433154,
          0.22089459970479716,
          0.31106612098315894,
          1.6325152367399631,
          0.12148171286156609,
          0.7284922533146289,
          1.150935928793852,
          -1.4493052864419957,
          -1.3474885438875936,
          1.4995138007616624,
          -0.8548810056095114,
          -0.2508135705830549,
          1.5859524585585354,
          0.30169570948898355,
          -1.3847584411858844,
          -0.7172952877799311,
          -0.2388523125662473,
          -1.5402688784288574,
          0.6233403248885073,
          0.3994901335348674,
          1.497119149431649,
          -0.7830568325317241,
          -0.9451963490340021,
          0.9306499911855516,
          1.054919906601512,
          -0.06781875041286145,
          1.6372857588173881,
          0.4258715683400193,
          0.5492007699401444,
          -0.44183901504598483,
          0.5081694849786166,
          -0.5873992503246563,
          1.3060687492015108,
          -0.8504842584600737,
          0.11378281383033334,
          -0.39823121338126055,
          0.21212719538403102,
          0.9743250022300478,
          -0.7048213917177746,
          0.5342517217633828,
          0.9232089584369408,
          -0.7542607429128845
         ],
         "y": [
          0.9717226780442976,
          0.9914293898313419,
          0.6411744066920212,
          -0.8096385110292955,
          -0.37840086893901514,
          1.7135984676116396,
          0.7197830448450903,
          -0.8983097692873694,
          -0.7552177183891712,
          -1.2511453031383102,
          1.3754310257599178,
          -0.8327151618667233,
          1.4235435329224304,
          0.01735458798168637,
          -0.010746680281691855,
          -1.1709321539445416,
          -1.0953584726049397,
          -1.5796819503451054,
          -1.4766025965885607,
          0.15821998684411592,
          -0.9524819112066436,
          -2.064130958296167,
          0.36773552266722587,
          0.2236223850089126,
          0.5449434992139803,
          -0.23083647027858636,
          -1.1964010702691652,
          1.1757632204612487,
          -1.434208487462081,
          0.440970032869492,
          1.2109577918782037,
          -1.5497590258661662,
          -0.9684039534666286,
          -1.8404879740939677,
          0.5147152292514234,
          0.6383097873389552,
          0.9773578834631445,
          0.5007529783172427,
          -0.4105139270567889,
          -1.847615053687545,
          -0.18923271793284913,
          -0.7720096015292391,
          0.4112457655385453,
          0.11467863000478293,
          -1.4206663795278238,
          -0.6610498487755905,
          -1.4253370680419448,
          -0.6642528926905991,
          0.14795487617785147,
          0.34363849028037385,
          0.5446940936108576,
          -1.170337828480521,
          -1.4967050826372772,
          -0.16549287272619267,
          -0.7757039233552273,
          -1.175333472793142,
          -0.9860584630593688,
          -0.2567624340922678,
          1.1081096697218578,
          0.4905022873141684,
          -0.10187821076946177,
          -0.25051212310093574,
          0.5496005698339377,
          1.0277801479335387,
          -1.224813022197627,
          -0.7926622390001563,
          1.3389661877832078,
          0.2583337045239479,
          1.4238321392245428,
          -1.2549517693217713,
          0.3924211759792029,
          -0.27980193924565083,
          -1.2494934296841034,
          -0.72321065360444,
          1.7934026957018891,
          -1.6003422408870176,
          -0.5283469480622293,
          1.710195162699524,
          0.3589247962405482,
          0.21770633363742475,
          -0.8589538797338953,
          0.5069020563414884,
          0.4792637241053778,
          -0.5471593239151623,
          -0.7966292908884803,
          -0.0008098478655252655,
          -0.8141368366633747,
          0.07197909212837338,
          0.7121987424077416,
          2.1642106277762276,
          1.6587166196970367,
          -0.3237980146126996,
          0.543683531746815,
          0.8866040206913408,
          0.06662129370902721,
          -0.36245149934859466,
          -1.5428237763966992,
          1.4300394265738816,
          -0.18491118700292594,
          0.06602098661546725
         ]
        }
       ],
       "layout": {
        "legend": {
         "bgcolor": "#F5F6F9",
         "font": {
          "color": "#4D5663"
         }
        },
        "paper_bgcolor": "#F5F6F9",
        "plot_bgcolor": "#F5F6F9",
        "template": {
         "data": {
          "bar": [
           {
            "error_x": {
             "color": "#2a3f5f"
            },
            "error_y": {
             "color": "#2a3f5f"
            },
            "marker": {
             "line": {
              "color": "#E5ECF6",
              "width": 0.5
             },
             "pattern": {
              "fillmode": "overlay",
              "size": 10,
              "solidity": 0.2
             }
            },
            "type": "bar"
           }
          ],
          "barpolar": [
           {
            "marker": {
             "line": {
              "color": "#E5ECF6",
              "width": 0.5
             },
             "pattern": {
              "fillmode": "overlay",
              "size": 10,
              "solidity": 0.2
             }
            },
            "type": "barpolar"
           }
          ],
          "carpet": [
           {
            "aaxis": {
             "endlinecolor": "#2a3f5f",
             "gridcolor": "white",
             "linecolor": "white",
             "minorgridcolor": "white",
             "startlinecolor": "#2a3f5f"
            },
            "baxis": {
             "endlinecolor": "#2a3f5f",
             "gridcolor": "white",
             "linecolor": "white",
             "minorgridcolor": "white",
             "startlinecolor": "#2a3f5f"
            },
            "type": "carpet"
           }
          ],
          "choropleth": [
           {
            "colorbar": {
             "outlinewidth": 0,
             "ticks": ""
            },
            "type": "choropleth"
           }
          ],
          "contour": [
           {
            "colorbar": {
             "outlinewidth": 0,
             "ticks": ""
            },
            "colorscale": [
             [
              0,
              "#0d0887"
             ],
             [
              0.1111111111111111,
              "#46039f"
             ],
             [
              0.2222222222222222,
              "#7201a8"
             ],
             [
              0.3333333333333333,
              "#9c179e"
             ],
             [
              0.4444444444444444,
              "#bd3786"
             ],
             [
              0.5555555555555556,
              "#d8576b"
             ],
             [
              0.6666666666666666,
              "#ed7953"
             ],
             [
              0.7777777777777778,
              "#fb9f3a"
             ],
             [
              0.8888888888888888,
              "#fdca26"
             ],
             [
              1,
              "#f0f921"
             ]
            ],
            "type": "contour"
           }
          ],
          "contourcarpet": [
           {
            "colorbar": {
             "outlinewidth": 0,
             "ticks": ""
            },
            "type": "contourcarpet"
           }
          ],
          "heatmap": [
           {
            "colorbar": {
             "outlinewidth": 0,
             "ticks": ""
            },
            "colorscale": [
             [
              0,
              "#0d0887"
             ],
             [
              0.1111111111111111,
              "#46039f"
             ],
             [
              0.2222222222222222,
              "#7201a8"
             ],
             [
              0.3333333333333333,
              "#9c179e"
             ],
             [
              0.4444444444444444,
              "#bd3786"
             ],
             [
              0.5555555555555556,
              "#d8576b"
             ],
             [
              0.6666666666666666,
              "#ed7953"
             ],
             [
              0.7777777777777778,
              "#fb9f3a"
             ],
             [
              0.8888888888888888,
              "#fdca26"
             ],
             [
              1,
              "#f0f921"
             ]
            ],
            "type": "heatmap"
           }
          ],
          "heatmapgl": [
           {
            "colorbar": {
             "outlinewidth": 0,
             "ticks": ""
            },
            "colorscale": [
             [
              0,
              "#0d0887"
             ],
             [
              0.1111111111111111,
              "#46039f"
             ],
             [
              0.2222222222222222,
              "#7201a8"
             ],
             [
              0.3333333333333333,
              "#9c179e"
             ],
             [
              0.4444444444444444,
              "#bd3786"
             ],
             [
              0.5555555555555556,
              "#d8576b"
             ],
             [
              0.6666666666666666,
              "#ed7953"
             ],
             [
              0.7777777777777778,
              "#fb9f3a"
             ],
             [
              0.8888888888888888,
              "#fdca26"
             ],
             [
              1,
              "#f0f921"
             ]
            ],
            "type": "heatmapgl"
           }
          ],
          "histogram": [
           {
            "marker": {
             "pattern": {
              "fillmode": "overlay",
              "size": 10,
              "solidity": 0.2
             }
            },
            "type": "histogram"
           }
          ],
          "histogram2d": [
           {
            "colorbar": {
             "outlinewidth": 0,
             "ticks": ""
            },
            "colorscale": [
             [
              0,
              "#0d0887"
             ],
             [
              0.1111111111111111,
              "#46039f"
             ],
             [
              0.2222222222222222,
              "#7201a8"
             ],
             [
              0.3333333333333333,
              "#9c179e"
             ],
             [
              0.4444444444444444,
              "#bd3786"
             ],
             [
              0.5555555555555556,
              "#d8576b"
             ],
             [
              0.6666666666666666,
              "#ed7953"
             ],
             [
              0.7777777777777778,
              "#fb9f3a"
             ],
             [
              0.8888888888888888,
              "#fdca26"
             ],
             [
              1,
              "#f0f921"
             ]
            ],
            "type": "histogram2d"
           }
          ],
          "histogram2dcontour": [
           {
            "colorbar": {
             "outlinewidth": 0,
             "ticks": ""
            },
            "colorscale": [
             [
              0,
              "#0d0887"
             ],
             [
              0.1111111111111111,
              "#46039f"
             ],
             [
              0.2222222222222222,
              "#7201a8"
             ],
             [
              0.3333333333333333,
              "#9c179e"
             ],
             [
              0.4444444444444444,
              "#bd3786"
             ],
             [
              0.5555555555555556,
              "#d8576b"
             ],
             [
              0.6666666666666666,
              "#ed7953"
             ],
             [
              0.7777777777777778,
              "#fb9f3a"
             ],
             [
              0.8888888888888888,
              "#fdca26"
             ],
             [
              1,
              "#f0f921"
             ]
            ],
            "type": "histogram2dcontour"
           }
          ],
          "mesh3d": [
           {
            "colorbar": {
             "outlinewidth": 0,
             "ticks": ""
            },
            "type": "mesh3d"
           }
          ],
          "parcoords": [
           {
            "line": {
             "colorbar": {
              "outlinewidth": 0,
              "ticks": ""
             }
            },
            "type": "parcoords"
           }
          ],
          "pie": [
           {
            "automargin": true,
            "type": "pie"
           }
          ],
          "scatter": [
           {
            "fillpattern": {
             "fillmode": "overlay",
             "size": 10,
             "solidity": 0.2
            },
            "type": "scatter"
           }
          ],
          "scatter3d": [
           {
            "line": {
             "colorbar": {
              "outlinewidth": 0,
              "ticks": ""
             }
            },
            "marker": {
             "colorbar": {
              "outlinewidth": 0,
              "ticks": ""
             }
            },
            "type": "scatter3d"
           }
          ],
          "scattercarpet": [
           {
            "marker": {
             "colorbar": {
              "outlinewidth": 0,
              "ticks": ""
             }
            },
            "type": "scattercarpet"
           }
          ],
          "scattergeo": [
           {
            "marker": {
             "colorbar": {
              "outlinewidth": 0,
              "ticks": ""
             }
            },
            "type": "scattergeo"
           }
          ],
          "scattergl": [
           {
            "marker": {
             "colorbar": {
              "outlinewidth": 0,
              "ticks": ""
             }
            },
            "type": "scattergl"
           }
          ],
          "scattermapbox": [
           {
            "marker": {
             "colorbar": {
              "outlinewidth": 0,
              "ticks": ""
             }
            },
            "type": "scattermapbox"
           }
          ],
          "scatterpolar": [
           {
            "marker": {
             "colorbar": {
              "outlinewidth": 0,
              "ticks": ""
             }
            },
            "type": "scatterpolar"
           }
          ],
          "scatterpolargl": [
           {
            "marker": {
             "colorbar": {
              "outlinewidth": 0,
              "ticks": ""
             }
            },
            "type": "scatterpolargl"
           }
          ],
          "scatterternary": [
           {
            "marker": {
             "colorbar": {
              "outlinewidth": 0,
              "ticks": ""
             }
            },
            "type": "scatterternary"
           }
          ],
          "surface": [
           {
            "colorbar": {
             "outlinewidth": 0,
             "ticks": ""
            },
            "colorscale": [
             [
              0,
              "#0d0887"
             ],
             [
              0.1111111111111111,
              "#46039f"
             ],
             [
              0.2222222222222222,
              "#7201a8"
             ],
             [
              0.3333333333333333,
              "#9c179e"
             ],
             [
              0.4444444444444444,
              "#bd3786"
             ],
             [
              0.5555555555555556,
              "#d8576b"
             ],
             [
              0.6666666666666666,
              "#ed7953"
             ],
             [
              0.7777777777777778,
              "#fb9f3a"
             ],
             [
              0.8888888888888888,
              "#fdca26"
             ],
             [
              1,
              "#f0f921"
             ]
            ],
            "type": "surface"
           }
          ],
          "table": [
           {
            "cells": {
             "fill": {
              "color": "#EBF0F8"
             },
             "line": {
              "color": "white"
             }
            },
            "header": {
             "fill": {
              "color": "#C8D4E3"
             },
             "line": {
              "color": "white"
             }
            },
            "type": "table"
           }
          ]
         },
         "layout": {
          "annotationdefaults": {
           "arrowcolor": "#2a3f5f",
           "arrowhead": 0,
           "arrowwidth": 1
          },
          "autotypenumbers": "strict",
          "coloraxis": {
           "colorbar": {
            "outlinewidth": 0,
            "ticks": ""
           }
          },
          "colorscale": {
           "diverging": [
            [
             0,
             "#8e0152"
            ],
            [
             0.1,
             "#c51b7d"
            ],
            [
             0.2,
             "#de77ae"
            ],
            [
             0.3,
             "#f1b6da"
            ],
            [
             0.4,
             "#fde0ef"
            ],
            [
             0.5,
             "#f7f7f7"
            ],
            [
             0.6,
             "#e6f5d0"
            ],
            [
             0.7,
             "#b8e186"
            ],
            [
             0.8,
             "#7fbc41"
            ],
            [
             0.9,
             "#4d9221"
            ],
            [
             1,
             "#276419"
            ]
           ],
           "sequential": [
            [
             0,
             "#0d0887"
            ],
            [
             0.1111111111111111,
             "#46039f"
            ],
            [
             0.2222222222222222,
             "#7201a8"
            ],
            [
             0.3333333333333333,
             "#9c179e"
            ],
            [
             0.4444444444444444,
             "#bd3786"
            ],
            [
             0.5555555555555556,
             "#d8576b"
            ],
            [
             0.6666666666666666,
             "#ed7953"
            ],
            [
             0.7777777777777778,
             "#fb9f3a"
            ],
            [
             0.8888888888888888,
             "#fdca26"
            ],
            [
             1,
             "#f0f921"
            ]
           ],
           "sequentialminus": [
            [
             0,
             "#0d0887"
            ],
            [
             0.1111111111111111,
             "#46039f"
            ],
            [
             0.2222222222222222,
             "#7201a8"
            ],
            [
             0.3333333333333333,
             "#9c179e"
            ],
            [
             0.4444444444444444,
             "#bd3786"
            ],
            [
             0.5555555555555556,
             "#d8576b"
            ],
            [
             0.6666666666666666,
             "#ed7953"
            ],
            [
             0.7777777777777778,
             "#fb9f3a"
            ],
            [
             0.8888888888888888,
             "#fdca26"
            ],
            [
             1,
             "#f0f921"
            ]
           ]
          },
          "colorway": [
           "#636efa",
           "#EF553B",
           "#00cc96",
           "#ab63fa",
           "#FFA15A",
           "#19d3f3",
           "#FF6692",
           "#B6E880",
           "#FF97FF",
           "#FECB52"
          ],
          "font": {
           "color": "#2a3f5f"
          },
          "geo": {
           "bgcolor": "white",
           "lakecolor": "white",
           "landcolor": "#E5ECF6",
           "showlakes": true,
           "showland": true,
           "subunitcolor": "white"
          },
          "hoverlabel": {
           "align": "left"
          },
          "hovermode": "closest",
          "mapbox": {
           "style": "light"
          },
          "paper_bgcolor": "white",
          "plot_bgcolor": "#E5ECF6",
          "polar": {
           "angularaxis": {
            "gridcolor": "white",
            "linecolor": "white",
            "ticks": ""
           },
           "bgcolor": "#E5ECF6",
           "radialaxis": {
            "gridcolor": "white",
            "linecolor": "white",
            "ticks": ""
           }
          },
          "scene": {
           "xaxis": {
            "backgroundcolor": "#E5ECF6",
            "gridcolor": "white",
            "gridwidth": 2,
            "linecolor": "white",
            "showbackground": true,
            "ticks": "",
            "zerolinecolor": "white"
           },
           "yaxis": {
            "backgroundcolor": "#E5ECF6",
            "gridcolor": "white",
            "gridwidth": 2,
            "linecolor": "white",
            "showbackground": true,
            "ticks": "",
            "zerolinecolor": "white"
           },
           "zaxis": {
            "backgroundcolor": "#E5ECF6",
            "gridcolor": "white",
            "gridwidth": 2,
            "linecolor": "white",
            "showbackground": true,
            "ticks": "",
            "zerolinecolor": "white"
           }
          },
          "shapedefaults": {
           "line": {
            "color": "#2a3f5f"
           }
          },
          "ternary": {
           "aaxis": {
            "gridcolor": "white",
            "linecolor": "white",
            "ticks": ""
           },
           "baxis": {
            "gridcolor": "white",
            "linecolor": "white",
            "ticks": ""
           },
           "bgcolor": "#E5ECF6",
           "caxis": {
            "gridcolor": "white",
            "linecolor": "white",
            "ticks": ""
           }
          },
          "title": {
           "x": 0.05
          },
          "xaxis": {
           "automargin": true,
           "gridcolor": "white",
           "linecolor": "white",
           "ticks": "",
           "title": {
            "standoff": 15
           },
           "zerolinecolor": "white",
           "zerolinewidth": 2
          },
          "yaxis": {
           "automargin": true,
           "gridcolor": "white",
           "linecolor": "white",
           "ticks": "",
           "title": {
            "standoff": 15
           },
           "zerolinecolor": "white",
           "zerolinewidth": 2
          }
         }
        },
        "title": {
         "font": {
          "color": "#4D5663"
         }
        },
        "xaxis": {
         "gridcolor": "#E1E5ED",
         "showgrid": true,
         "tickfont": {
          "color": "#4D5663"
         },
         "title": {
          "font": {
           "color": "#4D5663"
          },
          "text": ""
         },
         "zerolinecolor": "#E1E5ED"
        },
        "yaxis": {
         "gridcolor": "#E1E5ED",
         "showgrid": true,
         "tickfont": {
          "color": "#4D5663"
         },
         "title": {
          "font": {
           "color": "#4D5663"
          },
          "text": ""
         },
         "zerolinecolor": "#E1E5ED"
        }
       }
      },
      "text/html": [
       "<div>                            <div id=\"7f948303-af0f-4942-8fba-962f7db6c07b\" class=\"plotly-graph-div\" style=\"height:525px; width:100%;\"></div>            <script type=\"text/javascript\">                require([\"plotly\"], function(Plotly) {                    window.PLOTLYENV=window.PLOTLYENV || {};\n",
       "                    window.PLOTLYENV.BASE_URL='https://plot.ly';                                    if (document.getElementById(\"7f948303-af0f-4942-8fba-962f7db6c07b\")) {                    Plotly.newPlot(                        \"7f948303-af0f-4942-8fba-962f7db6c07b\",                        [{\"marker\":{\"color\":[\"rgb(255, 153, 51)\",\"rgb(55, 128, 191)\",\"rgb(50, 171, 96)\",\"rgb(128, 0, 128)\",\"rgb(219, 64, 82)\",\"rgb(0, 128, 128)\",\"rgb(255, 255, 51)\",\"rgb(128, 128, 0)\",\"rgb(251, 128, 114)\",\"rgb(128, 177, 211)\"],\"line\":{\"width\":1.3},\"size\":[50,92,83,56,69,99,75,84,19,40,51,59,39,99,86,77,76,60,87,63,53,24,66,60,61,49,82,50,110,81,49,44,72,98,51,100,56,26,66,58,38,94,47,53,103,75,58,92,38,79,45,70,72,63,12,34,94,42,47,74,15,88,76,63,38,59,71,32,68,69,50,59,74,34,63,112,94,58,15,50,52,40,32,36,56,82,84,32,64,70,87,105,81,29,69,68,54,51,37,47],\"symbol\":\"circle\"},\"mode\":\"markers\",\"text\":\"\",\"x\":[-1.801810462118037,-0.7405278999282524,-1.461857030304494,-1.0591589088198288,-0.26428618768178,1.948164848630421,-0.23589027518673694,0.24657238281739297,1.658021589581248,0.186696452034347,0.8825333889982601,-0.4773798929601018,0.46972651548583444,-0.17320093063047146,-0.22683508244266204,1.2562233016361952,1.310914817148744,-0.37320437367658954,1.926147146248471,0.013675304777552416,0.007595408552958917,0.8221929815368014,0.07591846652853262,-0.21887489450015163,-1.415591119445165,0.6011093091930616,0.21043611550600955,3.551151429719778,0.67855980837985,0.44441040471099097,0.40501800594761467,-1.4429420586514943,-0.5726089226425692,0.42711475011987726,-2.4849078390422226,-1.550838633703084,0.1342471868944414,-2.0658158540835156,-1.8297783603605737,0.34384485642331847,0.8911555668974951,-0.6680580034989891,0.1817138264631769,-0.5573719045906718,-1.000221211263796,2.543907973222884,2.820663767772808,-1.23451797618291,0.42285643724592425,-0.2676682957595602,0.9239153944241625,0.2835359062945152,0.5211584364498096,1.6481997375179325,-0.1340133395115864,-1.195946189733816,0.43874383472847545,-1.053832892116574,-0.4696895658433154,0.22089459970479716,0.31106612098315894,1.6325152367399631,0.12148171286156609,0.7284922533146289,1.150935928793852,-1.4493052864419957,-1.3474885438875936,1.4995138007616624,-0.8548810056095114,-0.2508135705830549,1.5859524585585354,0.30169570948898355,-1.3847584411858844,-0.7172952877799311,-0.2388523125662473,-1.5402688784288574,0.6233403248885073,0.3994901335348674,1.497119149431649,-0.7830568325317241,-0.9451963490340021,0.9306499911855516,1.054919906601512,-0.06781875041286145,1.6372857588173881,0.4258715683400193,0.5492007699401444,-0.44183901504598483,0.5081694849786166,-0.5873992503246563,1.3060687492015108,-0.8504842584600737,0.11378281383033334,-0.39823121338126055,0.21212719538403102,0.9743250022300478,-0.7048213917177746,0.5342517217633828,0.9232089584369408,-0.7542607429128845],\"y\":[0.9717226780442976,0.9914293898313419,0.6411744066920212,-0.8096385110292955,-0.37840086893901514,1.7135984676116396,0.7197830448450903,-0.8983097692873694,-0.7552177183891712,-1.2511453031383102,1.3754310257599178,-0.8327151618667233,1.4235435329224304,0.01735458798168637,-0.010746680281691855,-1.1709321539445416,-1.0953584726049397,-1.5796819503451054,-1.4766025965885607,0.15821998684411592,-0.9524819112066436,-2.064130958296167,0.36773552266722587,0.2236223850089126,0.5449434992139803,-0.23083647027858636,-1.1964010702691652,1.1757632204612487,-1.434208487462081,0.440970032869492,1.2109577918782037,-1.5497590258661662,-0.9684039534666286,-1.8404879740939677,0.5147152292514234,0.6383097873389552,0.9773578834631445,0.5007529783172427,-0.4105139270567889,-1.847615053687545,-0.18923271793284913,-0.7720096015292391,0.4112457655385453,0.11467863000478293,-1.4206663795278238,-0.6610498487755905,-1.4253370680419448,-0.6642528926905991,0.14795487617785147,0.34363849028037385,0.5446940936108576,-1.170337828480521,-1.4967050826372772,-0.16549287272619267,-0.7757039233552273,-1.175333472793142,-0.9860584630593688,-0.2567624340922678,1.1081096697218578,0.4905022873141684,-0.10187821076946177,-0.25051212310093574,0.5496005698339377,1.0277801479335387,-1.224813022197627,-0.7926622390001563,1.3389661877832078,0.2583337045239479,1.4238321392245428,-1.2549517693217713,0.3924211759792029,-0.27980193924565083,-1.2494934296841034,-0.72321065360444,1.7934026957018891,-1.6003422408870176,-0.5283469480622293,1.710195162699524,0.3589247962405482,0.21770633363742475,-0.8589538797338953,0.5069020563414884,0.4792637241053778,-0.5471593239151623,-0.7966292908884803,-0.0008098478655252655,-0.8141368366633747,0.07197909212837338,0.7121987424077416,2.1642106277762276,1.6587166196970367,-0.3237980146126996,0.543683531746815,0.8866040206913408,0.06662129370902721,-0.36245149934859466,-1.5428237763966992,1.4300394265738816,-0.18491118700292594,0.06602098661546725],\"type\":\"scatter\"}],                        {\"legend\":{\"bgcolor\":\"#F5F6F9\",\"font\":{\"color\":\"#4D5663\"}},\"paper_bgcolor\":\"#F5F6F9\",\"plot_bgcolor\":\"#F5F6F9\",\"template\":{\"data\":{\"barpolar\":[{\"marker\":{\"line\":{\"color\":\"#E5ECF6\",\"width\":0.5},\"pattern\":{\"fillmode\":\"overlay\",\"size\":10,\"solidity\":0.2}},\"type\":\"barpolar\"}],\"bar\":[{\"error_x\":{\"color\":\"#2a3f5f\"},\"error_y\":{\"color\":\"#2a3f5f\"},\"marker\":{\"line\":{\"color\":\"#E5ECF6\",\"width\":0.5},\"pattern\":{\"fillmode\":\"overlay\",\"size\":10,\"solidity\":0.2}},\"type\":\"bar\"}],\"carpet\":[{\"aaxis\":{\"endlinecolor\":\"#2a3f5f\",\"gridcolor\":\"white\",\"linecolor\":\"white\",\"minorgridcolor\":\"white\",\"startlinecolor\":\"#2a3f5f\"},\"baxis\":{\"endlinecolor\":\"#2a3f5f\",\"gridcolor\":\"white\",\"linecolor\":\"white\",\"minorgridcolor\":\"white\",\"startlinecolor\":\"#2a3f5f\"},\"type\":\"carpet\"}],\"choropleth\":[{\"colorbar\":{\"outlinewidth\":0,\"ticks\":\"\"},\"type\":\"choropleth\"}],\"contourcarpet\":[{\"colorbar\":{\"outlinewidth\":0,\"ticks\":\"\"},\"type\":\"contourcarpet\"}],\"contour\":[{\"colorbar\":{\"outlinewidth\":0,\"ticks\":\"\"},\"colorscale\":[[0.0,\"#0d0887\"],[0.1111111111111111,\"#46039f\"],[0.2222222222222222,\"#7201a8\"],[0.3333333333333333,\"#9c179e\"],[0.4444444444444444,\"#bd3786\"],[0.5555555555555556,\"#d8576b\"],[0.6666666666666666,\"#ed7953\"],[0.7777777777777778,\"#fb9f3a\"],[0.8888888888888888,\"#fdca26\"],[1.0,\"#f0f921\"]],\"type\":\"contour\"}],\"heatmapgl\":[{\"colorbar\":{\"outlinewidth\":0,\"ticks\":\"\"},\"colorscale\":[[0.0,\"#0d0887\"],[0.1111111111111111,\"#46039f\"],[0.2222222222222222,\"#7201a8\"],[0.3333333333333333,\"#9c179e\"],[0.4444444444444444,\"#bd3786\"],[0.5555555555555556,\"#d8576b\"],[0.6666666666666666,\"#ed7953\"],[0.7777777777777778,\"#fb9f3a\"],[0.8888888888888888,\"#fdca26\"],[1.0,\"#f0f921\"]],\"type\":\"heatmapgl\"}],\"heatmap\":[{\"colorbar\":{\"outlinewidth\":0,\"ticks\":\"\"},\"colorscale\":[[0.0,\"#0d0887\"],[0.1111111111111111,\"#46039f\"],[0.2222222222222222,\"#7201a8\"],[0.3333333333333333,\"#9c179e\"],[0.4444444444444444,\"#bd3786\"],[0.5555555555555556,\"#d8576b\"],[0.6666666666666666,\"#ed7953\"],[0.7777777777777778,\"#fb9f3a\"],[0.8888888888888888,\"#fdca26\"],[1.0,\"#f0f921\"]],\"type\":\"heatmap\"}],\"histogram2dcontour\":[{\"colorbar\":{\"outlinewidth\":0,\"ticks\":\"\"},\"colorscale\":[[0.0,\"#0d0887\"],[0.1111111111111111,\"#46039f\"],[0.2222222222222222,\"#7201a8\"],[0.3333333333333333,\"#9c179e\"],[0.4444444444444444,\"#bd3786\"],[0.5555555555555556,\"#d8576b\"],[0.6666666666666666,\"#ed7953\"],[0.7777777777777778,\"#fb9f3a\"],[0.8888888888888888,\"#fdca26\"],[1.0,\"#f0f921\"]],\"type\":\"histogram2dcontour\"}],\"histogram2d\":[{\"colorbar\":{\"outlinewidth\":0,\"ticks\":\"\"},\"colorscale\":[[0.0,\"#0d0887\"],[0.1111111111111111,\"#46039f\"],[0.2222222222222222,\"#7201a8\"],[0.3333333333333333,\"#9c179e\"],[0.4444444444444444,\"#bd3786\"],[0.5555555555555556,\"#d8576b\"],[0.6666666666666666,\"#ed7953\"],[0.7777777777777778,\"#fb9f3a\"],[0.8888888888888888,\"#fdca26\"],[1.0,\"#f0f921\"]],\"type\":\"histogram2d\"}],\"histogram\":[{\"marker\":{\"pattern\":{\"fillmode\":\"overlay\",\"size\":10,\"solidity\":0.2}},\"type\":\"histogram\"}],\"mesh3d\":[{\"colorbar\":{\"outlinewidth\":0,\"ticks\":\"\"},\"type\":\"mesh3d\"}],\"parcoords\":[{\"line\":{\"colorbar\":{\"outlinewidth\":0,\"ticks\":\"\"}},\"type\":\"parcoords\"}],\"pie\":[{\"automargin\":true,\"type\":\"pie\"}],\"scatter3d\":[{\"line\":{\"colorbar\":{\"outlinewidth\":0,\"ticks\":\"\"}},\"marker\":{\"colorbar\":{\"outlinewidth\":0,\"ticks\":\"\"}},\"type\":\"scatter3d\"}],\"scattercarpet\":[{\"marker\":{\"colorbar\":{\"outlinewidth\":0,\"ticks\":\"\"}},\"type\":\"scattercarpet\"}],\"scattergeo\":[{\"marker\":{\"colorbar\":{\"outlinewidth\":0,\"ticks\":\"\"}},\"type\":\"scattergeo\"}],\"scattergl\":[{\"marker\":{\"colorbar\":{\"outlinewidth\":0,\"ticks\":\"\"}},\"type\":\"scattergl\"}],\"scattermapbox\":[{\"marker\":{\"colorbar\":{\"outlinewidth\":0,\"ticks\":\"\"}},\"type\":\"scattermapbox\"}],\"scatterpolargl\":[{\"marker\":{\"colorbar\":{\"outlinewidth\":0,\"ticks\":\"\"}},\"type\":\"scatterpolargl\"}],\"scatterpolar\":[{\"marker\":{\"colorbar\":{\"outlinewidth\":0,\"ticks\":\"\"}},\"type\":\"scatterpolar\"}],\"scatter\":[{\"fillpattern\":{\"fillmode\":\"overlay\",\"size\":10,\"solidity\":0.2},\"type\":\"scatter\"}],\"scatterternary\":[{\"marker\":{\"colorbar\":{\"outlinewidth\":0,\"ticks\":\"\"}},\"type\":\"scatterternary\"}],\"surface\":[{\"colorbar\":{\"outlinewidth\":0,\"ticks\":\"\"},\"colorscale\":[[0.0,\"#0d0887\"],[0.1111111111111111,\"#46039f\"],[0.2222222222222222,\"#7201a8\"],[0.3333333333333333,\"#9c179e\"],[0.4444444444444444,\"#bd3786\"],[0.5555555555555556,\"#d8576b\"],[0.6666666666666666,\"#ed7953\"],[0.7777777777777778,\"#fb9f3a\"],[0.8888888888888888,\"#fdca26\"],[1.0,\"#f0f921\"]],\"type\":\"surface\"}],\"table\":[{\"cells\":{\"fill\":{\"color\":\"#EBF0F8\"},\"line\":{\"color\":\"white\"}},\"header\":{\"fill\":{\"color\":\"#C8D4E3\"},\"line\":{\"color\":\"white\"}},\"type\":\"table\"}]},\"layout\":{\"annotationdefaults\":{\"arrowcolor\":\"#2a3f5f\",\"arrowhead\":0,\"arrowwidth\":1},\"autotypenumbers\":\"strict\",\"coloraxis\":{\"colorbar\":{\"outlinewidth\":0,\"ticks\":\"\"}},\"colorscale\":{\"diverging\":[[0,\"#8e0152\"],[0.1,\"#c51b7d\"],[0.2,\"#de77ae\"],[0.3,\"#f1b6da\"],[0.4,\"#fde0ef\"],[0.5,\"#f7f7f7\"],[0.6,\"#e6f5d0\"],[0.7,\"#b8e186\"],[0.8,\"#7fbc41\"],[0.9,\"#4d9221\"],[1,\"#276419\"]],\"sequential\":[[0.0,\"#0d0887\"],[0.1111111111111111,\"#46039f\"],[0.2222222222222222,\"#7201a8\"],[0.3333333333333333,\"#9c179e\"],[0.4444444444444444,\"#bd3786\"],[0.5555555555555556,\"#d8576b\"],[0.6666666666666666,\"#ed7953\"],[0.7777777777777778,\"#fb9f3a\"],[0.8888888888888888,\"#fdca26\"],[1.0,\"#f0f921\"]],\"sequentialminus\":[[0.0,\"#0d0887\"],[0.1111111111111111,\"#46039f\"],[0.2222222222222222,\"#7201a8\"],[0.3333333333333333,\"#9c179e\"],[0.4444444444444444,\"#bd3786\"],[0.5555555555555556,\"#d8576b\"],[0.6666666666666666,\"#ed7953\"],[0.7777777777777778,\"#fb9f3a\"],[0.8888888888888888,\"#fdca26\"],[1.0,\"#f0f921\"]]},\"colorway\":[\"#636efa\",\"#EF553B\",\"#00cc96\",\"#ab63fa\",\"#FFA15A\",\"#19d3f3\",\"#FF6692\",\"#B6E880\",\"#FF97FF\",\"#FECB52\"],\"font\":{\"color\":\"#2a3f5f\"},\"geo\":{\"bgcolor\":\"white\",\"lakecolor\":\"white\",\"landcolor\":\"#E5ECF6\",\"showlakes\":true,\"showland\":true,\"subunitcolor\":\"white\"},\"hoverlabel\":{\"align\":\"left\"},\"hovermode\":\"closest\",\"mapbox\":{\"style\":\"light\"},\"paper_bgcolor\":\"white\",\"plot_bgcolor\":\"#E5ECF6\",\"polar\":{\"angularaxis\":{\"gridcolor\":\"white\",\"linecolor\":\"white\",\"ticks\":\"\"},\"bgcolor\":\"#E5ECF6\",\"radialaxis\":{\"gridcolor\":\"white\",\"linecolor\":\"white\",\"ticks\":\"\"}},\"scene\":{\"xaxis\":{\"backgroundcolor\":\"#E5ECF6\",\"gridcolor\":\"white\",\"gridwidth\":2,\"linecolor\":\"white\",\"showbackground\":true,\"ticks\":\"\",\"zerolinecolor\":\"white\"},\"yaxis\":{\"backgroundcolor\":\"#E5ECF6\",\"gridcolor\":\"white\",\"gridwidth\":2,\"linecolor\":\"white\",\"showbackground\":true,\"ticks\":\"\",\"zerolinecolor\":\"white\"},\"zaxis\":{\"backgroundcolor\":\"#E5ECF6\",\"gridcolor\":\"white\",\"gridwidth\":2,\"linecolor\":\"white\",\"showbackground\":true,\"ticks\":\"\",\"zerolinecolor\":\"white\"}},\"shapedefaults\":{\"line\":{\"color\":\"#2a3f5f\"}},\"ternary\":{\"aaxis\":{\"gridcolor\":\"white\",\"linecolor\":\"white\",\"ticks\":\"\"},\"baxis\":{\"gridcolor\":\"white\",\"linecolor\":\"white\",\"ticks\":\"\"},\"bgcolor\":\"#E5ECF6\",\"caxis\":{\"gridcolor\":\"white\",\"linecolor\":\"white\",\"ticks\":\"\"}},\"title\":{\"x\":0.05},\"xaxis\":{\"automargin\":true,\"gridcolor\":\"white\",\"linecolor\":\"white\",\"ticks\":\"\",\"title\":{\"standoff\":15},\"zerolinecolor\":\"white\",\"zerolinewidth\":2},\"yaxis\":{\"automargin\":true,\"gridcolor\":\"white\",\"linecolor\":\"white\",\"ticks\":\"\",\"title\":{\"standoff\":15},\"zerolinecolor\":\"white\",\"zerolinewidth\":2}}},\"title\":{\"font\":{\"color\":\"#4D5663\"}},\"xaxis\":{\"gridcolor\":\"#E1E5ED\",\"showgrid\":true,\"tickfont\":{\"color\":\"#4D5663\"},\"title\":{\"font\":{\"color\":\"#4D5663\"},\"text\":\"\"},\"zerolinecolor\":\"#E1E5ED\"},\"yaxis\":{\"gridcolor\":\"#E1E5ED\",\"showgrid\":true,\"tickfont\":{\"color\":\"#4D5663\"},\"title\":{\"font\":{\"color\":\"#4D5663\"},\"text\":\"\"},\"zerolinecolor\":\"#E1E5ED\"}},                        {\"showLink\": true, \"linkText\": \"Export to plot.ly\", \"plotlyServerURL\": \"https://plot.ly\", \"responsive\": true}                    ).then(function(){\n",
       "                            \n",
       "var gd = document.getElementById('7f948303-af0f-4942-8fba-962f7db6c07b');\n",
       "var x = new MutationObserver(function (mutations, observer) {{\n",
       "        var display = window.getComputedStyle(gd).display;\n",
       "        if (!display || display === 'none') {{\n",
       "            console.log([gd, 'removed!']);\n",
       "            Plotly.purge(gd);\n",
       "            observer.disconnect();\n",
       "        }}\n",
       "}});\n",
       "\n",
       "// Listen for the removal of the full notebook cells\n",
       "var notebookContainer = gd.closest('#notebook-container');\n",
       "if (notebookContainer) {{\n",
       "    x.observe(notebookContainer, {childList: true});\n",
       "}}\n",
       "\n",
       "// Listen for the clearing of the current output cell\n",
       "var outputEl = gd.closest('.output');\n",
       "if (outputEl) {{\n",
       "    x.observe(outputEl, {childList: true});\n",
       "}}\n",
       "\n",
       "                        })                };                });            </script>        </div>"
      ]
     },
     "metadata": {},
     "output_type": "display_data"
    }
   ],
   "source": [
    "df.iplot(kind='bubble',x='A',y='B',size='C')"
   ]
  },
  {
   "cell_type": "markdown",
   "metadata": {},
   "source": [
    "## scatter_matrix()\n",
    "\n",
    "Similar to sns.pairplot()"
   ]
  },
  {
   "cell_type": "code",
   "execution_count": 24,
   "metadata": {},
   "outputs": [
    {
     "data": {
      "application/vnd.plotly.v1+json": {
       "config": {
        "linkText": "Export to plot.ly",
        "plotlyServerURL": "https://plot.ly",
        "showLink": true
       },
       "data": [
        {
         "histfunc": "count",
         "histnorm": "",
         "marker": {
          "color": "rgba(255, 153, 51, 1.0)",
          "line": {
           "color": "#4D5663",
           "width": 1.3
          }
         },
         "name": "A",
         "nbinsx": 10,
         "opacity": 0.8,
         "orientation": "v",
         "type": "histogram",
         "x": [
          -1.801810462118037,
          -0.7405278999282524,
          -1.461857030304494,
          -1.0591589088198288,
          -0.26428618768178,
          1.948164848630421,
          -0.23589027518673694,
          0.24657238281739297,
          1.658021589581248,
          0.186696452034347,
          0.8825333889982601,
          -0.4773798929601018,
          0.46972651548583444,
          -0.17320093063047146,
          -0.22683508244266204,
          1.2562233016361952,
          1.310914817148744,
          -0.37320437367658954,
          1.926147146248471,
          0.013675304777552416,
          0.007595408552958917,
          0.8221929815368014,
          0.07591846652853262,
          -0.21887489450015163,
          -1.415591119445165,
          0.6011093091930616,
          0.21043611550600955,
          3.551151429719778,
          0.67855980837985,
          0.44441040471099097,
          0.40501800594761467,
          -1.4429420586514943,
          -0.5726089226425692,
          0.42711475011987726,
          -2.4849078390422226,
          -1.550838633703084,
          0.1342471868944414,
          -2.0658158540835156,
          -1.8297783603605737,
          0.34384485642331847,
          0.8911555668974951,
          -0.6680580034989891,
          0.1817138264631769,
          -0.5573719045906718,
          -1.000221211263796,
          2.543907973222884,
          2.820663767772808,
          -1.23451797618291,
          0.42285643724592425,
          -0.2676682957595602,
          0.9239153944241625,
          0.2835359062945152,
          0.5211584364498096,
          1.6481997375179325,
          -0.1340133395115864,
          -1.195946189733816,
          0.43874383472847545,
          -1.053832892116574,
          -0.4696895658433154,
          0.22089459970479716,
          0.31106612098315894,
          1.6325152367399631,
          0.12148171286156609,
          0.7284922533146289,
          1.150935928793852,
          -1.4493052864419957,
          -1.3474885438875936,
          1.4995138007616624,
          -0.8548810056095114,
          -0.2508135705830549,
          1.5859524585585354,
          0.30169570948898355,
          -1.3847584411858844,
          -0.7172952877799311,
          -0.2388523125662473,
          -1.5402688784288574,
          0.6233403248885073,
          0.3994901335348674,
          1.497119149431649,
          -0.7830568325317241,
          -0.9451963490340021,
          0.9306499911855516,
          1.054919906601512,
          -0.06781875041286145,
          1.6372857588173881,
          0.4258715683400193,
          0.5492007699401444,
          -0.44183901504598483,
          0.5081694849786166,
          -0.5873992503246563,
          1.3060687492015108,
          -0.8504842584600737,
          0.11378281383033334,
          -0.39823121338126055,
          0.21212719538403102,
          0.9743250022300478,
          -0.7048213917177746,
          0.5342517217633828,
          0.9232089584369408,
          -0.7542607429128845
         ],
         "xaxis": "x",
         "yaxis": "y"
        },
        {
         "line": {
          "color": "rgba(128, 128, 128, 1.0)",
          "dash": "solid",
          "shape": "linear",
          "width": 1.3
         },
         "marker": {
          "size": 2,
          "symbol": "circle"
         },
         "mode": "markers",
         "name": "A",
         "text": "",
         "type": "scatter",
         "x": [
          0.9717226780442976,
          0.9914293898313419,
          0.6411744066920212,
          -0.8096385110292955,
          -0.37840086893901514,
          1.7135984676116396,
          0.7197830448450903,
          -0.8983097692873694,
          -0.7552177183891712,
          -1.2511453031383102,
          1.3754310257599178,
          -0.8327151618667233,
          1.4235435329224304,
          0.01735458798168637,
          -0.010746680281691855,
          -1.1709321539445416,
          -1.0953584726049397,
          -1.5796819503451054,
          -1.4766025965885607,
          0.15821998684411592,
          -0.9524819112066436,
          -2.064130958296167,
          0.36773552266722587,
          0.2236223850089126,
          0.5449434992139803,
          -0.23083647027858636,
          -1.1964010702691652,
          1.1757632204612487,
          -1.434208487462081,
          0.440970032869492,
          1.2109577918782037,
          -1.5497590258661662,
          -0.9684039534666286,
          -1.8404879740939677,
          0.5147152292514234,
          0.6383097873389552,
          0.9773578834631445,
          0.5007529783172427,
          -0.4105139270567889,
          -1.847615053687545,
          -0.18923271793284913,
          -0.7720096015292391,
          0.4112457655385453,
          0.11467863000478293,
          -1.4206663795278238,
          -0.6610498487755905,
          -1.4253370680419448,
          -0.6642528926905991,
          0.14795487617785147,
          0.34363849028037385,
          0.5446940936108576,
          -1.170337828480521,
          -1.4967050826372772,
          -0.16549287272619267,
          -0.7757039233552273,
          -1.175333472793142,
          -0.9860584630593688,
          -0.2567624340922678,
          1.1081096697218578,
          0.4905022873141684,
          -0.10187821076946177,
          -0.25051212310093574,
          0.5496005698339377,
          1.0277801479335387,
          -1.224813022197627,
          -0.7926622390001563,
          1.3389661877832078,
          0.2583337045239479,
          1.4238321392245428,
          -1.2549517693217713,
          0.3924211759792029,
          -0.27980193924565083,
          -1.2494934296841034,
          -0.72321065360444,
          1.7934026957018891,
          -1.6003422408870176,
          -0.5283469480622293,
          1.710195162699524,
          0.3589247962405482,
          0.21770633363742475,
          -0.8589538797338953,
          0.5069020563414884,
          0.4792637241053778,
          -0.5471593239151623,
          -0.7966292908884803,
          -0.0008098478655252655,
          -0.8141368366633747,
          0.07197909212837338,
          0.7121987424077416,
          2.1642106277762276,
          1.6587166196970367,
          -0.3237980146126996,
          0.543683531746815,
          0.8866040206913408,
          0.06662129370902721,
          -0.36245149934859466,
          -1.5428237763966992,
          1.4300394265738816,
          -0.18491118700292594,
          0.06602098661546725
         ],
         "xaxis": "x2",
         "y": [
          -1.801810462118037,
          -0.7405278999282524,
          -1.461857030304494,
          -1.0591589088198288,
          -0.26428618768178,
          1.948164848630421,
          -0.23589027518673694,
          0.24657238281739297,
          1.658021589581248,
          0.186696452034347,
          0.8825333889982601,
          -0.4773798929601018,
          0.46972651548583444,
          -0.17320093063047146,
          -0.22683508244266204,
          1.2562233016361952,
          1.310914817148744,
          -0.37320437367658954,
          1.926147146248471,
          0.013675304777552416,
          0.007595408552958917,
          0.8221929815368014,
          0.07591846652853262,
          -0.21887489450015163,
          -1.415591119445165,
          0.6011093091930616,
          0.21043611550600955,
          3.551151429719778,
          0.67855980837985,
          0.44441040471099097,
          0.40501800594761467,
          -1.4429420586514943,
          -0.5726089226425692,
          0.42711475011987726,
          -2.4849078390422226,
          -1.550838633703084,
          0.1342471868944414,
          -2.0658158540835156,
          -1.8297783603605737,
          0.34384485642331847,
          0.8911555668974951,
          -0.6680580034989891,
          0.1817138264631769,
          -0.5573719045906718,
          -1.000221211263796,
          2.543907973222884,
          2.820663767772808,
          -1.23451797618291,
          0.42285643724592425,
          -0.2676682957595602,
          0.9239153944241625,
          0.2835359062945152,
          0.5211584364498096,
          1.6481997375179325,
          -0.1340133395115864,
          -1.195946189733816,
          0.43874383472847545,
          -1.053832892116574,
          -0.4696895658433154,
          0.22089459970479716,
          0.31106612098315894,
          1.6325152367399631,
          0.12148171286156609,
          0.7284922533146289,
          1.150935928793852,
          -1.4493052864419957,
          -1.3474885438875936,
          1.4995138007616624,
          -0.8548810056095114,
          -0.2508135705830549,
          1.5859524585585354,
          0.30169570948898355,
          -1.3847584411858844,
          -0.7172952877799311,
          -0.2388523125662473,
          -1.5402688784288574,
          0.6233403248885073,
          0.3994901335348674,
          1.497119149431649,
          -0.7830568325317241,
          -0.9451963490340021,
          0.9306499911855516,
          1.054919906601512,
          -0.06781875041286145,
          1.6372857588173881,
          0.4258715683400193,
          0.5492007699401444,
          -0.44183901504598483,
          0.5081694849786166,
          -0.5873992503246563,
          1.3060687492015108,
          -0.8504842584600737,
          0.11378281383033334,
          -0.39823121338126055,
          0.21212719538403102,
          0.9743250022300478,
          -0.7048213917177746,
          0.5342517217633828,
          0.9232089584369408,
          -0.7542607429128845
         ],
         "yaxis": "y2"
        },
        {
         "line": {
          "color": "rgba(128, 128, 128, 1.0)",
          "dash": "solid",
          "shape": "linear",
          "width": 1.3
         },
         "marker": {
          "size": 2,
          "symbol": "circle"
         },
         "mode": "markers",
         "name": "A",
         "text": "",
         "type": "scatter",
         "x": [
          -0.43494351378418167,
          1.1956964184782335,
          0.8554662953767199,
          -0.1919969093895718,
          0.3176774870385354,
          1.460572734227075,
          0.5392242309973705,
          0.8905438135855877,
          -1.612987388666539,
          -0.8105085641576423,
          -0.40669516293897184,
          -0.08648226326249135,
          -0.8428827291133176,
          1.4923512672575086,
          0.9830876077723242,
          0.6124036584128042,
          0.600525649554785,
          -0.05305640240053271,
          1.0080612375569293,
          0.06495517214140592,
          -0.2935394846647749,
          -1.44286880519074,
          0.2085614824243877,
          -0.030397123910282268,
          -0.014822643568981279,
          -0.47379186482624336,
          0.7973858067382725,
          -0.4275448799750782,
          1.9046066294757316,
          0.786301854806995,
          -0.46966878052507444,
          -0.6681614726182001,
          0.4272532372534058,
          1.448462537359182,
          -0.4042385192504221,
          1.5096881465551375,
          -0.18605765410019773,
          -1.3754194067429266,
          0.21219894854924493,
          -0.1261178980949456,
          -0.8833007824237488,
          1.2720459104133115,
          -0.5599150847068526,
          -0.31959093070168915,
          1.6146009419160205,
          0.5275912106732872,
          -0.10479675136895887,
          1.2144149647197442,
          -0.8794936265648686,
          0.7023393840528825,
          -0.6204263160050626,
          0.3428956667482456,
          0.4138766598147137,
          0.08865386927879694,
          -1.9208091952736812,
          -1.0307893066854885,
          1.2908187061811358,
          -0.7508900639513508,
          -0.5382583624539559,
          0.5175108926945428,
          -1.7923699674073574,
          1.0608147649083057,
          0.5781987770929097,
          0.0737705781755186,
          -0.8886967452168886,
          -0.0804543657324432,
          0.3827429389626566,
          -1.1175433000490536,
          0.2847322281678397,
          0.297425848037425,
          -0.4092761309565618,
          -0.0928394932257205,
          0.5157870537652739,
          -1.0655801148740676,
          0.0655141277658387,
          1.9587562707747206,
          1.2974372241654957,
          -0.09933557730908811,
          -1.7811599132792695,
          -0.4110349725463234,
          -0.3682563544839573,
          -0.8122218805904927,
          -1.140175228010079,
          -0.952322345925846,
          -0.18149221456362502,
          0.8253127582076232,
          0.8802122707682375,
          -1.1192905615980897,
          0.0980122930341513,
          0.3532195257472032,
          0.9919090858345788,
          1.6951555726272987,
          0.7911671717175314,
          -1.2533656988994484,
          0.2942035891988454,
          0.2552392285941162,
          -0.2723293364061732,
          -0.40482784706908637,
          -0.9322666994799528,
          -0.5350612175898041
         ],
         "xaxis": "x3",
         "y": [
          -1.801810462118037,
          -0.7405278999282524,
          -1.461857030304494,
          -1.0591589088198288,
          -0.26428618768178,
          1.948164848630421,
          -0.23589027518673694,
          0.24657238281739297,
          1.658021589581248,
          0.186696452034347,
          0.8825333889982601,
          -0.4773798929601018,
          0.46972651548583444,
          -0.17320093063047146,
          -0.22683508244266204,
          1.2562233016361952,
          1.310914817148744,
          -0.37320437367658954,
          1.926147146248471,
          0.013675304777552416,
          0.007595408552958917,
          0.8221929815368014,
          0.07591846652853262,
          -0.21887489450015163,
          -1.415591119445165,
          0.6011093091930616,
          0.21043611550600955,
          3.551151429719778,
          0.67855980837985,
          0.44441040471099097,
          0.40501800594761467,
          -1.4429420586514943,
          -0.5726089226425692,
          0.42711475011987726,
          -2.4849078390422226,
          -1.550838633703084,
          0.1342471868944414,
          -2.0658158540835156,
          -1.8297783603605737,
          0.34384485642331847,
          0.8911555668974951,
          -0.6680580034989891,
          0.1817138264631769,
          -0.5573719045906718,
          -1.000221211263796,
          2.543907973222884,
          2.820663767772808,
          -1.23451797618291,
          0.42285643724592425,
          -0.2676682957595602,
          0.9239153944241625,
          0.2835359062945152,
          0.5211584364498096,
          1.6481997375179325,
          -0.1340133395115864,
          -1.195946189733816,
          0.43874383472847545,
          -1.053832892116574,
          -0.4696895658433154,
          0.22089459970479716,
          0.31106612098315894,
          1.6325152367399631,
          0.12148171286156609,
          0.7284922533146289,
          1.150935928793852,
          -1.4493052864419957,
          -1.3474885438875936,
          1.4995138007616624,
          -0.8548810056095114,
          -0.2508135705830549,
          1.5859524585585354,
          0.30169570948898355,
          -1.3847584411858844,
          -0.7172952877799311,
          -0.2388523125662473,
          -1.5402688784288574,
          0.6233403248885073,
          0.3994901335348674,
          1.497119149431649,
          -0.7830568325317241,
          -0.9451963490340021,
          0.9306499911855516,
          1.054919906601512,
          -0.06781875041286145,
          1.6372857588173881,
          0.4258715683400193,
          0.5492007699401444,
          -0.44183901504598483,
          0.5081694849786166,
          -0.5873992503246563,
          1.3060687492015108,
          -0.8504842584600737,
          0.11378281383033334,
          -0.39823121338126055,
          0.21212719538403102,
          0.9743250022300478,
          -0.7048213917177746,
          0.5342517217633828,
          0.9232089584369408,
          -0.7542607429128845
         ],
         "yaxis": "y3"
        },
        {
         "line": {
          "color": "rgba(128, 128, 128, 1.0)",
          "dash": "solid",
          "shape": "linear",
          "width": 1.3
         },
         "marker": {
          "size": 2,
          "symbol": "circle"
         },
         "mode": "markers",
         "name": "A",
         "text": "",
         "type": "scatter",
         "x": [
          0.5720880157971676,
          0.3024437290791586,
          2.4926337831467174,
          1.0517747349871922,
          -0.07474136843978726,
          -1.1715429723528712,
          0.9517618478851047,
          1.5279135502295635,
          -0.3082971814586023,
          0.09887209101782131,
          1.2219573602464575,
          -0.013741870252920545,
          -0.2141239479935332,
          1.2021817665040428,
          -0.4418379268008085,
          -1.053950278007446,
          0.48499862984218123,
          -1.1155389975496115,
          0.1308543727143404,
          0.929490183836466,
          -0.48324839277428744,
          -1.1829065972482657,
          0.7498368763060137,
          -0.8861058866071584,
          0.4771380290637309,
          -0.4390886442937461,
          1.2306608987142067,
          1.9878059856867818,
          0.15230461037864515,
          1.6620554499341955,
          1.6384041120327586,
          0.3044849790985675,
          -0.6927769693908511,
          -1.3167580837701536,
          -0.78287296571961,
          -0.024974958657900472,
          -0.039841405515385606,
          -0.05000476951849737,
          -0.48945795363207106,
          0.48904841308460867,
          0.6360868866482585,
          0.32000669236085194,
          0.9875177422449749,
          -0.5059927078731065,
          1.7752811827454997,
          1.3668481773897443,
          0.7184125424407601,
          -1.2687944297695042,
          1.137530004513501,
          0.6903058211295873,
          0.9975118860165221,
          -0.9581035891567805,
          0.6921348889719081,
          -0.1415497410709437,
          -0.1692372595819837,
          -1.4768953292698426,
          -0.8416411068387677,
          2.118665783790678,
          1.039799853019657,
          -0.8581640808582295,
          0.4286012652328465,
          0.6703908225507994,
          1.1799680526781622,
          0.9285733497799281,
          -1.5927548882055302,
          -0.19358256515013755,
          0.8250248773783592,
          0.40848470111794216,
          0.5249809483943964,
          -0.5847748299128196,
          1.5376802385593196,
          -1.0825106854614004,
          -1.3499986616086925,
          -2.006560617276983,
          -0.7172014574461055,
          1.5689533342516848,
          1.8396707852402074,
          -0.7076333961882232,
          -0.4465530640565996,
          -1.2939783103858922,
          0.5273817781102613,
          -0.4475078294726565,
          -0.9269647689351543,
          -0.6125245963618412,
          1.165910567454771,
          3.304174007465817,
          0.8312405486623478,
          1.4574607095978371,
          1.05814101462983,
          -2.478506548223967,
          -0.8839376542505711,
          1.263508197927824,
          -0.20620704196656747,
          1.244872603243073,
          1.154030135724552,
          2.9748525669328907,
          0.946205989028131,
          -1.3502188548374479,
          -0.2516426903414452,
          -0.7515697498030125
         ],
         "xaxis": "x4",
         "y": [
          -1.801810462118037,
          -0.7405278999282524,
          -1.461857030304494,
          -1.0591589088198288,
          -0.26428618768178,
          1.948164848630421,
          -0.23589027518673694,
          0.24657238281739297,
          1.658021589581248,
          0.186696452034347,
          0.8825333889982601,
          -0.4773798929601018,
          0.46972651548583444,
          -0.17320093063047146,
          -0.22683508244266204,
          1.2562233016361952,
          1.310914817148744,
          -0.37320437367658954,
          1.926147146248471,
          0.013675304777552416,
          0.007595408552958917,
          0.8221929815368014,
          0.07591846652853262,
          -0.21887489450015163,
          -1.415591119445165,
          0.6011093091930616,
          0.21043611550600955,
          3.551151429719778,
          0.67855980837985,
          0.44441040471099097,
          0.40501800594761467,
          -1.4429420586514943,
          -0.5726089226425692,
          0.42711475011987726,
          -2.4849078390422226,
          -1.550838633703084,
          0.1342471868944414,
          -2.0658158540835156,
          -1.8297783603605737,
          0.34384485642331847,
          0.8911555668974951,
          -0.6680580034989891,
          0.1817138264631769,
          -0.5573719045906718,
          -1.000221211263796,
          2.543907973222884,
          2.820663767772808,
          -1.23451797618291,
          0.42285643724592425,
          -0.2676682957595602,
          0.9239153944241625,
          0.2835359062945152,
          0.5211584364498096,
          1.6481997375179325,
          -0.1340133395115864,
          -1.195946189733816,
          0.43874383472847545,
          -1.053832892116574,
          -0.4696895658433154,
          0.22089459970479716,
          0.31106612098315894,
          1.6325152367399631,
          0.12148171286156609,
          0.7284922533146289,
          1.150935928793852,
          -1.4493052864419957,
          -1.3474885438875936,
          1.4995138007616624,
          -0.8548810056095114,
          -0.2508135705830549,
          1.5859524585585354,
          0.30169570948898355,
          -1.3847584411858844,
          -0.7172952877799311,
          -0.2388523125662473,
          -1.5402688784288574,
          0.6233403248885073,
          0.3994901335348674,
          1.497119149431649,
          -0.7830568325317241,
          -0.9451963490340021,
          0.9306499911855516,
          1.054919906601512,
          -0.06781875041286145,
          1.6372857588173881,
          0.4258715683400193,
          0.5492007699401444,
          -0.44183901504598483,
          0.5081694849786166,
          -0.5873992503246563,
          1.3060687492015108,
          -0.8504842584600737,
          0.11378281383033334,
          -0.39823121338126055,
          0.21212719538403102,
          0.9743250022300478,
          -0.7048213917177746,
          0.5342517217633828,
          0.9232089584369408,
          -0.7542607429128845
         ],
         "yaxis": "y4"
        },
        {
         "line": {
          "color": "rgba(128, 128, 128, 1.0)",
          "dash": "solid",
          "shape": "linear",
          "width": 1.3
         },
         "marker": {
          "size": 2,
          "symbol": "circle"
         },
         "mode": "markers",
         "name": "B",
         "text": "",
         "type": "scatter",
         "x": [
          -1.801810462118037,
          -0.7405278999282524,
          -1.461857030304494,
          -1.0591589088198288,
          -0.26428618768178,
          1.948164848630421,
          -0.23589027518673694,
          0.24657238281739297,
          1.658021589581248,
          0.186696452034347,
          0.8825333889982601,
          -0.4773798929601018,
          0.46972651548583444,
          -0.17320093063047146,
          -0.22683508244266204,
          1.2562233016361952,
          1.310914817148744,
          -0.37320437367658954,
          1.926147146248471,
          0.013675304777552416,
          0.007595408552958917,
          0.8221929815368014,
          0.07591846652853262,
          -0.21887489450015163,
          -1.415591119445165,
          0.6011093091930616,
          0.21043611550600955,
          3.551151429719778,
          0.67855980837985,
          0.44441040471099097,
          0.40501800594761467,
          -1.4429420586514943,
          -0.5726089226425692,
          0.42711475011987726,
          -2.4849078390422226,
          -1.550838633703084,
          0.1342471868944414,
          -2.0658158540835156,
          -1.8297783603605737,
          0.34384485642331847,
          0.8911555668974951,
          -0.6680580034989891,
          0.1817138264631769,
          -0.5573719045906718,
          -1.000221211263796,
          2.543907973222884,
          2.820663767772808,
          -1.23451797618291,
          0.42285643724592425,
          -0.2676682957595602,
          0.9239153944241625,
          0.2835359062945152,
          0.5211584364498096,
          1.6481997375179325,
          -0.1340133395115864,
          -1.195946189733816,
          0.43874383472847545,
          -1.053832892116574,
          -0.4696895658433154,
          0.22089459970479716,
          0.31106612098315894,
          1.6325152367399631,
          0.12148171286156609,
          0.7284922533146289,
          1.150935928793852,
          -1.4493052864419957,
          -1.3474885438875936,
          1.4995138007616624,
          -0.8548810056095114,
          -0.2508135705830549,
          1.5859524585585354,
          0.30169570948898355,
          -1.3847584411858844,
          -0.7172952877799311,
          -0.2388523125662473,
          -1.5402688784288574,
          0.6233403248885073,
          0.3994901335348674,
          1.497119149431649,
          -0.7830568325317241,
          -0.9451963490340021,
          0.9306499911855516,
          1.054919906601512,
          -0.06781875041286145,
          1.6372857588173881,
          0.4258715683400193,
          0.5492007699401444,
          -0.44183901504598483,
          0.5081694849786166,
          -0.5873992503246563,
          1.3060687492015108,
          -0.8504842584600737,
          0.11378281383033334,
          -0.39823121338126055,
          0.21212719538403102,
          0.9743250022300478,
          -0.7048213917177746,
          0.5342517217633828,
          0.9232089584369408,
          -0.7542607429128845
         ],
         "xaxis": "x5",
         "y": [
          0.9717226780442976,
          0.9914293898313419,
          0.6411744066920212,
          -0.8096385110292955,
          -0.37840086893901514,
          1.7135984676116396,
          0.7197830448450903,
          -0.8983097692873694,
          -0.7552177183891712,
          -1.2511453031383102,
          1.3754310257599178,
          -0.8327151618667233,
          1.4235435329224304,
          0.01735458798168637,
          -0.010746680281691855,
          -1.1709321539445416,
          -1.0953584726049397,
          -1.5796819503451054,
          -1.4766025965885607,
          0.15821998684411592,
          -0.9524819112066436,
          -2.064130958296167,
          0.36773552266722587,
          0.2236223850089126,
          0.5449434992139803,
          -0.23083647027858636,
          -1.1964010702691652,
          1.1757632204612487,
          -1.434208487462081,
          0.440970032869492,
          1.2109577918782037,
          -1.5497590258661662,
          -0.9684039534666286,
          -1.8404879740939677,
          0.5147152292514234,
          0.6383097873389552,
          0.9773578834631445,
          0.5007529783172427,
          -0.4105139270567889,
          -1.847615053687545,
          -0.18923271793284913,
          -0.7720096015292391,
          0.4112457655385453,
          0.11467863000478293,
          -1.4206663795278238,
          -0.6610498487755905,
          -1.4253370680419448,
          -0.6642528926905991,
          0.14795487617785147,
          0.34363849028037385,
          0.5446940936108576,
          -1.170337828480521,
          -1.4967050826372772,
          -0.16549287272619267,
          -0.7757039233552273,
          -1.175333472793142,
          -0.9860584630593688,
          -0.2567624340922678,
          1.1081096697218578,
          0.4905022873141684,
          -0.10187821076946177,
          -0.25051212310093574,
          0.5496005698339377,
          1.0277801479335387,
          -1.224813022197627,
          -0.7926622390001563,
          1.3389661877832078,
          0.2583337045239479,
          1.4238321392245428,
          -1.2549517693217713,
          0.3924211759792029,
          -0.27980193924565083,
          -1.2494934296841034,
          -0.72321065360444,
          1.7934026957018891,
          -1.6003422408870176,
          -0.5283469480622293,
          1.710195162699524,
          0.3589247962405482,
          0.21770633363742475,
          -0.8589538797338953,
          0.5069020563414884,
          0.4792637241053778,
          -0.5471593239151623,
          -0.7966292908884803,
          -0.0008098478655252655,
          -0.8141368366633747,
          0.07197909212837338,
          0.7121987424077416,
          2.1642106277762276,
          1.6587166196970367,
          -0.3237980146126996,
          0.543683531746815,
          0.8866040206913408,
          0.06662129370902721,
          -0.36245149934859466,
          -1.5428237763966992,
          1.4300394265738816,
          -0.18491118700292594,
          0.06602098661546725
         ],
         "yaxis": "y5"
        },
        {
         "histfunc": "count",
         "histnorm": "",
         "marker": {
          "color": "rgba(55, 128, 191, 1.0)",
          "line": {
           "color": "#4D5663",
           "width": 1.3
          }
         },
         "name": "B",
         "nbinsx": 10,
         "opacity": 0.8,
         "orientation": "v",
         "type": "histogram",
         "x": [
          0.9717226780442976,
          0.9914293898313419,
          0.6411744066920212,
          -0.8096385110292955,
          -0.37840086893901514,
          1.7135984676116396,
          0.7197830448450903,
          -0.8983097692873694,
          -0.7552177183891712,
          -1.2511453031383102,
          1.3754310257599178,
          -0.8327151618667233,
          1.4235435329224304,
          0.01735458798168637,
          -0.010746680281691855,
          -1.1709321539445416,
          -1.0953584726049397,
          -1.5796819503451054,
          -1.4766025965885607,
          0.15821998684411592,
          -0.9524819112066436,
          -2.064130958296167,
          0.36773552266722587,
          0.2236223850089126,
          0.5449434992139803,
          -0.23083647027858636,
          -1.1964010702691652,
          1.1757632204612487,
          -1.434208487462081,
          0.440970032869492,
          1.2109577918782037,
          -1.5497590258661662,
          -0.9684039534666286,
          -1.8404879740939677,
          0.5147152292514234,
          0.6383097873389552,
          0.9773578834631445,
          0.5007529783172427,
          -0.4105139270567889,
          -1.847615053687545,
          -0.18923271793284913,
          -0.7720096015292391,
          0.4112457655385453,
          0.11467863000478293,
          -1.4206663795278238,
          -0.6610498487755905,
          -1.4253370680419448,
          -0.6642528926905991,
          0.14795487617785147,
          0.34363849028037385,
          0.5446940936108576,
          -1.170337828480521,
          -1.4967050826372772,
          -0.16549287272619267,
          -0.7757039233552273,
          -1.175333472793142,
          -0.9860584630593688,
          -0.2567624340922678,
          1.1081096697218578,
          0.4905022873141684,
          -0.10187821076946177,
          -0.25051212310093574,
          0.5496005698339377,
          1.0277801479335387,
          -1.224813022197627,
          -0.7926622390001563,
          1.3389661877832078,
          0.2583337045239479,
          1.4238321392245428,
          -1.2549517693217713,
          0.3924211759792029,
          -0.27980193924565083,
          -1.2494934296841034,
          -0.72321065360444,
          1.7934026957018891,
          -1.6003422408870176,
          -0.5283469480622293,
          1.710195162699524,
          0.3589247962405482,
          0.21770633363742475,
          -0.8589538797338953,
          0.5069020563414884,
          0.4792637241053778,
          -0.5471593239151623,
          -0.7966292908884803,
          -0.0008098478655252655,
          -0.8141368366633747,
          0.07197909212837338,
          0.7121987424077416,
          2.1642106277762276,
          1.6587166196970367,
          -0.3237980146126996,
          0.543683531746815,
          0.8866040206913408,
          0.06662129370902721,
          -0.36245149934859466,
          -1.5428237763966992,
          1.4300394265738816,
          -0.18491118700292594,
          0.06602098661546725
         ],
         "xaxis": "x6",
         "yaxis": "y6"
        },
        {
         "line": {
          "color": "rgba(128, 128, 128, 1.0)",
          "dash": "solid",
          "shape": "linear",
          "width": 1.3
         },
         "marker": {
          "size": 2,
          "symbol": "circle"
         },
         "mode": "markers",
         "name": "B",
         "text": "",
         "type": "scatter",
         "x": [
          -0.43494351378418167,
          1.1956964184782335,
          0.8554662953767199,
          -0.1919969093895718,
          0.3176774870385354,
          1.460572734227075,
          0.5392242309973705,
          0.8905438135855877,
          -1.612987388666539,
          -0.8105085641576423,
          -0.40669516293897184,
          -0.08648226326249135,
          -0.8428827291133176,
          1.4923512672575086,
          0.9830876077723242,
          0.6124036584128042,
          0.600525649554785,
          -0.05305640240053271,
          1.0080612375569293,
          0.06495517214140592,
          -0.2935394846647749,
          -1.44286880519074,
          0.2085614824243877,
          -0.030397123910282268,
          -0.014822643568981279,
          -0.47379186482624336,
          0.7973858067382725,
          -0.4275448799750782,
          1.9046066294757316,
          0.786301854806995,
          -0.46966878052507444,
          -0.6681614726182001,
          0.4272532372534058,
          1.448462537359182,
          -0.4042385192504221,
          1.5096881465551375,
          -0.18605765410019773,
          -1.3754194067429266,
          0.21219894854924493,
          -0.1261178980949456,
          -0.8833007824237488,
          1.2720459104133115,
          -0.5599150847068526,
          -0.31959093070168915,
          1.6146009419160205,
          0.5275912106732872,
          -0.10479675136895887,
          1.2144149647197442,
          -0.8794936265648686,
          0.7023393840528825,
          -0.6204263160050626,
          0.3428956667482456,
          0.4138766598147137,
          0.08865386927879694,
          -1.9208091952736812,
          -1.0307893066854885,
          1.2908187061811358,
          -0.7508900639513508,
          -0.5382583624539559,
          0.5175108926945428,
          -1.7923699674073574,
          1.0608147649083057,
          0.5781987770929097,
          0.0737705781755186,
          -0.8886967452168886,
          -0.0804543657324432,
          0.3827429389626566,
          -1.1175433000490536,
          0.2847322281678397,
          0.297425848037425,
          -0.4092761309565618,
          -0.0928394932257205,
          0.5157870537652739,
          -1.0655801148740676,
          0.0655141277658387,
          1.9587562707747206,
          1.2974372241654957,
          -0.09933557730908811,
          -1.7811599132792695,
          -0.4110349725463234,
          -0.3682563544839573,
          -0.8122218805904927,
          -1.140175228010079,
          -0.952322345925846,
          -0.18149221456362502,
          0.8253127582076232,
          0.8802122707682375,
          -1.1192905615980897,
          0.0980122930341513,
          0.3532195257472032,
          0.9919090858345788,
          1.6951555726272987,
          0.7911671717175314,
          -1.2533656988994484,
          0.2942035891988454,
          0.2552392285941162,
          -0.2723293364061732,
          -0.40482784706908637,
          -0.9322666994799528,
          -0.5350612175898041
         ],
         "xaxis": "x7",
         "y": [
          0.9717226780442976,
          0.9914293898313419,
          0.6411744066920212,
          -0.8096385110292955,
          -0.37840086893901514,
          1.7135984676116396,
          0.7197830448450903,
          -0.8983097692873694,
          -0.7552177183891712,
          -1.2511453031383102,
          1.3754310257599178,
          -0.8327151618667233,
          1.4235435329224304,
          0.01735458798168637,
          -0.010746680281691855,
          -1.1709321539445416,
          -1.0953584726049397,
          -1.5796819503451054,
          -1.4766025965885607,
          0.15821998684411592,
          -0.9524819112066436,
          -2.064130958296167,
          0.36773552266722587,
          0.2236223850089126,
          0.5449434992139803,
          -0.23083647027858636,
          -1.1964010702691652,
          1.1757632204612487,
          -1.434208487462081,
          0.440970032869492,
          1.2109577918782037,
          -1.5497590258661662,
          -0.9684039534666286,
          -1.8404879740939677,
          0.5147152292514234,
          0.6383097873389552,
          0.9773578834631445,
          0.5007529783172427,
          -0.4105139270567889,
          -1.847615053687545,
          -0.18923271793284913,
          -0.7720096015292391,
          0.4112457655385453,
          0.11467863000478293,
          -1.4206663795278238,
          -0.6610498487755905,
          -1.4253370680419448,
          -0.6642528926905991,
          0.14795487617785147,
          0.34363849028037385,
          0.5446940936108576,
          -1.170337828480521,
          -1.4967050826372772,
          -0.16549287272619267,
          -0.7757039233552273,
          -1.175333472793142,
          -0.9860584630593688,
          -0.2567624340922678,
          1.1081096697218578,
          0.4905022873141684,
          -0.10187821076946177,
          -0.25051212310093574,
          0.5496005698339377,
          1.0277801479335387,
          -1.224813022197627,
          -0.7926622390001563,
          1.3389661877832078,
          0.2583337045239479,
          1.4238321392245428,
          -1.2549517693217713,
          0.3924211759792029,
          -0.27980193924565083,
          -1.2494934296841034,
          -0.72321065360444,
          1.7934026957018891,
          -1.6003422408870176,
          -0.5283469480622293,
          1.710195162699524,
          0.3589247962405482,
          0.21770633363742475,
          -0.8589538797338953,
          0.5069020563414884,
          0.4792637241053778,
          -0.5471593239151623,
          -0.7966292908884803,
          -0.0008098478655252655,
          -0.8141368366633747,
          0.07197909212837338,
          0.7121987424077416,
          2.1642106277762276,
          1.6587166196970367,
          -0.3237980146126996,
          0.543683531746815,
          0.8866040206913408,
          0.06662129370902721,
          -0.36245149934859466,
          -1.5428237763966992,
          1.4300394265738816,
          -0.18491118700292594,
          0.06602098661546725
         ],
         "yaxis": "y7"
        },
        {
         "line": {
          "color": "rgba(128, 128, 128, 1.0)",
          "dash": "solid",
          "shape": "linear",
          "width": 1.3
         },
         "marker": {
          "size": 2,
          "symbol": "circle"
         },
         "mode": "markers",
         "name": "B",
         "text": "",
         "type": "scatter",
         "x": [
          0.5720880157971676,
          0.3024437290791586,
          2.4926337831467174,
          1.0517747349871922,
          -0.07474136843978726,
          -1.1715429723528712,
          0.9517618478851047,
          1.5279135502295635,
          -0.3082971814586023,
          0.09887209101782131,
          1.2219573602464575,
          -0.013741870252920545,
          -0.2141239479935332,
          1.2021817665040428,
          -0.4418379268008085,
          -1.053950278007446,
          0.48499862984218123,
          -1.1155389975496115,
          0.1308543727143404,
          0.929490183836466,
          -0.48324839277428744,
          -1.1829065972482657,
          0.7498368763060137,
          -0.8861058866071584,
          0.4771380290637309,
          -0.4390886442937461,
          1.2306608987142067,
          1.9878059856867818,
          0.15230461037864515,
          1.6620554499341955,
          1.6384041120327586,
          0.3044849790985675,
          -0.6927769693908511,
          -1.3167580837701536,
          -0.78287296571961,
          -0.024974958657900472,
          -0.039841405515385606,
          -0.05000476951849737,
          -0.48945795363207106,
          0.48904841308460867,
          0.6360868866482585,
          0.32000669236085194,
          0.9875177422449749,
          -0.5059927078731065,
          1.7752811827454997,
          1.3668481773897443,
          0.7184125424407601,
          -1.2687944297695042,
          1.137530004513501,
          0.6903058211295873,
          0.9975118860165221,
          -0.9581035891567805,
          0.6921348889719081,
          -0.1415497410709437,
          -0.1692372595819837,
          -1.4768953292698426,
          -0.8416411068387677,
          2.118665783790678,
          1.039799853019657,
          -0.8581640808582295,
          0.4286012652328465,
          0.6703908225507994,
          1.1799680526781622,
          0.9285733497799281,
          -1.5927548882055302,
          -0.19358256515013755,
          0.8250248773783592,
          0.40848470111794216,
          0.5249809483943964,
          -0.5847748299128196,
          1.5376802385593196,
          -1.0825106854614004,
          -1.3499986616086925,
          -2.006560617276983,
          -0.7172014574461055,
          1.5689533342516848,
          1.8396707852402074,
          -0.7076333961882232,
          -0.4465530640565996,
          -1.2939783103858922,
          0.5273817781102613,
          -0.4475078294726565,
          -0.9269647689351543,
          -0.6125245963618412,
          1.165910567454771,
          3.304174007465817,
          0.8312405486623478,
          1.4574607095978371,
          1.05814101462983,
          -2.478506548223967,
          -0.8839376542505711,
          1.263508197927824,
          -0.20620704196656747,
          1.244872603243073,
          1.154030135724552,
          2.9748525669328907,
          0.946205989028131,
          -1.3502188548374479,
          -0.2516426903414452,
          -0.7515697498030125
         ],
         "xaxis": "x8",
         "y": [
          0.9717226780442976,
          0.9914293898313419,
          0.6411744066920212,
          -0.8096385110292955,
          -0.37840086893901514,
          1.7135984676116396,
          0.7197830448450903,
          -0.8983097692873694,
          -0.7552177183891712,
          -1.2511453031383102,
          1.3754310257599178,
          -0.8327151618667233,
          1.4235435329224304,
          0.01735458798168637,
          -0.010746680281691855,
          -1.1709321539445416,
          -1.0953584726049397,
          -1.5796819503451054,
          -1.4766025965885607,
          0.15821998684411592,
          -0.9524819112066436,
          -2.064130958296167,
          0.36773552266722587,
          0.2236223850089126,
          0.5449434992139803,
          -0.23083647027858636,
          -1.1964010702691652,
          1.1757632204612487,
          -1.434208487462081,
          0.440970032869492,
          1.2109577918782037,
          -1.5497590258661662,
          -0.9684039534666286,
          -1.8404879740939677,
          0.5147152292514234,
          0.6383097873389552,
          0.9773578834631445,
          0.5007529783172427,
          -0.4105139270567889,
          -1.847615053687545,
          -0.18923271793284913,
          -0.7720096015292391,
          0.4112457655385453,
          0.11467863000478293,
          -1.4206663795278238,
          -0.6610498487755905,
          -1.4253370680419448,
          -0.6642528926905991,
          0.14795487617785147,
          0.34363849028037385,
          0.5446940936108576,
          -1.170337828480521,
          -1.4967050826372772,
          -0.16549287272619267,
          -0.7757039233552273,
          -1.175333472793142,
          -0.9860584630593688,
          -0.2567624340922678,
          1.1081096697218578,
          0.4905022873141684,
          -0.10187821076946177,
          -0.25051212310093574,
          0.5496005698339377,
          1.0277801479335387,
          -1.224813022197627,
          -0.7926622390001563,
          1.3389661877832078,
          0.2583337045239479,
          1.4238321392245428,
          -1.2549517693217713,
          0.3924211759792029,
          -0.27980193924565083,
          -1.2494934296841034,
          -0.72321065360444,
          1.7934026957018891,
          -1.6003422408870176,
          -0.5283469480622293,
          1.710195162699524,
          0.3589247962405482,
          0.21770633363742475,
          -0.8589538797338953,
          0.5069020563414884,
          0.4792637241053778,
          -0.5471593239151623,
          -0.7966292908884803,
          -0.0008098478655252655,
          -0.8141368366633747,
          0.07197909212837338,
          0.7121987424077416,
          2.1642106277762276,
          1.6587166196970367,
          -0.3237980146126996,
          0.543683531746815,
          0.8866040206913408,
          0.06662129370902721,
          -0.36245149934859466,
          -1.5428237763966992,
          1.4300394265738816,
          -0.18491118700292594,
          0.06602098661546725
         ],
         "yaxis": "y8"
        },
        {
         "line": {
          "color": "rgba(128, 128, 128, 1.0)",
          "dash": "solid",
          "shape": "linear",
          "width": 1.3
         },
         "marker": {
          "size": 2,
          "symbol": "circle"
         },
         "mode": "markers",
         "name": "C",
         "text": "",
         "type": "scatter",
         "x": [
          -1.801810462118037,
          -0.7405278999282524,
          -1.461857030304494,
          -1.0591589088198288,
          -0.26428618768178,
          1.948164848630421,
          -0.23589027518673694,
          0.24657238281739297,
          1.658021589581248,
          0.186696452034347,
          0.8825333889982601,
          -0.4773798929601018,
          0.46972651548583444,
          -0.17320093063047146,
          -0.22683508244266204,
          1.2562233016361952,
          1.310914817148744,
          -0.37320437367658954,
          1.926147146248471,
          0.013675304777552416,
          0.007595408552958917,
          0.8221929815368014,
          0.07591846652853262,
          -0.21887489450015163,
          -1.415591119445165,
          0.6011093091930616,
          0.21043611550600955,
          3.551151429719778,
          0.67855980837985,
          0.44441040471099097,
          0.40501800594761467,
          -1.4429420586514943,
          -0.5726089226425692,
          0.42711475011987726,
          -2.4849078390422226,
          -1.550838633703084,
          0.1342471868944414,
          -2.0658158540835156,
          -1.8297783603605737,
          0.34384485642331847,
          0.8911555668974951,
          -0.6680580034989891,
          0.1817138264631769,
          -0.5573719045906718,
          -1.000221211263796,
          2.543907973222884,
          2.820663767772808,
          -1.23451797618291,
          0.42285643724592425,
          -0.2676682957595602,
          0.9239153944241625,
          0.2835359062945152,
          0.5211584364498096,
          1.6481997375179325,
          -0.1340133395115864,
          -1.195946189733816,
          0.43874383472847545,
          -1.053832892116574,
          -0.4696895658433154,
          0.22089459970479716,
          0.31106612098315894,
          1.6325152367399631,
          0.12148171286156609,
          0.7284922533146289,
          1.150935928793852,
          -1.4493052864419957,
          -1.3474885438875936,
          1.4995138007616624,
          -0.8548810056095114,
          -0.2508135705830549,
          1.5859524585585354,
          0.30169570948898355,
          -1.3847584411858844,
          -0.7172952877799311,
          -0.2388523125662473,
          -1.5402688784288574,
          0.6233403248885073,
          0.3994901335348674,
          1.497119149431649,
          -0.7830568325317241,
          -0.9451963490340021,
          0.9306499911855516,
          1.054919906601512,
          -0.06781875041286145,
          1.6372857588173881,
          0.4258715683400193,
          0.5492007699401444,
          -0.44183901504598483,
          0.5081694849786166,
          -0.5873992503246563,
          1.3060687492015108,
          -0.8504842584600737,
          0.11378281383033334,
          -0.39823121338126055,
          0.21212719538403102,
          0.9743250022300478,
          -0.7048213917177746,
          0.5342517217633828,
          0.9232089584369408,
          -0.7542607429128845
         ],
         "xaxis": "x9",
         "y": [
          -0.43494351378418167,
          1.1956964184782335,
          0.8554662953767199,
          -0.1919969093895718,
          0.3176774870385354,
          1.460572734227075,
          0.5392242309973705,
          0.8905438135855877,
          -1.612987388666539,
          -0.8105085641576423,
          -0.40669516293897184,
          -0.08648226326249135,
          -0.8428827291133176,
          1.4923512672575086,
          0.9830876077723242,
          0.6124036584128042,
          0.600525649554785,
          -0.05305640240053271,
          1.0080612375569293,
          0.06495517214140592,
          -0.2935394846647749,
          -1.44286880519074,
          0.2085614824243877,
          -0.030397123910282268,
          -0.014822643568981279,
          -0.47379186482624336,
          0.7973858067382725,
          -0.4275448799750782,
          1.9046066294757316,
          0.786301854806995,
          -0.46966878052507444,
          -0.6681614726182001,
          0.4272532372534058,
          1.448462537359182,
          -0.4042385192504221,
          1.5096881465551375,
          -0.18605765410019773,
          -1.3754194067429266,
          0.21219894854924493,
          -0.1261178980949456,
          -0.8833007824237488,
          1.2720459104133115,
          -0.5599150847068526,
          -0.31959093070168915,
          1.6146009419160205,
          0.5275912106732872,
          -0.10479675136895887,
          1.2144149647197442,
          -0.8794936265648686,
          0.7023393840528825,
          -0.6204263160050626,
          0.3428956667482456,
          0.4138766598147137,
          0.08865386927879694,
          -1.9208091952736812,
          -1.0307893066854885,
          1.2908187061811358,
          -0.7508900639513508,
          -0.5382583624539559,
          0.5175108926945428,
          -1.7923699674073574,
          1.0608147649083057,
          0.5781987770929097,
          0.0737705781755186,
          -0.8886967452168886,
          -0.0804543657324432,
          0.3827429389626566,
          -1.1175433000490536,
          0.2847322281678397,
          0.297425848037425,
          -0.4092761309565618,
          -0.0928394932257205,
          0.5157870537652739,
          -1.0655801148740676,
          0.0655141277658387,
          1.9587562707747206,
          1.2974372241654957,
          -0.09933557730908811,
          -1.7811599132792695,
          -0.4110349725463234,
          -0.3682563544839573,
          -0.8122218805904927,
          -1.140175228010079,
          -0.952322345925846,
          -0.18149221456362502,
          0.8253127582076232,
          0.8802122707682375,
          -1.1192905615980897,
          0.0980122930341513,
          0.3532195257472032,
          0.9919090858345788,
          1.6951555726272987,
          0.7911671717175314,
          -1.2533656988994484,
          0.2942035891988454,
          0.2552392285941162,
          -0.2723293364061732,
          -0.40482784706908637,
          -0.9322666994799528,
          -0.5350612175898041
         ],
         "yaxis": "y9"
        },
        {
         "line": {
          "color": "rgba(128, 128, 128, 1.0)",
          "dash": "solid",
          "shape": "linear",
          "width": 1.3
         },
         "marker": {
          "size": 2,
          "symbol": "circle"
         },
         "mode": "markers",
         "name": "C",
         "text": "",
         "type": "scatter",
         "x": [
          0.9717226780442976,
          0.9914293898313419,
          0.6411744066920212,
          -0.8096385110292955,
          -0.37840086893901514,
          1.7135984676116396,
          0.7197830448450903,
          -0.8983097692873694,
          -0.7552177183891712,
          -1.2511453031383102,
          1.3754310257599178,
          -0.8327151618667233,
          1.4235435329224304,
          0.01735458798168637,
          -0.010746680281691855,
          -1.1709321539445416,
          -1.0953584726049397,
          -1.5796819503451054,
          -1.4766025965885607,
          0.15821998684411592,
          -0.9524819112066436,
          -2.064130958296167,
          0.36773552266722587,
          0.2236223850089126,
          0.5449434992139803,
          -0.23083647027858636,
          -1.1964010702691652,
          1.1757632204612487,
          -1.434208487462081,
          0.440970032869492,
          1.2109577918782037,
          -1.5497590258661662,
          -0.9684039534666286,
          -1.8404879740939677,
          0.5147152292514234,
          0.6383097873389552,
          0.9773578834631445,
          0.5007529783172427,
          -0.4105139270567889,
          -1.847615053687545,
          -0.18923271793284913,
          -0.7720096015292391,
          0.4112457655385453,
          0.11467863000478293,
          -1.4206663795278238,
          -0.6610498487755905,
          -1.4253370680419448,
          -0.6642528926905991,
          0.14795487617785147,
          0.34363849028037385,
          0.5446940936108576,
          -1.170337828480521,
          -1.4967050826372772,
          -0.16549287272619267,
          -0.7757039233552273,
          -1.175333472793142,
          -0.9860584630593688,
          -0.2567624340922678,
          1.1081096697218578,
          0.4905022873141684,
          -0.10187821076946177,
          -0.25051212310093574,
          0.5496005698339377,
          1.0277801479335387,
          -1.224813022197627,
          -0.7926622390001563,
          1.3389661877832078,
          0.2583337045239479,
          1.4238321392245428,
          -1.2549517693217713,
          0.3924211759792029,
          -0.27980193924565083,
          -1.2494934296841034,
          -0.72321065360444,
          1.7934026957018891,
          -1.6003422408870176,
          -0.5283469480622293,
          1.710195162699524,
          0.3589247962405482,
          0.21770633363742475,
          -0.8589538797338953,
          0.5069020563414884,
          0.4792637241053778,
          -0.5471593239151623,
          -0.7966292908884803,
          -0.0008098478655252655,
          -0.8141368366633747,
          0.07197909212837338,
          0.7121987424077416,
          2.1642106277762276,
          1.6587166196970367,
          -0.3237980146126996,
          0.543683531746815,
          0.8866040206913408,
          0.06662129370902721,
          -0.36245149934859466,
          -1.5428237763966992,
          1.4300394265738816,
          -0.18491118700292594,
          0.06602098661546725
         ],
         "xaxis": "x10",
         "y": [
          -0.43494351378418167,
          1.1956964184782335,
          0.8554662953767199,
          -0.1919969093895718,
          0.3176774870385354,
          1.460572734227075,
          0.5392242309973705,
          0.8905438135855877,
          -1.612987388666539,
          -0.8105085641576423,
          -0.40669516293897184,
          -0.08648226326249135,
          -0.8428827291133176,
          1.4923512672575086,
          0.9830876077723242,
          0.6124036584128042,
          0.600525649554785,
          -0.05305640240053271,
          1.0080612375569293,
          0.06495517214140592,
          -0.2935394846647749,
          -1.44286880519074,
          0.2085614824243877,
          -0.030397123910282268,
          -0.014822643568981279,
          -0.47379186482624336,
          0.7973858067382725,
          -0.4275448799750782,
          1.9046066294757316,
          0.786301854806995,
          -0.46966878052507444,
          -0.6681614726182001,
          0.4272532372534058,
          1.448462537359182,
          -0.4042385192504221,
          1.5096881465551375,
          -0.18605765410019773,
          -1.3754194067429266,
          0.21219894854924493,
          -0.1261178980949456,
          -0.8833007824237488,
          1.2720459104133115,
          -0.5599150847068526,
          -0.31959093070168915,
          1.6146009419160205,
          0.5275912106732872,
          -0.10479675136895887,
          1.2144149647197442,
          -0.8794936265648686,
          0.7023393840528825,
          -0.6204263160050626,
          0.3428956667482456,
          0.4138766598147137,
          0.08865386927879694,
          -1.9208091952736812,
          -1.0307893066854885,
          1.2908187061811358,
          -0.7508900639513508,
          -0.5382583624539559,
          0.5175108926945428,
          -1.7923699674073574,
          1.0608147649083057,
          0.5781987770929097,
          0.0737705781755186,
          -0.8886967452168886,
          -0.0804543657324432,
          0.3827429389626566,
          -1.1175433000490536,
          0.2847322281678397,
          0.297425848037425,
          -0.4092761309565618,
          -0.0928394932257205,
          0.5157870537652739,
          -1.0655801148740676,
          0.0655141277658387,
          1.9587562707747206,
          1.2974372241654957,
          -0.09933557730908811,
          -1.7811599132792695,
          -0.4110349725463234,
          -0.3682563544839573,
          -0.8122218805904927,
          -1.140175228010079,
          -0.952322345925846,
          -0.18149221456362502,
          0.8253127582076232,
          0.8802122707682375,
          -1.1192905615980897,
          0.0980122930341513,
          0.3532195257472032,
          0.9919090858345788,
          1.6951555726272987,
          0.7911671717175314,
          -1.2533656988994484,
          0.2942035891988454,
          0.2552392285941162,
          -0.2723293364061732,
          -0.40482784706908637,
          -0.9322666994799528,
          -0.5350612175898041
         ],
         "yaxis": "y10"
        },
        {
         "histfunc": "count",
         "histnorm": "",
         "marker": {
          "color": "rgba(50, 171, 96, 1.0)",
          "line": {
           "color": "#4D5663",
           "width": 1.3
          }
         },
         "name": "C",
         "nbinsx": 10,
         "opacity": 0.8,
         "orientation": "v",
         "type": "histogram",
         "x": [
          -0.43494351378418167,
          1.1956964184782335,
          0.8554662953767199,
          -0.1919969093895718,
          0.3176774870385354,
          1.460572734227075,
          0.5392242309973705,
          0.8905438135855877,
          -1.612987388666539,
          -0.8105085641576423,
          -0.40669516293897184,
          -0.08648226326249135,
          -0.8428827291133176,
          1.4923512672575086,
          0.9830876077723242,
          0.6124036584128042,
          0.600525649554785,
          -0.05305640240053271,
          1.0080612375569293,
          0.06495517214140592,
          -0.2935394846647749,
          -1.44286880519074,
          0.2085614824243877,
          -0.030397123910282268,
          -0.014822643568981279,
          -0.47379186482624336,
          0.7973858067382725,
          -0.4275448799750782,
          1.9046066294757316,
          0.786301854806995,
          -0.46966878052507444,
          -0.6681614726182001,
          0.4272532372534058,
          1.448462537359182,
          -0.4042385192504221,
          1.5096881465551375,
          -0.18605765410019773,
          -1.3754194067429266,
          0.21219894854924493,
          -0.1261178980949456,
          -0.8833007824237488,
          1.2720459104133115,
          -0.5599150847068526,
          -0.31959093070168915,
          1.6146009419160205,
          0.5275912106732872,
          -0.10479675136895887,
          1.2144149647197442,
          -0.8794936265648686,
          0.7023393840528825,
          -0.6204263160050626,
          0.3428956667482456,
          0.4138766598147137,
          0.08865386927879694,
          -1.9208091952736812,
          -1.0307893066854885,
          1.2908187061811358,
          -0.7508900639513508,
          -0.5382583624539559,
          0.5175108926945428,
          -1.7923699674073574,
          1.0608147649083057,
          0.5781987770929097,
          0.0737705781755186,
          -0.8886967452168886,
          -0.0804543657324432,
          0.3827429389626566,
          -1.1175433000490536,
          0.2847322281678397,
          0.297425848037425,
          -0.4092761309565618,
          -0.0928394932257205,
          0.5157870537652739,
          -1.0655801148740676,
          0.0655141277658387,
          1.9587562707747206,
          1.2974372241654957,
          -0.09933557730908811,
          -1.7811599132792695,
          -0.4110349725463234,
          -0.3682563544839573,
          -0.8122218805904927,
          -1.140175228010079,
          -0.952322345925846,
          -0.18149221456362502,
          0.8253127582076232,
          0.8802122707682375,
          -1.1192905615980897,
          0.0980122930341513,
          0.3532195257472032,
          0.9919090858345788,
          1.6951555726272987,
          0.7911671717175314,
          -1.2533656988994484,
          0.2942035891988454,
          0.2552392285941162,
          -0.2723293364061732,
          -0.40482784706908637,
          -0.9322666994799528,
          -0.5350612175898041
         ],
         "xaxis": "x11",
         "yaxis": "y11"
        },
        {
         "line": {
          "color": "rgba(128, 128, 128, 1.0)",
          "dash": "solid",
          "shape": "linear",
          "width": 1.3
         },
         "marker": {
          "size": 2,
          "symbol": "circle"
         },
         "mode": "markers",
         "name": "C",
         "text": "",
         "type": "scatter",
         "x": [
          0.5720880157971676,
          0.3024437290791586,
          2.4926337831467174,
          1.0517747349871922,
          -0.07474136843978726,
          -1.1715429723528712,
          0.9517618478851047,
          1.5279135502295635,
          -0.3082971814586023,
          0.09887209101782131,
          1.2219573602464575,
          -0.013741870252920545,
          -0.2141239479935332,
          1.2021817665040428,
          -0.4418379268008085,
          -1.053950278007446,
          0.48499862984218123,
          -1.1155389975496115,
          0.1308543727143404,
          0.929490183836466,
          -0.48324839277428744,
          -1.1829065972482657,
          0.7498368763060137,
          -0.8861058866071584,
          0.4771380290637309,
          -0.4390886442937461,
          1.2306608987142067,
          1.9878059856867818,
          0.15230461037864515,
          1.6620554499341955,
          1.6384041120327586,
          0.3044849790985675,
          -0.6927769693908511,
          -1.3167580837701536,
          -0.78287296571961,
          -0.024974958657900472,
          -0.039841405515385606,
          -0.05000476951849737,
          -0.48945795363207106,
          0.48904841308460867,
          0.6360868866482585,
          0.32000669236085194,
          0.9875177422449749,
          -0.5059927078731065,
          1.7752811827454997,
          1.3668481773897443,
          0.7184125424407601,
          -1.2687944297695042,
          1.137530004513501,
          0.6903058211295873,
          0.9975118860165221,
          -0.9581035891567805,
          0.6921348889719081,
          -0.1415497410709437,
          -0.1692372595819837,
          -1.4768953292698426,
          -0.8416411068387677,
          2.118665783790678,
          1.039799853019657,
          -0.8581640808582295,
          0.4286012652328465,
          0.6703908225507994,
          1.1799680526781622,
          0.9285733497799281,
          -1.5927548882055302,
          -0.19358256515013755,
          0.8250248773783592,
          0.40848470111794216,
          0.5249809483943964,
          -0.5847748299128196,
          1.5376802385593196,
          -1.0825106854614004,
          -1.3499986616086925,
          -2.006560617276983,
          -0.7172014574461055,
          1.5689533342516848,
          1.8396707852402074,
          -0.7076333961882232,
          -0.4465530640565996,
          -1.2939783103858922,
          0.5273817781102613,
          -0.4475078294726565,
          -0.9269647689351543,
          -0.6125245963618412,
          1.165910567454771,
          3.304174007465817,
          0.8312405486623478,
          1.4574607095978371,
          1.05814101462983,
          -2.478506548223967,
          -0.8839376542505711,
          1.263508197927824,
          -0.20620704196656747,
          1.244872603243073,
          1.154030135724552,
          2.9748525669328907,
          0.946205989028131,
          -1.3502188548374479,
          -0.2516426903414452,
          -0.7515697498030125
         ],
         "xaxis": "x12",
         "y": [
          -0.43494351378418167,
          1.1956964184782335,
          0.8554662953767199,
          -0.1919969093895718,
          0.3176774870385354,
          1.460572734227075,
          0.5392242309973705,
          0.8905438135855877,
          -1.612987388666539,
          -0.8105085641576423,
          -0.40669516293897184,
          -0.08648226326249135,
          -0.8428827291133176,
          1.4923512672575086,
          0.9830876077723242,
          0.6124036584128042,
          0.600525649554785,
          -0.05305640240053271,
          1.0080612375569293,
          0.06495517214140592,
          -0.2935394846647749,
          -1.44286880519074,
          0.2085614824243877,
          -0.030397123910282268,
          -0.014822643568981279,
          -0.47379186482624336,
          0.7973858067382725,
          -0.4275448799750782,
          1.9046066294757316,
          0.786301854806995,
          -0.46966878052507444,
          -0.6681614726182001,
          0.4272532372534058,
          1.448462537359182,
          -0.4042385192504221,
          1.5096881465551375,
          -0.18605765410019773,
          -1.3754194067429266,
          0.21219894854924493,
          -0.1261178980949456,
          -0.8833007824237488,
          1.2720459104133115,
          -0.5599150847068526,
          -0.31959093070168915,
          1.6146009419160205,
          0.5275912106732872,
          -0.10479675136895887,
          1.2144149647197442,
          -0.8794936265648686,
          0.7023393840528825,
          -0.6204263160050626,
          0.3428956667482456,
          0.4138766598147137,
          0.08865386927879694,
          -1.9208091952736812,
          -1.0307893066854885,
          1.2908187061811358,
          -0.7508900639513508,
          -0.5382583624539559,
          0.5175108926945428,
          -1.7923699674073574,
          1.0608147649083057,
          0.5781987770929097,
          0.0737705781755186,
          -0.8886967452168886,
          -0.0804543657324432,
          0.3827429389626566,
          -1.1175433000490536,
          0.2847322281678397,
          0.297425848037425,
          -0.4092761309565618,
          -0.0928394932257205,
          0.5157870537652739,
          -1.0655801148740676,
          0.0655141277658387,
          1.9587562707747206,
          1.2974372241654957,
          -0.09933557730908811,
          -1.7811599132792695,
          -0.4110349725463234,
          -0.3682563544839573,
          -0.8122218805904927,
          -1.140175228010079,
          -0.952322345925846,
          -0.18149221456362502,
          0.8253127582076232,
          0.8802122707682375,
          -1.1192905615980897,
          0.0980122930341513,
          0.3532195257472032,
          0.9919090858345788,
          1.6951555726272987,
          0.7911671717175314,
          -1.2533656988994484,
          0.2942035891988454,
          0.2552392285941162,
          -0.2723293364061732,
          -0.40482784706908637,
          -0.9322666994799528,
          -0.5350612175898041
         ],
         "yaxis": "y12"
        },
        {
         "line": {
          "color": "rgba(128, 128, 128, 1.0)",
          "dash": "solid",
          "shape": "linear",
          "width": 1.3
         },
         "marker": {
          "size": 2,
          "symbol": "circle"
         },
         "mode": "markers",
         "name": "D",
         "text": "",
         "type": "scatter",
         "x": [
          -1.801810462118037,
          -0.7405278999282524,
          -1.461857030304494,
          -1.0591589088198288,
          -0.26428618768178,
          1.948164848630421,
          -0.23589027518673694,
          0.24657238281739297,
          1.658021589581248,
          0.186696452034347,
          0.8825333889982601,
          -0.4773798929601018,
          0.46972651548583444,
          -0.17320093063047146,
          -0.22683508244266204,
          1.2562233016361952,
          1.310914817148744,
          -0.37320437367658954,
          1.926147146248471,
          0.013675304777552416,
          0.007595408552958917,
          0.8221929815368014,
          0.07591846652853262,
          -0.21887489450015163,
          -1.415591119445165,
          0.6011093091930616,
          0.21043611550600955,
          3.551151429719778,
          0.67855980837985,
          0.44441040471099097,
          0.40501800594761467,
          -1.4429420586514943,
          -0.5726089226425692,
          0.42711475011987726,
          -2.4849078390422226,
          -1.550838633703084,
          0.1342471868944414,
          -2.0658158540835156,
          -1.8297783603605737,
          0.34384485642331847,
          0.8911555668974951,
          -0.6680580034989891,
          0.1817138264631769,
          -0.5573719045906718,
          -1.000221211263796,
          2.543907973222884,
          2.820663767772808,
          -1.23451797618291,
          0.42285643724592425,
          -0.2676682957595602,
          0.9239153944241625,
          0.2835359062945152,
          0.5211584364498096,
          1.6481997375179325,
          -0.1340133395115864,
          -1.195946189733816,
          0.43874383472847545,
          -1.053832892116574,
          -0.4696895658433154,
          0.22089459970479716,
          0.31106612098315894,
          1.6325152367399631,
          0.12148171286156609,
          0.7284922533146289,
          1.150935928793852,
          -1.4493052864419957,
          -1.3474885438875936,
          1.4995138007616624,
          -0.8548810056095114,
          -0.2508135705830549,
          1.5859524585585354,
          0.30169570948898355,
          -1.3847584411858844,
          -0.7172952877799311,
          -0.2388523125662473,
          -1.5402688784288574,
          0.6233403248885073,
          0.3994901335348674,
          1.497119149431649,
          -0.7830568325317241,
          -0.9451963490340021,
          0.9306499911855516,
          1.054919906601512,
          -0.06781875041286145,
          1.6372857588173881,
          0.4258715683400193,
          0.5492007699401444,
          -0.44183901504598483,
          0.5081694849786166,
          -0.5873992503246563,
          1.3060687492015108,
          -0.8504842584600737,
          0.11378281383033334,
          -0.39823121338126055,
          0.21212719538403102,
          0.9743250022300478,
          -0.7048213917177746,
          0.5342517217633828,
          0.9232089584369408,
          -0.7542607429128845
         ],
         "xaxis": "x13",
         "y": [
          0.5720880157971676,
          0.3024437290791586,
          2.4926337831467174,
          1.0517747349871922,
          -0.07474136843978726,
          -1.1715429723528712,
          0.9517618478851047,
          1.5279135502295635,
          -0.3082971814586023,
          0.09887209101782131,
          1.2219573602464575,
          -0.013741870252920545,
          -0.2141239479935332,
          1.2021817665040428,
          -0.4418379268008085,
          -1.053950278007446,
          0.48499862984218123,
          -1.1155389975496115,
          0.1308543727143404,
          0.929490183836466,
          -0.48324839277428744,
          -1.1829065972482657,
          0.7498368763060137,
          -0.8861058866071584,
          0.4771380290637309,
          -0.4390886442937461,
          1.2306608987142067,
          1.9878059856867818,
          0.15230461037864515,
          1.6620554499341955,
          1.6384041120327586,
          0.3044849790985675,
          -0.6927769693908511,
          -1.3167580837701536,
          -0.78287296571961,
          -0.024974958657900472,
          -0.039841405515385606,
          -0.05000476951849737,
          -0.48945795363207106,
          0.48904841308460867,
          0.6360868866482585,
          0.32000669236085194,
          0.9875177422449749,
          -0.5059927078731065,
          1.7752811827454997,
          1.3668481773897443,
          0.7184125424407601,
          -1.2687944297695042,
          1.137530004513501,
          0.6903058211295873,
          0.9975118860165221,
          -0.9581035891567805,
          0.6921348889719081,
          -0.1415497410709437,
          -0.1692372595819837,
          -1.4768953292698426,
          -0.8416411068387677,
          2.118665783790678,
          1.039799853019657,
          -0.8581640808582295,
          0.4286012652328465,
          0.6703908225507994,
          1.1799680526781622,
          0.9285733497799281,
          -1.5927548882055302,
          -0.19358256515013755,
          0.8250248773783592,
          0.40848470111794216,
          0.5249809483943964,
          -0.5847748299128196,
          1.5376802385593196,
          -1.0825106854614004,
          -1.3499986616086925,
          -2.006560617276983,
          -0.7172014574461055,
          1.5689533342516848,
          1.8396707852402074,
          -0.7076333961882232,
          -0.4465530640565996,
          -1.2939783103858922,
          0.5273817781102613,
          -0.4475078294726565,
          -0.9269647689351543,
          -0.6125245963618412,
          1.165910567454771,
          3.304174007465817,
          0.8312405486623478,
          1.4574607095978371,
          1.05814101462983,
          -2.478506548223967,
          -0.8839376542505711,
          1.263508197927824,
          -0.20620704196656747,
          1.244872603243073,
          1.154030135724552,
          2.9748525669328907,
          0.946205989028131,
          -1.3502188548374479,
          -0.2516426903414452,
          -0.7515697498030125
         ],
         "yaxis": "y13"
        },
        {
         "line": {
          "color": "rgba(128, 128, 128, 1.0)",
          "dash": "solid",
          "shape": "linear",
          "width": 1.3
         },
         "marker": {
          "size": 2,
          "symbol": "circle"
         },
         "mode": "markers",
         "name": "D",
         "text": "",
         "type": "scatter",
         "x": [
          0.9717226780442976,
          0.9914293898313419,
          0.6411744066920212,
          -0.8096385110292955,
          -0.37840086893901514,
          1.7135984676116396,
          0.7197830448450903,
          -0.8983097692873694,
          -0.7552177183891712,
          -1.2511453031383102,
          1.3754310257599178,
          -0.8327151618667233,
          1.4235435329224304,
          0.01735458798168637,
          -0.010746680281691855,
          -1.1709321539445416,
          -1.0953584726049397,
          -1.5796819503451054,
          -1.4766025965885607,
          0.15821998684411592,
          -0.9524819112066436,
          -2.064130958296167,
          0.36773552266722587,
          0.2236223850089126,
          0.5449434992139803,
          -0.23083647027858636,
          -1.1964010702691652,
          1.1757632204612487,
          -1.434208487462081,
          0.440970032869492,
          1.2109577918782037,
          -1.5497590258661662,
          -0.9684039534666286,
          -1.8404879740939677,
          0.5147152292514234,
          0.6383097873389552,
          0.9773578834631445,
          0.5007529783172427,
          -0.4105139270567889,
          -1.847615053687545,
          -0.18923271793284913,
          -0.7720096015292391,
          0.4112457655385453,
          0.11467863000478293,
          -1.4206663795278238,
          -0.6610498487755905,
          -1.4253370680419448,
          -0.6642528926905991,
          0.14795487617785147,
          0.34363849028037385,
          0.5446940936108576,
          -1.170337828480521,
          -1.4967050826372772,
          -0.16549287272619267,
          -0.7757039233552273,
          -1.175333472793142,
          -0.9860584630593688,
          -0.2567624340922678,
          1.1081096697218578,
          0.4905022873141684,
          -0.10187821076946177,
          -0.25051212310093574,
          0.5496005698339377,
          1.0277801479335387,
          -1.224813022197627,
          -0.7926622390001563,
          1.3389661877832078,
          0.2583337045239479,
          1.4238321392245428,
          -1.2549517693217713,
          0.3924211759792029,
          -0.27980193924565083,
          -1.2494934296841034,
          -0.72321065360444,
          1.7934026957018891,
          -1.6003422408870176,
          -0.5283469480622293,
          1.710195162699524,
          0.3589247962405482,
          0.21770633363742475,
          -0.8589538797338953,
          0.5069020563414884,
          0.4792637241053778,
          -0.5471593239151623,
          -0.7966292908884803,
          -0.0008098478655252655,
          -0.8141368366633747,
          0.07197909212837338,
          0.7121987424077416,
          2.1642106277762276,
          1.6587166196970367,
          -0.3237980146126996,
          0.543683531746815,
          0.8866040206913408,
          0.06662129370902721,
          -0.36245149934859466,
          -1.5428237763966992,
          1.4300394265738816,
          -0.18491118700292594,
          0.06602098661546725
         ],
         "xaxis": "x14",
         "y": [
          0.5720880157971676,
          0.3024437290791586,
          2.4926337831467174,
          1.0517747349871922,
          -0.07474136843978726,
          -1.1715429723528712,
          0.9517618478851047,
          1.5279135502295635,
          -0.3082971814586023,
          0.09887209101782131,
          1.2219573602464575,
          -0.013741870252920545,
          -0.2141239479935332,
          1.2021817665040428,
          -0.4418379268008085,
          -1.053950278007446,
          0.48499862984218123,
          -1.1155389975496115,
          0.1308543727143404,
          0.929490183836466,
          -0.48324839277428744,
          -1.1829065972482657,
          0.7498368763060137,
          -0.8861058866071584,
          0.4771380290637309,
          -0.4390886442937461,
          1.2306608987142067,
          1.9878059856867818,
          0.15230461037864515,
          1.6620554499341955,
          1.6384041120327586,
          0.3044849790985675,
          -0.6927769693908511,
          -1.3167580837701536,
          -0.78287296571961,
          -0.024974958657900472,
          -0.039841405515385606,
          -0.05000476951849737,
          -0.48945795363207106,
          0.48904841308460867,
          0.6360868866482585,
          0.32000669236085194,
          0.9875177422449749,
          -0.5059927078731065,
          1.7752811827454997,
          1.3668481773897443,
          0.7184125424407601,
          -1.2687944297695042,
          1.137530004513501,
          0.6903058211295873,
          0.9975118860165221,
          -0.9581035891567805,
          0.6921348889719081,
          -0.1415497410709437,
          -0.1692372595819837,
          -1.4768953292698426,
          -0.8416411068387677,
          2.118665783790678,
          1.039799853019657,
          -0.8581640808582295,
          0.4286012652328465,
          0.6703908225507994,
          1.1799680526781622,
          0.9285733497799281,
          -1.5927548882055302,
          -0.19358256515013755,
          0.8250248773783592,
          0.40848470111794216,
          0.5249809483943964,
          -0.5847748299128196,
          1.5376802385593196,
          -1.0825106854614004,
          -1.3499986616086925,
          -2.006560617276983,
          -0.7172014574461055,
          1.5689533342516848,
          1.8396707852402074,
          -0.7076333961882232,
          -0.4465530640565996,
          -1.2939783103858922,
          0.5273817781102613,
          -0.4475078294726565,
          -0.9269647689351543,
          -0.6125245963618412,
          1.165910567454771,
          3.304174007465817,
          0.8312405486623478,
          1.4574607095978371,
          1.05814101462983,
          -2.478506548223967,
          -0.8839376542505711,
          1.263508197927824,
          -0.20620704196656747,
          1.244872603243073,
          1.154030135724552,
          2.9748525669328907,
          0.946205989028131,
          -1.3502188548374479,
          -0.2516426903414452,
          -0.7515697498030125
         ],
         "yaxis": "y14"
        },
        {
         "line": {
          "color": "rgba(128, 128, 128, 1.0)",
          "dash": "solid",
          "shape": "linear",
          "width": 1.3
         },
         "marker": {
          "size": 2,
          "symbol": "circle"
         },
         "mode": "markers",
         "name": "D",
         "text": "",
         "type": "scatter",
         "x": [
          -0.43494351378418167,
          1.1956964184782335,
          0.8554662953767199,
          -0.1919969093895718,
          0.3176774870385354,
          1.460572734227075,
          0.5392242309973705,
          0.8905438135855877,
          -1.612987388666539,
          -0.8105085641576423,
          -0.40669516293897184,
          -0.08648226326249135,
          -0.8428827291133176,
          1.4923512672575086,
          0.9830876077723242,
          0.6124036584128042,
          0.600525649554785,
          -0.05305640240053271,
          1.0080612375569293,
          0.06495517214140592,
          -0.2935394846647749,
          -1.44286880519074,
          0.2085614824243877,
          -0.030397123910282268,
          -0.014822643568981279,
          -0.47379186482624336,
          0.7973858067382725,
          -0.4275448799750782,
          1.9046066294757316,
          0.786301854806995,
          -0.46966878052507444,
          -0.6681614726182001,
          0.4272532372534058,
          1.448462537359182,
          -0.4042385192504221,
          1.5096881465551375,
          -0.18605765410019773,
          -1.3754194067429266,
          0.21219894854924493,
          -0.1261178980949456,
          -0.8833007824237488,
          1.2720459104133115,
          -0.5599150847068526,
          -0.31959093070168915,
          1.6146009419160205,
          0.5275912106732872,
          -0.10479675136895887,
          1.2144149647197442,
          -0.8794936265648686,
          0.7023393840528825,
          -0.6204263160050626,
          0.3428956667482456,
          0.4138766598147137,
          0.08865386927879694,
          -1.9208091952736812,
          -1.0307893066854885,
          1.2908187061811358,
          -0.7508900639513508,
          -0.5382583624539559,
          0.5175108926945428,
          -1.7923699674073574,
          1.0608147649083057,
          0.5781987770929097,
          0.0737705781755186,
          -0.8886967452168886,
          -0.0804543657324432,
          0.3827429389626566,
          -1.1175433000490536,
          0.2847322281678397,
          0.297425848037425,
          -0.4092761309565618,
          -0.0928394932257205,
          0.5157870537652739,
          -1.0655801148740676,
          0.0655141277658387,
          1.9587562707747206,
          1.2974372241654957,
          -0.09933557730908811,
          -1.7811599132792695,
          -0.4110349725463234,
          -0.3682563544839573,
          -0.8122218805904927,
          -1.140175228010079,
          -0.952322345925846,
          -0.18149221456362502,
          0.8253127582076232,
          0.8802122707682375,
          -1.1192905615980897,
          0.0980122930341513,
          0.3532195257472032,
          0.9919090858345788,
          1.6951555726272987,
          0.7911671717175314,
          -1.2533656988994484,
          0.2942035891988454,
          0.2552392285941162,
          -0.2723293364061732,
          -0.40482784706908637,
          -0.9322666994799528,
          -0.5350612175898041
         ],
         "xaxis": "x15",
         "y": [
          0.5720880157971676,
          0.3024437290791586,
          2.4926337831467174,
          1.0517747349871922,
          -0.07474136843978726,
          -1.1715429723528712,
          0.9517618478851047,
          1.5279135502295635,
          -0.3082971814586023,
          0.09887209101782131,
          1.2219573602464575,
          -0.013741870252920545,
          -0.2141239479935332,
          1.2021817665040428,
          -0.4418379268008085,
          -1.053950278007446,
          0.48499862984218123,
          -1.1155389975496115,
          0.1308543727143404,
          0.929490183836466,
          -0.48324839277428744,
          -1.1829065972482657,
          0.7498368763060137,
          -0.8861058866071584,
          0.4771380290637309,
          -0.4390886442937461,
          1.2306608987142067,
          1.9878059856867818,
          0.15230461037864515,
          1.6620554499341955,
          1.6384041120327586,
          0.3044849790985675,
          -0.6927769693908511,
          -1.3167580837701536,
          -0.78287296571961,
          -0.024974958657900472,
          -0.039841405515385606,
          -0.05000476951849737,
          -0.48945795363207106,
          0.48904841308460867,
          0.6360868866482585,
          0.32000669236085194,
          0.9875177422449749,
          -0.5059927078731065,
          1.7752811827454997,
          1.3668481773897443,
          0.7184125424407601,
          -1.2687944297695042,
          1.137530004513501,
          0.6903058211295873,
          0.9975118860165221,
          -0.9581035891567805,
          0.6921348889719081,
          -0.1415497410709437,
          -0.1692372595819837,
          -1.4768953292698426,
          -0.8416411068387677,
          2.118665783790678,
          1.039799853019657,
          -0.8581640808582295,
          0.4286012652328465,
          0.6703908225507994,
          1.1799680526781622,
          0.9285733497799281,
          -1.5927548882055302,
          -0.19358256515013755,
          0.8250248773783592,
          0.40848470111794216,
          0.5249809483943964,
          -0.5847748299128196,
          1.5376802385593196,
          -1.0825106854614004,
          -1.3499986616086925,
          -2.006560617276983,
          -0.7172014574461055,
          1.5689533342516848,
          1.8396707852402074,
          -0.7076333961882232,
          -0.4465530640565996,
          -1.2939783103858922,
          0.5273817781102613,
          -0.4475078294726565,
          -0.9269647689351543,
          -0.6125245963618412,
          1.165910567454771,
          3.304174007465817,
          0.8312405486623478,
          1.4574607095978371,
          1.05814101462983,
          -2.478506548223967,
          -0.8839376542505711,
          1.263508197927824,
          -0.20620704196656747,
          1.244872603243073,
          1.154030135724552,
          2.9748525669328907,
          0.946205989028131,
          -1.3502188548374479,
          -0.2516426903414452,
          -0.7515697498030125
         ],
         "yaxis": "y15"
        },
        {
         "histfunc": "count",
         "histnorm": "",
         "marker": {
          "color": "rgba(128, 0, 128, 1.0)",
          "line": {
           "color": "#4D5663",
           "width": 1.3
          }
         },
         "name": "D",
         "nbinsx": 10,
         "opacity": 0.8,
         "orientation": "v",
         "type": "histogram",
         "x": [
          0.5720880157971676,
          0.3024437290791586,
          2.4926337831467174,
          1.0517747349871922,
          -0.07474136843978726,
          -1.1715429723528712,
          0.9517618478851047,
          1.5279135502295635,
          -0.3082971814586023,
          0.09887209101782131,
          1.2219573602464575,
          -0.013741870252920545,
          -0.2141239479935332,
          1.2021817665040428,
          -0.4418379268008085,
          -1.053950278007446,
          0.48499862984218123,
          -1.1155389975496115,
          0.1308543727143404,
          0.929490183836466,
          -0.48324839277428744,
          -1.1829065972482657,
          0.7498368763060137,
          -0.8861058866071584,
          0.4771380290637309,
          -0.4390886442937461,
          1.2306608987142067,
          1.9878059856867818,
          0.15230461037864515,
          1.6620554499341955,
          1.6384041120327586,
          0.3044849790985675,
          -0.6927769693908511,
          -1.3167580837701536,
          -0.78287296571961,
          -0.024974958657900472,
          -0.039841405515385606,
          -0.05000476951849737,
          -0.48945795363207106,
          0.48904841308460867,
          0.6360868866482585,
          0.32000669236085194,
          0.9875177422449749,
          -0.5059927078731065,
          1.7752811827454997,
          1.3668481773897443,
          0.7184125424407601,
          -1.2687944297695042,
          1.137530004513501,
          0.6903058211295873,
          0.9975118860165221,
          -0.9581035891567805,
          0.6921348889719081,
          -0.1415497410709437,
          -0.1692372595819837,
          -1.4768953292698426,
          -0.8416411068387677,
          2.118665783790678,
          1.039799853019657,
          -0.8581640808582295,
          0.4286012652328465,
          0.6703908225507994,
          1.1799680526781622,
          0.9285733497799281,
          -1.5927548882055302,
          -0.19358256515013755,
          0.8250248773783592,
          0.40848470111794216,
          0.5249809483943964,
          -0.5847748299128196,
          1.5376802385593196,
          -1.0825106854614004,
          -1.3499986616086925,
          -2.006560617276983,
          -0.7172014574461055,
          1.5689533342516848,
          1.8396707852402074,
          -0.7076333961882232,
          -0.4465530640565996,
          -1.2939783103858922,
          0.5273817781102613,
          -0.4475078294726565,
          -0.9269647689351543,
          -0.6125245963618412,
          1.165910567454771,
          3.304174007465817,
          0.8312405486623478,
          1.4574607095978371,
          1.05814101462983,
          -2.478506548223967,
          -0.8839376542505711,
          1.263508197927824,
          -0.20620704196656747,
          1.244872603243073,
          1.154030135724552,
          2.9748525669328907,
          0.946205989028131,
          -1.3502188548374479,
          -0.2516426903414452,
          -0.7515697498030125
         ],
         "xaxis": "x16",
         "yaxis": "y16"
        }
       ],
       "layout": {
        "bargap": 0.02,
        "legend": {
         "bgcolor": "#F5F6F9",
         "font": {
          "color": "#4D5663"
         }
        },
        "paper_bgcolor": "#F5F6F9",
        "plot_bgcolor": "#F5F6F9",
        "showlegend": false,
        "template": {
         "data": {
          "bar": [
           {
            "error_x": {
             "color": "#2a3f5f"
            },
            "error_y": {
             "color": "#2a3f5f"
            },
            "marker": {
             "line": {
              "color": "#E5ECF6",
              "width": 0.5
             },
             "pattern": {
              "fillmode": "overlay",
              "size": 10,
              "solidity": 0.2
             }
            },
            "type": "bar"
           }
          ],
          "barpolar": [
           {
            "marker": {
             "line": {
              "color": "#E5ECF6",
              "width": 0.5
             },
             "pattern": {
              "fillmode": "overlay",
              "size": 10,
              "solidity": 0.2
             }
            },
            "type": "barpolar"
           }
          ],
          "carpet": [
           {
            "aaxis": {
             "endlinecolor": "#2a3f5f",
             "gridcolor": "white",
             "linecolor": "white",
             "minorgridcolor": "white",
             "startlinecolor": "#2a3f5f"
            },
            "baxis": {
             "endlinecolor": "#2a3f5f",
             "gridcolor": "white",
             "linecolor": "white",
             "minorgridcolor": "white",
             "startlinecolor": "#2a3f5f"
            },
            "type": "carpet"
           }
          ],
          "choropleth": [
           {
            "colorbar": {
             "outlinewidth": 0,
             "ticks": ""
            },
            "type": "choropleth"
           }
          ],
          "contour": [
           {
            "colorbar": {
             "outlinewidth": 0,
             "ticks": ""
            },
            "colorscale": [
             [
              0,
              "#0d0887"
             ],
             [
              0.1111111111111111,
              "#46039f"
             ],
             [
              0.2222222222222222,
              "#7201a8"
             ],
             [
              0.3333333333333333,
              "#9c179e"
             ],
             [
              0.4444444444444444,
              "#bd3786"
             ],
             [
              0.5555555555555556,
              "#d8576b"
             ],
             [
              0.6666666666666666,
              "#ed7953"
             ],
             [
              0.7777777777777778,
              "#fb9f3a"
             ],
             [
              0.8888888888888888,
              "#fdca26"
             ],
             [
              1,
              "#f0f921"
             ]
            ],
            "type": "contour"
           }
          ],
          "contourcarpet": [
           {
            "colorbar": {
             "outlinewidth": 0,
             "ticks": ""
            },
            "type": "contourcarpet"
           }
          ],
          "heatmap": [
           {
            "colorbar": {
             "outlinewidth": 0,
             "ticks": ""
            },
            "colorscale": [
             [
              0,
              "#0d0887"
             ],
             [
              0.1111111111111111,
              "#46039f"
             ],
             [
              0.2222222222222222,
              "#7201a8"
             ],
             [
              0.3333333333333333,
              "#9c179e"
             ],
             [
              0.4444444444444444,
              "#bd3786"
             ],
             [
              0.5555555555555556,
              "#d8576b"
             ],
             [
              0.6666666666666666,
              "#ed7953"
             ],
             [
              0.7777777777777778,
              "#fb9f3a"
             ],
             [
              0.8888888888888888,
              "#fdca26"
             ],
             [
              1,
              "#f0f921"
             ]
            ],
            "type": "heatmap"
           }
          ],
          "heatmapgl": [
           {
            "colorbar": {
             "outlinewidth": 0,
             "ticks": ""
            },
            "colorscale": [
             [
              0,
              "#0d0887"
             ],
             [
              0.1111111111111111,
              "#46039f"
             ],
             [
              0.2222222222222222,
              "#7201a8"
             ],
             [
              0.3333333333333333,
              "#9c179e"
             ],
             [
              0.4444444444444444,
              "#bd3786"
             ],
             [
              0.5555555555555556,
              "#d8576b"
             ],
             [
              0.6666666666666666,
              "#ed7953"
             ],
             [
              0.7777777777777778,
              "#fb9f3a"
             ],
             [
              0.8888888888888888,
              "#fdca26"
             ],
             [
              1,
              "#f0f921"
             ]
            ],
            "type": "heatmapgl"
           }
          ],
          "histogram": [
           {
            "marker": {
             "pattern": {
              "fillmode": "overlay",
              "size": 10,
              "solidity": 0.2
             }
            },
            "type": "histogram"
           }
          ],
          "histogram2d": [
           {
            "colorbar": {
             "outlinewidth": 0,
             "ticks": ""
            },
            "colorscale": [
             [
              0,
              "#0d0887"
             ],
             [
              0.1111111111111111,
              "#46039f"
             ],
             [
              0.2222222222222222,
              "#7201a8"
             ],
             [
              0.3333333333333333,
              "#9c179e"
             ],
             [
              0.4444444444444444,
              "#bd3786"
             ],
             [
              0.5555555555555556,
              "#d8576b"
             ],
             [
              0.6666666666666666,
              "#ed7953"
             ],
             [
              0.7777777777777778,
              "#fb9f3a"
             ],
             [
              0.8888888888888888,
              "#fdca26"
             ],
             [
              1,
              "#f0f921"
             ]
            ],
            "type": "histogram2d"
           }
          ],
          "histogram2dcontour": [
           {
            "colorbar": {
             "outlinewidth": 0,
             "ticks": ""
            },
            "colorscale": [
             [
              0,
              "#0d0887"
             ],
             [
              0.1111111111111111,
              "#46039f"
             ],
             [
              0.2222222222222222,
              "#7201a8"
             ],
             [
              0.3333333333333333,
              "#9c179e"
             ],
             [
              0.4444444444444444,
              "#bd3786"
             ],
             [
              0.5555555555555556,
              "#d8576b"
             ],
             [
              0.6666666666666666,
              "#ed7953"
             ],
             [
              0.7777777777777778,
              "#fb9f3a"
             ],
             [
              0.8888888888888888,
              "#fdca26"
             ],
             [
              1,
              "#f0f921"
             ]
            ],
            "type": "histogram2dcontour"
           }
          ],
          "mesh3d": [
           {
            "colorbar": {
             "outlinewidth": 0,
             "ticks": ""
            },
            "type": "mesh3d"
           }
          ],
          "parcoords": [
           {
            "line": {
             "colorbar": {
              "outlinewidth": 0,
              "ticks": ""
             }
            },
            "type": "parcoords"
           }
          ],
          "pie": [
           {
            "automargin": true,
            "type": "pie"
           }
          ],
          "scatter": [
           {
            "fillpattern": {
             "fillmode": "overlay",
             "size": 10,
             "solidity": 0.2
            },
            "type": "scatter"
           }
          ],
          "scatter3d": [
           {
            "line": {
             "colorbar": {
              "outlinewidth": 0,
              "ticks": ""
             }
            },
            "marker": {
             "colorbar": {
              "outlinewidth": 0,
              "ticks": ""
             }
            },
            "type": "scatter3d"
           }
          ],
          "scattercarpet": [
           {
            "marker": {
             "colorbar": {
              "outlinewidth": 0,
              "ticks": ""
             }
            },
            "type": "scattercarpet"
           }
          ],
          "scattergeo": [
           {
            "marker": {
             "colorbar": {
              "outlinewidth": 0,
              "ticks": ""
             }
            },
            "type": "scattergeo"
           }
          ],
          "scattergl": [
           {
            "marker": {
             "colorbar": {
              "outlinewidth": 0,
              "ticks": ""
             }
            },
            "type": "scattergl"
           }
          ],
          "scattermapbox": [
           {
            "marker": {
             "colorbar": {
              "outlinewidth": 0,
              "ticks": ""
             }
            },
            "type": "scattermapbox"
           }
          ],
          "scatterpolar": [
           {
            "marker": {
             "colorbar": {
              "outlinewidth": 0,
              "ticks": ""
             }
            },
            "type": "scatterpolar"
           }
          ],
          "scatterpolargl": [
           {
            "marker": {
             "colorbar": {
              "outlinewidth": 0,
              "ticks": ""
             }
            },
            "type": "scatterpolargl"
           }
          ],
          "scatterternary": [
           {
            "marker": {
             "colorbar": {
              "outlinewidth": 0,
              "ticks": ""
             }
            },
            "type": "scatterternary"
           }
          ],
          "surface": [
           {
            "colorbar": {
             "outlinewidth": 0,
             "ticks": ""
            },
            "colorscale": [
             [
              0,
              "#0d0887"
             ],
             [
              0.1111111111111111,
              "#46039f"
             ],
             [
              0.2222222222222222,
              "#7201a8"
             ],
             [
              0.3333333333333333,
              "#9c179e"
             ],
             [
              0.4444444444444444,
              "#bd3786"
             ],
             [
              0.5555555555555556,
              "#d8576b"
             ],
             [
              0.6666666666666666,
              "#ed7953"
             ],
             [
              0.7777777777777778,
              "#fb9f3a"
             ],
             [
              0.8888888888888888,
              "#fdca26"
             ],
             [
              1,
              "#f0f921"
             ]
            ],
            "type": "surface"
           }
          ],
          "table": [
           {
            "cells": {
             "fill": {
              "color": "#EBF0F8"
             },
             "line": {
              "color": "white"
             }
            },
            "header": {
             "fill": {
              "color": "#C8D4E3"
             },
             "line": {
              "color": "white"
             }
            },
            "type": "table"
           }
          ]
         },
         "layout": {
          "annotationdefaults": {
           "arrowcolor": "#2a3f5f",
           "arrowhead": 0,
           "arrowwidth": 1
          },
          "autotypenumbers": "strict",
          "coloraxis": {
           "colorbar": {
            "outlinewidth": 0,
            "ticks": ""
           }
          },
          "colorscale": {
           "diverging": [
            [
             0,
             "#8e0152"
            ],
            [
             0.1,
             "#c51b7d"
            ],
            [
             0.2,
             "#de77ae"
            ],
            [
             0.3,
             "#f1b6da"
            ],
            [
             0.4,
             "#fde0ef"
            ],
            [
             0.5,
             "#f7f7f7"
            ],
            [
             0.6,
             "#e6f5d0"
            ],
            [
             0.7,
             "#b8e186"
            ],
            [
             0.8,
             "#7fbc41"
            ],
            [
             0.9,
             "#4d9221"
            ],
            [
             1,
             "#276419"
            ]
           ],
           "sequential": [
            [
             0,
             "#0d0887"
            ],
            [
             0.1111111111111111,
             "#46039f"
            ],
            [
             0.2222222222222222,
             "#7201a8"
            ],
            [
             0.3333333333333333,
             "#9c179e"
            ],
            [
             0.4444444444444444,
             "#bd3786"
            ],
            [
             0.5555555555555556,
             "#d8576b"
            ],
            [
             0.6666666666666666,
             "#ed7953"
            ],
            [
             0.7777777777777778,
             "#fb9f3a"
            ],
            [
             0.8888888888888888,
             "#fdca26"
            ],
            [
             1,
             "#f0f921"
            ]
           ],
           "sequentialminus": [
            [
             0,
             "#0d0887"
            ],
            [
             0.1111111111111111,
             "#46039f"
            ],
            [
             0.2222222222222222,
             "#7201a8"
            ],
            [
             0.3333333333333333,
             "#9c179e"
            ],
            [
             0.4444444444444444,
             "#bd3786"
            ],
            [
             0.5555555555555556,
             "#d8576b"
            ],
            [
             0.6666666666666666,
             "#ed7953"
            ],
            [
             0.7777777777777778,
             "#fb9f3a"
            ],
            [
             0.8888888888888888,
             "#fdca26"
            ],
            [
             1,
             "#f0f921"
            ]
           ]
          },
          "colorway": [
           "#636efa",
           "#EF553B",
           "#00cc96",
           "#ab63fa",
           "#FFA15A",
           "#19d3f3",
           "#FF6692",
           "#B6E880",
           "#FF97FF",
           "#FECB52"
          ],
          "font": {
           "color": "#2a3f5f"
          },
          "geo": {
           "bgcolor": "white",
           "lakecolor": "white",
           "landcolor": "#E5ECF6",
           "showlakes": true,
           "showland": true,
           "subunitcolor": "white"
          },
          "hoverlabel": {
           "align": "left"
          },
          "hovermode": "closest",
          "mapbox": {
           "style": "light"
          },
          "paper_bgcolor": "white",
          "plot_bgcolor": "#E5ECF6",
          "polar": {
           "angularaxis": {
            "gridcolor": "white",
            "linecolor": "white",
            "ticks": ""
           },
           "bgcolor": "#E5ECF6",
           "radialaxis": {
            "gridcolor": "white",
            "linecolor": "white",
            "ticks": ""
           }
          },
          "scene": {
           "xaxis": {
            "backgroundcolor": "#E5ECF6",
            "gridcolor": "white",
            "gridwidth": 2,
            "linecolor": "white",
            "showbackground": true,
            "ticks": "",
            "zerolinecolor": "white"
           },
           "yaxis": {
            "backgroundcolor": "#E5ECF6",
            "gridcolor": "white",
            "gridwidth": 2,
            "linecolor": "white",
            "showbackground": true,
            "ticks": "",
            "zerolinecolor": "white"
           },
           "zaxis": {
            "backgroundcolor": "#E5ECF6",
            "gridcolor": "white",
            "gridwidth": 2,
            "linecolor": "white",
            "showbackground": true,
            "ticks": "",
            "zerolinecolor": "white"
           }
          },
          "shapedefaults": {
           "line": {
            "color": "#2a3f5f"
           }
          },
          "ternary": {
           "aaxis": {
            "gridcolor": "white",
            "linecolor": "white",
            "ticks": ""
           },
           "baxis": {
            "gridcolor": "white",
            "linecolor": "white",
            "ticks": ""
           },
           "bgcolor": "#E5ECF6",
           "caxis": {
            "gridcolor": "white",
            "linecolor": "white",
            "ticks": ""
           }
          },
          "title": {
           "x": 0.05
          },
          "xaxis": {
           "automargin": true,
           "gridcolor": "white",
           "linecolor": "white",
           "ticks": "",
           "title": {
            "standoff": 15
           },
           "zerolinecolor": "white",
           "zerolinewidth": 2
          },
          "yaxis": {
           "automargin": true,
           "gridcolor": "white",
           "linecolor": "white",
           "ticks": "",
           "title": {
            "standoff": 15
           },
           "zerolinecolor": "white",
           "zerolinewidth": 2
          }
         }
        },
        "title": {
         "font": {
          "color": "#4D5663"
         }
        },
        "xaxis": {
         "anchor": "y",
         "domain": [
          0,
          0.2125
         ],
         "gridcolor": "#E1E5ED",
         "showgrid": false,
         "tickfont": {
          "color": "#4D5663"
         },
         "title": {
          "font": {
           "color": "#4D5663"
          },
          "text": ""
         },
         "zerolinecolor": "#E1E5ED"
        },
        "xaxis10": {
         "anchor": "y10",
         "domain": [
          0.2625,
          0.475
         ],
         "gridcolor": "#E1E5ED",
         "showgrid": false,
         "tickfont": {
          "color": "#4D5663"
         },
         "title": {
          "font": {
           "color": "#4D5663"
          },
          "text": ""
         },
         "zerolinecolor": "#E1E5ED"
        },
        "xaxis11": {
         "anchor": "y11",
         "domain": [
          0.525,
          0.7375
         ],
         "gridcolor": "#E1E5ED",
         "showgrid": false,
         "tickfont": {
          "color": "#4D5663"
         },
         "title": {
          "font": {
           "color": "#4D5663"
          },
          "text": ""
         },
         "zerolinecolor": "#E1E5ED"
        },
        "xaxis12": {
         "anchor": "y12",
         "domain": [
          0.7875,
          1
         ],
         "gridcolor": "#E1E5ED",
         "showgrid": false,
         "tickfont": {
          "color": "#4D5663"
         },
         "title": {
          "font": {
           "color": "#4D5663"
          },
          "text": ""
         },
         "zerolinecolor": "#E1E5ED"
        },
        "xaxis13": {
         "anchor": "y13",
         "domain": [
          0,
          0.2125
         ],
         "gridcolor": "#E1E5ED",
         "showgrid": false,
         "tickfont": {
          "color": "#4D5663"
         },
         "title": {
          "font": {
           "color": "#4D5663"
          },
          "text": ""
         },
         "zerolinecolor": "#E1E5ED"
        },
        "xaxis14": {
         "anchor": "y14",
         "domain": [
          0.2625,
          0.475
         ],
         "gridcolor": "#E1E5ED",
         "showgrid": false,
         "tickfont": {
          "color": "#4D5663"
         },
         "title": {
          "font": {
           "color": "#4D5663"
          },
          "text": ""
         },
         "zerolinecolor": "#E1E5ED"
        },
        "xaxis15": {
         "anchor": "y15",
         "domain": [
          0.525,
          0.7375
         ],
         "gridcolor": "#E1E5ED",
         "showgrid": false,
         "tickfont": {
          "color": "#4D5663"
         },
         "title": {
          "font": {
           "color": "#4D5663"
          },
          "text": ""
         },
         "zerolinecolor": "#E1E5ED"
        },
        "xaxis16": {
         "anchor": "y16",
         "domain": [
          0.7875,
          1
         ],
         "gridcolor": "#E1E5ED",
         "showgrid": false,
         "tickfont": {
          "color": "#4D5663"
         },
         "title": {
          "font": {
           "color": "#4D5663"
          },
          "text": ""
         },
         "zerolinecolor": "#E1E5ED"
        },
        "xaxis2": {
         "anchor": "y2",
         "domain": [
          0.2625,
          0.475
         ],
         "gridcolor": "#E1E5ED",
         "showgrid": false,
         "tickfont": {
          "color": "#4D5663"
         },
         "title": {
          "font": {
           "color": "#4D5663"
          },
          "text": ""
         },
         "zerolinecolor": "#E1E5ED"
        },
        "xaxis3": {
         "anchor": "y3",
         "domain": [
          0.525,
          0.7375
         ],
         "gridcolor": "#E1E5ED",
         "showgrid": false,
         "tickfont": {
          "color": "#4D5663"
         },
         "title": {
          "font": {
           "color": "#4D5663"
          },
          "text": ""
         },
         "zerolinecolor": "#E1E5ED"
        },
        "xaxis4": {
         "anchor": "y4",
         "domain": [
          0.7875,
          1
         ],
         "gridcolor": "#E1E5ED",
         "showgrid": false,
         "tickfont": {
          "color": "#4D5663"
         },
         "title": {
          "font": {
           "color": "#4D5663"
          },
          "text": ""
         },
         "zerolinecolor": "#E1E5ED"
        },
        "xaxis5": {
         "anchor": "y5",
         "domain": [
          0,
          0.2125
         ],
         "gridcolor": "#E1E5ED",
         "showgrid": false,
         "tickfont": {
          "color": "#4D5663"
         },
         "title": {
          "font": {
           "color": "#4D5663"
          },
          "text": ""
         },
         "zerolinecolor": "#E1E5ED"
        },
        "xaxis6": {
         "anchor": "y6",
         "domain": [
          0.2625,
          0.475
         ],
         "gridcolor": "#E1E5ED",
         "showgrid": false,
         "tickfont": {
          "color": "#4D5663"
         },
         "title": {
          "font": {
           "color": "#4D5663"
          },
          "text": ""
         },
         "zerolinecolor": "#E1E5ED"
        },
        "xaxis7": {
         "anchor": "y7",
         "domain": [
          0.525,
          0.7375
         ],
         "gridcolor": "#E1E5ED",
         "showgrid": false,
         "tickfont": {
          "color": "#4D5663"
         },
         "title": {
          "font": {
           "color": "#4D5663"
          },
          "text": ""
         },
         "zerolinecolor": "#E1E5ED"
        },
        "xaxis8": {
         "anchor": "y8",
         "domain": [
          0.7875,
          1
         ],
         "gridcolor": "#E1E5ED",
         "showgrid": false,
         "tickfont": {
          "color": "#4D5663"
         },
         "title": {
          "font": {
           "color": "#4D5663"
          },
          "text": ""
         },
         "zerolinecolor": "#E1E5ED"
        },
        "xaxis9": {
         "anchor": "y9",
         "domain": [
          0,
          0.2125
         ],
         "gridcolor": "#E1E5ED",
         "showgrid": false,
         "tickfont": {
          "color": "#4D5663"
         },
         "title": {
          "font": {
           "color": "#4D5663"
          },
          "text": ""
         },
         "zerolinecolor": "#E1E5ED"
        },
        "yaxis": {
         "anchor": "x",
         "domain": [
          0.8025,
          1
         ],
         "gridcolor": "#E1E5ED",
         "showgrid": false,
         "tickfont": {
          "color": "#4D5663"
         },
         "title": {
          "font": {
           "color": "#4D5663"
          },
          "text": ""
         },
         "zerolinecolor": "#E1E5ED"
        },
        "yaxis10": {
         "anchor": "x10",
         "domain": [
          0.2675,
          0.465
         ],
         "gridcolor": "#E1E5ED",
         "showgrid": false,
         "tickfont": {
          "color": "#4D5663"
         },
         "title": {
          "font": {
           "color": "#4D5663"
          },
          "text": ""
         },
         "zerolinecolor": "#E1E5ED"
        },
        "yaxis11": {
         "anchor": "x11",
         "domain": [
          0.2675,
          0.465
         ],
         "gridcolor": "#E1E5ED",
         "showgrid": false,
         "tickfont": {
          "color": "#4D5663"
         },
         "title": {
          "font": {
           "color": "#4D5663"
          },
          "text": ""
         },
         "zerolinecolor": "#E1E5ED"
        },
        "yaxis12": {
         "anchor": "x12",
         "domain": [
          0.2675,
          0.465
         ],
         "gridcolor": "#E1E5ED",
         "showgrid": false,
         "tickfont": {
          "color": "#4D5663"
         },
         "title": {
          "font": {
           "color": "#4D5663"
          },
          "text": ""
         },
         "zerolinecolor": "#E1E5ED"
        },
        "yaxis13": {
         "anchor": "x13",
         "domain": [
          0,
          0.1975
         ],
         "gridcolor": "#E1E5ED",
         "showgrid": false,
         "tickfont": {
          "color": "#4D5663"
         },
         "title": {
          "font": {
           "color": "#4D5663"
          },
          "text": ""
         },
         "zerolinecolor": "#E1E5ED"
        },
        "yaxis14": {
         "anchor": "x14",
         "domain": [
          0,
          0.1975
         ],
         "gridcolor": "#E1E5ED",
         "showgrid": false,
         "tickfont": {
          "color": "#4D5663"
         },
         "title": {
          "font": {
           "color": "#4D5663"
          },
          "text": ""
         },
         "zerolinecolor": "#E1E5ED"
        },
        "yaxis15": {
         "anchor": "x15",
         "domain": [
          0,
          0.1975
         ],
         "gridcolor": "#E1E5ED",
         "showgrid": false,
         "tickfont": {
          "color": "#4D5663"
         },
         "title": {
          "font": {
           "color": "#4D5663"
          },
          "text": ""
         },
         "zerolinecolor": "#E1E5ED"
        },
        "yaxis16": {
         "anchor": "x16",
         "domain": [
          0,
          0.1975
         ],
         "gridcolor": "#E1E5ED",
         "showgrid": false,
         "tickfont": {
          "color": "#4D5663"
         },
         "title": {
          "font": {
           "color": "#4D5663"
          },
          "text": ""
         },
         "zerolinecolor": "#E1E5ED"
        },
        "yaxis2": {
         "anchor": "x2",
         "domain": [
          0.8025,
          1
         ],
         "gridcolor": "#E1E5ED",
         "showgrid": false,
         "tickfont": {
          "color": "#4D5663"
         },
         "title": {
          "font": {
           "color": "#4D5663"
          },
          "text": ""
         },
         "zerolinecolor": "#E1E5ED"
        },
        "yaxis3": {
         "anchor": "x3",
         "domain": [
          0.8025,
          1
         ],
         "gridcolor": "#E1E5ED",
         "showgrid": false,
         "tickfont": {
          "color": "#4D5663"
         },
         "title": {
          "font": {
           "color": "#4D5663"
          },
          "text": ""
         },
         "zerolinecolor": "#E1E5ED"
        },
        "yaxis4": {
         "anchor": "x4",
         "domain": [
          0.8025,
          1
         ],
         "gridcolor": "#E1E5ED",
         "showgrid": false,
         "tickfont": {
          "color": "#4D5663"
         },
         "title": {
          "font": {
           "color": "#4D5663"
          },
          "text": ""
         },
         "zerolinecolor": "#E1E5ED"
        },
        "yaxis5": {
         "anchor": "x5",
         "domain": [
          0.535,
          0.7325
         ],
         "gridcolor": "#E1E5ED",
         "showgrid": false,
         "tickfont": {
          "color": "#4D5663"
         },
         "title": {
          "font": {
           "color": "#4D5663"
          },
          "text": ""
         },
         "zerolinecolor": "#E1E5ED"
        },
        "yaxis6": {
         "anchor": "x6",
         "domain": [
          0.535,
          0.7325
         ],
         "gridcolor": "#E1E5ED",
         "showgrid": false,
         "tickfont": {
          "color": "#4D5663"
         },
         "title": {
          "font": {
           "color": "#4D5663"
          },
          "text": ""
         },
         "zerolinecolor": "#E1E5ED"
        },
        "yaxis7": {
         "anchor": "x7",
         "domain": [
          0.535,
          0.7325
         ],
         "gridcolor": "#E1E5ED",
         "showgrid": false,
         "tickfont": {
          "color": "#4D5663"
         },
         "title": {
          "font": {
           "color": "#4D5663"
          },
          "text": ""
         },
         "zerolinecolor": "#E1E5ED"
        },
        "yaxis8": {
         "anchor": "x8",
         "domain": [
          0.535,
          0.7325
         ],
         "gridcolor": "#E1E5ED",
         "showgrid": false,
         "tickfont": {
          "color": "#4D5663"
         },
         "title": {
          "font": {
           "color": "#4D5663"
          },
          "text": ""
         },
         "zerolinecolor": "#E1E5ED"
        },
        "yaxis9": {
         "anchor": "x9",
         "domain": [
          0.2675,
          0.465
         ],
         "gridcolor": "#E1E5ED",
         "showgrid": false,
         "tickfont": {
          "color": "#4D5663"
         },
         "title": {
          "font": {
           "color": "#4D5663"
          },
          "text": ""
         },
         "zerolinecolor": "#E1E5ED"
        }
       }
      },
      "text/html": [
       "<div>                            <div id=\"dafccea3-fca5-40b4-922f-2fe18b1ce971\" class=\"plotly-graph-div\" style=\"height:525px; width:100%;\"></div>            <script type=\"text/javascript\">                require([\"plotly\"], function(Plotly) {                    window.PLOTLYENV=window.PLOTLYENV || {};\n",
       "                    window.PLOTLYENV.BASE_URL='https://plot.ly';                                    if (document.getElementById(\"dafccea3-fca5-40b4-922f-2fe18b1ce971\")) {                    Plotly.newPlot(                        \"dafccea3-fca5-40b4-922f-2fe18b1ce971\",                        [{\"histfunc\":\"count\",\"histnorm\":\"\",\"marker\":{\"color\":\"rgba(255, 153, 51, 1.0)\",\"line\":{\"color\":\"#4D5663\",\"width\":1.3}},\"name\":\"A\",\"nbinsx\":10,\"opacity\":0.8,\"orientation\":\"v\",\"x\":[-1.801810462118037,-0.7405278999282524,-1.461857030304494,-1.0591589088198288,-0.26428618768178,1.948164848630421,-0.23589027518673694,0.24657238281739297,1.658021589581248,0.186696452034347,0.8825333889982601,-0.4773798929601018,0.46972651548583444,-0.17320093063047146,-0.22683508244266204,1.2562233016361952,1.310914817148744,-0.37320437367658954,1.926147146248471,0.013675304777552416,0.007595408552958917,0.8221929815368014,0.07591846652853262,-0.21887489450015163,-1.415591119445165,0.6011093091930616,0.21043611550600955,3.551151429719778,0.67855980837985,0.44441040471099097,0.40501800594761467,-1.4429420586514943,-0.5726089226425692,0.42711475011987726,-2.4849078390422226,-1.550838633703084,0.1342471868944414,-2.0658158540835156,-1.8297783603605737,0.34384485642331847,0.8911555668974951,-0.6680580034989891,0.1817138264631769,-0.5573719045906718,-1.000221211263796,2.543907973222884,2.820663767772808,-1.23451797618291,0.42285643724592425,-0.2676682957595602,0.9239153944241625,0.2835359062945152,0.5211584364498096,1.6481997375179325,-0.1340133395115864,-1.195946189733816,0.43874383472847545,-1.053832892116574,-0.4696895658433154,0.22089459970479716,0.31106612098315894,1.6325152367399631,0.12148171286156609,0.7284922533146289,1.150935928793852,-1.4493052864419957,-1.3474885438875936,1.4995138007616624,-0.8548810056095114,-0.2508135705830549,1.5859524585585354,0.30169570948898355,-1.3847584411858844,-0.7172952877799311,-0.2388523125662473,-1.5402688784288574,0.6233403248885073,0.3994901335348674,1.497119149431649,-0.7830568325317241,-0.9451963490340021,0.9306499911855516,1.054919906601512,-0.06781875041286145,1.6372857588173881,0.4258715683400193,0.5492007699401444,-0.44183901504598483,0.5081694849786166,-0.5873992503246563,1.3060687492015108,-0.8504842584600737,0.11378281383033334,-0.39823121338126055,0.21212719538403102,0.9743250022300478,-0.7048213917177746,0.5342517217633828,0.9232089584369408,-0.7542607429128845],\"xaxis\":\"x\",\"yaxis\":\"y\",\"type\":\"histogram\"},{\"line\":{\"color\":\"rgba(128, 128, 128, 1.0)\",\"dash\":\"solid\",\"shape\":\"linear\",\"width\":1.3},\"marker\":{\"size\":2,\"symbol\":\"circle\"},\"mode\":\"markers\",\"name\":\"A\",\"text\":\"\",\"x\":[0.9717226780442976,0.9914293898313419,0.6411744066920212,-0.8096385110292955,-0.37840086893901514,1.7135984676116396,0.7197830448450903,-0.8983097692873694,-0.7552177183891712,-1.2511453031383102,1.3754310257599178,-0.8327151618667233,1.4235435329224304,0.01735458798168637,-0.010746680281691855,-1.1709321539445416,-1.0953584726049397,-1.5796819503451054,-1.4766025965885607,0.15821998684411592,-0.9524819112066436,-2.064130958296167,0.36773552266722587,0.2236223850089126,0.5449434992139803,-0.23083647027858636,-1.1964010702691652,1.1757632204612487,-1.434208487462081,0.440970032869492,1.2109577918782037,-1.5497590258661662,-0.9684039534666286,-1.8404879740939677,0.5147152292514234,0.6383097873389552,0.9773578834631445,0.5007529783172427,-0.4105139270567889,-1.847615053687545,-0.18923271793284913,-0.7720096015292391,0.4112457655385453,0.11467863000478293,-1.4206663795278238,-0.6610498487755905,-1.4253370680419448,-0.6642528926905991,0.14795487617785147,0.34363849028037385,0.5446940936108576,-1.170337828480521,-1.4967050826372772,-0.16549287272619267,-0.7757039233552273,-1.175333472793142,-0.9860584630593688,-0.2567624340922678,1.1081096697218578,0.4905022873141684,-0.10187821076946177,-0.25051212310093574,0.5496005698339377,1.0277801479335387,-1.224813022197627,-0.7926622390001563,1.3389661877832078,0.2583337045239479,1.4238321392245428,-1.2549517693217713,0.3924211759792029,-0.27980193924565083,-1.2494934296841034,-0.72321065360444,1.7934026957018891,-1.6003422408870176,-0.5283469480622293,1.710195162699524,0.3589247962405482,0.21770633363742475,-0.8589538797338953,0.5069020563414884,0.4792637241053778,-0.5471593239151623,-0.7966292908884803,-0.0008098478655252655,-0.8141368366633747,0.07197909212837338,0.7121987424077416,2.1642106277762276,1.6587166196970367,-0.3237980146126996,0.543683531746815,0.8866040206913408,0.06662129370902721,-0.36245149934859466,-1.5428237763966992,1.4300394265738816,-0.18491118700292594,0.06602098661546725],\"xaxis\":\"x2\",\"y\":[-1.801810462118037,-0.7405278999282524,-1.461857030304494,-1.0591589088198288,-0.26428618768178,1.948164848630421,-0.23589027518673694,0.24657238281739297,1.658021589581248,0.186696452034347,0.8825333889982601,-0.4773798929601018,0.46972651548583444,-0.17320093063047146,-0.22683508244266204,1.2562233016361952,1.310914817148744,-0.37320437367658954,1.926147146248471,0.013675304777552416,0.007595408552958917,0.8221929815368014,0.07591846652853262,-0.21887489450015163,-1.415591119445165,0.6011093091930616,0.21043611550600955,3.551151429719778,0.67855980837985,0.44441040471099097,0.40501800594761467,-1.4429420586514943,-0.5726089226425692,0.42711475011987726,-2.4849078390422226,-1.550838633703084,0.1342471868944414,-2.0658158540835156,-1.8297783603605737,0.34384485642331847,0.8911555668974951,-0.6680580034989891,0.1817138264631769,-0.5573719045906718,-1.000221211263796,2.543907973222884,2.820663767772808,-1.23451797618291,0.42285643724592425,-0.2676682957595602,0.9239153944241625,0.2835359062945152,0.5211584364498096,1.6481997375179325,-0.1340133395115864,-1.195946189733816,0.43874383472847545,-1.053832892116574,-0.4696895658433154,0.22089459970479716,0.31106612098315894,1.6325152367399631,0.12148171286156609,0.7284922533146289,1.150935928793852,-1.4493052864419957,-1.3474885438875936,1.4995138007616624,-0.8548810056095114,-0.2508135705830549,1.5859524585585354,0.30169570948898355,-1.3847584411858844,-0.7172952877799311,-0.2388523125662473,-1.5402688784288574,0.6233403248885073,0.3994901335348674,1.497119149431649,-0.7830568325317241,-0.9451963490340021,0.9306499911855516,1.054919906601512,-0.06781875041286145,1.6372857588173881,0.4258715683400193,0.5492007699401444,-0.44183901504598483,0.5081694849786166,-0.5873992503246563,1.3060687492015108,-0.8504842584600737,0.11378281383033334,-0.39823121338126055,0.21212719538403102,0.9743250022300478,-0.7048213917177746,0.5342517217633828,0.9232089584369408,-0.7542607429128845],\"yaxis\":\"y2\",\"type\":\"scatter\"},{\"line\":{\"color\":\"rgba(128, 128, 128, 1.0)\",\"dash\":\"solid\",\"shape\":\"linear\",\"width\":1.3},\"marker\":{\"size\":2,\"symbol\":\"circle\"},\"mode\":\"markers\",\"name\":\"A\",\"text\":\"\",\"x\":[-0.43494351378418167,1.1956964184782335,0.8554662953767199,-0.1919969093895718,0.3176774870385354,1.460572734227075,0.5392242309973705,0.8905438135855877,-1.612987388666539,-0.8105085641576423,-0.40669516293897184,-0.08648226326249135,-0.8428827291133176,1.4923512672575086,0.9830876077723242,0.6124036584128042,0.600525649554785,-0.05305640240053271,1.0080612375569293,0.06495517214140592,-0.2935394846647749,-1.44286880519074,0.2085614824243877,-0.030397123910282268,-0.014822643568981279,-0.47379186482624336,0.7973858067382725,-0.4275448799750782,1.9046066294757316,0.786301854806995,-0.46966878052507444,-0.6681614726182001,0.4272532372534058,1.448462537359182,-0.4042385192504221,1.5096881465551375,-0.18605765410019773,-1.3754194067429266,0.21219894854924493,-0.1261178980949456,-0.8833007824237488,1.2720459104133115,-0.5599150847068526,-0.31959093070168915,1.6146009419160205,0.5275912106732872,-0.10479675136895887,1.2144149647197442,-0.8794936265648686,0.7023393840528825,-0.6204263160050626,0.3428956667482456,0.4138766598147137,0.08865386927879694,-1.9208091952736812,-1.0307893066854885,1.2908187061811358,-0.7508900639513508,-0.5382583624539559,0.5175108926945428,-1.7923699674073574,1.0608147649083057,0.5781987770929097,0.0737705781755186,-0.8886967452168886,-0.0804543657324432,0.3827429389626566,-1.1175433000490536,0.2847322281678397,0.297425848037425,-0.4092761309565618,-0.0928394932257205,0.5157870537652739,-1.0655801148740676,0.0655141277658387,1.9587562707747206,1.2974372241654957,-0.09933557730908811,-1.7811599132792695,-0.4110349725463234,-0.3682563544839573,-0.8122218805904927,-1.140175228010079,-0.952322345925846,-0.18149221456362502,0.8253127582076232,0.8802122707682375,-1.1192905615980897,0.0980122930341513,0.3532195257472032,0.9919090858345788,1.6951555726272987,0.7911671717175314,-1.2533656988994484,0.2942035891988454,0.2552392285941162,-0.2723293364061732,-0.40482784706908637,-0.9322666994799528,-0.5350612175898041],\"xaxis\":\"x3\",\"y\":[-1.801810462118037,-0.7405278999282524,-1.461857030304494,-1.0591589088198288,-0.26428618768178,1.948164848630421,-0.23589027518673694,0.24657238281739297,1.658021589581248,0.186696452034347,0.8825333889982601,-0.4773798929601018,0.46972651548583444,-0.17320093063047146,-0.22683508244266204,1.2562233016361952,1.310914817148744,-0.37320437367658954,1.926147146248471,0.013675304777552416,0.007595408552958917,0.8221929815368014,0.07591846652853262,-0.21887489450015163,-1.415591119445165,0.6011093091930616,0.21043611550600955,3.551151429719778,0.67855980837985,0.44441040471099097,0.40501800594761467,-1.4429420586514943,-0.5726089226425692,0.42711475011987726,-2.4849078390422226,-1.550838633703084,0.1342471868944414,-2.0658158540835156,-1.8297783603605737,0.34384485642331847,0.8911555668974951,-0.6680580034989891,0.1817138264631769,-0.5573719045906718,-1.000221211263796,2.543907973222884,2.820663767772808,-1.23451797618291,0.42285643724592425,-0.2676682957595602,0.9239153944241625,0.2835359062945152,0.5211584364498096,1.6481997375179325,-0.1340133395115864,-1.195946189733816,0.43874383472847545,-1.053832892116574,-0.4696895658433154,0.22089459970479716,0.31106612098315894,1.6325152367399631,0.12148171286156609,0.7284922533146289,1.150935928793852,-1.4493052864419957,-1.3474885438875936,1.4995138007616624,-0.8548810056095114,-0.2508135705830549,1.5859524585585354,0.30169570948898355,-1.3847584411858844,-0.7172952877799311,-0.2388523125662473,-1.5402688784288574,0.6233403248885073,0.3994901335348674,1.497119149431649,-0.7830568325317241,-0.9451963490340021,0.9306499911855516,1.054919906601512,-0.06781875041286145,1.6372857588173881,0.4258715683400193,0.5492007699401444,-0.44183901504598483,0.5081694849786166,-0.5873992503246563,1.3060687492015108,-0.8504842584600737,0.11378281383033334,-0.39823121338126055,0.21212719538403102,0.9743250022300478,-0.7048213917177746,0.5342517217633828,0.9232089584369408,-0.7542607429128845],\"yaxis\":\"y3\",\"type\":\"scatter\"},{\"line\":{\"color\":\"rgba(128, 128, 128, 1.0)\",\"dash\":\"solid\",\"shape\":\"linear\",\"width\":1.3},\"marker\":{\"size\":2,\"symbol\":\"circle\"},\"mode\":\"markers\",\"name\":\"A\",\"text\":\"\",\"x\":[0.5720880157971676,0.3024437290791586,2.4926337831467174,1.0517747349871922,-0.07474136843978726,-1.1715429723528712,0.9517618478851047,1.5279135502295635,-0.3082971814586023,0.09887209101782131,1.2219573602464575,-0.013741870252920545,-0.2141239479935332,1.2021817665040428,-0.4418379268008085,-1.053950278007446,0.48499862984218123,-1.1155389975496115,0.1308543727143404,0.929490183836466,-0.48324839277428744,-1.1829065972482657,0.7498368763060137,-0.8861058866071584,0.4771380290637309,-0.4390886442937461,1.2306608987142067,1.9878059856867818,0.15230461037864515,1.6620554499341955,1.6384041120327586,0.3044849790985675,-0.6927769693908511,-1.3167580837701536,-0.78287296571961,-0.024974958657900472,-0.039841405515385606,-0.05000476951849737,-0.48945795363207106,0.48904841308460867,0.6360868866482585,0.32000669236085194,0.9875177422449749,-0.5059927078731065,1.7752811827454997,1.3668481773897443,0.7184125424407601,-1.2687944297695042,1.137530004513501,0.6903058211295873,0.9975118860165221,-0.9581035891567805,0.6921348889719081,-0.1415497410709437,-0.1692372595819837,-1.4768953292698426,-0.8416411068387677,2.118665783790678,1.039799853019657,-0.8581640808582295,0.4286012652328465,0.6703908225507994,1.1799680526781622,0.9285733497799281,-1.5927548882055302,-0.19358256515013755,0.8250248773783592,0.40848470111794216,0.5249809483943964,-0.5847748299128196,1.5376802385593196,-1.0825106854614004,-1.3499986616086925,-2.006560617276983,-0.7172014574461055,1.5689533342516848,1.8396707852402074,-0.7076333961882232,-0.4465530640565996,-1.2939783103858922,0.5273817781102613,-0.4475078294726565,-0.9269647689351543,-0.6125245963618412,1.165910567454771,3.304174007465817,0.8312405486623478,1.4574607095978371,1.05814101462983,-2.478506548223967,-0.8839376542505711,1.263508197927824,-0.20620704196656747,1.244872603243073,1.154030135724552,2.9748525669328907,0.946205989028131,-1.3502188548374479,-0.2516426903414452,-0.7515697498030125],\"xaxis\":\"x4\",\"y\":[-1.801810462118037,-0.7405278999282524,-1.461857030304494,-1.0591589088198288,-0.26428618768178,1.948164848630421,-0.23589027518673694,0.24657238281739297,1.658021589581248,0.186696452034347,0.8825333889982601,-0.4773798929601018,0.46972651548583444,-0.17320093063047146,-0.22683508244266204,1.2562233016361952,1.310914817148744,-0.37320437367658954,1.926147146248471,0.013675304777552416,0.007595408552958917,0.8221929815368014,0.07591846652853262,-0.21887489450015163,-1.415591119445165,0.6011093091930616,0.21043611550600955,3.551151429719778,0.67855980837985,0.44441040471099097,0.40501800594761467,-1.4429420586514943,-0.5726089226425692,0.42711475011987726,-2.4849078390422226,-1.550838633703084,0.1342471868944414,-2.0658158540835156,-1.8297783603605737,0.34384485642331847,0.8911555668974951,-0.6680580034989891,0.1817138264631769,-0.5573719045906718,-1.000221211263796,2.543907973222884,2.820663767772808,-1.23451797618291,0.42285643724592425,-0.2676682957595602,0.9239153944241625,0.2835359062945152,0.5211584364498096,1.6481997375179325,-0.1340133395115864,-1.195946189733816,0.43874383472847545,-1.053832892116574,-0.4696895658433154,0.22089459970479716,0.31106612098315894,1.6325152367399631,0.12148171286156609,0.7284922533146289,1.150935928793852,-1.4493052864419957,-1.3474885438875936,1.4995138007616624,-0.8548810056095114,-0.2508135705830549,1.5859524585585354,0.30169570948898355,-1.3847584411858844,-0.7172952877799311,-0.2388523125662473,-1.5402688784288574,0.6233403248885073,0.3994901335348674,1.497119149431649,-0.7830568325317241,-0.9451963490340021,0.9306499911855516,1.054919906601512,-0.06781875041286145,1.6372857588173881,0.4258715683400193,0.5492007699401444,-0.44183901504598483,0.5081694849786166,-0.5873992503246563,1.3060687492015108,-0.8504842584600737,0.11378281383033334,-0.39823121338126055,0.21212719538403102,0.9743250022300478,-0.7048213917177746,0.5342517217633828,0.9232089584369408,-0.7542607429128845],\"yaxis\":\"y4\",\"type\":\"scatter\"},{\"line\":{\"color\":\"rgba(128, 128, 128, 1.0)\",\"dash\":\"solid\",\"shape\":\"linear\",\"width\":1.3},\"marker\":{\"size\":2,\"symbol\":\"circle\"},\"mode\":\"markers\",\"name\":\"B\",\"text\":\"\",\"x\":[-1.801810462118037,-0.7405278999282524,-1.461857030304494,-1.0591589088198288,-0.26428618768178,1.948164848630421,-0.23589027518673694,0.24657238281739297,1.658021589581248,0.186696452034347,0.8825333889982601,-0.4773798929601018,0.46972651548583444,-0.17320093063047146,-0.22683508244266204,1.2562233016361952,1.310914817148744,-0.37320437367658954,1.926147146248471,0.013675304777552416,0.007595408552958917,0.8221929815368014,0.07591846652853262,-0.21887489450015163,-1.415591119445165,0.6011093091930616,0.21043611550600955,3.551151429719778,0.67855980837985,0.44441040471099097,0.40501800594761467,-1.4429420586514943,-0.5726089226425692,0.42711475011987726,-2.4849078390422226,-1.550838633703084,0.1342471868944414,-2.0658158540835156,-1.8297783603605737,0.34384485642331847,0.8911555668974951,-0.6680580034989891,0.1817138264631769,-0.5573719045906718,-1.000221211263796,2.543907973222884,2.820663767772808,-1.23451797618291,0.42285643724592425,-0.2676682957595602,0.9239153944241625,0.2835359062945152,0.5211584364498096,1.6481997375179325,-0.1340133395115864,-1.195946189733816,0.43874383472847545,-1.053832892116574,-0.4696895658433154,0.22089459970479716,0.31106612098315894,1.6325152367399631,0.12148171286156609,0.7284922533146289,1.150935928793852,-1.4493052864419957,-1.3474885438875936,1.4995138007616624,-0.8548810056095114,-0.2508135705830549,1.5859524585585354,0.30169570948898355,-1.3847584411858844,-0.7172952877799311,-0.2388523125662473,-1.5402688784288574,0.6233403248885073,0.3994901335348674,1.497119149431649,-0.7830568325317241,-0.9451963490340021,0.9306499911855516,1.054919906601512,-0.06781875041286145,1.6372857588173881,0.4258715683400193,0.5492007699401444,-0.44183901504598483,0.5081694849786166,-0.5873992503246563,1.3060687492015108,-0.8504842584600737,0.11378281383033334,-0.39823121338126055,0.21212719538403102,0.9743250022300478,-0.7048213917177746,0.5342517217633828,0.9232089584369408,-0.7542607429128845],\"xaxis\":\"x5\",\"y\":[0.9717226780442976,0.9914293898313419,0.6411744066920212,-0.8096385110292955,-0.37840086893901514,1.7135984676116396,0.7197830448450903,-0.8983097692873694,-0.7552177183891712,-1.2511453031383102,1.3754310257599178,-0.8327151618667233,1.4235435329224304,0.01735458798168637,-0.010746680281691855,-1.1709321539445416,-1.0953584726049397,-1.5796819503451054,-1.4766025965885607,0.15821998684411592,-0.9524819112066436,-2.064130958296167,0.36773552266722587,0.2236223850089126,0.5449434992139803,-0.23083647027858636,-1.1964010702691652,1.1757632204612487,-1.434208487462081,0.440970032869492,1.2109577918782037,-1.5497590258661662,-0.9684039534666286,-1.8404879740939677,0.5147152292514234,0.6383097873389552,0.9773578834631445,0.5007529783172427,-0.4105139270567889,-1.847615053687545,-0.18923271793284913,-0.7720096015292391,0.4112457655385453,0.11467863000478293,-1.4206663795278238,-0.6610498487755905,-1.4253370680419448,-0.6642528926905991,0.14795487617785147,0.34363849028037385,0.5446940936108576,-1.170337828480521,-1.4967050826372772,-0.16549287272619267,-0.7757039233552273,-1.175333472793142,-0.9860584630593688,-0.2567624340922678,1.1081096697218578,0.4905022873141684,-0.10187821076946177,-0.25051212310093574,0.5496005698339377,1.0277801479335387,-1.224813022197627,-0.7926622390001563,1.3389661877832078,0.2583337045239479,1.4238321392245428,-1.2549517693217713,0.3924211759792029,-0.27980193924565083,-1.2494934296841034,-0.72321065360444,1.7934026957018891,-1.6003422408870176,-0.5283469480622293,1.710195162699524,0.3589247962405482,0.21770633363742475,-0.8589538797338953,0.5069020563414884,0.4792637241053778,-0.5471593239151623,-0.7966292908884803,-0.0008098478655252655,-0.8141368366633747,0.07197909212837338,0.7121987424077416,2.1642106277762276,1.6587166196970367,-0.3237980146126996,0.543683531746815,0.8866040206913408,0.06662129370902721,-0.36245149934859466,-1.5428237763966992,1.4300394265738816,-0.18491118700292594,0.06602098661546725],\"yaxis\":\"y5\",\"type\":\"scatter\"},{\"histfunc\":\"count\",\"histnorm\":\"\",\"marker\":{\"color\":\"rgba(55, 128, 191, 1.0)\",\"line\":{\"color\":\"#4D5663\",\"width\":1.3}},\"name\":\"B\",\"nbinsx\":10,\"opacity\":0.8,\"orientation\":\"v\",\"x\":[0.9717226780442976,0.9914293898313419,0.6411744066920212,-0.8096385110292955,-0.37840086893901514,1.7135984676116396,0.7197830448450903,-0.8983097692873694,-0.7552177183891712,-1.2511453031383102,1.3754310257599178,-0.8327151618667233,1.4235435329224304,0.01735458798168637,-0.010746680281691855,-1.1709321539445416,-1.0953584726049397,-1.5796819503451054,-1.4766025965885607,0.15821998684411592,-0.9524819112066436,-2.064130958296167,0.36773552266722587,0.2236223850089126,0.5449434992139803,-0.23083647027858636,-1.1964010702691652,1.1757632204612487,-1.434208487462081,0.440970032869492,1.2109577918782037,-1.5497590258661662,-0.9684039534666286,-1.8404879740939677,0.5147152292514234,0.6383097873389552,0.9773578834631445,0.5007529783172427,-0.4105139270567889,-1.847615053687545,-0.18923271793284913,-0.7720096015292391,0.4112457655385453,0.11467863000478293,-1.4206663795278238,-0.6610498487755905,-1.4253370680419448,-0.6642528926905991,0.14795487617785147,0.34363849028037385,0.5446940936108576,-1.170337828480521,-1.4967050826372772,-0.16549287272619267,-0.7757039233552273,-1.175333472793142,-0.9860584630593688,-0.2567624340922678,1.1081096697218578,0.4905022873141684,-0.10187821076946177,-0.25051212310093574,0.5496005698339377,1.0277801479335387,-1.224813022197627,-0.7926622390001563,1.3389661877832078,0.2583337045239479,1.4238321392245428,-1.2549517693217713,0.3924211759792029,-0.27980193924565083,-1.2494934296841034,-0.72321065360444,1.7934026957018891,-1.6003422408870176,-0.5283469480622293,1.710195162699524,0.3589247962405482,0.21770633363742475,-0.8589538797338953,0.5069020563414884,0.4792637241053778,-0.5471593239151623,-0.7966292908884803,-0.0008098478655252655,-0.8141368366633747,0.07197909212837338,0.7121987424077416,2.1642106277762276,1.6587166196970367,-0.3237980146126996,0.543683531746815,0.8866040206913408,0.06662129370902721,-0.36245149934859466,-1.5428237763966992,1.4300394265738816,-0.18491118700292594,0.06602098661546725],\"xaxis\":\"x6\",\"yaxis\":\"y6\",\"type\":\"histogram\"},{\"line\":{\"color\":\"rgba(128, 128, 128, 1.0)\",\"dash\":\"solid\",\"shape\":\"linear\",\"width\":1.3},\"marker\":{\"size\":2,\"symbol\":\"circle\"},\"mode\":\"markers\",\"name\":\"B\",\"text\":\"\",\"x\":[-0.43494351378418167,1.1956964184782335,0.8554662953767199,-0.1919969093895718,0.3176774870385354,1.460572734227075,0.5392242309973705,0.8905438135855877,-1.612987388666539,-0.8105085641576423,-0.40669516293897184,-0.08648226326249135,-0.8428827291133176,1.4923512672575086,0.9830876077723242,0.6124036584128042,0.600525649554785,-0.05305640240053271,1.0080612375569293,0.06495517214140592,-0.2935394846647749,-1.44286880519074,0.2085614824243877,-0.030397123910282268,-0.014822643568981279,-0.47379186482624336,0.7973858067382725,-0.4275448799750782,1.9046066294757316,0.786301854806995,-0.46966878052507444,-0.6681614726182001,0.4272532372534058,1.448462537359182,-0.4042385192504221,1.5096881465551375,-0.18605765410019773,-1.3754194067429266,0.21219894854924493,-0.1261178980949456,-0.8833007824237488,1.2720459104133115,-0.5599150847068526,-0.31959093070168915,1.6146009419160205,0.5275912106732872,-0.10479675136895887,1.2144149647197442,-0.8794936265648686,0.7023393840528825,-0.6204263160050626,0.3428956667482456,0.4138766598147137,0.08865386927879694,-1.9208091952736812,-1.0307893066854885,1.2908187061811358,-0.7508900639513508,-0.5382583624539559,0.5175108926945428,-1.7923699674073574,1.0608147649083057,0.5781987770929097,0.0737705781755186,-0.8886967452168886,-0.0804543657324432,0.3827429389626566,-1.1175433000490536,0.2847322281678397,0.297425848037425,-0.4092761309565618,-0.0928394932257205,0.5157870537652739,-1.0655801148740676,0.0655141277658387,1.9587562707747206,1.2974372241654957,-0.09933557730908811,-1.7811599132792695,-0.4110349725463234,-0.3682563544839573,-0.8122218805904927,-1.140175228010079,-0.952322345925846,-0.18149221456362502,0.8253127582076232,0.8802122707682375,-1.1192905615980897,0.0980122930341513,0.3532195257472032,0.9919090858345788,1.6951555726272987,0.7911671717175314,-1.2533656988994484,0.2942035891988454,0.2552392285941162,-0.2723293364061732,-0.40482784706908637,-0.9322666994799528,-0.5350612175898041],\"xaxis\":\"x7\",\"y\":[0.9717226780442976,0.9914293898313419,0.6411744066920212,-0.8096385110292955,-0.37840086893901514,1.7135984676116396,0.7197830448450903,-0.8983097692873694,-0.7552177183891712,-1.2511453031383102,1.3754310257599178,-0.8327151618667233,1.4235435329224304,0.01735458798168637,-0.010746680281691855,-1.1709321539445416,-1.0953584726049397,-1.5796819503451054,-1.4766025965885607,0.15821998684411592,-0.9524819112066436,-2.064130958296167,0.36773552266722587,0.2236223850089126,0.5449434992139803,-0.23083647027858636,-1.1964010702691652,1.1757632204612487,-1.434208487462081,0.440970032869492,1.2109577918782037,-1.5497590258661662,-0.9684039534666286,-1.8404879740939677,0.5147152292514234,0.6383097873389552,0.9773578834631445,0.5007529783172427,-0.4105139270567889,-1.847615053687545,-0.18923271793284913,-0.7720096015292391,0.4112457655385453,0.11467863000478293,-1.4206663795278238,-0.6610498487755905,-1.4253370680419448,-0.6642528926905991,0.14795487617785147,0.34363849028037385,0.5446940936108576,-1.170337828480521,-1.4967050826372772,-0.16549287272619267,-0.7757039233552273,-1.175333472793142,-0.9860584630593688,-0.2567624340922678,1.1081096697218578,0.4905022873141684,-0.10187821076946177,-0.25051212310093574,0.5496005698339377,1.0277801479335387,-1.224813022197627,-0.7926622390001563,1.3389661877832078,0.2583337045239479,1.4238321392245428,-1.2549517693217713,0.3924211759792029,-0.27980193924565083,-1.2494934296841034,-0.72321065360444,1.7934026957018891,-1.6003422408870176,-0.5283469480622293,1.710195162699524,0.3589247962405482,0.21770633363742475,-0.8589538797338953,0.5069020563414884,0.4792637241053778,-0.5471593239151623,-0.7966292908884803,-0.0008098478655252655,-0.8141368366633747,0.07197909212837338,0.7121987424077416,2.1642106277762276,1.6587166196970367,-0.3237980146126996,0.543683531746815,0.8866040206913408,0.06662129370902721,-0.36245149934859466,-1.5428237763966992,1.4300394265738816,-0.18491118700292594,0.06602098661546725],\"yaxis\":\"y7\",\"type\":\"scatter\"},{\"line\":{\"color\":\"rgba(128, 128, 128, 1.0)\",\"dash\":\"solid\",\"shape\":\"linear\",\"width\":1.3},\"marker\":{\"size\":2,\"symbol\":\"circle\"},\"mode\":\"markers\",\"name\":\"B\",\"text\":\"\",\"x\":[0.5720880157971676,0.3024437290791586,2.4926337831467174,1.0517747349871922,-0.07474136843978726,-1.1715429723528712,0.9517618478851047,1.5279135502295635,-0.3082971814586023,0.09887209101782131,1.2219573602464575,-0.013741870252920545,-0.2141239479935332,1.2021817665040428,-0.4418379268008085,-1.053950278007446,0.48499862984218123,-1.1155389975496115,0.1308543727143404,0.929490183836466,-0.48324839277428744,-1.1829065972482657,0.7498368763060137,-0.8861058866071584,0.4771380290637309,-0.4390886442937461,1.2306608987142067,1.9878059856867818,0.15230461037864515,1.6620554499341955,1.6384041120327586,0.3044849790985675,-0.6927769693908511,-1.3167580837701536,-0.78287296571961,-0.024974958657900472,-0.039841405515385606,-0.05000476951849737,-0.48945795363207106,0.48904841308460867,0.6360868866482585,0.32000669236085194,0.9875177422449749,-0.5059927078731065,1.7752811827454997,1.3668481773897443,0.7184125424407601,-1.2687944297695042,1.137530004513501,0.6903058211295873,0.9975118860165221,-0.9581035891567805,0.6921348889719081,-0.1415497410709437,-0.1692372595819837,-1.4768953292698426,-0.8416411068387677,2.118665783790678,1.039799853019657,-0.8581640808582295,0.4286012652328465,0.6703908225507994,1.1799680526781622,0.9285733497799281,-1.5927548882055302,-0.19358256515013755,0.8250248773783592,0.40848470111794216,0.5249809483943964,-0.5847748299128196,1.5376802385593196,-1.0825106854614004,-1.3499986616086925,-2.006560617276983,-0.7172014574461055,1.5689533342516848,1.8396707852402074,-0.7076333961882232,-0.4465530640565996,-1.2939783103858922,0.5273817781102613,-0.4475078294726565,-0.9269647689351543,-0.6125245963618412,1.165910567454771,3.304174007465817,0.8312405486623478,1.4574607095978371,1.05814101462983,-2.478506548223967,-0.8839376542505711,1.263508197927824,-0.20620704196656747,1.244872603243073,1.154030135724552,2.9748525669328907,0.946205989028131,-1.3502188548374479,-0.2516426903414452,-0.7515697498030125],\"xaxis\":\"x8\",\"y\":[0.9717226780442976,0.9914293898313419,0.6411744066920212,-0.8096385110292955,-0.37840086893901514,1.7135984676116396,0.7197830448450903,-0.8983097692873694,-0.7552177183891712,-1.2511453031383102,1.3754310257599178,-0.8327151618667233,1.4235435329224304,0.01735458798168637,-0.010746680281691855,-1.1709321539445416,-1.0953584726049397,-1.5796819503451054,-1.4766025965885607,0.15821998684411592,-0.9524819112066436,-2.064130958296167,0.36773552266722587,0.2236223850089126,0.5449434992139803,-0.23083647027858636,-1.1964010702691652,1.1757632204612487,-1.434208487462081,0.440970032869492,1.2109577918782037,-1.5497590258661662,-0.9684039534666286,-1.8404879740939677,0.5147152292514234,0.6383097873389552,0.9773578834631445,0.5007529783172427,-0.4105139270567889,-1.847615053687545,-0.18923271793284913,-0.7720096015292391,0.4112457655385453,0.11467863000478293,-1.4206663795278238,-0.6610498487755905,-1.4253370680419448,-0.6642528926905991,0.14795487617785147,0.34363849028037385,0.5446940936108576,-1.170337828480521,-1.4967050826372772,-0.16549287272619267,-0.7757039233552273,-1.175333472793142,-0.9860584630593688,-0.2567624340922678,1.1081096697218578,0.4905022873141684,-0.10187821076946177,-0.25051212310093574,0.5496005698339377,1.0277801479335387,-1.224813022197627,-0.7926622390001563,1.3389661877832078,0.2583337045239479,1.4238321392245428,-1.2549517693217713,0.3924211759792029,-0.27980193924565083,-1.2494934296841034,-0.72321065360444,1.7934026957018891,-1.6003422408870176,-0.5283469480622293,1.710195162699524,0.3589247962405482,0.21770633363742475,-0.8589538797338953,0.5069020563414884,0.4792637241053778,-0.5471593239151623,-0.7966292908884803,-0.0008098478655252655,-0.8141368366633747,0.07197909212837338,0.7121987424077416,2.1642106277762276,1.6587166196970367,-0.3237980146126996,0.543683531746815,0.8866040206913408,0.06662129370902721,-0.36245149934859466,-1.5428237763966992,1.4300394265738816,-0.18491118700292594,0.06602098661546725],\"yaxis\":\"y8\",\"type\":\"scatter\"},{\"line\":{\"color\":\"rgba(128, 128, 128, 1.0)\",\"dash\":\"solid\",\"shape\":\"linear\",\"width\":1.3},\"marker\":{\"size\":2,\"symbol\":\"circle\"},\"mode\":\"markers\",\"name\":\"C\",\"text\":\"\",\"x\":[-1.801810462118037,-0.7405278999282524,-1.461857030304494,-1.0591589088198288,-0.26428618768178,1.948164848630421,-0.23589027518673694,0.24657238281739297,1.658021589581248,0.186696452034347,0.8825333889982601,-0.4773798929601018,0.46972651548583444,-0.17320093063047146,-0.22683508244266204,1.2562233016361952,1.310914817148744,-0.37320437367658954,1.926147146248471,0.013675304777552416,0.007595408552958917,0.8221929815368014,0.07591846652853262,-0.21887489450015163,-1.415591119445165,0.6011093091930616,0.21043611550600955,3.551151429719778,0.67855980837985,0.44441040471099097,0.40501800594761467,-1.4429420586514943,-0.5726089226425692,0.42711475011987726,-2.4849078390422226,-1.550838633703084,0.1342471868944414,-2.0658158540835156,-1.8297783603605737,0.34384485642331847,0.8911555668974951,-0.6680580034989891,0.1817138264631769,-0.5573719045906718,-1.000221211263796,2.543907973222884,2.820663767772808,-1.23451797618291,0.42285643724592425,-0.2676682957595602,0.9239153944241625,0.2835359062945152,0.5211584364498096,1.6481997375179325,-0.1340133395115864,-1.195946189733816,0.43874383472847545,-1.053832892116574,-0.4696895658433154,0.22089459970479716,0.31106612098315894,1.6325152367399631,0.12148171286156609,0.7284922533146289,1.150935928793852,-1.4493052864419957,-1.3474885438875936,1.4995138007616624,-0.8548810056095114,-0.2508135705830549,1.5859524585585354,0.30169570948898355,-1.3847584411858844,-0.7172952877799311,-0.2388523125662473,-1.5402688784288574,0.6233403248885073,0.3994901335348674,1.497119149431649,-0.7830568325317241,-0.9451963490340021,0.9306499911855516,1.054919906601512,-0.06781875041286145,1.6372857588173881,0.4258715683400193,0.5492007699401444,-0.44183901504598483,0.5081694849786166,-0.5873992503246563,1.3060687492015108,-0.8504842584600737,0.11378281383033334,-0.39823121338126055,0.21212719538403102,0.9743250022300478,-0.7048213917177746,0.5342517217633828,0.9232089584369408,-0.7542607429128845],\"xaxis\":\"x9\",\"y\":[-0.43494351378418167,1.1956964184782335,0.8554662953767199,-0.1919969093895718,0.3176774870385354,1.460572734227075,0.5392242309973705,0.8905438135855877,-1.612987388666539,-0.8105085641576423,-0.40669516293897184,-0.08648226326249135,-0.8428827291133176,1.4923512672575086,0.9830876077723242,0.6124036584128042,0.600525649554785,-0.05305640240053271,1.0080612375569293,0.06495517214140592,-0.2935394846647749,-1.44286880519074,0.2085614824243877,-0.030397123910282268,-0.014822643568981279,-0.47379186482624336,0.7973858067382725,-0.4275448799750782,1.9046066294757316,0.786301854806995,-0.46966878052507444,-0.6681614726182001,0.4272532372534058,1.448462537359182,-0.4042385192504221,1.5096881465551375,-0.18605765410019773,-1.3754194067429266,0.21219894854924493,-0.1261178980949456,-0.8833007824237488,1.2720459104133115,-0.5599150847068526,-0.31959093070168915,1.6146009419160205,0.5275912106732872,-0.10479675136895887,1.2144149647197442,-0.8794936265648686,0.7023393840528825,-0.6204263160050626,0.3428956667482456,0.4138766598147137,0.08865386927879694,-1.9208091952736812,-1.0307893066854885,1.2908187061811358,-0.7508900639513508,-0.5382583624539559,0.5175108926945428,-1.7923699674073574,1.0608147649083057,0.5781987770929097,0.0737705781755186,-0.8886967452168886,-0.0804543657324432,0.3827429389626566,-1.1175433000490536,0.2847322281678397,0.297425848037425,-0.4092761309565618,-0.0928394932257205,0.5157870537652739,-1.0655801148740676,0.0655141277658387,1.9587562707747206,1.2974372241654957,-0.09933557730908811,-1.7811599132792695,-0.4110349725463234,-0.3682563544839573,-0.8122218805904927,-1.140175228010079,-0.952322345925846,-0.18149221456362502,0.8253127582076232,0.8802122707682375,-1.1192905615980897,0.0980122930341513,0.3532195257472032,0.9919090858345788,1.6951555726272987,0.7911671717175314,-1.2533656988994484,0.2942035891988454,0.2552392285941162,-0.2723293364061732,-0.40482784706908637,-0.9322666994799528,-0.5350612175898041],\"yaxis\":\"y9\",\"type\":\"scatter\"},{\"line\":{\"color\":\"rgba(128, 128, 128, 1.0)\",\"dash\":\"solid\",\"shape\":\"linear\",\"width\":1.3},\"marker\":{\"size\":2,\"symbol\":\"circle\"},\"mode\":\"markers\",\"name\":\"C\",\"text\":\"\",\"x\":[0.9717226780442976,0.9914293898313419,0.6411744066920212,-0.8096385110292955,-0.37840086893901514,1.7135984676116396,0.7197830448450903,-0.8983097692873694,-0.7552177183891712,-1.2511453031383102,1.3754310257599178,-0.8327151618667233,1.4235435329224304,0.01735458798168637,-0.010746680281691855,-1.1709321539445416,-1.0953584726049397,-1.5796819503451054,-1.4766025965885607,0.15821998684411592,-0.9524819112066436,-2.064130958296167,0.36773552266722587,0.2236223850089126,0.5449434992139803,-0.23083647027858636,-1.1964010702691652,1.1757632204612487,-1.434208487462081,0.440970032869492,1.2109577918782037,-1.5497590258661662,-0.9684039534666286,-1.8404879740939677,0.5147152292514234,0.6383097873389552,0.9773578834631445,0.5007529783172427,-0.4105139270567889,-1.847615053687545,-0.18923271793284913,-0.7720096015292391,0.4112457655385453,0.11467863000478293,-1.4206663795278238,-0.6610498487755905,-1.4253370680419448,-0.6642528926905991,0.14795487617785147,0.34363849028037385,0.5446940936108576,-1.170337828480521,-1.4967050826372772,-0.16549287272619267,-0.7757039233552273,-1.175333472793142,-0.9860584630593688,-0.2567624340922678,1.1081096697218578,0.4905022873141684,-0.10187821076946177,-0.25051212310093574,0.5496005698339377,1.0277801479335387,-1.224813022197627,-0.7926622390001563,1.3389661877832078,0.2583337045239479,1.4238321392245428,-1.2549517693217713,0.3924211759792029,-0.27980193924565083,-1.2494934296841034,-0.72321065360444,1.7934026957018891,-1.6003422408870176,-0.5283469480622293,1.710195162699524,0.3589247962405482,0.21770633363742475,-0.8589538797338953,0.5069020563414884,0.4792637241053778,-0.5471593239151623,-0.7966292908884803,-0.0008098478655252655,-0.8141368366633747,0.07197909212837338,0.7121987424077416,2.1642106277762276,1.6587166196970367,-0.3237980146126996,0.543683531746815,0.8866040206913408,0.06662129370902721,-0.36245149934859466,-1.5428237763966992,1.4300394265738816,-0.18491118700292594,0.06602098661546725],\"xaxis\":\"x10\",\"y\":[-0.43494351378418167,1.1956964184782335,0.8554662953767199,-0.1919969093895718,0.3176774870385354,1.460572734227075,0.5392242309973705,0.8905438135855877,-1.612987388666539,-0.8105085641576423,-0.40669516293897184,-0.08648226326249135,-0.8428827291133176,1.4923512672575086,0.9830876077723242,0.6124036584128042,0.600525649554785,-0.05305640240053271,1.0080612375569293,0.06495517214140592,-0.2935394846647749,-1.44286880519074,0.2085614824243877,-0.030397123910282268,-0.014822643568981279,-0.47379186482624336,0.7973858067382725,-0.4275448799750782,1.9046066294757316,0.786301854806995,-0.46966878052507444,-0.6681614726182001,0.4272532372534058,1.448462537359182,-0.4042385192504221,1.5096881465551375,-0.18605765410019773,-1.3754194067429266,0.21219894854924493,-0.1261178980949456,-0.8833007824237488,1.2720459104133115,-0.5599150847068526,-0.31959093070168915,1.6146009419160205,0.5275912106732872,-0.10479675136895887,1.2144149647197442,-0.8794936265648686,0.7023393840528825,-0.6204263160050626,0.3428956667482456,0.4138766598147137,0.08865386927879694,-1.9208091952736812,-1.0307893066854885,1.2908187061811358,-0.7508900639513508,-0.5382583624539559,0.5175108926945428,-1.7923699674073574,1.0608147649083057,0.5781987770929097,0.0737705781755186,-0.8886967452168886,-0.0804543657324432,0.3827429389626566,-1.1175433000490536,0.2847322281678397,0.297425848037425,-0.4092761309565618,-0.0928394932257205,0.5157870537652739,-1.0655801148740676,0.0655141277658387,1.9587562707747206,1.2974372241654957,-0.09933557730908811,-1.7811599132792695,-0.4110349725463234,-0.3682563544839573,-0.8122218805904927,-1.140175228010079,-0.952322345925846,-0.18149221456362502,0.8253127582076232,0.8802122707682375,-1.1192905615980897,0.0980122930341513,0.3532195257472032,0.9919090858345788,1.6951555726272987,0.7911671717175314,-1.2533656988994484,0.2942035891988454,0.2552392285941162,-0.2723293364061732,-0.40482784706908637,-0.9322666994799528,-0.5350612175898041],\"yaxis\":\"y10\",\"type\":\"scatter\"},{\"histfunc\":\"count\",\"histnorm\":\"\",\"marker\":{\"color\":\"rgba(50, 171, 96, 1.0)\",\"line\":{\"color\":\"#4D5663\",\"width\":1.3}},\"name\":\"C\",\"nbinsx\":10,\"opacity\":0.8,\"orientation\":\"v\",\"x\":[-0.43494351378418167,1.1956964184782335,0.8554662953767199,-0.1919969093895718,0.3176774870385354,1.460572734227075,0.5392242309973705,0.8905438135855877,-1.612987388666539,-0.8105085641576423,-0.40669516293897184,-0.08648226326249135,-0.8428827291133176,1.4923512672575086,0.9830876077723242,0.6124036584128042,0.600525649554785,-0.05305640240053271,1.0080612375569293,0.06495517214140592,-0.2935394846647749,-1.44286880519074,0.2085614824243877,-0.030397123910282268,-0.014822643568981279,-0.47379186482624336,0.7973858067382725,-0.4275448799750782,1.9046066294757316,0.786301854806995,-0.46966878052507444,-0.6681614726182001,0.4272532372534058,1.448462537359182,-0.4042385192504221,1.5096881465551375,-0.18605765410019773,-1.3754194067429266,0.21219894854924493,-0.1261178980949456,-0.8833007824237488,1.2720459104133115,-0.5599150847068526,-0.31959093070168915,1.6146009419160205,0.5275912106732872,-0.10479675136895887,1.2144149647197442,-0.8794936265648686,0.7023393840528825,-0.6204263160050626,0.3428956667482456,0.4138766598147137,0.08865386927879694,-1.9208091952736812,-1.0307893066854885,1.2908187061811358,-0.7508900639513508,-0.5382583624539559,0.5175108926945428,-1.7923699674073574,1.0608147649083057,0.5781987770929097,0.0737705781755186,-0.8886967452168886,-0.0804543657324432,0.3827429389626566,-1.1175433000490536,0.2847322281678397,0.297425848037425,-0.4092761309565618,-0.0928394932257205,0.5157870537652739,-1.0655801148740676,0.0655141277658387,1.9587562707747206,1.2974372241654957,-0.09933557730908811,-1.7811599132792695,-0.4110349725463234,-0.3682563544839573,-0.8122218805904927,-1.140175228010079,-0.952322345925846,-0.18149221456362502,0.8253127582076232,0.8802122707682375,-1.1192905615980897,0.0980122930341513,0.3532195257472032,0.9919090858345788,1.6951555726272987,0.7911671717175314,-1.2533656988994484,0.2942035891988454,0.2552392285941162,-0.2723293364061732,-0.40482784706908637,-0.9322666994799528,-0.5350612175898041],\"xaxis\":\"x11\",\"yaxis\":\"y11\",\"type\":\"histogram\"},{\"line\":{\"color\":\"rgba(128, 128, 128, 1.0)\",\"dash\":\"solid\",\"shape\":\"linear\",\"width\":1.3},\"marker\":{\"size\":2,\"symbol\":\"circle\"},\"mode\":\"markers\",\"name\":\"C\",\"text\":\"\",\"x\":[0.5720880157971676,0.3024437290791586,2.4926337831467174,1.0517747349871922,-0.07474136843978726,-1.1715429723528712,0.9517618478851047,1.5279135502295635,-0.3082971814586023,0.09887209101782131,1.2219573602464575,-0.013741870252920545,-0.2141239479935332,1.2021817665040428,-0.4418379268008085,-1.053950278007446,0.48499862984218123,-1.1155389975496115,0.1308543727143404,0.929490183836466,-0.48324839277428744,-1.1829065972482657,0.7498368763060137,-0.8861058866071584,0.4771380290637309,-0.4390886442937461,1.2306608987142067,1.9878059856867818,0.15230461037864515,1.6620554499341955,1.6384041120327586,0.3044849790985675,-0.6927769693908511,-1.3167580837701536,-0.78287296571961,-0.024974958657900472,-0.039841405515385606,-0.05000476951849737,-0.48945795363207106,0.48904841308460867,0.6360868866482585,0.32000669236085194,0.9875177422449749,-0.5059927078731065,1.7752811827454997,1.3668481773897443,0.7184125424407601,-1.2687944297695042,1.137530004513501,0.6903058211295873,0.9975118860165221,-0.9581035891567805,0.6921348889719081,-0.1415497410709437,-0.1692372595819837,-1.4768953292698426,-0.8416411068387677,2.118665783790678,1.039799853019657,-0.8581640808582295,0.4286012652328465,0.6703908225507994,1.1799680526781622,0.9285733497799281,-1.5927548882055302,-0.19358256515013755,0.8250248773783592,0.40848470111794216,0.5249809483943964,-0.5847748299128196,1.5376802385593196,-1.0825106854614004,-1.3499986616086925,-2.006560617276983,-0.7172014574461055,1.5689533342516848,1.8396707852402074,-0.7076333961882232,-0.4465530640565996,-1.2939783103858922,0.5273817781102613,-0.4475078294726565,-0.9269647689351543,-0.6125245963618412,1.165910567454771,3.304174007465817,0.8312405486623478,1.4574607095978371,1.05814101462983,-2.478506548223967,-0.8839376542505711,1.263508197927824,-0.20620704196656747,1.244872603243073,1.154030135724552,2.9748525669328907,0.946205989028131,-1.3502188548374479,-0.2516426903414452,-0.7515697498030125],\"xaxis\":\"x12\",\"y\":[-0.43494351378418167,1.1956964184782335,0.8554662953767199,-0.1919969093895718,0.3176774870385354,1.460572734227075,0.5392242309973705,0.8905438135855877,-1.612987388666539,-0.8105085641576423,-0.40669516293897184,-0.08648226326249135,-0.8428827291133176,1.4923512672575086,0.9830876077723242,0.6124036584128042,0.600525649554785,-0.05305640240053271,1.0080612375569293,0.06495517214140592,-0.2935394846647749,-1.44286880519074,0.2085614824243877,-0.030397123910282268,-0.014822643568981279,-0.47379186482624336,0.7973858067382725,-0.4275448799750782,1.9046066294757316,0.786301854806995,-0.46966878052507444,-0.6681614726182001,0.4272532372534058,1.448462537359182,-0.4042385192504221,1.5096881465551375,-0.18605765410019773,-1.3754194067429266,0.21219894854924493,-0.1261178980949456,-0.8833007824237488,1.2720459104133115,-0.5599150847068526,-0.31959093070168915,1.6146009419160205,0.5275912106732872,-0.10479675136895887,1.2144149647197442,-0.8794936265648686,0.7023393840528825,-0.6204263160050626,0.3428956667482456,0.4138766598147137,0.08865386927879694,-1.9208091952736812,-1.0307893066854885,1.2908187061811358,-0.7508900639513508,-0.5382583624539559,0.5175108926945428,-1.7923699674073574,1.0608147649083057,0.5781987770929097,0.0737705781755186,-0.8886967452168886,-0.0804543657324432,0.3827429389626566,-1.1175433000490536,0.2847322281678397,0.297425848037425,-0.4092761309565618,-0.0928394932257205,0.5157870537652739,-1.0655801148740676,0.0655141277658387,1.9587562707747206,1.2974372241654957,-0.09933557730908811,-1.7811599132792695,-0.4110349725463234,-0.3682563544839573,-0.8122218805904927,-1.140175228010079,-0.952322345925846,-0.18149221456362502,0.8253127582076232,0.8802122707682375,-1.1192905615980897,0.0980122930341513,0.3532195257472032,0.9919090858345788,1.6951555726272987,0.7911671717175314,-1.2533656988994484,0.2942035891988454,0.2552392285941162,-0.2723293364061732,-0.40482784706908637,-0.9322666994799528,-0.5350612175898041],\"yaxis\":\"y12\",\"type\":\"scatter\"},{\"line\":{\"color\":\"rgba(128, 128, 128, 1.0)\",\"dash\":\"solid\",\"shape\":\"linear\",\"width\":1.3},\"marker\":{\"size\":2,\"symbol\":\"circle\"},\"mode\":\"markers\",\"name\":\"D\",\"text\":\"\",\"x\":[-1.801810462118037,-0.7405278999282524,-1.461857030304494,-1.0591589088198288,-0.26428618768178,1.948164848630421,-0.23589027518673694,0.24657238281739297,1.658021589581248,0.186696452034347,0.8825333889982601,-0.4773798929601018,0.46972651548583444,-0.17320093063047146,-0.22683508244266204,1.2562233016361952,1.310914817148744,-0.37320437367658954,1.926147146248471,0.013675304777552416,0.007595408552958917,0.8221929815368014,0.07591846652853262,-0.21887489450015163,-1.415591119445165,0.6011093091930616,0.21043611550600955,3.551151429719778,0.67855980837985,0.44441040471099097,0.40501800594761467,-1.4429420586514943,-0.5726089226425692,0.42711475011987726,-2.4849078390422226,-1.550838633703084,0.1342471868944414,-2.0658158540835156,-1.8297783603605737,0.34384485642331847,0.8911555668974951,-0.6680580034989891,0.1817138264631769,-0.5573719045906718,-1.000221211263796,2.543907973222884,2.820663767772808,-1.23451797618291,0.42285643724592425,-0.2676682957595602,0.9239153944241625,0.2835359062945152,0.5211584364498096,1.6481997375179325,-0.1340133395115864,-1.195946189733816,0.43874383472847545,-1.053832892116574,-0.4696895658433154,0.22089459970479716,0.31106612098315894,1.6325152367399631,0.12148171286156609,0.7284922533146289,1.150935928793852,-1.4493052864419957,-1.3474885438875936,1.4995138007616624,-0.8548810056095114,-0.2508135705830549,1.5859524585585354,0.30169570948898355,-1.3847584411858844,-0.7172952877799311,-0.2388523125662473,-1.5402688784288574,0.6233403248885073,0.3994901335348674,1.497119149431649,-0.7830568325317241,-0.9451963490340021,0.9306499911855516,1.054919906601512,-0.06781875041286145,1.6372857588173881,0.4258715683400193,0.5492007699401444,-0.44183901504598483,0.5081694849786166,-0.5873992503246563,1.3060687492015108,-0.8504842584600737,0.11378281383033334,-0.39823121338126055,0.21212719538403102,0.9743250022300478,-0.7048213917177746,0.5342517217633828,0.9232089584369408,-0.7542607429128845],\"xaxis\":\"x13\",\"y\":[0.5720880157971676,0.3024437290791586,2.4926337831467174,1.0517747349871922,-0.07474136843978726,-1.1715429723528712,0.9517618478851047,1.5279135502295635,-0.3082971814586023,0.09887209101782131,1.2219573602464575,-0.013741870252920545,-0.2141239479935332,1.2021817665040428,-0.4418379268008085,-1.053950278007446,0.48499862984218123,-1.1155389975496115,0.1308543727143404,0.929490183836466,-0.48324839277428744,-1.1829065972482657,0.7498368763060137,-0.8861058866071584,0.4771380290637309,-0.4390886442937461,1.2306608987142067,1.9878059856867818,0.15230461037864515,1.6620554499341955,1.6384041120327586,0.3044849790985675,-0.6927769693908511,-1.3167580837701536,-0.78287296571961,-0.024974958657900472,-0.039841405515385606,-0.05000476951849737,-0.48945795363207106,0.48904841308460867,0.6360868866482585,0.32000669236085194,0.9875177422449749,-0.5059927078731065,1.7752811827454997,1.3668481773897443,0.7184125424407601,-1.2687944297695042,1.137530004513501,0.6903058211295873,0.9975118860165221,-0.9581035891567805,0.6921348889719081,-0.1415497410709437,-0.1692372595819837,-1.4768953292698426,-0.8416411068387677,2.118665783790678,1.039799853019657,-0.8581640808582295,0.4286012652328465,0.6703908225507994,1.1799680526781622,0.9285733497799281,-1.5927548882055302,-0.19358256515013755,0.8250248773783592,0.40848470111794216,0.5249809483943964,-0.5847748299128196,1.5376802385593196,-1.0825106854614004,-1.3499986616086925,-2.006560617276983,-0.7172014574461055,1.5689533342516848,1.8396707852402074,-0.7076333961882232,-0.4465530640565996,-1.2939783103858922,0.5273817781102613,-0.4475078294726565,-0.9269647689351543,-0.6125245963618412,1.165910567454771,3.304174007465817,0.8312405486623478,1.4574607095978371,1.05814101462983,-2.478506548223967,-0.8839376542505711,1.263508197927824,-0.20620704196656747,1.244872603243073,1.154030135724552,2.9748525669328907,0.946205989028131,-1.3502188548374479,-0.2516426903414452,-0.7515697498030125],\"yaxis\":\"y13\",\"type\":\"scatter\"},{\"line\":{\"color\":\"rgba(128, 128, 128, 1.0)\",\"dash\":\"solid\",\"shape\":\"linear\",\"width\":1.3},\"marker\":{\"size\":2,\"symbol\":\"circle\"},\"mode\":\"markers\",\"name\":\"D\",\"text\":\"\",\"x\":[0.9717226780442976,0.9914293898313419,0.6411744066920212,-0.8096385110292955,-0.37840086893901514,1.7135984676116396,0.7197830448450903,-0.8983097692873694,-0.7552177183891712,-1.2511453031383102,1.3754310257599178,-0.8327151618667233,1.4235435329224304,0.01735458798168637,-0.010746680281691855,-1.1709321539445416,-1.0953584726049397,-1.5796819503451054,-1.4766025965885607,0.15821998684411592,-0.9524819112066436,-2.064130958296167,0.36773552266722587,0.2236223850089126,0.5449434992139803,-0.23083647027858636,-1.1964010702691652,1.1757632204612487,-1.434208487462081,0.440970032869492,1.2109577918782037,-1.5497590258661662,-0.9684039534666286,-1.8404879740939677,0.5147152292514234,0.6383097873389552,0.9773578834631445,0.5007529783172427,-0.4105139270567889,-1.847615053687545,-0.18923271793284913,-0.7720096015292391,0.4112457655385453,0.11467863000478293,-1.4206663795278238,-0.6610498487755905,-1.4253370680419448,-0.6642528926905991,0.14795487617785147,0.34363849028037385,0.5446940936108576,-1.170337828480521,-1.4967050826372772,-0.16549287272619267,-0.7757039233552273,-1.175333472793142,-0.9860584630593688,-0.2567624340922678,1.1081096697218578,0.4905022873141684,-0.10187821076946177,-0.25051212310093574,0.5496005698339377,1.0277801479335387,-1.224813022197627,-0.7926622390001563,1.3389661877832078,0.2583337045239479,1.4238321392245428,-1.2549517693217713,0.3924211759792029,-0.27980193924565083,-1.2494934296841034,-0.72321065360444,1.7934026957018891,-1.6003422408870176,-0.5283469480622293,1.710195162699524,0.3589247962405482,0.21770633363742475,-0.8589538797338953,0.5069020563414884,0.4792637241053778,-0.5471593239151623,-0.7966292908884803,-0.0008098478655252655,-0.8141368366633747,0.07197909212837338,0.7121987424077416,2.1642106277762276,1.6587166196970367,-0.3237980146126996,0.543683531746815,0.8866040206913408,0.06662129370902721,-0.36245149934859466,-1.5428237763966992,1.4300394265738816,-0.18491118700292594,0.06602098661546725],\"xaxis\":\"x14\",\"y\":[0.5720880157971676,0.3024437290791586,2.4926337831467174,1.0517747349871922,-0.07474136843978726,-1.1715429723528712,0.9517618478851047,1.5279135502295635,-0.3082971814586023,0.09887209101782131,1.2219573602464575,-0.013741870252920545,-0.2141239479935332,1.2021817665040428,-0.4418379268008085,-1.053950278007446,0.48499862984218123,-1.1155389975496115,0.1308543727143404,0.929490183836466,-0.48324839277428744,-1.1829065972482657,0.7498368763060137,-0.8861058866071584,0.4771380290637309,-0.4390886442937461,1.2306608987142067,1.9878059856867818,0.15230461037864515,1.6620554499341955,1.6384041120327586,0.3044849790985675,-0.6927769693908511,-1.3167580837701536,-0.78287296571961,-0.024974958657900472,-0.039841405515385606,-0.05000476951849737,-0.48945795363207106,0.48904841308460867,0.6360868866482585,0.32000669236085194,0.9875177422449749,-0.5059927078731065,1.7752811827454997,1.3668481773897443,0.7184125424407601,-1.2687944297695042,1.137530004513501,0.6903058211295873,0.9975118860165221,-0.9581035891567805,0.6921348889719081,-0.1415497410709437,-0.1692372595819837,-1.4768953292698426,-0.8416411068387677,2.118665783790678,1.039799853019657,-0.8581640808582295,0.4286012652328465,0.6703908225507994,1.1799680526781622,0.9285733497799281,-1.5927548882055302,-0.19358256515013755,0.8250248773783592,0.40848470111794216,0.5249809483943964,-0.5847748299128196,1.5376802385593196,-1.0825106854614004,-1.3499986616086925,-2.006560617276983,-0.7172014574461055,1.5689533342516848,1.8396707852402074,-0.7076333961882232,-0.4465530640565996,-1.2939783103858922,0.5273817781102613,-0.4475078294726565,-0.9269647689351543,-0.6125245963618412,1.165910567454771,3.304174007465817,0.8312405486623478,1.4574607095978371,1.05814101462983,-2.478506548223967,-0.8839376542505711,1.263508197927824,-0.20620704196656747,1.244872603243073,1.154030135724552,2.9748525669328907,0.946205989028131,-1.3502188548374479,-0.2516426903414452,-0.7515697498030125],\"yaxis\":\"y14\",\"type\":\"scatter\"},{\"line\":{\"color\":\"rgba(128, 128, 128, 1.0)\",\"dash\":\"solid\",\"shape\":\"linear\",\"width\":1.3},\"marker\":{\"size\":2,\"symbol\":\"circle\"},\"mode\":\"markers\",\"name\":\"D\",\"text\":\"\",\"x\":[-0.43494351378418167,1.1956964184782335,0.8554662953767199,-0.1919969093895718,0.3176774870385354,1.460572734227075,0.5392242309973705,0.8905438135855877,-1.612987388666539,-0.8105085641576423,-0.40669516293897184,-0.08648226326249135,-0.8428827291133176,1.4923512672575086,0.9830876077723242,0.6124036584128042,0.600525649554785,-0.05305640240053271,1.0080612375569293,0.06495517214140592,-0.2935394846647749,-1.44286880519074,0.2085614824243877,-0.030397123910282268,-0.014822643568981279,-0.47379186482624336,0.7973858067382725,-0.4275448799750782,1.9046066294757316,0.786301854806995,-0.46966878052507444,-0.6681614726182001,0.4272532372534058,1.448462537359182,-0.4042385192504221,1.5096881465551375,-0.18605765410019773,-1.3754194067429266,0.21219894854924493,-0.1261178980949456,-0.8833007824237488,1.2720459104133115,-0.5599150847068526,-0.31959093070168915,1.6146009419160205,0.5275912106732872,-0.10479675136895887,1.2144149647197442,-0.8794936265648686,0.7023393840528825,-0.6204263160050626,0.3428956667482456,0.4138766598147137,0.08865386927879694,-1.9208091952736812,-1.0307893066854885,1.2908187061811358,-0.7508900639513508,-0.5382583624539559,0.5175108926945428,-1.7923699674073574,1.0608147649083057,0.5781987770929097,0.0737705781755186,-0.8886967452168886,-0.0804543657324432,0.3827429389626566,-1.1175433000490536,0.2847322281678397,0.297425848037425,-0.4092761309565618,-0.0928394932257205,0.5157870537652739,-1.0655801148740676,0.0655141277658387,1.9587562707747206,1.2974372241654957,-0.09933557730908811,-1.7811599132792695,-0.4110349725463234,-0.3682563544839573,-0.8122218805904927,-1.140175228010079,-0.952322345925846,-0.18149221456362502,0.8253127582076232,0.8802122707682375,-1.1192905615980897,0.0980122930341513,0.3532195257472032,0.9919090858345788,1.6951555726272987,0.7911671717175314,-1.2533656988994484,0.2942035891988454,0.2552392285941162,-0.2723293364061732,-0.40482784706908637,-0.9322666994799528,-0.5350612175898041],\"xaxis\":\"x15\",\"y\":[0.5720880157971676,0.3024437290791586,2.4926337831467174,1.0517747349871922,-0.07474136843978726,-1.1715429723528712,0.9517618478851047,1.5279135502295635,-0.3082971814586023,0.09887209101782131,1.2219573602464575,-0.013741870252920545,-0.2141239479935332,1.2021817665040428,-0.4418379268008085,-1.053950278007446,0.48499862984218123,-1.1155389975496115,0.1308543727143404,0.929490183836466,-0.48324839277428744,-1.1829065972482657,0.7498368763060137,-0.8861058866071584,0.4771380290637309,-0.4390886442937461,1.2306608987142067,1.9878059856867818,0.15230461037864515,1.6620554499341955,1.6384041120327586,0.3044849790985675,-0.6927769693908511,-1.3167580837701536,-0.78287296571961,-0.024974958657900472,-0.039841405515385606,-0.05000476951849737,-0.48945795363207106,0.48904841308460867,0.6360868866482585,0.32000669236085194,0.9875177422449749,-0.5059927078731065,1.7752811827454997,1.3668481773897443,0.7184125424407601,-1.2687944297695042,1.137530004513501,0.6903058211295873,0.9975118860165221,-0.9581035891567805,0.6921348889719081,-0.1415497410709437,-0.1692372595819837,-1.4768953292698426,-0.8416411068387677,2.118665783790678,1.039799853019657,-0.8581640808582295,0.4286012652328465,0.6703908225507994,1.1799680526781622,0.9285733497799281,-1.5927548882055302,-0.19358256515013755,0.8250248773783592,0.40848470111794216,0.5249809483943964,-0.5847748299128196,1.5376802385593196,-1.0825106854614004,-1.3499986616086925,-2.006560617276983,-0.7172014574461055,1.5689533342516848,1.8396707852402074,-0.7076333961882232,-0.4465530640565996,-1.2939783103858922,0.5273817781102613,-0.4475078294726565,-0.9269647689351543,-0.6125245963618412,1.165910567454771,3.304174007465817,0.8312405486623478,1.4574607095978371,1.05814101462983,-2.478506548223967,-0.8839376542505711,1.263508197927824,-0.20620704196656747,1.244872603243073,1.154030135724552,2.9748525669328907,0.946205989028131,-1.3502188548374479,-0.2516426903414452,-0.7515697498030125],\"yaxis\":\"y15\",\"type\":\"scatter\"},{\"histfunc\":\"count\",\"histnorm\":\"\",\"marker\":{\"color\":\"rgba(128, 0, 128, 1.0)\",\"line\":{\"color\":\"#4D5663\",\"width\":1.3}},\"name\":\"D\",\"nbinsx\":10,\"opacity\":0.8,\"orientation\":\"v\",\"x\":[0.5720880157971676,0.3024437290791586,2.4926337831467174,1.0517747349871922,-0.07474136843978726,-1.1715429723528712,0.9517618478851047,1.5279135502295635,-0.3082971814586023,0.09887209101782131,1.2219573602464575,-0.013741870252920545,-0.2141239479935332,1.2021817665040428,-0.4418379268008085,-1.053950278007446,0.48499862984218123,-1.1155389975496115,0.1308543727143404,0.929490183836466,-0.48324839277428744,-1.1829065972482657,0.7498368763060137,-0.8861058866071584,0.4771380290637309,-0.4390886442937461,1.2306608987142067,1.9878059856867818,0.15230461037864515,1.6620554499341955,1.6384041120327586,0.3044849790985675,-0.6927769693908511,-1.3167580837701536,-0.78287296571961,-0.024974958657900472,-0.039841405515385606,-0.05000476951849737,-0.48945795363207106,0.48904841308460867,0.6360868866482585,0.32000669236085194,0.9875177422449749,-0.5059927078731065,1.7752811827454997,1.3668481773897443,0.7184125424407601,-1.2687944297695042,1.137530004513501,0.6903058211295873,0.9975118860165221,-0.9581035891567805,0.6921348889719081,-0.1415497410709437,-0.1692372595819837,-1.4768953292698426,-0.8416411068387677,2.118665783790678,1.039799853019657,-0.8581640808582295,0.4286012652328465,0.6703908225507994,1.1799680526781622,0.9285733497799281,-1.5927548882055302,-0.19358256515013755,0.8250248773783592,0.40848470111794216,0.5249809483943964,-0.5847748299128196,1.5376802385593196,-1.0825106854614004,-1.3499986616086925,-2.006560617276983,-0.7172014574461055,1.5689533342516848,1.8396707852402074,-0.7076333961882232,-0.4465530640565996,-1.2939783103858922,0.5273817781102613,-0.4475078294726565,-0.9269647689351543,-0.6125245963618412,1.165910567454771,3.304174007465817,0.8312405486623478,1.4574607095978371,1.05814101462983,-2.478506548223967,-0.8839376542505711,1.263508197927824,-0.20620704196656747,1.244872603243073,1.154030135724552,2.9748525669328907,0.946205989028131,-1.3502188548374479,-0.2516426903414452,-0.7515697498030125],\"xaxis\":\"x16\",\"yaxis\":\"y16\",\"type\":\"histogram\"}],                        {\"bargap\":0.02,\"legend\":{\"bgcolor\":\"#F5F6F9\",\"font\":{\"color\":\"#4D5663\"}},\"paper_bgcolor\":\"#F5F6F9\",\"plot_bgcolor\":\"#F5F6F9\",\"showlegend\":false,\"template\":{\"data\":{\"barpolar\":[{\"marker\":{\"line\":{\"color\":\"#E5ECF6\",\"width\":0.5},\"pattern\":{\"fillmode\":\"overlay\",\"size\":10,\"solidity\":0.2}},\"type\":\"barpolar\"}],\"bar\":[{\"error_x\":{\"color\":\"#2a3f5f\"},\"error_y\":{\"color\":\"#2a3f5f\"},\"marker\":{\"line\":{\"color\":\"#E5ECF6\",\"width\":0.5},\"pattern\":{\"fillmode\":\"overlay\",\"size\":10,\"solidity\":0.2}},\"type\":\"bar\"}],\"carpet\":[{\"aaxis\":{\"endlinecolor\":\"#2a3f5f\",\"gridcolor\":\"white\",\"linecolor\":\"white\",\"minorgridcolor\":\"white\",\"startlinecolor\":\"#2a3f5f\"},\"baxis\":{\"endlinecolor\":\"#2a3f5f\",\"gridcolor\":\"white\",\"linecolor\":\"white\",\"minorgridcolor\":\"white\",\"startlinecolor\":\"#2a3f5f\"},\"type\":\"carpet\"}],\"choropleth\":[{\"colorbar\":{\"outlinewidth\":0,\"ticks\":\"\"},\"type\":\"choropleth\"}],\"contourcarpet\":[{\"colorbar\":{\"outlinewidth\":0,\"ticks\":\"\"},\"type\":\"contourcarpet\"}],\"contour\":[{\"colorbar\":{\"outlinewidth\":0,\"ticks\":\"\"},\"colorscale\":[[0.0,\"#0d0887\"],[0.1111111111111111,\"#46039f\"],[0.2222222222222222,\"#7201a8\"],[0.3333333333333333,\"#9c179e\"],[0.4444444444444444,\"#bd3786\"],[0.5555555555555556,\"#d8576b\"],[0.6666666666666666,\"#ed7953\"],[0.7777777777777778,\"#fb9f3a\"],[0.8888888888888888,\"#fdca26\"],[1.0,\"#f0f921\"]],\"type\":\"contour\"}],\"heatmapgl\":[{\"colorbar\":{\"outlinewidth\":0,\"ticks\":\"\"},\"colorscale\":[[0.0,\"#0d0887\"],[0.1111111111111111,\"#46039f\"],[0.2222222222222222,\"#7201a8\"],[0.3333333333333333,\"#9c179e\"],[0.4444444444444444,\"#bd3786\"],[0.5555555555555556,\"#d8576b\"],[0.6666666666666666,\"#ed7953\"],[0.7777777777777778,\"#fb9f3a\"],[0.8888888888888888,\"#fdca26\"],[1.0,\"#f0f921\"]],\"type\":\"heatmapgl\"}],\"heatmap\":[{\"colorbar\":{\"outlinewidth\":0,\"ticks\":\"\"},\"colorscale\":[[0.0,\"#0d0887\"],[0.1111111111111111,\"#46039f\"],[0.2222222222222222,\"#7201a8\"],[0.3333333333333333,\"#9c179e\"],[0.4444444444444444,\"#bd3786\"],[0.5555555555555556,\"#d8576b\"],[0.6666666666666666,\"#ed7953\"],[0.7777777777777778,\"#fb9f3a\"],[0.8888888888888888,\"#fdca26\"],[1.0,\"#f0f921\"]],\"type\":\"heatmap\"}],\"histogram2dcontour\":[{\"colorbar\":{\"outlinewidth\":0,\"ticks\":\"\"},\"colorscale\":[[0.0,\"#0d0887\"],[0.1111111111111111,\"#46039f\"],[0.2222222222222222,\"#7201a8\"],[0.3333333333333333,\"#9c179e\"],[0.4444444444444444,\"#bd3786\"],[0.5555555555555556,\"#d8576b\"],[0.6666666666666666,\"#ed7953\"],[0.7777777777777778,\"#fb9f3a\"],[0.8888888888888888,\"#fdca26\"],[1.0,\"#f0f921\"]],\"type\":\"histogram2dcontour\"}],\"histogram2d\":[{\"colorbar\":{\"outlinewidth\":0,\"ticks\":\"\"},\"colorscale\":[[0.0,\"#0d0887\"],[0.1111111111111111,\"#46039f\"],[0.2222222222222222,\"#7201a8\"],[0.3333333333333333,\"#9c179e\"],[0.4444444444444444,\"#bd3786\"],[0.5555555555555556,\"#d8576b\"],[0.6666666666666666,\"#ed7953\"],[0.7777777777777778,\"#fb9f3a\"],[0.8888888888888888,\"#fdca26\"],[1.0,\"#f0f921\"]],\"type\":\"histogram2d\"}],\"histogram\":[{\"marker\":{\"pattern\":{\"fillmode\":\"overlay\",\"size\":10,\"solidity\":0.2}},\"type\":\"histogram\"}],\"mesh3d\":[{\"colorbar\":{\"outlinewidth\":0,\"ticks\":\"\"},\"type\":\"mesh3d\"}],\"parcoords\":[{\"line\":{\"colorbar\":{\"outlinewidth\":0,\"ticks\":\"\"}},\"type\":\"parcoords\"}],\"pie\":[{\"automargin\":true,\"type\":\"pie\"}],\"scatter3d\":[{\"line\":{\"colorbar\":{\"outlinewidth\":0,\"ticks\":\"\"}},\"marker\":{\"colorbar\":{\"outlinewidth\":0,\"ticks\":\"\"}},\"type\":\"scatter3d\"}],\"scattercarpet\":[{\"marker\":{\"colorbar\":{\"outlinewidth\":0,\"ticks\":\"\"}},\"type\":\"scattercarpet\"}],\"scattergeo\":[{\"marker\":{\"colorbar\":{\"outlinewidth\":0,\"ticks\":\"\"}},\"type\":\"scattergeo\"}],\"scattergl\":[{\"marker\":{\"colorbar\":{\"outlinewidth\":0,\"ticks\":\"\"}},\"type\":\"scattergl\"}],\"scattermapbox\":[{\"marker\":{\"colorbar\":{\"outlinewidth\":0,\"ticks\":\"\"}},\"type\":\"scattermapbox\"}],\"scatterpolargl\":[{\"marker\":{\"colorbar\":{\"outlinewidth\":0,\"ticks\":\"\"}},\"type\":\"scatterpolargl\"}],\"scatterpolar\":[{\"marker\":{\"colorbar\":{\"outlinewidth\":0,\"ticks\":\"\"}},\"type\":\"scatterpolar\"}],\"scatter\":[{\"fillpattern\":{\"fillmode\":\"overlay\",\"size\":10,\"solidity\":0.2},\"type\":\"scatter\"}],\"scatterternary\":[{\"marker\":{\"colorbar\":{\"outlinewidth\":0,\"ticks\":\"\"}},\"type\":\"scatterternary\"}],\"surface\":[{\"colorbar\":{\"outlinewidth\":0,\"ticks\":\"\"},\"colorscale\":[[0.0,\"#0d0887\"],[0.1111111111111111,\"#46039f\"],[0.2222222222222222,\"#7201a8\"],[0.3333333333333333,\"#9c179e\"],[0.4444444444444444,\"#bd3786\"],[0.5555555555555556,\"#d8576b\"],[0.6666666666666666,\"#ed7953\"],[0.7777777777777778,\"#fb9f3a\"],[0.8888888888888888,\"#fdca26\"],[1.0,\"#f0f921\"]],\"type\":\"surface\"}],\"table\":[{\"cells\":{\"fill\":{\"color\":\"#EBF0F8\"},\"line\":{\"color\":\"white\"}},\"header\":{\"fill\":{\"color\":\"#C8D4E3\"},\"line\":{\"color\":\"white\"}},\"type\":\"table\"}]},\"layout\":{\"annotationdefaults\":{\"arrowcolor\":\"#2a3f5f\",\"arrowhead\":0,\"arrowwidth\":1},\"autotypenumbers\":\"strict\",\"coloraxis\":{\"colorbar\":{\"outlinewidth\":0,\"ticks\":\"\"}},\"colorscale\":{\"diverging\":[[0,\"#8e0152\"],[0.1,\"#c51b7d\"],[0.2,\"#de77ae\"],[0.3,\"#f1b6da\"],[0.4,\"#fde0ef\"],[0.5,\"#f7f7f7\"],[0.6,\"#e6f5d0\"],[0.7,\"#b8e186\"],[0.8,\"#7fbc41\"],[0.9,\"#4d9221\"],[1,\"#276419\"]],\"sequential\":[[0.0,\"#0d0887\"],[0.1111111111111111,\"#46039f\"],[0.2222222222222222,\"#7201a8\"],[0.3333333333333333,\"#9c179e\"],[0.4444444444444444,\"#bd3786\"],[0.5555555555555556,\"#d8576b\"],[0.6666666666666666,\"#ed7953\"],[0.7777777777777778,\"#fb9f3a\"],[0.8888888888888888,\"#fdca26\"],[1.0,\"#f0f921\"]],\"sequentialminus\":[[0.0,\"#0d0887\"],[0.1111111111111111,\"#46039f\"],[0.2222222222222222,\"#7201a8\"],[0.3333333333333333,\"#9c179e\"],[0.4444444444444444,\"#bd3786\"],[0.5555555555555556,\"#d8576b\"],[0.6666666666666666,\"#ed7953\"],[0.7777777777777778,\"#fb9f3a\"],[0.8888888888888888,\"#fdca26\"],[1.0,\"#f0f921\"]]},\"colorway\":[\"#636efa\",\"#EF553B\",\"#00cc96\",\"#ab63fa\",\"#FFA15A\",\"#19d3f3\",\"#FF6692\",\"#B6E880\",\"#FF97FF\",\"#FECB52\"],\"font\":{\"color\":\"#2a3f5f\"},\"geo\":{\"bgcolor\":\"white\",\"lakecolor\":\"white\",\"landcolor\":\"#E5ECF6\",\"showlakes\":true,\"showland\":true,\"subunitcolor\":\"white\"},\"hoverlabel\":{\"align\":\"left\"},\"hovermode\":\"closest\",\"mapbox\":{\"style\":\"light\"},\"paper_bgcolor\":\"white\",\"plot_bgcolor\":\"#E5ECF6\",\"polar\":{\"angularaxis\":{\"gridcolor\":\"white\",\"linecolor\":\"white\",\"ticks\":\"\"},\"bgcolor\":\"#E5ECF6\",\"radialaxis\":{\"gridcolor\":\"white\",\"linecolor\":\"white\",\"ticks\":\"\"}},\"scene\":{\"xaxis\":{\"backgroundcolor\":\"#E5ECF6\",\"gridcolor\":\"white\",\"gridwidth\":2,\"linecolor\":\"white\",\"showbackground\":true,\"ticks\":\"\",\"zerolinecolor\":\"white\"},\"yaxis\":{\"backgroundcolor\":\"#E5ECF6\",\"gridcolor\":\"white\",\"gridwidth\":2,\"linecolor\":\"white\",\"showbackground\":true,\"ticks\":\"\",\"zerolinecolor\":\"white\"},\"zaxis\":{\"backgroundcolor\":\"#E5ECF6\",\"gridcolor\":\"white\",\"gridwidth\":2,\"linecolor\":\"white\",\"showbackground\":true,\"ticks\":\"\",\"zerolinecolor\":\"white\"}},\"shapedefaults\":{\"line\":{\"color\":\"#2a3f5f\"}},\"ternary\":{\"aaxis\":{\"gridcolor\":\"white\",\"linecolor\":\"white\",\"ticks\":\"\"},\"baxis\":{\"gridcolor\":\"white\",\"linecolor\":\"white\",\"ticks\":\"\"},\"bgcolor\":\"#E5ECF6\",\"caxis\":{\"gridcolor\":\"white\",\"linecolor\":\"white\",\"ticks\":\"\"}},\"title\":{\"x\":0.05},\"xaxis\":{\"automargin\":true,\"gridcolor\":\"white\",\"linecolor\":\"white\",\"ticks\":\"\",\"title\":{\"standoff\":15},\"zerolinecolor\":\"white\",\"zerolinewidth\":2},\"yaxis\":{\"automargin\":true,\"gridcolor\":\"white\",\"linecolor\":\"white\",\"ticks\":\"\",\"title\":{\"standoff\":15},\"zerolinecolor\":\"white\",\"zerolinewidth\":2}}},\"title\":{\"font\":{\"color\":\"#4D5663\"}},\"xaxis\":{\"anchor\":\"y\",\"domain\":[0.0,0.2125],\"gridcolor\":\"#E1E5ED\",\"showgrid\":false,\"tickfont\":{\"color\":\"#4D5663\"},\"title\":{\"font\":{\"color\":\"#4D5663\"},\"text\":\"\"},\"zerolinecolor\":\"#E1E5ED\"},\"yaxis\":{\"anchor\":\"x\",\"domain\":[0.8025,1.0],\"gridcolor\":\"#E1E5ED\",\"showgrid\":false,\"tickfont\":{\"color\":\"#4D5663\"},\"title\":{\"font\":{\"color\":\"#4D5663\"},\"text\":\"\"},\"zerolinecolor\":\"#E1E5ED\"},\"xaxis2\":{\"anchor\":\"y2\",\"domain\":[0.2625,0.475],\"gridcolor\":\"#E1E5ED\",\"showgrid\":false,\"tickfont\":{\"color\":\"#4D5663\"},\"title\":{\"font\":{\"color\":\"#4D5663\"},\"text\":\"\"},\"zerolinecolor\":\"#E1E5ED\"},\"yaxis2\":{\"anchor\":\"x2\",\"domain\":[0.8025,1.0],\"gridcolor\":\"#E1E5ED\",\"showgrid\":false,\"tickfont\":{\"color\":\"#4D5663\"},\"title\":{\"font\":{\"color\":\"#4D5663\"},\"text\":\"\"},\"zerolinecolor\":\"#E1E5ED\"},\"xaxis3\":{\"anchor\":\"y3\",\"domain\":[0.525,0.7375],\"gridcolor\":\"#E1E5ED\",\"showgrid\":false,\"tickfont\":{\"color\":\"#4D5663\"},\"title\":{\"font\":{\"color\":\"#4D5663\"},\"text\":\"\"},\"zerolinecolor\":\"#E1E5ED\"},\"yaxis3\":{\"anchor\":\"x3\",\"domain\":[0.8025,1.0],\"gridcolor\":\"#E1E5ED\",\"showgrid\":false,\"tickfont\":{\"color\":\"#4D5663\"},\"title\":{\"font\":{\"color\":\"#4D5663\"},\"text\":\"\"},\"zerolinecolor\":\"#E1E5ED\"},\"xaxis4\":{\"anchor\":\"y4\",\"domain\":[0.7875,1.0],\"gridcolor\":\"#E1E5ED\",\"showgrid\":false,\"tickfont\":{\"color\":\"#4D5663\"},\"title\":{\"font\":{\"color\":\"#4D5663\"},\"text\":\"\"},\"zerolinecolor\":\"#E1E5ED\"},\"yaxis4\":{\"anchor\":\"x4\",\"domain\":[0.8025,1.0],\"gridcolor\":\"#E1E5ED\",\"showgrid\":false,\"tickfont\":{\"color\":\"#4D5663\"},\"title\":{\"font\":{\"color\":\"#4D5663\"},\"text\":\"\"},\"zerolinecolor\":\"#E1E5ED\"},\"xaxis5\":{\"anchor\":\"y5\",\"domain\":[0.0,0.2125],\"gridcolor\":\"#E1E5ED\",\"showgrid\":false,\"tickfont\":{\"color\":\"#4D5663\"},\"title\":{\"font\":{\"color\":\"#4D5663\"},\"text\":\"\"},\"zerolinecolor\":\"#E1E5ED\"},\"yaxis5\":{\"anchor\":\"x5\",\"domain\":[0.535,0.7325],\"gridcolor\":\"#E1E5ED\",\"showgrid\":false,\"tickfont\":{\"color\":\"#4D5663\"},\"title\":{\"font\":{\"color\":\"#4D5663\"},\"text\":\"\"},\"zerolinecolor\":\"#E1E5ED\"},\"xaxis6\":{\"anchor\":\"y6\",\"domain\":[0.2625,0.475],\"gridcolor\":\"#E1E5ED\",\"showgrid\":false,\"tickfont\":{\"color\":\"#4D5663\"},\"title\":{\"font\":{\"color\":\"#4D5663\"},\"text\":\"\"},\"zerolinecolor\":\"#E1E5ED\"},\"yaxis6\":{\"anchor\":\"x6\",\"domain\":[0.535,0.7325],\"gridcolor\":\"#E1E5ED\",\"showgrid\":false,\"tickfont\":{\"color\":\"#4D5663\"},\"title\":{\"font\":{\"color\":\"#4D5663\"},\"text\":\"\"},\"zerolinecolor\":\"#E1E5ED\"},\"xaxis7\":{\"anchor\":\"y7\",\"domain\":[0.525,0.7375],\"gridcolor\":\"#E1E5ED\",\"showgrid\":false,\"tickfont\":{\"color\":\"#4D5663\"},\"title\":{\"font\":{\"color\":\"#4D5663\"},\"text\":\"\"},\"zerolinecolor\":\"#E1E5ED\"},\"yaxis7\":{\"anchor\":\"x7\",\"domain\":[0.535,0.7325],\"gridcolor\":\"#E1E5ED\",\"showgrid\":false,\"tickfont\":{\"color\":\"#4D5663\"},\"title\":{\"font\":{\"color\":\"#4D5663\"},\"text\":\"\"},\"zerolinecolor\":\"#E1E5ED\"},\"xaxis8\":{\"anchor\":\"y8\",\"domain\":[0.7875,1.0],\"gridcolor\":\"#E1E5ED\",\"showgrid\":false,\"tickfont\":{\"color\":\"#4D5663\"},\"title\":{\"font\":{\"color\":\"#4D5663\"},\"text\":\"\"},\"zerolinecolor\":\"#E1E5ED\"},\"yaxis8\":{\"anchor\":\"x8\",\"domain\":[0.535,0.7325],\"gridcolor\":\"#E1E5ED\",\"showgrid\":false,\"tickfont\":{\"color\":\"#4D5663\"},\"title\":{\"font\":{\"color\":\"#4D5663\"},\"text\":\"\"},\"zerolinecolor\":\"#E1E5ED\"},\"xaxis9\":{\"anchor\":\"y9\",\"domain\":[0.0,0.2125],\"gridcolor\":\"#E1E5ED\",\"showgrid\":false,\"tickfont\":{\"color\":\"#4D5663\"},\"title\":{\"font\":{\"color\":\"#4D5663\"},\"text\":\"\"},\"zerolinecolor\":\"#E1E5ED\"},\"yaxis9\":{\"anchor\":\"x9\",\"domain\":[0.2675,0.465],\"gridcolor\":\"#E1E5ED\",\"showgrid\":false,\"tickfont\":{\"color\":\"#4D5663\"},\"title\":{\"font\":{\"color\":\"#4D5663\"},\"text\":\"\"},\"zerolinecolor\":\"#E1E5ED\"},\"xaxis10\":{\"anchor\":\"y10\",\"domain\":[0.2625,0.475],\"gridcolor\":\"#E1E5ED\",\"showgrid\":false,\"tickfont\":{\"color\":\"#4D5663\"},\"title\":{\"font\":{\"color\":\"#4D5663\"},\"text\":\"\"},\"zerolinecolor\":\"#E1E5ED\"},\"yaxis10\":{\"anchor\":\"x10\",\"domain\":[0.2675,0.465],\"gridcolor\":\"#E1E5ED\",\"showgrid\":false,\"tickfont\":{\"color\":\"#4D5663\"},\"title\":{\"font\":{\"color\":\"#4D5663\"},\"text\":\"\"},\"zerolinecolor\":\"#E1E5ED\"},\"xaxis11\":{\"anchor\":\"y11\",\"domain\":[0.525,0.7375],\"gridcolor\":\"#E1E5ED\",\"showgrid\":false,\"tickfont\":{\"color\":\"#4D5663\"},\"title\":{\"font\":{\"color\":\"#4D5663\"},\"text\":\"\"},\"zerolinecolor\":\"#E1E5ED\"},\"yaxis11\":{\"anchor\":\"x11\",\"domain\":[0.2675,0.465],\"gridcolor\":\"#E1E5ED\",\"showgrid\":false,\"tickfont\":{\"color\":\"#4D5663\"},\"title\":{\"font\":{\"color\":\"#4D5663\"},\"text\":\"\"},\"zerolinecolor\":\"#E1E5ED\"},\"xaxis12\":{\"anchor\":\"y12\",\"domain\":[0.7875,1.0],\"gridcolor\":\"#E1E5ED\",\"showgrid\":false,\"tickfont\":{\"color\":\"#4D5663\"},\"title\":{\"font\":{\"color\":\"#4D5663\"},\"text\":\"\"},\"zerolinecolor\":\"#E1E5ED\"},\"yaxis12\":{\"anchor\":\"x12\",\"domain\":[0.2675,0.465],\"gridcolor\":\"#E1E5ED\",\"showgrid\":false,\"tickfont\":{\"color\":\"#4D5663\"},\"title\":{\"font\":{\"color\":\"#4D5663\"},\"text\":\"\"},\"zerolinecolor\":\"#E1E5ED\"},\"xaxis13\":{\"anchor\":\"y13\",\"domain\":[0.0,0.2125],\"gridcolor\":\"#E1E5ED\",\"showgrid\":false,\"tickfont\":{\"color\":\"#4D5663\"},\"title\":{\"font\":{\"color\":\"#4D5663\"},\"text\":\"\"},\"zerolinecolor\":\"#E1E5ED\"},\"yaxis13\":{\"anchor\":\"x13\",\"domain\":[0.0,0.1975],\"gridcolor\":\"#E1E5ED\",\"showgrid\":false,\"tickfont\":{\"color\":\"#4D5663\"},\"title\":{\"font\":{\"color\":\"#4D5663\"},\"text\":\"\"},\"zerolinecolor\":\"#E1E5ED\"},\"xaxis14\":{\"anchor\":\"y14\",\"domain\":[0.2625,0.475],\"gridcolor\":\"#E1E5ED\",\"showgrid\":false,\"tickfont\":{\"color\":\"#4D5663\"},\"title\":{\"font\":{\"color\":\"#4D5663\"},\"text\":\"\"},\"zerolinecolor\":\"#E1E5ED\"},\"yaxis14\":{\"anchor\":\"x14\",\"domain\":[0.0,0.1975],\"gridcolor\":\"#E1E5ED\",\"showgrid\":false,\"tickfont\":{\"color\":\"#4D5663\"},\"title\":{\"font\":{\"color\":\"#4D5663\"},\"text\":\"\"},\"zerolinecolor\":\"#E1E5ED\"},\"xaxis15\":{\"anchor\":\"y15\",\"domain\":[0.525,0.7375],\"gridcolor\":\"#E1E5ED\",\"showgrid\":false,\"tickfont\":{\"color\":\"#4D5663\"},\"title\":{\"font\":{\"color\":\"#4D5663\"},\"text\":\"\"},\"zerolinecolor\":\"#E1E5ED\"},\"yaxis15\":{\"anchor\":\"x15\",\"domain\":[0.0,0.1975],\"gridcolor\":\"#E1E5ED\",\"showgrid\":false,\"tickfont\":{\"color\":\"#4D5663\"},\"title\":{\"font\":{\"color\":\"#4D5663\"},\"text\":\"\"},\"zerolinecolor\":\"#E1E5ED\"},\"xaxis16\":{\"anchor\":\"y16\",\"domain\":[0.7875,1.0],\"gridcolor\":\"#E1E5ED\",\"showgrid\":false,\"tickfont\":{\"color\":\"#4D5663\"},\"title\":{\"font\":{\"color\":\"#4D5663\"},\"text\":\"\"},\"zerolinecolor\":\"#E1E5ED\"},\"yaxis16\":{\"anchor\":\"x16\",\"domain\":[0.0,0.1975],\"gridcolor\":\"#E1E5ED\",\"showgrid\":false,\"tickfont\":{\"color\":\"#4D5663\"},\"title\":{\"font\":{\"color\":\"#4D5663\"},\"text\":\"\"},\"zerolinecolor\":\"#E1E5ED\"}},                        {\"showLink\": true, \"linkText\": \"Export to plot.ly\", \"plotlyServerURL\": \"https://plot.ly\", \"responsive\": true}                    ).then(function(){\n",
       "                            \n",
       "var gd = document.getElementById('dafccea3-fca5-40b4-922f-2fe18b1ce971');\n",
       "var x = new MutationObserver(function (mutations, observer) {{\n",
       "        var display = window.getComputedStyle(gd).display;\n",
       "        if (!display || display === 'none') {{\n",
       "            console.log([gd, 'removed!']);\n",
       "            Plotly.purge(gd);\n",
       "            observer.disconnect();\n",
       "        }}\n",
       "}});\n",
       "\n",
       "// Listen for the removal of the full notebook cells\n",
       "var notebookContainer = gd.closest('#notebook-container');\n",
       "if (notebookContainer) {{\n",
       "    x.observe(notebookContainer, {childList: true});\n",
       "}}\n",
       "\n",
       "// Listen for the clearing of the current output cell\n",
       "var outputEl = gd.closest('.output');\n",
       "if (outputEl) {{\n",
       "    x.observe(outputEl, {childList: true});\n",
       "}}\n",
       "\n",
       "                        })                };                });            </script>        </div>"
      ]
     },
     "metadata": {},
     "output_type": "display_data"
    }
   ],
   "source": [
    "df.scatter_matrix()"
   ]
  },
  {
   "cell_type": "markdown",
   "metadata": {
    "collapsed": true
   },
   "source": [
    "# Great Job!"
   ]
  }
 ],
 "metadata": {
  "kernelspec": {
   "display_name": "Python 3 (ipykernel)",
   "language": "python",
   "name": "python3"
  },
  "language_info": {
   "codemirror_mode": {
    "name": "ipython",
    "version": 3
   },
   "file_extension": ".py",
   "mimetype": "text/x-python",
   "name": "python",
   "nbconvert_exporter": "python",
   "pygments_lexer": "ipython3",
   "version": "3.10.9"
  }
 },
 "nbformat": 4,
 "nbformat_minor": 1
}
